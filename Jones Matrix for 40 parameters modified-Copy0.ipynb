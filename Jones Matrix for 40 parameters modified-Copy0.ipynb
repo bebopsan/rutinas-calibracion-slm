{
 "metadata": {
  "name": ""
 },
 "nbformat": 3,
 "nbformat_minor": 0,
 "worksheets": [
  {
   "cells": [
    {
     "cell_type": "heading",
     "level": 1,
     "metadata": {},
     "source": [
      "Scripts para la construcci\u00f3n de la matriz de Jones usando las medidas experimentales"
     ]
    },
    {
     "cell_type": "markdown",
     "metadata": {},
     "source": [
      "Importaci\u00f3n de librerias y carga de archivos. "
     ]
    },
    {
     "cell_type": "code",
     "collapsed": false,
     "input": [
      "from sympy import symbols, Matrix\n",
      "from numpy import loadtxt, zeros, matrix, exp, pi, sqrt, sign, cos, sin\n",
      "from scipy.optimize import minimize\n",
      "import matplotlib.gridspec as gridspec\n",
      "from pylab import *\n",
      "#%pylab inline\n",
      "\n",
      "I_exp = {}\n",
      "I = {}\n",
      "for i in range(100):\n",
      "   # image = \"Imagen{0}_amp\".format(i)\n",
      "    image = \"In_fourier{0}_amp\".format(i)\n",
      "    I_exp[i+1] = loadtxt(image)    \n",
      "    I[i+1] = zeros(52)\n",
      "    \n",
      "#I_exp[41] =  loadtxt(\"In21_amp\")\n",
      "#I[41] = zeros(52)\n",
      "#I_exp[42] =  loadtxt(\"In22_amp\")\n",
      "#I[42] = zeros(52)\n",
      "I_exp_2 = I_exp"
     ],
     "language": "python",
     "metadata": {},
     "outputs": []
    },
    {
     "cell_type": "heading",
     "level": 2,
     "metadata": {},
     "source": [
      "Normalizaci\u00f3n"
     ]
    },
    {
     "cell_type": "markdown",
     "metadata": {},
     "source": [
      "En este punto suceden dos cosas, primero realizo una normalizaci\u00f3n por pares.  \n",
      "Asumiendo que cada medida esta antecedida por su estado ortogonal, lo que hago es:\n",
      "$$I_i = \\frac{I_i^{exp}}{I_i^{exp}+I_{i+1}^{exp}}$$"
     ]
    },
    {
     "cell_type": "code",
     "collapsed": false,
     "input": [
      "# Averaging of intensities\n",
      "for i in range(1,100,2):\n",
      "    for g in range(I_exp[i].shape[0]):\n",
      "        I[i][g] = I_exp[i][g,1]/(I_exp[i][g,1]+I_exp[i+1][g,1])\n",
      "        I[i+1][g] = I_exp[i+1][g,1]/(I_exp[i][g,1]+I_exp[i+1][g,1])"
     ],
     "language": "python",
     "metadata": {},
     "outputs": []
    },
    {
     "cell_type": "markdown",
     "metadata": {},
     "source": [
      "Graficaci\u00f3n de las curvas de indensidad normalizadas"
     ]
    },
    {
     "cell_type": "markdown",
     "metadata": {},
     "source": [
      "Estas son las curvas equivalentes a las curvas de intensidad que se usan para caracterizar el modulador en el art\u00edculo de Moreno."
     ]
    },
    {
     "cell_type": "code",
     "collapsed": false,
     "input": [
      "fig = figure()\n",
      "for i in range(1,100):\n",
      "    plot(I[i],label='I{0}'.format(i))\n",
      "#plot(I[5]+I[6],label='I{0}'.format(i))\n",
      "\n",
      "show()"
     ],
     "language": "python",
     "metadata": {},
     "outputs": []
    },
    {
     "cell_type": "markdown",
     "metadata": {},
     "source": [
      "Demonstration that coniguous sets of amplitude measures are complementary. Pairs of complementary measures add up to zero."
     ]
    },
    {
     "cell_type": "code",
     "collapsed": false,
     "input": [
      "for i in range(1,100,2):\n",
      "    plot(I[i]+I[i+1],label='I{0}'.format(i))\n",
      "    \n",
      "show()"
     ],
     "language": "python",
     "metadata": {},
     "outputs": []
    },
    {
     "cell_type": "code",
     "collapsed": false,
     "input": [
      "#fig = figure()\n",
      "#plot(I[1],label='I1')\n",
      "#plot(I[2],label='I2')\n",
      "#plot(I[4],label='I3')\n",
      "#plot(I[42],label='I4')\n",
      "#plot(I[21],label='I5')\n",
      "#plot(I[22],label='I6')\n",
      "#plot(I[5],label='I7')\n",
      "#plot(I[6],label='I7p')\n",
      "#legend(bbox_to_anchor=(1.05, 1), loc=2, borderaxespad=0.)\n",
      "#display(fig)"
     ],
     "language": "python",
     "metadata": {},
     "outputs": []
    },
    {
     "cell_type": "heading",
     "level": 2,
     "metadata": {},
     "source": [
      "Definici\u00f3n de X, Y, Z y W"
     ]
    },
    {
     "cell_type": "markdown",
     "metadata": {},
     "source": [
      "Siguiendo las f\u00f3rmulas que se exponen en el art\u00edculo de Moreno y Velazques  \n",
      "encuentro los valores de X, Y, Z, y W, y sus signos."
     ]
    },
    {
     "cell_type": "code",
     "collapsed": false,
     "input": [
      "X = zeros(52)\n",
      "Y = zeros(52)\n",
      "Z = zeros(52)\n",
      "W = zeros(52)\n",
      "#for i in range(3,43,2):\n",
      "#    delta = I[i][0]-I[i+1][0]\n",
      "#   I[i] = I[i]- delta/2\n",
      "#    I[i+1] = I[i+1] + delta/2\n",
      "#for g in range(I[1].shape[0]):\n",
      "#    X[g] = sqrt( I[1][g]/(1+( (I[5][g]-I[22][g])/(I[4][g]-I[42][g]) )**2) )\n",
      "#    Y[g] = sqrt( I[1][g]/(1+( (I[4][g]-I[42][g])/(I[5][g]-I[22][g]) )**2) )\n",
      "#    Z[g] = sqrt( I[2][g]/(1+( (I[4][g]-I[42][g])/(I[21][g]-I[5][g]) )**2) )\n",
      "#    W[g] = sqrt( I[2][g]/(1+( (I[21][g]-I[5][g])/(I[4][g]-I[42][g]) )**2) )\n",
      "    \n",
      "#    sign_Z = sign(I[21][g]-I[5][g])/sign(X[g])\n",
      "#    if sign(Z[g]) != sign_Z:\n",
      "#        Z[g] = Z[g]*-1\n",
      "#    sign_W = sign(I[4][g]-I[42][g])/sign(X[g])\n",
      "#    if sign(W[g]) != sign_W:\n",
      "#       W[g] = W[g]*-1\n",
      "#    sign_Y = sign(I[5][g]-I[22][g])/sign(X[g])\n",
      "#    if sign(Z[g]) != sign_Y:\n",
      "#        Y[g] = Y[g]*-1"
     ],
     "language": "python",
     "metadata": {},
     "outputs": [],
     "prompt_number": 82
    },
    {
     "cell_type": "markdown",
     "metadata": {},
     "source": [
      "Graficas de X, Y, Z y W:"
     ]
    },
    {
     "cell_type": "code",
     "collapsed": false,
     "input": [
      "## figure()\n",
      "## plot(X,label='X,76,34')\n",
      "## plot(Y,label='Y,34,76')\n",
      "## plot(Z,label='Z, 34,57')\n",
      "## plot(W,label='W, 57,34')\n",
      "## grid()\n",
      "## legend()"
     ],
     "language": "python",
     "metadata": {},
     "outputs": [],
     "prompt_number": 83
    },
    {
     "cell_type": "heading",
     "level": 2,
     "metadata": {},
     "source": [
      "Matriz de Jones del modulador"
     ]
    },
    {
     "cell_type": "markdown",
     "metadata": {},
     "source": [
      "Definici\u00f3n de Brakets siguiendo la formulaci\u00f3n de vectores de Jones.\n"
     ]
    },
    {
     "cell_type": "markdown",
     "metadata": {},
     "source": [
      "Est\u00e1 Mal un problema en el signo a la entrada"
     ]
    },
    {
     "cell_type": "code",
     "collapsed": false,
     "input": [
      "I_exp = I\n",
      "def intensity(bra,ket):\n",
      "    In  = matrix([[cos(ket[0])],[sin(ket[0])*exp(ket[1]*1j)]])\n",
      "    Out = matrix([[cos(bra[0])],[sin(bra[0])*exp(bra[1]*1j)]])\n",
      "    return In, Out\n",
      "brakets = {1:intensity([ 0,   0],      [0,0]),\\\n",
      "           2:intensity([ pi/2,0],      [0,0]),\\\n",
      "           3:intensity([ pi/4,pi/2],   [0,0]),\\\n",
      "           4:intensity([ pi/4,-pi/2],  [0,0]),\\\n",
      "           5:intensity([ pi/4, 0],     [0,0]),\\\n",
      "           6:intensity([-pi/4, 0],     [0,0]),\\\n",
      "           7:intensity([ 3*pi/8, pi/2],[0,0]),\\\n",
      "           8:intensity([pi/8,-pi/2],   [0,0]),\\\n",
      "           9:intensity([ pi/8, pi/4],  [0,0]),\\\n",
      "           10:intensity([-pi/8, 3*pi/4],[0,0]),\\\n",
      "           11:intensity([ 0,   0],      [pi/2,0]),\\\n",
      "           12:intensity([ pi/2,0],      [pi/2,0]),\\\n",
      "           13:intensity([ pi/4,pi/2],   [pi/2,0]),\\\n",
      "           14:intensity([ pi/4,-pi/2],  [pi/2,0]),\\\n",
      "           15:intensity([ pi/4, 0],     [pi/2,0]),\\\n",
      "           16:intensity([-pi/4, 0],     [pi/2,0]),\\\n",
      "           17:intensity([ 3*pi/8, pi/2],[pi/2,0]),\\\n",
      "           18:intensity([ pi/8, -pi/2], [pi/2,0]),\\\n",
      "           19:intensity([ pi/8, pi/4],  [pi/2,0]),\\\n",
      "           20:intensity([-pi/8, 3*pi/4],[pi/2,0]),\\\n",
      "           21:intensity([ 0,   0],     [pi/4,0]),\\\n",
      "           22:intensity([ pi/2,0],     [pi/4,0]),\\\n",
      "           23:intensity([ pi/4,pi/2],  [pi/4,0]),\\\n",
      "           24:intensity([ pi/4,-pi/2],  [pi/4,0]),\\\n",
      "           25:intensity([ pi/4, 0],    [pi/4,0]),\\\n",
      "           26:intensity([-pi/4, 0],    [pi/4,0]),\\\n",
      "           27:intensity([3*pi/8, pi/2],  [pi/4,0]),\\\n",
      "           28:intensity([pi/8, -pi/2],[pi/4,0]),\\\n",
      "           29:intensity([pi/8, pi/4],   [pi/4,0]),\\\n",
      "           30:intensity([-pi/8, 3*pi/4],[pi/4,0]),\\\n",
      "           31:intensity([ 0,   0],     [-pi/4,0]),\\\n",
      "           32:intensity([ pi/2,0],     [-pi/4,0]),\\\n",
      "           33:intensity([ pi/4,pi/2],  [-pi/4,0]),\\\n",
      "           34:intensity([ pi/4,-pi/2],  [-pi/4,0]),\\\n",
      "           35:intensity([ pi/4, 0],    [-pi/4,0]),\\\n",
      "           36:intensity([-pi/4, 0],    [-pi/4,0]),\\\n",
      "           37:intensity([3*pi/8, pi/2],  [-pi/4,0]),\\\n",
      "           38:intensity([pi/8, -pi/2],[-pi/4,0]),\\\n",
      "           39:intensity([pi/8, pi/4],   [-pi/4,0]),\\\n",
      "           40:intensity([-pi/8, 3*pi/4],[-pi/4,0]),\\\n",
      "\t       41:intensity([ 0,   0],      [pi/4,pi/2]),\\\n",
      "           42:intensity([ pi/2,0],      [pi/4,pi/2]),\\\n",
      "           43:intensity([ pi/4,pi/2],   [pi/4,pi/2]),\\\n",
      "           44:intensity([ pi/4,-pi/2],  [pi/4,pi/2]),\\\n",
      "           45:intensity([ pi/4, 0],     [pi/4,pi/2]),\\\n",
      "           46:intensity([-pi/4, 0],     [pi/4,pi/2]),\\\n",
      "           47:intensity([3*pi/8, pi/2], [pi/4,pi/2]),\\\n",
      "           48:intensity([pi/8, -pi/2],  [pi/4,pi/2]),\\\n",
      "           49:intensity([pi/8, pi/4],   [pi/4,pi/2]),\\\n",
      "           50:intensity([-pi/8, 3*pi/4],[pi/4,pi/2]),\\\n",
      "\t       51:intensity([ 0,   0],      [3*pi/8,pi/2]),\\\n",
      "           52:intensity([ pi/2,0],      [3*pi/8,pi/2]),\\\n",
      "           53:intensity([ pi/4,pi/2],   [3*pi/8,pi/2]),\\\n",
      "           54:intensity([ pi/4,-pi/2],  [3*pi/8,pi/2]),\\\n",
      "           55:intensity([ pi/4, 0],     [3*pi/8,pi/2]),\\\n",
      "           56:intensity([-pi/4, 0],     [3*pi/8,pi/2]),\\\n",
      "           57:intensity([3*pi/8, pi/2], [3*pi/8,pi/2]),\\\n",
      "           58:intensity([pi/8, -pi/2],  [3*pi/8,pi/2]),\\\n",
      "           59:intensity([pi/8, pi/4],   [3*pi/8,pi/2]),\\\n",
      "           60:intensity([-pi/8, 3*pi/4],[3*pi/8,pi/2]),\\\n",
      "           61:intensity([ 0,   0],      [pi/8,pi/4]),\\\n",
      "           62:intensity([ pi/2,0],      [pi/8,pi/4]),\\\n",
      "           63:intensity([ pi/4,pi/2],   [pi/8,pi/4]),\\\n",
      "           64:intensity([ pi/4,-pi/2],  [pi/8,pi/4]),\\\n",
      "           65:intensity([ pi/4, 0],     [pi/8,pi/4]),\\\n",
      "           66:intensity([-pi/4, 0],     [pi/8,pi/4]),\\\n",
      "           67:intensity([3*pi/8, pi/2], [pi/8,pi/4]),\\\n",
      "           68:intensity([pi/8, -pi/2],  [pi/8,pi/4]),\\\n",
      "           69:intensity([pi/8, pi/4],   [pi/8,pi/4]),\\\n",
      "           70:intensity([-pi/8, 3*pi/4],[pi/8,pi/4]),\\\n",
      "           71:intensity([ 0,   0],      [pi/4, -pi/2]),\\\n",
      "           72:intensity([ pi/2,0],      [pi/4, -pi/2]),\\\n",
      "           73:intensity([ pi/4,pi/2],   [pi/4, -pi/2]),\\\n",
      "           74:intensity([ pi/4,-pi/2],  [pi/4, -pi/2]),\\\n",
      "           75:intensity([ pi/4, 0],     [pi/4, -pi/2]),\\\n",
      "           76:intensity([-pi/4, 0],     [pi/4, -pi/2]),\\\n",
      "           77:intensity([3*pi/8, pi/2], [pi/4, -pi/2]),\\\n",
      "           78:intensity([pi/8, -pi/2],  [pi/4, -pi/2]),\\\n",
      "           79:intensity([pi/8, pi/4],   [pi/4, -pi/2]),\\\n",
      "           80:intensity([-pi/8, 3*pi/4],[pi/4, -pi/2]),\\\n",
      "           81:intensity([ 0,   0],      [7*pi/8,-pi/2]),\\\n",
      "           82:intensity([ pi/2,0],      [7*pi/8,-pi/2]),\\\n",
      "           83:intensity([ pi/4,pi/2],   [7*pi/8,-pi/2]),\\\n",
      "           84:intensity([ pi/4,-pi/2],  [7*pi/8,-pi/2]),\\\n",
      "           85:intensity([ pi/4, 0],     [7*pi/8,-pi/2]),\\\n",
      "           86:intensity([-pi/4, 0],     [7*pi/8,-pi/2]),\\\n",
      "           87:intensity([3*pi/8, pi/2], [7*pi/8,-pi/2]),\\\n",
      "           88:intensity([pi/8, -pi/2],  [7*pi/8,-pi/2]),\\\n",
      "           89:intensity([pi/8, pi/4],   [7*pi/8,-pi/2]),\\\n",
      "           90:intensity([-pi/8, 3*pi/4],[7*pi/8,-pi/2]),\\\n",
      "           91:intensity([ 0,   0],      [-pi/8, 3*pi/4]),\\\n",
      "           92:intensity([ pi/2,0],      [-pi/8, 3*pi/4]),\\\n",
      "           93:intensity([ pi/4,pi/2],   [-pi/8, 3*pi/4]),\\\n",
      "           94:intensity([ pi/4,-pi/2],  [-pi/8, 3*pi/4]),\\\n",
      "           95:intensity([ pi/4, 0],     [-pi/8, 3*pi/4]),\\\n",
      "           96:intensity([-pi/4, 0],     [-pi/8, 3*pi/4]),\\\n",
      "           97:intensity([3*pi/8, pi/2], [-pi/8, 3*pi/4]),\\\n",
      "           98:intensity([pi/8, -pi/2],  [-pi/8, 3*pi/4]),\\\n",
      "           99:intensity([pi/8, pi/4],   [-pi/8, 3*pi/4]),\\\n",
      "           100:intensity([-pi/8, 3*pi/4],[-pi/8, 3*pi/4])\n",
      "           }"
     ],
     "language": "python",
     "metadata": {},
     "outputs": [],
     "prompt_number": 84
    },
    {
     "cell_type": "markdown",
     "metadata": {},
     "source": [
      "Definici\u00f3n de una funci\u00f3n a minimizar. Esta funci\u00f3n calcula las diferencias cuadradas  \n",
      "entre las medidas experimentales y las intensidades resultantes de operar con los  \n",
      "vectores de Jones:"
     ]
    },
    {
     "cell_type": "code",
     "collapsed": false,
     "input": [
      "def min_sq(x0,I_exp,g,alpha,psi,brakets):\n",
      "    \"\"\" Calculates squared differences for a minimization procedure.\n",
      "\n",
      "    Given the experimental meassures of intensity and arbitrary values for \n",
      "    the parameters of an SLM Jones Matrix, this function gives a value to\n",
      "    minimize. That value tells how close is the estimation of alpha, beta, psi, delta \n",
      "    to the value that correctly models the SLM.\n",
      "\n",
      "    :param alpha,beta,psi,delta: Are a guess of real scalars that conform physical parameters the SLM.\n",
      "    :param I_exp: Is a dictionary contanining intensities for every polarization state.\n",
      "    :param g: Is the gray level of the SLM for which we are solving.\n",
      "    \"\"\"\n",
      "    [beta, delta] = x0\n",
      "    \n",
      "    R = matrix([[ cos(alpha), sin(alpha)],\\\n",
      "                [-sin(alpha), cos(alpha)]])\n",
      "    R_global = matrix([[ cos(psi), sin(psi)],\\\n",
      "                       [-sin(psi), cos(psi)]])\n",
      "    \n",
      "    gamma = sqrt(alpha**2 + beta**2)\n",
      "    x = cos(gamma)\n",
      "    y = beta*sin(gamma)/gamma\n",
      "    z = alpha*sin(gamma)/gamma\n",
      "    \n",
      "    M_xyz = matrix([[ x - y*1j, z     ],\\\n",
      "                    [-z       , x+y*1j]])\n",
      "    \n",
      "    M_LCD = exp(-1j*beta)*R.transpose()*M_xyz\n",
      "    \n",
      "    W_2delta = matrix([[ exp(-1j*delta),        0      ],\\\n",
      "                       [      0        , exp(1j*delta)]])\n",
      "    M_LCDp = R.transpose()*W_2delta*R*M_LCD*W_2delta\n",
      "    \n",
      "    M = R_global.transpose()*M_LCDp*R_global\n",
      "    \n",
      "    min_sum = 0\n",
      "    I_sim = {}\n",
      "    for i in range(1,101):\n",
      "        #if i%2 !=0:\n",
      "\t#if i in [1,2,5,6,11,12,15,16,21,22,25,26,31,32,36,35]:\n",
      "        #if i in [1,2,3,4,5,6,11,12,15,16,21,22,25,26,31,33,35,36]:\n",
      "        #if i not in []:\n",
      "        if i <102:\n",
      "            In, Out = brakets[i]\n",
      "            I_sim[i] = (In.H*M.H*Out * Out.H*M*In)\n",
      "            min_sum += ((I_sim[i]-I_exp[i][g])**2)[0,0].real\n",
      "            #min_sum += (sqrt(abs(I_sim[i]**2-I_exp[i][g]**2)))[0,0].realqq\n",
      "    \n",
      "    return min_sum\n",
      "    "
     ],
     "language": "python",
     "metadata": {},
     "outputs": [],
     "prompt_number": 85
    },
    {
     "cell_type": "markdown",
     "metadata": {},
     "source": [
      "Si probamos con unos valores iniciales cualquiera debe devolver un n\u00famero escalar:"
     ]
    },
    {
     "cell_type": "code",
     "collapsed": false,
     "input": [
      "min_sq([2.6,-1],I_exp,0,-pi/2,pi/4, brakets)"
     ],
     "language": "python",
     "metadata": {},
     "outputs": [
      {
       "metadata": {},
       "output_type": "pyout",
       "prompt_number": 86,
       "text": [
        "15.03741736559104"
       ]
      }
     ],
     "prompt_number": 86
    },
    {
     "cell_type": "markdown",
     "metadata": {},
     "source": [
      "Minimizaci\u00f3n con restricci\u00f3nes de caja. El m\u00e9todo que mejor hace la minimizaci\u00f3n es el SLSQP:"
     ]
    },
    {
     "cell_type": "code",
     "collapsed": false,
     "input": [
      "M = {}\n",
      "bnds = ((0, pi), (0,pi))\n",
      "cons = ({'type': 'eq', 'fun': lambda x:  x[0]**2+x[1]**2+x[2]**2+x[3]**2 - 1})\n",
      "from scipy.optimize import fmin_l_bfgs_b\n",
      "beta,delta = pi, 0\n",
      "Beta, Delta = [],[]\n",
      "alpha,psi = -1.68265408601, -0.668404115195\n",
      "for g in range(51,-1,-1):   \n",
      "    #res = minimize(min_sq,[ X[g],  Y[g],  Z[g], W[g]], args = (I_exp,g),method = 'SLSQP',bounds =bnds,constraints=cons)\n",
      "    res = minimize(min_sq,[pi, 0], args = (I_exp,g,alpha,psi,brakets),method = 'Nelder-Mead')\n",
      "    #res = minimize(min_sq,[pi, 0], args = (I_exp,g,alpha,psi,brakets),method = 'SLSQP',bounds =bnds)\n",
      "    #res = minimize(min_sq,[beta], args = (I_exp,g,alpha,psi,delta,brakets),method = 'Nelder-Mead')        \n",
      "    #res = minimize(min_sq,[ 0.9,  .5,  .5, .5], args = (I_exp,g),method = 'COBYLA',bounds =bnds, options={ 'disp': True})\n",
      "    res = fmin_l_bfgs_b(min_sq,[ 2.6,  0],fprime=None,approx_grad=1, args = (I_exp,g,alpha,psi,brakets),pgtol=1e-05, bounds = bnds)\n",
      "    \n",
      "    beta,delta = res[0]\n",
      "    #beta,delta = res.x\n",
      "    #if delta > pi/4:\n",
      "    #        delta = 0\n",
      "    Beta.append(beta)\n",
      "    Delta.append(delta)\n",
      "    R = matrix([[ cos(alpha), sin(alpha)],\\\n",
      "                [-sin(alpha), cos(alpha)]])\n",
      "    R_global = matrix([[ cos(psi), sin(psi)],\\\n",
      "                       [-sin(psi), cos(psi)]])\n",
      "    \n",
      "    gamma = sqrt(alpha**2 + beta**2)\n",
      "    x = cos(gamma)\n",
      "    y = beta*sin(gamma)/gamma\n",
      "    z = alpha*sin(gamma)/gamma\n",
      "    M_xyz = matrix([[ x - y*1j, z     ],\\\n",
      "                    [-z       , x+y*1j]])\n",
      "    \n",
      "    M_LCD = exp(-1j*beta)*R.transpose()*M_xyz\n",
      "    \n",
      "    W_2delta = matrix([[ exp(-1j*delta),        0      ],\\\n",
      "                       [      0        , exp(1j*delta)]])\n",
      "    M_LCDp = R.transpose()*W_2delta*R*M_LCD*W_2delta\n",
      "    \n",
      "    M[g] = R_global.transpose()*M_LCDp*R_global\n",
      "    #print(res.x)\n",
      "    #print(res.fun)\n",
      "    print(res[0])\n",
      "    "
     ],
     "language": "python",
     "metadata": {},
     "outputs": [
      {
       "output_type": "stream",
       "stream": "stdout",
       "text": [
        "[ 1.9878669  0.       ]\n",
        "[ 1.86913441  0.        ]"
       ]
      },
      {
       "output_type": "stream",
       "stream": "stdout",
       "text": [
        "\n",
        "[ 1.75259189  0.        ]"
       ]
      },
      {
       "output_type": "stream",
       "stream": "stdout",
       "text": [
        "\n",
        "[ 1.64101247  0.        ]"
       ]
      },
      {
       "output_type": "stream",
       "stream": "stdout",
       "text": [
        "\n",
        "[ 1.50573394  0.        ]"
       ]
      },
      {
       "output_type": "stream",
       "stream": "stdout",
       "text": [
        "\n",
        "[ 1.37760291  0.        ]"
       ]
      },
      {
       "output_type": "stream",
       "stream": "stdout",
       "text": [
        "\n",
        "[ 1.21462075  0.0106451 ]"
       ]
      },
      {
       "output_type": "stream",
       "stream": "stdout",
       "text": [
        "\n",
        "[ 1.05643975  0.01881169]"
       ]
      },
      {
       "output_type": "stream",
       "stream": "stdout",
       "text": [
        "\n",
        "[ 0.89294607  0.02558006]"
       ]
      },
      {
       "output_type": "stream",
       "stream": "stdout",
       "text": [
        "\n",
        "[ 0.7302084   0.02377226]"
       ]
      },
      {
       "output_type": "stream",
       "stream": "stdout",
       "text": [
        "\n",
        "[ 0.56253803  0.        ]"
       ]
      },
      {
       "output_type": "stream",
       "stream": "stdout",
       "text": [
        "\n",
        "[ 0.44425147  0.        ]"
       ]
      },
      {
       "output_type": "stream",
       "stream": "stdout",
       "text": [
        "\n",
        "[ 0.34516141  0.        ]"
       ]
      },
      {
       "output_type": "stream",
       "stream": "stdout",
       "text": [
        "\n",
        "[ 0.26468092  0.        ]"
       ]
      },
      {
       "output_type": "stream",
       "stream": "stdout",
       "text": [
        "\n",
        "[ 0.20686772  0.        ]"
       ]
      },
      {
       "output_type": "stream",
       "stream": "stdout",
       "text": [
        "\n",
        "[ 0.15273935  0.        ]"
       ]
      },
      {
       "output_type": "stream",
       "stream": "stdout",
       "text": [
        "\n",
        "[ 0.10504964  0.        ]"
       ]
      },
      {
       "output_type": "stream",
       "stream": "stdout",
       "text": [
        "\n",
        "[ 0.06869933  0.        ]"
       ]
      },
      {
       "output_type": "stream",
       "stream": "stdout",
       "text": [
        "\n",
        "[ 0.03538611  0.        ]"
       ]
      },
      {
       "output_type": "stream",
       "stream": "stdout",
       "text": [
        "\n",
        "[ 0.00823643  0.        ]"
       ]
      },
      {
       "output_type": "stream",
       "stream": "stdout",
       "text": [
        "\n",
        "[ 0.          2.08708949]"
       ]
      },
      {
       "output_type": "stream",
       "stream": "stdout",
       "text": [
        "\n",
        "[ 0.          0.78043201]"
       ]
      },
      {
       "output_type": "stream",
       "stream": "stdout",
       "text": [
        "\n",
        "[  2.57631661e-07   8.54108219e-01]"
       ]
      },
      {
       "output_type": "stream",
       "stream": "stdout",
       "text": [
        "\n",
        "[  1.55540567e-07   8.77869360e-01]"
       ]
      },
      {
       "output_type": "stream",
       "stream": "stdout",
       "text": [
        "\n",
        "[ 0.          0.90281619]"
       ]
      },
      {
       "output_type": "stream",
       "stream": "stdout",
       "text": [
        "\n",
        "[  3.50573223e-07   9.10994886e-01]"
       ]
      },
      {
       "output_type": "stream",
       "stream": "stdout",
       "text": [
        "\n",
        "[ 0.          0.91868937]"
       ]
      },
      {
       "output_type": "stream",
       "stream": "stdout",
       "text": [
        "\n",
        "[ 0.          0.92579748]"
       ]
      },
      {
       "output_type": "stream",
       "stream": "stdout",
       "text": [
        "\n",
        "[  2.10071493e-08   9.24893237e-01]"
       ]
      },
      {
       "output_type": "stream",
       "stream": "stdout",
       "text": [
        "\n",
        "[ 0.          0.92837119]"
       ]
      },
      {
       "output_type": "stream",
       "stream": "stdout",
       "text": [
        "\n",
        "[  4.52994780e-07   9.27949156e-01]"
       ]
      },
      {
       "output_type": "stream",
       "stream": "stdout",
       "text": [
        "\n",
        "[ 0.          0.93022636]"
       ]
      },
      {
       "output_type": "stream",
       "stream": "stdout",
       "text": [
        "\n",
        "[  4.47233524e-07   9.30074613e-01]"
       ]
      },
      {
       "output_type": "stream",
       "stream": "stdout",
       "text": [
        "\n",
        "[ 0.          0.92777975]"
       ]
      },
      {
       "output_type": "stream",
       "stream": "stdout",
       "text": [
        "\n",
        "[  2.77280058e-07   9.29690760e-01]"
       ]
      },
      {
       "output_type": "stream",
       "stream": "stdout",
       "text": [
        "\n",
        "[  1.00278688e-07   9.29689837e-01]"
       ]
      },
      {
       "output_type": "stream",
       "stream": "stdout",
       "text": [
        "\n",
        "[  1.39572632e-07   9.28576844e-01]"
       ]
      },
      {
       "output_type": "stream",
       "stream": "stdout",
       "text": [
        "\n",
        "[  1.55611451e-07   9.29010271e-01]"
       ]
      },
      {
       "output_type": "stream",
       "stream": "stdout",
       "text": [
        "\n",
        "[  3.74336508e-08   9.27498225e-01]"
       ]
      },
      {
       "output_type": "stream",
       "stream": "stdout",
       "text": [
        "\n",
        "[  1.33790966e-07   9.28203583e-01]"
       ]
      },
      {
       "output_type": "stream",
       "stream": "stdout",
       "text": [
        "\n",
        "[ 0.          0.92841429]"
       ]
      },
      {
       "output_type": "stream",
       "stream": "stdout",
       "text": [
        "\n",
        "[ 0.          0.92875398]"
       ]
      },
      {
       "output_type": "stream",
       "stream": "stdout",
       "text": [
        "\n",
        "[ 0.          0.92821274]"
       ]
      },
      {
       "output_type": "stream",
       "stream": "stdout",
       "text": [
        "\n",
        "[  1.19241137e-07   9.28485145e-01]"
       ]
      },
      {
       "output_type": "stream",
       "stream": "stdout",
       "text": [
        "\n",
        "[  2.52229241e-08   9.27428303e-01]"
       ]
      },
      {
       "output_type": "stream",
       "stream": "stdout",
       "text": [
        "\n",
        "[ 0.          0.92734156]"
       ]
      },
      {
       "output_type": "stream",
       "stream": "stdout",
       "text": [
        "\n",
        "[ 0.          0.92794152]"
       ]
      },
      {
       "output_type": "stream",
       "stream": "stdout",
       "text": [
        "\n",
        "[ 0.          0.92762448]"
       ]
      },
      {
       "output_type": "stream",
       "stream": "stdout",
       "text": [
        "\n",
        "[ 0.          0.92725952]"
       ]
      },
      {
       "output_type": "stream",
       "stream": "stdout",
       "text": [
        "\n",
        "[ 0.          0.92787877]"
       ]
      },
      {
       "output_type": "stream",
       "stream": "stdout",
       "text": [
        "\n",
        "[  9.02769182e-09   9.26708732e-01]"
       ]
      },
      {
       "output_type": "stream",
       "stream": "stdout",
       "text": [
        "\n",
        "[  2.16622600e-07   9.27786789e-01]"
       ]
      },
      {
       "output_type": "stream",
       "stream": "stdout",
       "text": [
        "\n"
       ]
      }
     ],
     "prompt_number": 87
    },
    {
     "cell_type": "markdown",
     "metadata": {},
     "source": [
      "Figura que compara las intensidades normalizadas experimentales en verde con las intensidades  \n",
      "normalizadas producidas por los vectores de Jones definidos antes entrando y saliendo de la matriz  \n",
      "que resulta de la caracterizaci\u00f3n."
     ]
    },
    {
     "cell_type": "code",
     "collapsed": false,
     "input": [
      "#%pylab inline \n",
      "figures = {}\n",
      "\n",
      "for f in range(5):\n",
      "    figures[f] = figure()\n",
      "    \n",
      "    gs1 = gridspec.GridSpec(4, 5)\n",
      "    axes = []\n",
      "    for i in range(4):\n",
      "        for j in range(5):\n",
      "            axes.append(figures[f].add_subplot(gs1[i,j]))\n",
      "            \n",
      "    for i in range(f*20,(f+1)*20,2):\n",
      "        In1, Out1 = brakets[i+1]\n",
      "        In2, Out2 = brakets[i+2]\n",
      "        \n",
      "        I_test1 = zeros(52)\n",
      "        I_test2 = zeros(52)\n",
      "        \n",
      "        for g in range(52):\n",
      "            I_test1[g] = (In1.H*M[g].H*Out1 * Out1.H*M[g]*In1)[0,0].real/\\\n",
      "            ((In2.H*M[g].H*Out2 * Out2.H*M[g]*In2)[0,0].real+(In1.H*M[g].H*Out1 * Out1.H*M[g]*In1)[0,0].real)\n",
      "            I_test2[g] = (In2.H*M[g].H*Out2 * Out2.H*M[g]*In2)[0,0].real/\\\n",
      "            ((In2.H*M[g].H*Out2 * Out2.H*M[g]*In2)[0,0].real+(In1.H*M[g].H*Out1 * Out1.H*M[g]*In1)[0,0].real)\n",
      "        axes[i-f*20].plot(I_test1, label = 'It')\n",
      "        axes[i-f*20].plot(I_exp[i+1], label = 'Ie')\n",
      "        axes[i-f*20].set_title('$I_{'+str(i+1)+'}$')\n",
      "        axes[i-f*20].set_ylim(0, 1)\n",
      "        axes[i-f*20+1].set_ylim(0, 1)\n",
      "        axes[i-f*20+1].plot(I_test2, label = 'It')\n",
      "        axes[i-f*20+1].plot(I_exp[i+2], label = 'Ie')\n",
      "        axes[i-f*20+1].set_title('$I_{'+str(i+2)+'}$')\n",
      "show()"
     ],
     "language": "python",
     "metadata": {},
     "outputs": [],
     "prompt_number": 88
    },
    {
     "cell_type": "code",
     "collapsed": false,
     "input": [
      "#%pylab inline \n",
      "\n",
      "fig = figure()\n",
      "gs1 = gridspec.GridSpec(8, 6)\n",
      "axes = []\n",
      "for i in range(8):\n",
      "    for j in range(6):\n",
      "        #if i+j!=6:\n",
      "        axes.append(fig.add_subplot(gs1[i,j]))\n",
      "        \n",
      "for i in range(41,71,2):\n",
      "    In1, Out1 = brakets[i]\n",
      "    In2, Out2 = brakets[i+1]\n",
      "    \n",
      "    I_test1 = zeros(52)\n",
      "    I_test2 = zeros(52)\n",
      "    \n",
      "    for g in range(52):\n",
      "        I_test1[g] = (In1.H*M[g].H*Out1 * Out1.H*M[g]*In1)[0,0].real/\\\n",
      "        ((In2.H*M[g].H*Out2 * Out2.H*M[g]*In2)[0,0].real+(In1.H*M[g].H*Out1 * Out1.H*M[g]*In1)[0,0].real)\n",
      "        I_test2[g] = (In2.H*M[g].H*Out2 * Out2.H*M[g]*In2)[0,0].real/\\\n",
      "        ((In2.H*M[g].H*Out2 * Out2.H*M[g]*In2)[0,0].real+(In1.H*M[g].H*Out1 * Out1.H*M[g]*In1)[0,0].real)\n",
      "        \n",
      "    n = '8'+str(g)\n",
      "    axes[i-1-41].plot(I_test1, label = 'It')\n",
      "    axes[i-1-41].plot(I_exp[i], label = 'Ie')\n",
      "    axes[i-1-41].set_title('$I_{'+str(i)+'}$')\n",
      "    axes[i-1-41].set_ylim(0, 1)\n",
      "    axes[i-41].set_ylim(0, 1)\n",
      "    axes[i-41].plot(I_test2, label = 'It')\n",
      "    axes[i-41].plot(I_exp[i+1], label = 'Ie')\n",
      "    axes[i-41].set_title('$I_{'+str(i+1)+'}$')\n",
      "show()"
     ],
     "language": "python",
     "metadata": {},
     "outputs": [],
     "prompt_number": 96
    },
    {
     "cell_type": "code",
     "collapsed": false,
     "input": [
      "#%pylab inline \n",
      "\n",
      "for i in range(1,101,2):\n",
      "    \n",
      "    fig_1 = figure()\n",
      "    fig_2 = figure()\n",
      "    \n",
      "    ax_1 = fig_1.add_subplot(111)\n",
      "    ax_2 = fig_2.add_subplot(111)\n",
      "    \n",
      "    In1, Out1 = brakets[i]\n",
      "    In2, Out2 = brakets[i+1]\n",
      "    \n",
      "    I_test1 = zeros(52)\n",
      "    I_test2 = zeros(52)\n",
      "    \n",
      "    for g in range(52):\n",
      "        I_test1[g] = (In1.H*M[g].H*Out1 * Out1.H*M[g]*In1)[0,0].real/\\\n",
      "        ((In2.H*M[g].H*Out2 * Out2.H*M[g]*In2)[0,0].real+(In1.H*M[g].H*Out1 * Out1.H*M[g]*In1)[0,0].real)\n",
      "        I_test2[g] = (In2.H*M[g].H*Out2 * Out2.H*M[g]*In2)[0,0].real/\\\n",
      "        ((In2.H*M[g].H*Out2 * Out2.H*M[g]*In2)[0,0].real+(In1.H*M[g].H*Out1 * Out1.H*M[g]*In1)[0,0].real)\n",
      "    ax_1.plot(I_test1, label = 'It')\n",
      "    ax_1.plot(I_exp[i], label = 'Ie')\n",
      "    ax_2.plot(I_test1, label = 'It')\n",
      "    ax_2.plot(I_exp[i], label = 'Ie')\n",
      "    ax_1.set_ylim(0, 1)\n",
      "    ax_2.set_ylim(0, 1)\n",
      "    ax_1.set_title('$I_{'+str(i)+'}$')\n",
      "    ax_2.set_title('$I_{'+str(i+1)+'}$.png')\n",
      "    fig_1.savefig('$borrame_I_{'+str(i)+'}$.png')\n",
      "    fig_2.savefig('$borrame_I_{'+str(i+1)+'}$.png')\n",
      "    close(\"all\") "
     ],
     "language": "python",
     "metadata": {},
     "outputs": [],
     "prompt_number": 95
    },
    {
     "cell_type": "code",
     "collapsed": false,
     "input": [
      "def min_all(x0,I_exp,g,brakets):\n",
      "    min_of_functions = 0\n",
      "    beta,delta = pi, 0\n",
      "    M = {}\n",
      "    bnds = ((0, 2*pi), (0, pi/4))   \n",
      "    alpha,psi = x0\n",
      "    for g in range(51,-1,-1):   \n",
      "        #res = minimize(min_sq,[ X[g],  Y[g],  Z[g], W[g]], args = (I_exp,g),method = 'SLSQP',bounds =bnds,constraints=cons)\n",
      "        res = minimize(min_sq,[beta,delta], args = (I_exp,g,alpha,psi,brakets),method = 'SLSQP', bounds = bnds)\n",
      "        #res = minimize(min_sq,[beta], args = (I_exp,g,alpha,psi,delta,brakets),method = 'Nelder-Mead')        \n",
      "        #res = minimize(min_sq,[ 0.9,  .5,  .5, .5], args = (I_exp,g),method = 'COBYLA',bounds =bnds, options={ 'disp': True})\n",
      "        #res = fmin_l_bfgs_b(min_sq,[ 2.6,  0],fprime=None,approx_grad=1, args = (I_exp,g,alpha,psi,brakets),pgtol=1e-05)\n",
      "        \n",
      "        #alpha,beta,psi,delta = res[0]\n",
      "        beta,delta = res.x\n",
      "        \n",
      "        R = matrix([[ cos(alpha), sin(alpha)],\\\n",
      "                    [-sin(alpha), cos(alpha)]])\n",
      "        R_global = matrix([[ cos(psi), sin(psi)],\\\n",
      "                           [-sin(psi), cos(psi)]])\n",
      "        \n",
      "        gamma = sqrt(alpha**2 + beta**2)\n",
      "        x = cos(gamma)\n",
      "        y = beta*sin(gamma)/gamma\n",
      "        z = alpha*sin(gamma)/gamma\n",
      "        M_xyz = matrix([[ x - y*1j, z     ],\\\n",
      "                        [-z       , x+y*1j]])\n",
      "        \n",
      "        M_LCD = exp(-1j*beta)*R.transpose()*M_xyz\n",
      "        \n",
      "        W_2delta = matrix([[ exp(-1j*delta),        0      ],\\\n",
      "                           [      0        , exp(1j*delta)]])\n",
      "        M_LCDp = R.transpose()*W_2delta*R*M_LCD*W_2delta\n",
      "        \n",
      "        M[g] = R_global.transpose()*M_LCDp*R_global\n",
      "        \n",
      "        min_of_functions += res.fun\n",
      "    print(alpha,psi)    \n",
      "    print(min_of_functions)\n",
      "    return min_of_functions"
     ],
     "language": "python",
     "metadata": {},
     "outputs": [],
     "prompt_number": 21
    },
    {
     "cell_type": "code",
     "collapsed": false,
     "input": [
      "#result = minimize(min_all,[-pi/2,-pi/4], args = (I_exp,g,brakets),method = 'Nelder-Mead')"
     ],
     "language": "python",
     "metadata": {},
     "outputs": [],
     "prompt_number": 73
    },
    {
     "cell_type": "markdown",
     "metadata": {},
     "source": [
      "Extracci\u00f3n de los par\u00e1metros X, Y, Z, y W obtenidos por minimizaci\u00f3n:"
     ]
    },
    {
     "cell_type": "code",
     "collapsed": false,
     "input": [
      "for g in range(52):\n",
      "     X[g] = M[g][0,0].real\n",
      "     Y[g] = -M[g][0,0].imag\n",
      "     Z[g] = M[g][0,1].real\n",
      "     W[g] = -M[g][0,1].imag\n",
      "        "
     ],
     "language": "python",
     "metadata": {},
     "outputs": [],
     "prompt_number": 80
    },
    {
     "cell_type": "markdown",
     "metadata": {},
     "source": [
      "Gr\u00e1fica de X, Y, Z, y W"
     ]
    },
    {
     "cell_type": "markdown",
     "metadata": {},
     "source": [
      "Figura que compara las intensidades experimentales en verde con las intensidades  \n",
      "producidas por los vectores de Jones definidos antes entrando y saliendo de la matriz  \n",
      "que resulta de la caracterizaci\u00f3n."
     ]
    },
    {
     "cell_type": "code",
     "collapsed": false,
     "input": [
      "f = figure()\n",
      "ax = f.gca()\n",
      "plot(X,label='X,76,34')\n",
      "plot(Y,label='Y,34,76')\n",
      "plot(Z,label='Z, 34,57')\n",
      "plot(W,label='W, 57,34')\n",
      "grid()\n",
      "# Shink current axis by 20%\n",
      "box = ax.get_position()\n",
      "ax.set_position([box.x0, box.y0, box.width * 0.8, box.height])\n",
      "legend(bbox_to_anchor=(1.01, 1), loc=2)\n",
      "show()"
     ],
     "language": "python",
     "metadata": {},
     "outputs": [
      {
       "ename": "KeyboardInterrupt",
       "evalue": "",
       "output_type": "pyerr",
       "traceback": [
        "\u001b[0;31m---------------------------------------------------------------------------\u001b[0m\n\u001b[0;31mKeyboardInterrupt\u001b[0m                         Traceback (most recent call last)",
        "\u001b[0;32m/opt/local/Library/Frameworks/Python.framework/Versions/3.3/lib/python3.3/site-packages/matplotlib/backend_bases.py\u001b[0m in \u001b[0;36menter_notify_event\u001b[0;34m(self, guiEvent, xy)\u001b[0m\n\u001b[1;32m   1848\u001b[0m         \u001b[0mself\u001b[0m\u001b[0;34m.\u001b[0m\u001b[0m_lastx\u001b[0m\u001b[0;34m,\u001b[0m \u001b[0mself\u001b[0m\u001b[0;34m.\u001b[0m\u001b[0m_lasty\u001b[0m \u001b[0;34m=\u001b[0m \u001b[0;32mNone\u001b[0m\u001b[0;34m,\u001b[0m \u001b[0;32mNone\u001b[0m\u001b[0;34m\u001b[0m\u001b[0m\n\u001b[1;32m   1849\u001b[0m \u001b[0;34m\u001b[0m\u001b[0m\n\u001b[0;32m-> 1850\u001b[0;31m     \u001b[0;32mdef\u001b[0m \u001b[0menter_notify_event\u001b[0m\u001b[0;34m(\u001b[0m\u001b[0mself\u001b[0m\u001b[0;34m,\u001b[0m \u001b[0mguiEvent\u001b[0m\u001b[0;34m=\u001b[0m\u001b[0;32mNone\u001b[0m\u001b[0;34m,\u001b[0m \u001b[0mxy\u001b[0m\u001b[0;34m=\u001b[0m\u001b[0;32mNone\u001b[0m\u001b[0;34m)\u001b[0m\u001b[0;34m:\u001b[0m\u001b[0;34m\u001b[0m\u001b[0m\n\u001b[0m\u001b[1;32m   1851\u001b[0m         \"\"\"\n\u001b[1;32m   1852\u001b[0m         \u001b[0mBackend\u001b[0m \u001b[0mderived\u001b[0m \u001b[0mclasses\u001b[0m \u001b[0mshould\u001b[0m \u001b[0mcall\u001b[0m \u001b[0mthis\u001b[0m \u001b[0mfunction\u001b[0m \u001b[0mwhen\u001b[0m \u001b[0mentering\u001b[0m\u001b[0;34m\u001b[0m\u001b[0m\n",
        "\u001b[0;31mKeyboardInterrupt\u001b[0m: "
       ]
      }
     ],
     "prompt_number": 81
    },
    {
     "cell_type": "code",
     "collapsed": false,
     "input": [
      "bet = figure()\n",
      "ax = f.gca()\n",
      "plot(Beta, label = 'beta')\n",
      "plot(Delta, label = 'delta')\n",
      "grid()\n",
      "show()"
     ],
     "language": "python",
     "metadata": {},
     "outputs": [],
     "prompt_number": 76
    },
    {
     "cell_type": "raw",
     "metadata": {},
     "source": [
      "fig = figure()\n",
      "gs1 = gridspec.GridSpec(8, 6)\n",
      "axes = []\n",
      "for i in range(8):\n",
      "    for j in range(6):\n",
      "        #if i+j!=6:\n",
      "        axes.append(fig.add_subplot(gs1[i,j]))\n",
      "        \n",
      "for i in range(1,46,2):\n",
      "    In1, Out1 = brakets[i]\n",
      "    In2, Out2 = brakets[i+1]\n",
      "    \n",
      "    I_test1 = zeros(52)\n",
      "    I_test2 = zeros(52)\n",
      "    \n",
      "    for g in range(52):\n",
      "        I_test1[g] = (In1.H*M[g].H*Out1 * Out1.H*M[g]*In1)[0,0].real\n",
      "        I_test2[g] = (In2.H*M[g].H*Out2 * Out2.H*M[g]*In2)[0,0].real\n",
      "        \n",
      "    n = '8'+str(g)\n",
      "    axes[i-1].plot(I_test1, label = 'It')\n",
      "    axes[i-1].plot(I_exp_2[i][:,1], label = 'Ie')\n",
      "    axes[i-1].set_title('$I_{'+str(i)+'}$')\n",
      "    axes[i-1].set_ylim(0, 1)\n",
      "    axes[i].plot(I_test2, label = 'It')\n",
      "    axes[i].plot(I_exp_2[i+1][:,1], label = 'Ie')\n",
      "    axes[i].set_title('$I_{'+str(i+1)+'}$')\n",
      "    axes[i].set_ylim(0, 1)"
     ]
    },
    {
     "cell_type": "heading",
     "level": 2,
     "metadata": {},
     "source": [
      "B\u00fasqueda de una combinaci\u00f3n de estados de polarizaci\u00f3n que generen modulaci\u00f3n s\u00f3lo de fase"
     ]
    },
    {
     "cell_type": "markdown",
     "metadata": {},
     "source": [
      "Script para encontrar la fase vs nivel de gris introducida por la matriz de Jones del modulador. Estoy probando una forma alternativa en la cual no hago uso de la funci\u00f3n \"arctan\" para obtener la fase introducida por la matriz de Jones antes de encontrar el par\u00e1metro beta.  \n",
      "En vez de eso estoy extrayendo el \u00e1ngulo del valor que se produce cuando el ket es multiplicado por la matriz M."
     ]
    },
    {
     "cell_type": "code",
     "collapsed": false,
     "input": [
      "from numpy import arctan,arctan2, info\n",
      "\n",
      "phi = zeros(52)\n",
      "\n",
      "## Secci\u00f3n que sigue lo usado por I. Moreno, d\u00f3nde a partir de una formula \n",
      "## y las variables X,Y,Z,w del modulador se extrae la fase.\n",
      "\n",
      "#chi1 = 0#pi/4#0.3490658503988659#-0.43307956358421984#0.2181361052344816\n",
      "#chi2 = 0#pi/4#0.3490658503988659#0.59291218452902072#0.63376524318875027\n",
      "#for i in range(0,52):\n",
      "#    phi[i] = arctan((Y[i]*cos(chi1+chi2)+W[i]*sin(chi1+chi2))/  \\\n",
      "#\t\t            (X[i]*cos(chi1-chi2)+Z[i]*sin(chi1+chi2)))\n",
      "fig1 = figure()   \n",
      "for i in range(1,71):\n",
      "    \n",
      "    In, Out =brakets[i]\n",
      "    \n",
      "    for g in range(52):\n",
      "        ket2 = Out.H*M[g]*In\n",
      "        phi[g] = angle(ket2)\n",
      "        if g>0 and phi[g]-phi[g-1]>pi:\n",
      "               phi[g] =phi[g]-2*pi\n",
      "        elif g>0 and phi[g]-phi[g-1] <- pi:\n",
      "               phi[g] =phi[g]+2*pi\n",
      "    \n",
      "             \n",
      "    phi = phi - phi[0]\n",
      "    plot(phi,color = 'r')\n",
      "    image = loadtxt(\"In-fourier{0}_fase\".format(i))\n",
      "    #image = loadtxt('If1-52_fase')#\"Im{0}_fase\".format(i))\n",
      "    plot(image[::,1],color = 'b')\n",
      "    beta = image[::,1]-phi\n",
      "    plot(beta,color = 'g')\n",
      "show()"
     ],
     "language": "python",
     "metadata": {},
     "outputs": [
      {
       "metadata": {},
       "output_type": "display_data",
       "png": "[encoded data removed]",
       "text": [
        "<matplotlib.figure.Figure at 0xc6c7a20>"
       ]
      }
     ],
     "prompt_number": 37
    },
    {
     "cell_type": "code",
     "collapsed": false,
     "input": [
      "def measure_best_modulation(x0, Jones_matrix, beta, a, b):\n",
      "    \"\"\" Function for finding a configuration where phase modulation \n",
      "    is maximum and intensity variation is a minimum\n",
      "    \n",
      "    x0: Are the variables that we will vary s a list that includes \n",
      "        the parameters for input and output of the braket.\n",
      "        \n",
      "    Jones_matrix: Is the matrix that we obtained by doing the \n",
      "                characterization of the SLM.\n",
      "    \n",
      "    beta: Is the global phase by gray level that the SLM introduces.\n",
      "    \n",
      "    a, b: Are weights used to give more or less priority to a state where \n",
      "          flatness of the intensity curve is prioritized or range of phase\n",
      "          modulation is.\n",
      "    \"\"\"\n",
      "\n",
      "    chi2,phi2,chi1,phi1 = x0\n",
      "    from numpy import arctan2\n",
      "    def intensity(bra,ket):\n",
      "        In  = matrix([[cos(ket[0])],[sin(ket[0])*exp(ket[1]*1j)]])\n",
      "        Out = matrix([[cos(bra[0])],[sin(bra[0])*exp(bra[1]*1j)]])\n",
      "        return In, Out\n",
      "    \n",
      "    In, Out =intensity([ chi2,   phi2],     [chi1,phi1])\n",
      "    \n",
      "    phi_t = zeros(52)\n",
      "    I = zeros(52)\n",
      "    cambio = 0\n",
      "    for g in range(52):\n",
      "        ket2 = Out.H*M[g]*In # Beta was negative. exp(1j*beta(g))\n",
      "        I[g] = (ket2.H*ket2)[0,0].real\n",
      "        phi_t[g] = arctan2(ket2.imag,ket2.real)\n",
      "    #plot(phi_t)\n",
      "    for g in range(52):\n",
      "        if g>0 and  phi_t[g] - phi_t[g-1] > pi-0.1:\n",
      "            phi_t[g:] = phi_t[g:]-2*pi\n",
      "        if g>0 and  phi_t[g] - phi_t[g-1] < -pi+0.1:\n",
      "            phi_t[g:] = phi_t[g:]+2*pi\n",
      "    \n",
      "    phi_t = phi_t - phi_t[0]\n",
      "    \n",
      "    p = (max(I)-min(I))/average(I)\n",
      "    q = max(phi_t)-min(phi_t)\n",
      "    plot(phi_t)\n",
      "    return p**a/q**b \n",
      "\n",
      "bnds = ((-pi/1, pi/1), (-pi, pi),(-pi/1, pi/1), (-pi/1, pi/1))\n",
      "#bnds = ((-pi, pi),(-pi, pi), (-pi/2, pi/2))\n",
      "\n",
      "from scipy.optimize import fmin_l_bfgs_b\n",
      "res = fmin_l_bfgs_b(measure_best_modulation,[ pi/8,0,pi/8,0],\\\n",
      "                    fprime=None,approx_grad=1,  args = (M,beta,0.7,1.5), pgtol=1e-05,bounds =bnds)\n",
      "\n",
      "#res = minimize(measure_modulation,[ .5,  0.5,  0.5, 0.5], args = (M,),method = 'SLSQP',bounds =bnds)\n",
      "#res = minimize(measure_flatness,[ 0,  0,  0, 0], args = (M,),)   \n",
      "chi2,phi2,chi1,phi1 = res[0]\n",
      "\n",
      "res\n",
      "    \n",
      "    "
     ],
     "language": "python",
     "metadata": {},
     "outputs": [
      {
       "metadata": {},
       "output_type": "pyout",
       "prompt_number": 104,
       "text": [
        "(array([ 1.58678031,  0.25164943, -0.56901399,  0.3455077 ]),\n",
        " 0.087157649055136927,\n",
        " {'funcalls': 66,\n",
        "  'grad': array([ 0.01618601,  0.00072255,  0.27313474, -0.01109612]),\n",
        "  'nit': 7,\n",
        "  'task': b'CONVERGENCE: REL_REDUCTION_OF_F_<=_FACTR*EPSMCH',\n",
        "  'warnflag': 0})"
       ]
      },
      {
       "metadata": {},
       "output_type": "display_data",
       "png": "[encoded data removed]",
       "text": [
        "<matplotlib.figure.Figure at 0xe8ae828>"
       ]
      }
     ],
     "prompt_number": 104
    },
    {
     "cell_type": "code",
     "collapsed": false,
     "input": [
      "chi2,phi2,chi1,phi1 = res[0]\n",
      "#chi2,phi2,chi1,phi1 = [pi/4,pi/2,0,0]\n",
      "In, Out =intensity([ chi2, phi2],     [chi1,phi1])\n",
      "print(In, Out)\n",
      "phi1 = zeros(52)\n",
      "phi2 = zeros(52)\n",
      "phi_t = zeros(52)\n",
      "I = zeros(52)\n",
      "for g in range(52):\n",
      "    #*exp(1j*-beta[g])\n",
      "    ket2 = Out.H*M[g]*In\n",
      "    #print(ket2)\n",
      "    I[g] = (ket2.H*ket2)[0,0].real\n",
      "    phi_t[g] = arctan2(ket2.imag,ket2.real)\n",
      "for g in range(52):\n",
      "    if g>0 and  phi_t[g] - phi_t[g-1] > pi-0.1:\n",
      "        phi_t[g:] = phi_t[g:]-2*pi\n",
      "    if g>0 and  phi_t[g] - phi_t[g-1] < -pi+0.1:\n",
      "        phi_t[g:] = phi_t[g:]+2*pi\n",
      "figure()\n",
      "phi_t = phi_t - phi_t[0]\n",
      "plot(phi_t)\n",
      "figure()\n",
      "plot(I)\n",
      "abs(max(phi_t)-min(phi_t))"
     ],
     "language": "python",
     "metadata": {},
     "outputs": [
      {
       "output_type": "stream",
       "stream": "stdout",
       "text": [
        "[[ 0.84243265+0.j        ]\n",
        " [-0.50696044-0.18247834j]] [[-0.01598330+0.j        ]\n",
        " [ 0.96837931+0.24896997j]]\n"
       ]
      },
      {
       "metadata": {},
       "output_type": "pyout",
       "prompt_number": 105,
       "text": [
        "6.1111325843620641"
       ]
      },
      {
       "metadata": {},
       "output_type": "display_data",
       "png": "[encoded data removed]",
       "text": [
        "<matplotlib.figure.Figure at 0xc8be4e0>"
       ]
      },
      {
       "metadata": {},
       "output_type": "display_data",
       "png": "[encoded data removed]",
       "text": [
        "<matplotlib.figure.Figure at 0xe1c2160>"
       ]
      }
     ],
     "prompt_number": 105
    },
    {
     "cell_type": "code",
     "collapsed": false,
     "input": [
      "phi_t\n"
     ],
     "language": "python",
     "metadata": {},
     "outputs": [
      {
       "metadata": {},
       "output_type": "pyout",
       "prompt_number": 99,
       "text": [
        "array([ 0.        , -0.00821161, -0.01901513, -0.0285547 , -0.04014871,\n",
        "       -0.0522568 , -0.06461177, -0.07816817, -0.09437049, -0.11015082,\n",
        "       -0.12726035, -0.14657137, -0.16748173, -0.18842659, -0.21012612,\n",
        "       -0.24109422, -0.2693109 , -0.30457629, -0.34759951, -0.43471296,\n",
        "       -0.43489036, -0.38662765, -0.38328252, -0.44482614, -0.48823879,\n",
        "       -0.54219597, -0.6059211 , -0.68176958, -0.76667074, -0.85301167,\n",
        "       -0.95005827, -1.04813933, -1.16679422, -1.30851379, -1.45843203,\n",
        "       -1.64187454, -1.86981353, -2.13683214, -2.48801512, -3.00620729,\n",
        "       -3.61059955, -4.093676  , -4.48015849, -4.76148174, -4.99939094,\n",
        "       -5.19977449, -5.39061258, -5.56472712, -5.72490717, -5.86294239,\n",
        "       -5.99448361, -6.11113258])"
       ]
      }
     ],
     "prompt_number": 99
    },
    {
     "cell_type": "code",
     "collapsed": false,
     "input": [
      "plot(phi_t)"
     ],
     "language": "python",
     "metadata": {},
     "outputs": [
      {
       "metadata": {},
       "output_type": "pyout",
       "prompt_number": 100,
       "text": [
        "[<matplotlib.lines.Line2D at 0xb9d50b8>]"
       ]
      },
      {
       "metadata": {},
       "output_type": "display_data",
       "png": "[encoded data removed]",
       "text": [
        "<matplotlib.figure.Figure at 0xaaaf668>"
       ]
      }
     ],
     "prompt_number": 100
    },
    {
     "cell_type": "code",
     "collapsed": false,
     "input": [
      "phi_t[-5]-phi_t[-6]"
     ],
     "language": "python",
     "metadata": {},
     "outputs": [
      {
       "metadata": {},
       "output_type": "pyout",
       "prompt_number": 101,
       "text": [
        "-0.17411454045029018"
       ]
      }
     ],
     "prompt_number": 101
    },
    {
     "cell_type": "code",
     "collapsed": false,
     "input": [
      "deg2rad(20)"
     ],
     "language": "python",
     "metadata": {},
     "outputs": [
      {
       "metadata": {},
       "output_type": "pyout",
       "prompt_number": 102,
       "text": [
        "0.3490658503988659"
       ]
      }
     ],
     "prompt_number": 102
    },
    {
     "cell_type": "code",
     "collapsed": false,
     "input": [
      "plot(phi_t[::-1])"
     ],
     "language": "python",
     "metadata": {},
     "outputs": [
      {
       "metadata": {},
       "output_type": "pyout",
       "prompt_number": 103,
       "text": [
        "[<matplotlib.lines.Line2D at 0xcfd2940>]"
       ]
      },
      {
       "metadata": {},
       "output_type": "display_data",
       "png": "[encoded data removed]",
       "text": [
        "<matplotlib.figure.Figure at 0xd849390>"
       ]
      }
     ],
     "prompt_number": 103
    },
    {
     "cell_type": "raw",
     "metadata": {},
     "source": [
      "La funci\u00f3n que esta comentntado debajo hace un barrido dobre muchos estados de entrada y salida hasta llegar a una combinaci\u00f3n que sea relativamente buena. Lo coment\u00e9 porque no es muy bueno."
     ]
    },
    {
     "cell_type": "raw",
     "metadata": {},
     "source": [
      "def get_optimal_state(Jones_matrix):\n",
      "    \"\"\" Function for finding a configuration where the amplitude\n",
      "    is not modulated\"\"\"\n",
      "    def intensity(bra,ket):\n",
      "        In  = matrix([[cos(ket[0])],[sin(ket[0])*exp(ket[1]*1j)]])\n",
      "        Out = matrix([[cos(bra[0])],[sin(bra[0])*exp(bra[1]*1j)]])\n",
      "        return In, Out\n",
      "    \n",
      "    optimal = {'chi1':0,'chi2':0,'theta1':0,'theta2':0,'value':0 }\n",
      "    for chi1 in linspace(0,pi,20):\n",
      "        for chi2 in linspace(0,pi,20):\n",
      "            for theta1 in linspace(0,pi,10):\n",
      "                for theta2 in linspace(0,pi,10):\n",
      "                    I_sim = zeros(52)\n",
      "                    for g in range(52):\n",
      "                        In,Out = intensity([chi2,theta2],[chi1,theta1])\n",
      "                        I_sim[g] = (In.H*M[g].H*Out * Out.H*M[g]*In)[0,0].real\n",
      "                    p = (max(I_sim)-min(I_sim))/average(I_sim)\n",
      "                    if 1/p >  optimal['value']:\n",
      "                        optimal = {'chi1':chi1,'chi2':chi2,'theta1':theta1,'theta2':theta2,'value':p }\n",
      "    return optimal\n",
      "optimal = get_optimal_state(M)\n"
     ]
    },
    {
     "cell_type": "markdown",
     "metadata": {},
     "source": [
      "Funci\u00f3n que s\u00f3lo optimiza para que la intensidad "
     ]
    },
    {
     "cell_type": "code",
     "collapsed": false,
     "input": [
      "def measure_flatness(x0,Jones_matrix):\n",
      "    \"\"\" Function for finding a configuration where the amplitude\n",
      "    is not modulated\"\"\"\n",
      "    chi2,phi2,chi1,phi1 = x0\n",
      "    def intensity(bra,ket):\n",
      "        In  = matrix([[cos(ket[0])],[sin(ket[0])*exp(ket[1]*1j)]])\n",
      "        Out = matrix([[cos(bra[0])],[sin(bra[0])*exp(bra[1]*1j)]])\n",
      "        return In, Out\n",
      "    I_sim = zeros(52)\n",
      "    for g in range(52):\n",
      "        In,Out = intensity([chi2,phi2],[chi1,phi1])\n",
      "        I_sim[g] = (In.H*M[g].H*Out * Out.H*M[g]*In)[0,0].real\n",
      "    return  (max(I_sim)-min(I_sim))/average(I_sim)\n",
      "\n",
      "bnds = ((-pi/1, pi/1), (-pi/2, pi/2),(-pi/1, pi/1), (-pi/1, pi/1))\n",
      "res = minimize(measure_flatness,[ 0,  0,  0, 0], args = (M,),method = 'SLSQP',bounds =bnds)\n",
      "#res = minimize(measure_flatness,[ 0,  0,  0, 0], args = (M,),)   \n",
      "chi2,phi2,chi1,phi1 = res.x\n",
      "res"
     ],
     "language": "python",
     "metadata": {},
     "outputs": [
      {
       "metadata": {},
       "output_type": "pyout",
       "prompt_number": 60,
       "text": [
        "     fun: 0.023664278776302113\n",
        "    njev: 46\n",
        "     jac: array([-0.26689757,  0.01370353,  0.24562327,  0.06959528,  0.        ])\n",
        "    nfev: 367\n",
        " message: 'Optimization terminated successfully.'\n",
        " success: True\n",
        "       x: array([ 0.62474371, -1.45401152, -0.59426028,  1.76220768])\n",
        "  status: 0\n",
        "     nit: 46"
       ]
      }
     ],
     "prompt_number": 60
    },
    {
     "cell_type": "code",
     "collapsed": false,
     "input": [
      "I_sim = zeros(52)\n",
      "for g in range(52):\n",
      "    In,Out = intensity([chi2,phi2],[chi1,phi1])\n",
      "    I_sim[g] = (In.H*M[g].H*Out * Out.H*M[g]*In)[0,0].real\n",
      "figure()\n",
      "plot(I_sim)\n",
      "ylim((0,1))"
     ],
     "language": "python",
     "metadata": {},
     "outputs": [
      {
       "metadata": {},
       "output_type": "pyout",
       "prompt_number": 61,
       "text": [
        "(0, 1)"
       ]
      },
      {
       "metadata": {},
       "output_type": "display_data",
       "png": "[encoded data removed]",
       "text": [
        "<matplotlib.figure.Figure at 0xf39fb70>"
       ]
      }
     ],
     "prompt_number": 61
    },
    {
     "cell_type": "code",
     "collapsed": false,
     "input": [
      "from numpy import arctan, info\n",
      "phi = zeros(52)\n",
      "#chi1 = -0.43307956358421984#0.2181361052344816\n",
      "#chi2 = 0.59291218452902072#0.63376524318875027\n",
      "for i in range(0,52):\n",
      "    phi[i] = arctan((Y[i]*cos(chi1+chi2)+W[i]*sin(chi1+chi2))/\\\n",
      "\t\t            X[i]*cos(chi1-chi2)+Z[i]*sin(chi1+chi2))\n",
      "figure()\n",
      "plot(phi)\n",
      "max(phi)-min(phi)"
     ],
     "language": "python",
     "metadata": {},
     "outputs": [
      {
       "metadata": {},
       "output_type": "pyout",
       "prompt_number": 62,
       "text": [
        "2.8906956725682047"
       ]
      },
      {
       "metadata": {},
       "output_type": "display_data",
       "png": "[encoded data removed]",
       "text": [
        "<matplotlib.figure.Figure at 0xeb8a4e0>"
       ]
      }
     ],
     "prompt_number": 62
    },
    {
     "cell_type": "code",
     "collapsed": false,
     "input": [
      "def measure_modulation(x0,Jones_matrix):\n",
      "    \"\"\" Function for finding a configuration where phase modulation \n",
      "    is maximum\"\"\"\n",
      "    chi2,phi2,chi1,phi1 = x0\n",
      "    \n",
      "    def intensity(bra,ket):\n",
      "        In  = matrix([[cos(ket[0])],[sin(ket[0])*exp(ket[1]*1j)]])\n",
      "        Out = matrix([[cos(bra[0])],[sin(bra[0])*exp(bra[1]*1j)]])\n",
      "        return In, Out\n",
      "    \n",
      "    In, Out =intensity([ chi2,   phi2],     [chi1,phi1])\n",
      "    \n",
      "    phi_t = zeros(52)\n",
      "    I = zeros(52)\n",
      "    for g in range(52):\n",
      "        ket2 = Out.H*exp(1j*-beta[g])*M[g]*In\n",
      "        I[g] = (ket2.H*ket2)[0,0].real\n",
      "        phi_t[g] = (angle(ket2))\n",
      "        if g>0 and phi_t[g]-phi_t[g-1]>pi:\n",
      "           phi_t[g] =phi_t[g]-2*pi\n",
      "        elif g>0 and phi_t[g]-phi_t[g-1] <- pi:\n",
      "           phi_t[g] =phi_t[g]+2*pi\n",
      "    print(max(phi_t)-min(phi_t))\n",
      "    print(1/(max(phi_t)-min(phi_t)))\n",
      "    return  1/(max(phi_t)-min(phi_t))\n",
      "\n",
      "bnds = ((-pi/1, pi/1), (-pi, pi),(-pi/1, pi/1), (-pi/1, pi/1))\n",
      "#bnds = ((-pi, pi),(-pi, pi), (-pi/2, pi/2))\n",
      "\n",
      "from scipy.optimize import fmin_l_bfgs_b\n",
      "res = fmin_l_bfgs_b(measure_modulation,[ .5,  0.5,  0.5, 0.5],fprime=None,approx_grad=1,  args = (M,), pgtol=1e-05,bounds =bnds)\n",
      "\n",
      "#res = minimize(measure_modulation,[ .5,  0.5,  0.5, 0.5], args = (M,),method = 'SLSQP',bounds =bnds)\n",
      "#res = minimize(measure_flatness,[ 0,  0,  0, 0], args = (M,),)   \n",
      "chi2,phi2,chi1,phi1 = res[0]\n",
      "\n",
      "res"
     ],
     "language": "python",
     "metadata": {},
     "outputs": [
      {
       "output_type": "stream",
       "stream": "stdout",
       "text": [
        "4.4789032867\n",
        "0.223268942415\n",
        "4.4789032867\n",
        "0.223268942415\n",
        "4.47890328234\n",
        "0.223268942632\n",
        "4.47890329992\n",
        "0.223268941756\n",
        "4.47890331613\n",
        "0.223268940948\n",
        "4.47890329274\n",
        "0.223268942114\n",
        "5.08379902729\n",
        "0.196703291108\n",
        "5.08379902729\n",
        "0.196703291108\n",
        "5.08379900632\n",
        "0.196703291919\n",
        "5.08379903666\n",
        "0.196703290746\n",
        "5.08379906131\n",
        "0.196703289792\n",
        "5.08379902534\n",
        "0.196703291184\n",
        "2.89871434298"
       ]
      },
      {
       "output_type": "stream",
       "stream": "stdout",
       "text": [
        "\n",
        "0.344980526426\n",
        "2.89871434298\n",
        "0.344980526426\n",
        "2.89871434934\n",
        "0.344980525669\n",
        "2.89871434244\n",
        "0.34498052649\n",
        "2.89871434307\n",
        "0.344980526415\n",
        "2.8987143358\n",
        "0.344980527281\n",
        "6.01275409933\n",
        "0.166313137621\n",
        "6.01275409933\n",
        "0.166313137621\n",
        "6.01275408333\n",
        "0.166313138063\n",
        "6.01275409711\n",
        "0.166313137682\n",
        "6.012754111\n",
        "0.166313137298\n",
        "6.01275409022\n",
        "0.166313137872\n",
        "6.20937226195"
       ]
      },
      {
       "output_type": "stream",
       "stream": "stdout",
       "text": [
        "\n",
        "0.161046875242\n",
        "6.20937226195\n",
        "0.161046875242\n",
        "6.2093722498\n",
        "0.161046875557\n",
        "6.2093722586\n",
        "0.161046875329\n",
        "6.20937226928\n",
        "0.161046875052\n",
        "6.20937225367\n",
        "0.161046875456\n",
        "6.47279121974\n",
        "0.154492855717\n",
        "6.47279121974\n",
        "0.154492855717\n",
        "6.47279121263\n",
        "0.154492855887\n",
        "6.47279121561\n",
        "0.154492855816\n",
        "6.47279122269\n",
        "0.154492855647\n",
        "6.47279121397\n",
        "0.154492855855\n",
        "6.6500169748\n",
        "0.150375556001"
       ]
      },
      {
       "output_type": "stream",
       "stream": "stdout",
       "text": [
        "\n",
        "6.6500169748\n",
        "0.150375556001\n",
        "6.65001697089\n",
        "0.150375556089\n",
        "6.65001696981\n",
        "0.150375556114\n",
        "6.65001697631\n",
        "0.150375555967\n",
        "6.65001697284\n",
        "0.150375556045\n",
        "3.41505548637\n",
        "0.292821010959\n",
        "3.41505548637\n",
        "0.292821010959\n",
        "3.41505545506\n",
        "0.292821013644\n",
        "3.41505549044\n",
        "0.29282101061\n",
        "3.41505549253\n",
        "0.29282101043\n",
        "3.41505546435\n",
        "0.292821012847\n",
        "6.65185077487"
       ]
      },
      {
       "output_type": "stream",
       "stream": "stdout",
       "text": [
        "\n",
        "0.150334100064\n",
        "6.65185077487\n",
        "0.150334100064\n",
        "6.65185077101\n",
        "0.150334100151\n",
        "6.65185076986\n",
        "0.150334100177\n",
        "6.65185077641\n",
        "0.150334100029\n",
        "6.65185077297\n",
        "0.150334100107\n",
        "6.6536667751\n",
        "0.15029306904\n",
        "6.6536667751\n",
        "0.15029306904\n",
        "6.65366677129\n",
        "0.150293069126\n",
        "6.65366677008\n",
        "0.150293069154\n",
        "6.65366677668\n",
        "0.150293069004\n",
        "6.65366677328\n",
        "0.150293069081\n",
        "6.86562297"
       ]
      },
      {
       "output_type": "stream",
       "stream": "stdout",
       "text": [
        "\n",
        "0.145653206471\n",
        "6.86562297\n",
        "0.145653206471\n",
        "6.86562296455\n",
        "0.145653206586\n",
        "6.86562296008\n",
        "0.145653206681\n",
        "6.86562298793\n",
        "0.14565320609\n",
        "6.86562298087\n",
        "0.14565320624\n",
        "6.87044369403\n",
        "0.145551007262\n",
        "6.87044369403\n",
        "0.145551007262\n",
        "6.87044368825\n",
        "0.145551007384\n",
        "6.87044368395\n",
        "0.145551007475\n",
        "6.87044371272\n",
        "0.145551006866\n",
        "6.87044370527\n",
        "0.145551007024\n",
        "6.87550847506\n",
        "0.145443788431\n",
        "6.87550847506"
       ]
      },
      {
       "output_type": "stream",
       "stream": "stdout",
       "text": [
        "\n",
        "0.145443788431\n",
        "6.87550846891\n",
        "0.145443788561\n",
        "6.87550846482\n",
        "0.145443788647\n",
        "6.87550849458\n",
        "0.145443788018\n",
        "6.87550848669\n",
        "0.145443788185\n",
        "3.43897710078\n",
        "0.290784140369\n",
        "3.43897710078\n",
        "0.290784140369\n",
        "3.43897711621\n",
        "0.290784139064\n",
        "3.4389771067\n",
        "0.290784139869\n",
        "3.43897709252\n",
        "0.290784141068\n",
        "3.43897708577\n",
        "0.290784141638\n",
        "6.87698958892\n",
        "0.145412463851\n",
        "6.87698958892\n",
        "0.145412463851\n",
        "6.87698958265"
       ]
      },
      {
       "output_type": "stream",
       "stream": "stdout",
       "text": [
        "\n",
        "0.145412463983\n",
        "6.87698957862\n",
        "0.145412464068\n",
        "6.87698960868\n",
        "0.145412463433\n",
        "6.87698960066\n",
        "0.145412463602\n",
        "6.87848362985\n",
        "0.145380879539\n",
        "6.87848362985\n",
        "0.145380879539\n",
        "6.87848362347\n",
        "0.145380879673\n",
        "6.87848361951\n",
        "0.145380879757\n",
        "6.87848364987\n",
        "0.145380879116\n",
        "6.87848364171\n",
        "0.145380879288\n",
        "3.55331779669\n",
        "0.281427121698\n",
        "3.55331779669\n",
        "0.281427121698\n",
        "3.55331784085\n",
        "0.281427118201\n",
        "3.55331780778"
       ]
      },
      {
       "output_type": "stream",
       "stream": "stdout",
       "text": [
        "\n",
        "0.281427120819\n",
        "3.55331776944\n",
        "0.281427123856\n",
        "3.55331777632\n",
        "0.281427123311\n",
        "6.87889453908\n",
        "0.145372195244\n",
        "6.87889453908\n",
        "0.145372195244\n",
        "6.87889453267\n",
        "0.14537219538\n",
        "6.87889452873\n",
        "0.145372195463\n",
        "6.87889455916\n",
        "0.14537219482\n",
        "6.87889455097\n",
        "0.145372194993\n",
        "6.87930504148\n",
        "0.145363520584\n",
        "6.87930504148\n",
        "0.145363520584\n",
        "6.87930503504\n",
        "0.14536352072\n",
        "6.87930503111\n",
        "0.145363520803\n",
        "6.87930506163"
       ]
      },
      {
       "output_type": "stream",
       "stream": "stdout",
       "text": [
        "\n",
        "0.145363520158\n",
        "6.8793050534\n",
        "0.145363520332\n",
        "6.95999289917\n",
        "0.143678307505\n",
        "6.95999289917\n",
        "0.143678307505\n",
        "6.95999288393\n",
        "0.14367830782\n",
        "6.95999288613\n",
        "0.143678307774\n",
        "6.95999293546\n",
        "0.143678306756\n",
        "6.9599929173\n",
        "0.143678307131\n",
        "6.95999289917\n",
        "0.143678307505\n",
        "6.95999289917\n",
        "0.143678307505\n",
        "6.95999288393\n",
        "0.14367830782\n",
        "6.95999288613\n",
        "0.143678307774\n",
        "6.95999293546\n",
        "0.143678306756\n",
        "6.9599929173"
       ]
      },
      {
       "output_type": "stream",
       "stream": "stdout",
       "text": [
        "\n",
        "0.143678307131\n",
        "5.1732066122\n",
        "0.193303704059\n",
        "5.1732066122\n",
        "0.193303704059\n",
        "5.17320659845\n",
        "0.193303704573\n",
        "5.17320662622\n",
        "0.193303703535\n",
        "5.17320662555\n",
        "0.19330370356\n",
        "5.1732066122\n",
        "0.193303704059\n",
        "3.60037924186\n",
        "0.277748518371\n",
        "3.60037924186\n",
        "0.277748518371\n",
        "3.60037922852\n",
        "0.2777485194\n",
        "3.6003792405\n",
        "0.277748518476\n",
        "3.60037923703\n",
        "0.277748518743\n",
        "3.60037923077\n",
        "0.277748519226\n",
        "7.03066220647"
       ]
      },
      {
       "output_type": "stream",
       "stream": "stdout",
       "text": [
        "\n",
        "0.14223411261\n",
        "7.03066220647\n",
        "0.14223411261\n",
        "7.03066217998\n",
        "0.142234113146\n",
        "7.03066219149\n",
        "0.142234112913\n",
        "7.0306622606\n",
        "0.142234111515\n",
        "7.03066222935\n",
        "0.142234112147\n",
        "3.51394199335\n",
        "0.284580679446\n",
        "3.51394199335\n",
        "0.284580679446\n",
        "3.51394202945\n",
        "0.284580676522\n",
        "3.51394200337\n",
        "0.284580678634\n",
        "3.5139419719\n",
        "0.284580681182\n",
        "3.51394197404\n",
        "0.284580681009\n",
        "7.03093467453\n",
        "0.142228600647\n",
        "7.03093467453"
       ]
      },
      {
       "output_type": "stream",
       "stream": "stdout",
       "text": [
        "\n",
        "0.142228600647\n",
        "7.03093464799\n",
        "0.142228601184\n",
        "7.03093465954\n",
        "0.14222860095\n",
        "7.03093472874\n",
        "0.142228599551\n",
        "7.03093469743\n",
        "0.142228600184\n",
        "7.03120643352\n",
        "0.142223103454\n",
        "7.03120643352\n",
        "0.142223103454\n",
        "7.03120640694\n",
        "0.142223103992\n",
        "7.03120641853\n",
        "0.142223103757\n",
        "7.03120648781\n",
        "0.142223102356\n",
        "7.03120645644\n",
        "0.14222310299\n",
        "3.55048013854\n",
        "0.281652047323\n",
        "3.55048013854\n",
        "0.281652047323\n",
        "3.55048018433"
       ]
      },
      {
       "output_type": "stream",
       "stream": "stdout",
       "text": [
        "\n",
        "0.281652043691\n",
        "3.55048014997\n",
        "0.281652046417\n",
        "3.55048011013\n",
        "0.281652049577\n",
        "3.5504801178\n",
        "0.281652048968\n",
        "7.03127553589\n",
        "0.142221705706\n",
        "7.03127553589\n",
        "0.142221705706\n",
        "7.03127550929\n",
        "0.142221706244\n",
        "7.03127552089\n",
        "0.142221706009\n",
        "7.03127559019\n",
        "0.142221704607\n",
        "7.03127555881\n",
        "0.142221705242\n",
        "7.03134450286\n",
        "0.142220310723\n",
        "7.03134450286\n",
        "0.142220310723\n",
        "7.03134447625\n",
        "0.142220311262\n",
        "7.03134448786"
       ]
      },
      {
       "output_type": "stream",
       "stream": "stdout",
       "text": [
        "\n",
        "0.142220311027\n",
        "7.03134455718\n",
        "0.142220309625\n",
        "7.03134452578\n",
        "0.14222031026\n",
        "7.059798383\n",
        "0.141647104598\n",
        "7.059798383\n",
        "0.141647104598\n",
        "7.0597983508\n",
        "0.141647105244\n",
        "7.05979836725\n",
        "0.141647104914\n",
        "7.05979844546\n",
        "0.141647103345\n",
        "7.05979840773\n",
        "0.141647104102\n",
        "7.05982051328\n",
        "0.14164666058\n",
        "7.05982051328\n",
        "0.14164666058\n",
        "7.05982048108\n",
        "0.141646661226\n",
        "7.05982049752\n",
        "0.141646660896\n",
        "7.05982057575"
       ]
      },
      {
       "output_type": "stream",
       "stream": "stdout",
       "text": [
        "\n",
        "0.141646659327\n",
        "7.05982053801\n",
        "0.141646660084\n",
        "7.05984261555\n",
        "0.141646217126\n",
        "7.05984261555\n",
        "0.141646217126\n",
        "7.05984258335\n",
        "0.141646217772\n",
        "7.0598425998\n",
        "0.141646217442\n",
        "7.05984267803\n",
        "0.141646215873\n",
        "7.05984264029\n",
        "0.14164621663\n",
        "7.07557109721\n",
        "0.141331347853\n",
        "7.07557109721\n",
        "0.141331347853\n",
        "7.07557106167\n",
        "0.141331348563\n",
        "7.07557108105\n",
        "0.141331348176\n",
        "7.07557116441\n",
        "0.141331346511\n",
        "7.07557112292"
       ]
      },
      {
       "output_type": "stream",
       "stream": "stdout",
       "text": [
        "\n",
        "0.14133134734\n",
        "7.07557109721\n",
        "0.141331347853\n",
        "7.07557109721\n",
        "0.141331347853\n",
        "7.07557106167\n",
        "0.141331348563\n",
        "7.07557108105\n",
        "0.141331348176\n",
        "7.07557116441\n",
        "0.141331346511\n",
        "7.07557112292\n",
        "0.14133134734\n",
        "6.15354983648\n",
        "0.162507825007\n",
        "6.15354983648\n",
        "0.162507825007\n",
        "6.15354983334\n",
        "0.16250782509\n",
        "6.15354985108\n",
        "0.162507824622\n",
        "6.15354983222\n",
        "0.16250782512\n",
        "6.15354983648\n",
        "0.162507825007\n",
        "3.51383327757"
       ]
      },
      {
       "output_type": "stream",
       "stream": "stdout",
       "text": [
        "\n",
        "0.284589484192\n",
        "3.51383327757\n",
        "0.284589484192\n",
        "3.51383326937\n",
        "0.284589484856\n",
        "3.51383327433\n",
        "0.284589484454\n",
        "3.5138332716\n",
        "0.284589484676\n",
        "3.51383326902\n",
        "0.284589484884\n",
        "3.39705373252\n",
        "0.294372735534\n",
        "3.39705373252\n",
        "0.294372735534\n",
        "3.39705374548\n",
        "0.294372734412\n",
        "3.39705373779\n",
        "0.294372735078\n",
        "3.39705372579\n",
        "0.294372736118\n",
        "3.39705371806\n",
        "0.294372736787\n",
        "7.07938134337"
       ]
      },
      {
       "output_type": "stream",
       "stream": "stdout",
       "text": [
        "\n",
        "0.141255280864\n",
        "7.07938134337\n",
        "0.141255280864\n",
        "7.07938130698\n",
        "0.14125528159\n",
        "7.07938132712\n",
        "0.141255281188\n",
        "7.07938141174\n",
        "0.1412552795\n",
        "7.0793813693\n",
        "0.141255280346\n",
        "3.5565948156\n",
        "0.281167816928\n",
        "3.5565948156\n",
        "0.281167816928\n",
        "3.5565951133\n",
        "0.281167793393\n",
        "3.5565949057\n",
        "0.281167809805\n",
        "3.55659454775\n",
        "0.281167838103\n",
        "3.5565946594\n",
        "0.281167829277\n",
        "7.0793816932"
       ]
      },
      {
       "output_type": "stream",
       "stream": "stdout",
       "text": [
        "\n",
        "0.141255273884\n",
        "7.0793816932\n",
        "0.141255273884\n",
        "7.07938165681\n",
        "0.14125527461\n",
        "7.07938167695\n",
        "0.141255274208\n",
        "7.07938176157\n",
        "0.14125527252\n",
        "7.07938171912\n",
        "0.141255273366\n",
        "7.07938204296\n",
        "0.141255266905\n",
        "7.07938204296\n",
        "0.141255266905\n",
        "7.07938200657\n",
        "0.141255267631\n",
        "7.07938202671\n",
        "0.141255267229\n",
        "7.07938211133\n",
        "0.141255265541\n",
        "7.07938206888\n",
        "0.141255266388\n",
        "3.58700101199\n",
        "0.278784420929\n",
        "3.58700101199"
       ]
      },
      {
       "output_type": "stream",
       "stream": "stdout",
       "text": [
        "\n",
        "0.278784420929\n",
        "3.58700373546\n",
        "0.278784209259\n",
        "3.58700196909\n",
        "0.278784346543\n",
        "3.58699839627\n",
        "0.278784624225\n",
        "3.58699936791\n",
        "0.278784548708\n",
        "7.07938213321\n",
        "0.141255265104\n",
        "7.07938213321\n",
        "0.141255265104\n",
        "7.07938209682\n",
        "0.14125526583\n",
        "7.07938211696\n",
        "0.141255265428\n",
        "7.07938220158\n",
        "0.14125526374\n",
        "7.07938215913\n",
        "0.141255264587\n",
        "7.07938222345\n",
        "0.141255263304\n",
        "7.07938222345\n",
        "0.141255263304\n",
        "7.07938218706"
       ]
      },
      {
       "output_type": "stream",
       "stream": "stdout",
       "text": [
        "\n",
        "0.14125526403\n",
        "7.0793822072\n",
        "0.141255263628\n",
        "7.07938229182\n",
        "0.141255261939\n",
        "7.07938224938\n",
        "0.141255262786\n",
        "3.64230730532\n",
        "0.274551243532\n",
        "3.64230730532\n",
        "0.274551243532\n",
        "3.64231104812\n",
        "0.274550961406\n",
        "3.64230838939\n",
        "0.274551161817\n",
        "3.64230368606\n",
        "0.274551516346\n",
        "3.64230544364\n",
        "0.274551383862\n",
        "7.07938224658\n",
        "0.141255262842\n",
        "7.07938224658\n",
        "0.141255262842\n",
        "7.07938221019"
       ]
      },
      {
       "output_type": "stream",
       "stream": "stdout",
       "text": [
        "\n",
        "0.141255263568\n",
        "7.07938223033\n",
        "0.141255263166\n",
        "7.07938231495\n",
        "0.141255261478\n",
        "7.07938227251\n",
        "0.141255262325\n",
        "7.07938226972\n",
        "0.14125526238\n",
        "7.07938226972\n",
        "0.14125526238\n",
        "7.07938223333\n",
        "0.141255263106\n",
        "7.07938225347\n",
        "0.141255262705\n",
        "7.07938233809\n",
        "0.141255261016\n",
        "7.07938229564\n",
        "0.141255261863\n",
        "7.07986133888\n",
        "0.141245704137\n",
        "7.07986133888\n",
        "0.141245704137\n",
        "7.07986130238\n",
        "0.141245704865\n",
        "7.07986132262"
       ]
      },
      {
       "output_type": "stream",
       "stream": "stdout",
       "text": [
        "\n",
        "0.141245704461\n",
        "7.0798614074\n",
        "0.14124570277\n",
        "7.07986136483\n",
        "0.141245703619\n",
        "7.07986133888\n",
        "0.141245704137\n",
        "7.07986133888\n",
        "0.141245704137\n",
        "7.07986130238\n",
        "0.141245704865\n",
        "7.07986132262\n",
        "0.141245704461\n",
        "7.0798614074\n",
        "0.14124570277\n",
        "7.07986136483\n",
        "0.141245703619\n",
        "6.15544999718\n",
        "0.162457659547\n",
        "6.15544999718\n",
        "0.162457659547\n",
        "6.15544999394\n",
        "0.162457659632\n",
        "6.15545001153\n",
        "0.162457659168\n",
        "6.15544999221"
       ]
      },
      {
       "output_type": "stream",
       "stream": "stdout",
       "text": [
        "\n",
        "0.162457659678\n",
        "6.15544999718\n",
        "0.162457659547\n",
        "3.51536105994\n",
        "0.28446580108\n",
        "3.51536105994\n",
        "0.28446580108\n",
        "3.51536105181\n",
        "0.284465801737\n",
        "3.51536105662\n",
        "0.284465801348\n",
        "3.51536105388\n",
        "0.28446580157\n",
        "3.51536105143\n",
        "0.284465801768\n",
        "3.39322546593\n",
        "0.294704849424\n",
        "3.39322546593\n",
        "0.294704849424\n",
        "3.39322547829\n",
        "0.294704848351\n",
        "3.39322547103\n",
        "0.294704848981\n",
        "3.39322545953\n",
        "0.294704849981\n",
        "3.39322545165"
       ]
      },
      {
       "output_type": "stream",
       "stream": "stdout",
       "text": [
        "\n",
        "0.294704850665\n",
        "3.55528253916\n",
        "0.281271597682\n",
        "3.55528253916\n",
        "0.281271597682\n",
        "3.55528258637\n",
        "0.281271593947\n",
        "3.55528255077\n",
        "0.281271596763\n",
        "3.55528250971\n",
        "0.281271600012\n",
        "3.55528251824\n",
        "0.281271599337\n",
        "7.07986174335\n",
        "0.141245696067\n",
        "7.07986174335\n",
        "0.141245696067\n",
        "7.07986170685\n",
        "0.141245696795\n",
        "7.07986172709\n",
        "0.141245696392\n",
        "7.07986181187\n",
        "0.1412456947\n",
        "7.07986176931\n",
        "0.14124569555\n",
        "7.07986214774"
       ]
      },
      {
       "output_type": "stream",
       "stream": "stdout",
       "text": [
        "\n",
        "0.141245688\n",
        "7.07986214774\n",
        "0.141245688\n",
        "7.07986211125\n",
        "0.141245688728\n",
        "7.07986213148\n",
        "0.141245688324\n",
        "7.07986221626\n",
        "0.141245686633\n",
        "7.0798621737\n",
        "0.141245687482\n",
        "3.56334619389\n",
        "0.280635095662\n",
        "3.56334619389\n",
        "0.280635095662\n",
        "3.56334650304\n",
        "0.280635071314\n",
        "3.5633462854\n",
        "0.280635088455\n",
        "3.56334591521\n",
        "0.28063511761\n",
        "3.56334603541\n",
        "0.280635108144\n",
        "7.07986224946\n",
        "0.14124568597\n",
        "7.07986224946"
       ]
      },
      {
       "output_type": "stream",
       "stream": "stdout",
       "text": [
        "\n",
        "0.14124568597\n",
        "7.07986221296\n",
        "0.141245686698\n",
        "7.0798622332\n",
        "0.141245686295\n",
        "7.07986231798\n",
        "0.141245684603\n",
        "7.07986227541\n",
        "0.141245685453\n",
        "7.07986235116\n",
        "0.141245683941\n",
        "7.07986235116\n",
        "0.141245683941\n",
        "7.07986231466\n",
        "0.141245684669\n",
        "7.0798623349\n",
        "0.141245684266\n",
        "7.07986241968\n",
        "0.141245682574\n",
        "7.07986237711\n",
        "0.141245683424\n",
        "3.60841737918\n",
        "0.277129803711\n",
        "3.60841737918"
       ]
      },
      {
       "output_type": "stream",
       "stream": "stdout",
       "text": [
        "\n",
        "0.277129803711\n",
        "3.60842048127\n",
        "0.277129565468\n",
        "3.60841838695\n",
        "0.277129726314\n",
        "3.60841439113\n",
        "0.277130033196\n",
        "3.60841564831\n",
        "0.277129936644\n",
        "7.07986237748\n",
        "0.141245683416\n",
        "7.07986237748\n",
        "0.141245683416\n",
        "7.07986234098\n",
        "0.141245684144\n",
        "7.07986236121\n",
        "0.141245683741\n",
        "7.07986244599\n",
        "0.141245682049\n",
        "7.07986240343\n",
        "0.141245682899\n",
        "7.07986240379\n",
        "0.141245682891\n",
        "7.07986240379\n",
        "0.141245682891\n",
        "7.07986236729"
       ]
      },
      {
       "output_type": "stream",
       "stream": "stdout",
       "text": [
        "\n",
        "0.14124568362\n",
        "7.07986238753\n",
        "0.141245683216\n",
        "7.07986247231\n",
        "0.141245681524\n",
        "7.07986242974\n",
        "0.141245682374\n",
        "3.63978407262\n",
        "0.27474157259\n",
        "3.63978407262\n",
        "0.27474157259\n",
        "3.63978776624\n",
        "0.274741293785\n",
        "3.63978515124\n",
        "0.274741491173\n",
        "3.63978050188\n",
        "0.27474184212\n",
        "3.6397822203\n",
        "0.274741712409\n",
        "7.07986241045\n",
        "0.141245682758\n",
        "7.07986241045\n",
        "0.141245682758\n",
        "7.07986237396\n",
        "0.141245683487\n",
        "7.07986239419"
       ]
      },
      {
       "output_type": "stream",
       "stream": "stdout",
       "text": [
        "\n",
        "0.141245683083\n",
        "7.07986247897\n",
        "0.141245681391\n",
        "7.07986243641\n",
        "0.141245682241\n",
        "7.07986241712\n",
        "0.141245682625\n",
        "7.07986241712\n",
        "0.141245682625\n",
        "7.07986238062\n",
        "0.141245683354\n",
        "7.07986240086\n",
        "0.14124568295\n",
        "7.07986248564\n",
        "0.141245681258\n",
        "7.07986244307\n",
        "0.141245682108\n",
        "3.65744308918\n",
        "0.273415054074\n",
        "3.65744308918\n",
        "0.273415054074\n",
        "3.65744713488\n",
        "0.273414751635\n",
        "3.657444206\n",
        "0.273414970585\n",
        "3.65743917111"
       ]
      },
      {
       "output_type": "stream",
       "stream": "stdout",
       "text": [
        "\n",
        "0.273415346973\n",
        "3.6574411713\n",
        "0.273415197446\n",
        "7.0798624188\n",
        "0.141245682592\n",
        "7.0798624188\n",
        "0.141245682592\n",
        "7.0798623823\n",
        "0.14124568332\n",
        "7.07986240254\n",
        "0.141245682916\n",
        "7.07986248732\n",
        "0.141245681225\n",
        "7.07986244475\n",
        "0.141245682074\n",
        "7.07986242047\n",
        "0.141245682558\n",
        "7.07986242047\n",
        "0.141245682558\n",
        "7.07986238398\n",
        "0.141245683287\n",
        "7.07986240421\n",
        "0.141245682883\n",
        "7.07986248899\n",
        "0.141245681191\n",
        "7.07986244643"
       ]
      },
      {
       "output_type": "stream",
       "stream": "stdout",
       "text": [
        "\n",
        "0.141245682041\n",
        "7.07999136573\n",
        "0.141243110103\n",
        "7.07999136573\n",
        "0.141243110103\n",
        "7.0799913292\n",
        "0.141243110832\n",
        "7.07999134946\n",
        "0.141243110428\n",
        "7.07999143429\n",
        "0.141243108736\n",
        "7.07999139169\n",
        "0.141243109585\n",
        "7.07999136615\n",
        "0.141243110095\n",
        "7.07999136615\n",
        "0.141243110095\n",
        "7.07999132962\n",
        "0.141243110824\n",
        "7.07999134988\n",
        "0.141243110419\n",
        "7.0799914347\n",
        "0.141243108727\n",
        "7.07999139211\n",
        "0.141243109577\n",
        "3.32998444526"
       ]
      },
      {
       "output_type": "stream",
       "stream": "stdout",
       "text": [
        "\n",
        "0.300301703038\n",
        "3.32998444526\n",
        "0.300301703038\n",
        "3.32998441714\n",
        "0.300301705573\n",
        "3.32998444692\n",
        "0.300301702888\n",
        "3.32998445106\n",
        "0.300301702515\n",
        "3.32998442676\n",
        "0.300301704706\n",
        "3.53603154044\n",
        "0.282802907317\n",
        "3.53603154044\n",
        "0.282802907317\n",
        "3.53603158274\n",
        "0.282802903934\n",
        "3.53603155132\n",
        "0.282802906446\n",
        "3.53603151465\n",
        "0.28280290938\n",
        "3.53603152026\n",
        "0.282802908931\n",
        "7.07989182172\n",
        "0.141245095996\n",
        "7.07989182172"
       ]
      },
      {
       "output_type": "stream",
       "stream": "stdout",
       "text": [
        "\n",
        "0.141245095996\n",
        "7.07989178522\n",
        "0.141245096724\n",
        "7.07989180546\n",
        "0.14124509632\n",
        "7.07989189025\n",
        "0.141245094629\n",
        "7.07989184768\n",
        "0.141245095478\n",
        "7.07992226104\n",
        "0.141244488729\n",
        "7.07992226104\n",
        "0.141244488729\n",
        "7.07992222453\n",
        "0.141244489457\n",
        "7.07992224478\n",
        "0.141244489053\n",
        "7.07992232958\n",
        "0.141244487361\n",
        "7.079922287\n",
        "0.141244488211\n",
        "3.54670198461\n",
        "0.28195207952\n",
        "3.54670198461\n",
        "0.28195207952\n",
        "3.5467020296"
       ]
      },
      {
       "output_type": "stream",
       "stream": "stdout",
       "text": [
        "\n",
        "0.281952075944\n",
        "3.5467019959\n",
        "0.281952078623\n",
        "3.54670195683\n",
        "0.281952081729\n",
        "3.54670196402\n",
        "0.281952081157\n",
        "7.07992990123\n",
        "0.141244336307\n",
        "7.07992990123\n",
        "0.141244336307\n",
        "7.07992986471\n",
        "0.141244337036\n",
        "7.07992988496\n",
        "0.141244336632\n",
        "7.07992996977\n",
        "0.14124433494\n",
        "7.07992992718\n",
        "0.141244335789\n",
        "7.07993753542\n",
        "0.141244184005\n",
        "7.07993753542\n",
        "0.141244184005\n",
        "7.07993749891\n",
        "0.141244184734\n",
        "7.07993751916"
       ]
      },
      {
       "output_type": "stream",
       "stream": "stdout",
       "text": [
        "\n",
        "0.14124418433\n",
        "7.07993760397\n",
        "0.141244182638\n",
        "7.07993756138\n",
        "0.141244183487\n",
        "3.55228359086\n",
        "0.281509055913\n",
        "3.55228359086\n",
        "0.281509055913\n",
        "3.55228363729\n",
        "0.281509052234\n",
        "3.55228360236\n",
        "0.281509055002\n",
        "3.552283562\n",
        "0.2815090582\n",
        "3.55228357006\n",
        "0.281509057562\n",
        "7.07993944778\n",
        "0.141244145854\n",
        "7.07993944778\n",
        "0.141244145854\n",
        "7.07993941126\n",
        "0.141244146583\n",
        "7.07993943151\n",
        "0.141244146179\n",
        "7.07993951632"
       ]
      },
      {
       "output_type": "stream",
       "stream": "stdout",
       "text": [
        "\n",
        "0.141244144487\n",
        "7.07993947373\n",
        "0.141244145336\n",
        "7.07994135934\n",
        "0.141244107719\n",
        "7.07994135934\n",
        "0.141244107719\n",
        "7.07994132283\n",
        "0.141244108447\n",
        "7.07994134308\n",
        "0.141244108043\n",
        "7.07994142789\n",
        "0.141244106351\n",
        "7.0799413853\n",
        "0.141244107201\n",
        "3.55513929375\n",
        "0.281282930814\n",
        "3.55513929375\n",
        "0.281282930814\n",
        "3.55513934092\n",
        "0.281282927083\n",
        "3.55513930535\n",
        "0.281282929897\n",
        "3.55513926434\n",
        "0.281282933142\n",
        "3.55513927284"
       ]
      },
      {
       "output_type": "stream",
       "stream": "stdout",
       "text": [
        "\n",
        "0.281282932469\n",
        "7.07994183771\n",
        "0.141244098175\n",
        "7.07994183771\n",
        "0.141244098175\n",
        "7.07994180119\n",
        "0.141244098904\n",
        "7.07994182145\n",
        "0.1412440985\n",
        "7.07994190625\n",
        "0.141244096808\n",
        "7.07994186367\n",
        "0.141244097657\n",
        "7.07994231598\n",
        "0.141244088634\n",
        "7.07994231598\n",
        "0.141244088634\n",
        "7.07994227946\n",
        "0.141244089362\n",
        "7.07994229971\n",
        "0.141244088958\n",
        "7.07994238452\n",
        "0.141244087266\n",
        "7.07994234194\n",
        "0.141244088116\n",
        "3.56237107306"
       ]
      },
      {
       "output_type": "stream",
       "stream": "stdout",
       "text": [
        "\n",
        "0.280711913355\n",
        "3.56237107306\n",
        "0.280711913355\n",
        "3.5623713801\n",
        "0.280711889161\n",
        "3.56237116421\n",
        "0.280711906173\n",
        "3.5623707964\n",
        "0.280711935156\n",
        "3.56237091516\n",
        "0.280711925798\n",
        "7.07994243622\n",
        "0.141244086235\n",
        "7.07994243622\n",
        "0.141244086235\n",
        "7.07994239971\n",
        "0.141244086963\n",
        "7.07994241996\n",
        "0.141244086559\n",
        "7.07994250477\n",
        "0.141244084867\n",
        "7.07994246218\n",
        "0.141244085717\n",
        "7.07994255646\n",
        "0.141244083836\n",
        "7.07994255646"
       ]
      },
      {
       "output_type": "stream",
       "stream": "stdout",
       "text": [
        "\n",
        "0.141244083836\n",
        "7.07994251994\n",
        "0.141244084565\n",
        "7.07994254019\n",
        "0.141244084161\n",
        "7.079942625\n",
        "0.141244082469\n",
        "7.07994258242\n",
        "0.141244083318\n",
        "3.60122969482\n",
        "0.277682926318\n",
        "3.60122969482\n",
        "0.277682926318\n",
        "3.60123263955\n",
        "0.277682699257\n",
        "3.60123067633\n",
        "0.277682850636\n",
        "3.60122686132\n",
        "0.277683144803\n",
        "3.60122800894\n",
        "0.277683056312\n",
        "7.07994258745\n",
        "0.141244083218\n",
        "7.07994258745\n",
        "0.141244083218\n",
        "7.07994255094"
       ]
      },
      {
       "output_type": "stream",
       "stream": "stdout",
       "text": [
        "\n",
        "0.141244083946\n",
        "7.07994257119\n",
        "0.141244083542\n",
        "7.079942656\n",
        "0.14124408185\n",
        "7.07994261341\n",
        "0.1412440827\n",
        "7.07994261845\n",
        "0.141244082599\n",
        "7.07994261845\n",
        "0.141244082599\n",
        "7.07994258193\n",
        "0.141244083328\n",
        "7.07994260219\n",
        "0.141244082924\n",
        "7.07994268699\n",
        "0.141244081232\n",
        "7.07994264441\n",
        "0.141244082082\n",
        "3.63288913563\n",
        "0.275263010421\n",
        "3.63288913563\n",
        "0.275263010421\n",
        "3.63289267733"
       ]
      },
      {
       "output_type": "stream",
       "stream": "stdout",
       "text": [
        "\n",
        "0.275262742068\n",
        "3.63289019352\n",
        "0.275262930266\n",
        "3.63288571446\n",
        "0.275263269642\n",
        "3.63288731884\n",
        "0.275263148079\n"
       ]
      },
      {
       "metadata": {},
       "output_type": "pyout",
       "prompt_number": 78,
       "text": [
        "(array([ 0.10082988,  0.39876702,  1.745565  ,  0.22319289]),\n",
        " 0.27526301042139517,\n",
        " {'funcalls': 90,\n",
        "  'grad': array([ 0.07281461,  0.03244168, -0.13669671, -0.05177834]),\n",
        "  'nit': 8,\n",
        "  'task': b'ABNORMAL_TERMINATION_IN_LNSRCH',\n",
        "  'warnflag': 2})"
       ]
      }
     ],
     "prompt_number": 78
    },
    {
     "cell_type": "code",
     "collapsed": false,
     "input": [
      "def translate(psi,delta):\n",
      "    psi = psi*180/pi\n",
      "    delta = delta*180/pi\n",
      "    return psi, delta\n",
      "translate(-1.72185039, -1.57079632679)"
     ],
     "language": "python",
     "metadata": {},
     "outputs": [
      {
       "metadata": {},
       "output_type": "pyout",
       "prompt_number": 55,
       "text": [
        "(-98.6547602999548, -89.99999999971946)"
       ]
      }
     ],
     "prompt_number": 55
    },
    {
     "cell_type": "markdown",
     "metadata": {},
     "source": [
      "Test_1_ [ 0.62474371, -1.45401152, -0.59426028,  1.76220768]"
     ]
    },
    {
     "cell_type": "code",
     "collapsed": false,
     "input": [
      "translate(-0.59426028,0.340453803463)"
     ],
     "language": "python",
     "metadata": {},
     "outputs": [
      {
       "metadata": {},
       "output_type": "pyout",
       "prompt_number": 63,
       "text": [
        "(-34.048605976262564, 19.506566057606314)"
       ]
      }
     ],
     "prompt_number": 63
    },
    {
     "cell_type": "code",
     "collapsed": false,
     "input": [
      "translate(0.62474371,0.101935628366)"
     ],
     "language": "python",
     "metadata": {},
     "outputs": [
      {
       "metadata": {},
       "output_type": "pyout",
       "prompt_number": 64,
       "text": [
        "(35.79517786034504, 5.840481287385836)"
       ]
      }
     ],
     "prompt_number": 64
    },
    {
     "cell_type": "markdown",
     "metadata": {},
     "source": [
      "Newer"
     ]
    },
    {
     "cell_type": "code",
     "collapsed": false,
     "input": [
      "translate(1.5695103,1.01828190734)"
     ],
     "language": "python",
     "metadata": {},
     "outputs": [
      {
       "metadata": {},
       "output_type": "pyout",
       "prompt_number": 31,
       "text": [
        "(89.92631609231168, 58.343255645113565)"
       ]
      }
     ],
     "prompt_number": 31
    },
    {
     "cell_type": "markdown",
     "metadata": {},
     "source": [
      "Test_2 array([ 1.24894128,  1.1499534 , -0.91295678, -0.29651299]"
     ]
    },
    {
     "cell_type": "code",
     "collapsed": false,
     "input": [
      "translate(-0.91295678,-0.0632559391956)"
     ],
     "language": "python",
     "metadata": {},
     "outputs": [
      {
       "metadata": {},
       "output_type": "pyout",
       "prompt_number": 56,
       "text": [
        "(-52.30857037185361, -3.62429834504404)"
       ]
      }
     ],
     "prompt_number": 56
    },
    {
     "cell_type": "code",
     "collapsed": false,
     "input": [
      "translate(1.24894128,1.46618242436)"
     ],
     "language": "python",
     "metadata": {},
     "outputs": [
      {
       "metadata": {},
       "output_type": "pyout",
       "prompt_number": 57,
       "text": [
        "(71.55906420366681, 84.00606491208704)"
       ]
      }
     ],
     "prompt_number": 57
    },
    {
     "cell_type": "markdown",
     "metadata": {},
     "source": [
      "Test_3 0.98706237,  1.62030835, -2.1832077 ,  1.66514916"
     ]
    },
    {
     "cell_type": "code",
     "collapsed": false,
     "input": [
      "translate(-2.1832077,-1.48561500354)"
     ],
     "language": "python",
     "metadata": {},
     "outputs": [
      {
       "metadata": {},
       "output_type": "pyout",
       "prompt_number": 68,
       "text": [
        "(-125.08858701046358, -85.11946968415486)"
       ]
      }
     ],
     "prompt_number": 68
    },
    {
     "cell_type": "code",
     "collapsed": false,
     "input": [
      "translate(0.98706237,1.57079632679)"
     ],
     "language": "python",
     "metadata": {},
     "outputs": [
      {
       "metadata": {},
       "output_type": "pyout",
       "prompt_number": 69,
       "text": [
        "(56.55450791718048, 89.99999999971946)"
       ]
      }
     ],
     "prompt_number": 69
    },
    {
     "cell_type": "markdown",
     "metadata": {},
     "source": [
      "Test 4 1.55591296,  0.69757098, -1.03195823,  0.92841114  mostly phase mod"
     ]
    },
    {
     "cell_type": "code",
     "collapsed": false,
     "input": [
      "translate(-1.03195823,-0.119412392471)"
     ],
     "language": "python",
     "metadata": {},
     "outputs": [
      {
       "metadata": {},
       "output_type": "pyout",
       "prompt_number": 82,
       "text": [
        "(-59.126851212790704, -6.841826110148068)"
       ]
      }
     ],
     "prompt_number": 82
    },
    {
     "cell_type": "code",
     "collapsed": false,
     "input": [
      "translate(1.55591296,1.56269898748)"
     ],
     "language": "python",
     "metadata": {},
     "outputs": [
      {
       "metadata": {},
       "output_type": "pyout",
       "prompt_number": 83,
       "text": [
        "(89.14724589770728, 89.53605663197106)"
       ]
      }
     ],
     "prompt_number": 83
    },
    {
     "cell_type": "markdown",
     "metadata": {},
     "source": [
      "Test 5 1.58678031,  0.25164943, -0.56901399,  0.3455077 "
     ]
    },
    {
     "cell_type": "code",
     "collapsed": false,
     "input": [
      "translate(-0.56901399,0.105597522058)"
     ],
     "language": "python",
     "metadata": {},
     "outputs": [
      {
       "metadata": {},
       "output_type": "pyout",
       "prompt_number": 90,
       "text": [
        "(-32.60210011089923, 6.050292340963015)"
       ]
      }
     ],
     "prompt_number": 90
    },
    {
     "cell_type": "code",
     "collapsed": false,
     "input": [
      "translate(1.58678031,1.42281020012)"
     ],
     "language": "python",
     "metadata": {},
     "outputs": [
      {
       "metadata": {},
       "output_type": "pyout",
       "prompt_number": 91,
       "text": [
        "(90.91581477746041, 81.52101951504005)"
       ]
      }
     ],
     "prompt_number": 91
    },
    {
     "cell_type": "code",
     "collapsed": false,
     "input": [],
     "language": "python",
     "metadata": {},
     "outputs": []
    }
   ],
   "metadata": {}
  }
 ]
}