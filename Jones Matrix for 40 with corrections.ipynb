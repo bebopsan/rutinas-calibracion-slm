{
 "metadata": {
  "name": ""
 },
 "nbformat": 3,
 "nbformat_minor": 0,
 "worksheets": [
  {
   "cells": [
    {
     "cell_type": "heading",
     "level": 1,
     "metadata": {},
     "source": [
      "Scripts para la construcci\u00f3n de la matriz de Jones usando las medidas experimentales"
     ]
    },
    {
     "cell_type": "markdown",
     "metadata": {},
     "source": [
      "Importaci\u00f3n de librerias y carga de archivos. "
     ]
    },
    {
     "cell_type": "code",
     "collapsed": false,
     "input": [
      "from sympy import symbols, Matrix\n",
      "from numpy import loadtxt, zeros, matrix, exp, pi, sqrt, sign\n",
      "from scipy.optimize import minimize\n",
      "import matplotlib.gridspec as gridspec\n",
      "from pylab import *\n",
      "pylab inline\n",
      "\n",
      "I_exp = {}\n",
      "I = {}\n",
      "for i in range(1,41):\n",
      "   # image = \"Imagen{0}_amp\".format(i)\n",
      "    image = \"Imagen{0}_amp\".format(i)\n",
      "    I_exp[i] = loadtxt(image)    \n",
      "    I[i] = zeros(52)\n",
      "#for i in range(21,31):\n",
      "#    image = \"Imagen{0}_amp\".format(i)\n",
      "#    I_exp[i+20] = loadtxt(image)    \n",
      "#    I[i+20] = zeros(52)\n",
      "    \n",
      "#I_exp[41] =  loadtxt(\"In21_amp\")\n",
      "#I[41] = zeros(52)\n",
      "#I_exp[42] =  \n",
      "(\"In22_amp\")\n",
      "#I[42] = zeros(52)\n",
      "I_exp_2 = I_exp"
     ],
     "language": "python",
     "metadata": {},
     "outputs": [
      {
       "ename": "SyntaxError",
       "evalue": "invalid syntax (<ipython-input-2-2fd40241c27d>, line 6)",
       "output_type": "pyerr",
       "traceback": [
        "\u001b[0;36m  File \u001b[0;32m\"<ipython-input-2-2fd40241c27d>\"\u001b[0;36m, line \u001b[0;32m6\u001b[0m\n\u001b[0;31m    pylab inline\u001b[0m\n\u001b[0m               ^\u001b[0m\n\u001b[0;31mSyntaxError\u001b[0m\u001b[0;31m:\u001b[0m invalid syntax\n"
       ]
      }
     ],
     "prompt_number": 2
    },
    {
     "cell_type": "heading",
     "level": 2,
     "metadata": {},
     "source": [
      "Normalizaci\u00f3n"
     ]
    },
    {
     "cell_type": "markdown",
     "metadata": {},
     "source": [
      "En este punto suceden dos cosas, primero realizo una normalizaci\u00f3n por pares.  \n",
      "Asumiendo que cada medida esta antecedida por su estado ortogonal, lo que hago es:\n",
      "$$I_i = \\frac{I_i^{exp}}{I_i^{exp}+I_{i+1}^{exp}}$$"
     ]
    },
    {
     "cell_type": "code",
     "collapsed": false,
     "input": [
      "# Averaging of intensities\n",
      "for i in range(1,40,2):\n",
      "    for g in range(I_exp[i].shape[0]):\n",
      "        I[i][g] = I_exp[i][g,1]/(I_exp[i][g,1]+I_exp[i+1][g,1])\n",
      "        I[i+1][g] = I_exp[i+1][g,1]/(I_exp[i][g,1]+I_exp[i+1][g,1])"
     ],
     "language": "python",
     "metadata": {},
     "outputs": [
      {
       "ename": "KeyError",
       "evalue": "1",
       "output_type": "pyerr",
       "traceback": [
        "\u001b[0;31m---------------------------------------------------------------------------\u001b[0m\n\u001b[0;31mKeyError\u001b[0m                                  Traceback (most recent call last)",
        "\u001b[0;32m<ipython-input-3-7bc4a65979c2>\u001b[0m in \u001b[0;36m<module>\u001b[0;34m()\u001b[0m\n\u001b[1;32m      1\u001b[0m \u001b[0;31m# Averaging of intensities\u001b[0m\u001b[0;34m\u001b[0m\u001b[0;34m\u001b[0m\u001b[0m\n\u001b[1;32m      2\u001b[0m \u001b[0;32mfor\u001b[0m \u001b[0mi\u001b[0m \u001b[0;32min\u001b[0m \u001b[0mrange\u001b[0m\u001b[0;34m(\u001b[0m\u001b[0;36m1\u001b[0m\u001b[0;34m,\u001b[0m\u001b[0;36m40\u001b[0m\u001b[0;34m,\u001b[0m\u001b[0;36m2\u001b[0m\u001b[0;34m)\u001b[0m\u001b[0;34m:\u001b[0m\u001b[0;34m\u001b[0m\u001b[0m\n\u001b[0;32m----> 3\u001b[0;31m     \u001b[0;32mfor\u001b[0m \u001b[0mg\u001b[0m \u001b[0;32min\u001b[0m \u001b[0mrange\u001b[0m\u001b[0;34m(\u001b[0m\u001b[0mI_exp\u001b[0m\u001b[0;34m[\u001b[0m\u001b[0mi\u001b[0m\u001b[0;34m]\u001b[0m\u001b[0;34m.\u001b[0m\u001b[0mshape\u001b[0m\u001b[0;34m[\u001b[0m\u001b[0;36m0\u001b[0m\u001b[0;34m]\u001b[0m\u001b[0;34m)\u001b[0m\u001b[0;34m:\u001b[0m\u001b[0;34m\u001b[0m\u001b[0m\n\u001b[0m\u001b[1;32m      4\u001b[0m         \u001b[0mI\u001b[0m\u001b[0;34m[\u001b[0m\u001b[0mi\u001b[0m\u001b[0;34m]\u001b[0m\u001b[0;34m[\u001b[0m\u001b[0mg\u001b[0m\u001b[0;34m]\u001b[0m \u001b[0;34m=\u001b[0m \u001b[0mI_exp\u001b[0m\u001b[0;34m[\u001b[0m\u001b[0mi\u001b[0m\u001b[0;34m]\u001b[0m\u001b[0;34m[\u001b[0m\u001b[0mg\u001b[0m\u001b[0;34m,\u001b[0m\u001b[0;36m1\u001b[0m\u001b[0;34m]\u001b[0m\u001b[0;34m/\u001b[0m\u001b[0;34m(\u001b[0m\u001b[0mI_exp\u001b[0m\u001b[0;34m[\u001b[0m\u001b[0mi\u001b[0m\u001b[0;34m]\u001b[0m\u001b[0;34m[\u001b[0m\u001b[0mg\u001b[0m\u001b[0;34m,\u001b[0m\u001b[0;36m1\u001b[0m\u001b[0;34m]\u001b[0m\u001b[0;34m+\u001b[0m\u001b[0mI_exp\u001b[0m\u001b[0;34m[\u001b[0m\u001b[0mi\u001b[0m\u001b[0;34m+\u001b[0m\u001b[0;36m1\u001b[0m\u001b[0;34m]\u001b[0m\u001b[0;34m[\u001b[0m\u001b[0mg\u001b[0m\u001b[0;34m,\u001b[0m\u001b[0;36m1\u001b[0m\u001b[0;34m]\u001b[0m\u001b[0;34m)\u001b[0m\u001b[0;34m\u001b[0m\u001b[0m\n\u001b[1;32m      5\u001b[0m         \u001b[0mI\u001b[0m\u001b[0;34m[\u001b[0m\u001b[0mi\u001b[0m\u001b[0;34m+\u001b[0m\u001b[0;36m1\u001b[0m\u001b[0;34m]\u001b[0m\u001b[0;34m[\u001b[0m\u001b[0mg\u001b[0m\u001b[0;34m]\u001b[0m \u001b[0;34m=\u001b[0m \u001b[0mI_exp\u001b[0m\u001b[0;34m[\u001b[0m\u001b[0mi\u001b[0m\u001b[0;34m+\u001b[0m\u001b[0;36m1\u001b[0m\u001b[0;34m]\u001b[0m\u001b[0;34m[\u001b[0m\u001b[0mg\u001b[0m\u001b[0;34m,\u001b[0m\u001b[0;36m1\u001b[0m\u001b[0;34m]\u001b[0m\u001b[0;34m/\u001b[0m\u001b[0;34m(\u001b[0m\u001b[0mI_exp\u001b[0m\u001b[0;34m[\u001b[0m\u001b[0mi\u001b[0m\u001b[0;34m]\u001b[0m\u001b[0;34m[\u001b[0m\u001b[0mg\u001b[0m\u001b[0;34m,\u001b[0m\u001b[0;36m1\u001b[0m\u001b[0;34m]\u001b[0m\u001b[0;34m+\u001b[0m\u001b[0mI_exp\u001b[0m\u001b[0;34m[\u001b[0m\u001b[0mi\u001b[0m\u001b[0;34m+\u001b[0m\u001b[0;36m1\u001b[0m\u001b[0;34m]\u001b[0m\u001b[0;34m[\u001b[0m\u001b[0mg\u001b[0m\u001b[0;34m,\u001b[0m\u001b[0;36m1\u001b[0m\u001b[0;34m]\u001b[0m\u001b[0;34m)\u001b[0m\u001b[0;34m\u001b[0m\u001b[0m\n",
        "\u001b[0;31mKeyError\u001b[0m: 1"
       ]
      }
     ],
     "prompt_number": 3
    },
    {
     "cell_type": "markdown",
     "metadata": {},
     "source": [
      "Graficaci\u00f3n de las curvas de indensidad normalizadas"
     ]
    },
    {
     "cell_type": "code",
     "collapsed": false,
     "input": [
      "fig = figure()\n",
      "for i in range(1,41):\n",
      "    plot(I[i],label='I{0}'.format(i))\n",
      "plot(I[5]+I[6],label='I{0}'.format(i))\n",
      "\n",
      "fig2 = figure()\n"
     ],
     "language": "python",
     "metadata": {},
     "outputs": [
      {
       "ename": "KeyError",
       "evalue": "1",
       "output_type": "pyerr",
       "traceback": [
        "\u001b[0;31m---------------------------------------------------------------------------\u001b[0m\n\u001b[0;31mKeyError\u001b[0m                                  Traceback (most recent call last)",
        "\u001b[0;32m<ipython-input-4-fef174da9678>\u001b[0m in \u001b[0;36m<module>\u001b[0;34m()\u001b[0m\n\u001b[1;32m      1\u001b[0m \u001b[0mfig\u001b[0m \u001b[0;34m=\u001b[0m \u001b[0mfigure\u001b[0m\u001b[0;34m(\u001b[0m\u001b[0;34m)\u001b[0m\u001b[0;34m\u001b[0m\u001b[0m\n\u001b[1;32m      2\u001b[0m \u001b[0;32mfor\u001b[0m \u001b[0mi\u001b[0m \u001b[0;32min\u001b[0m \u001b[0mrange\u001b[0m\u001b[0;34m(\u001b[0m\u001b[0;36m1\u001b[0m\u001b[0;34m,\u001b[0m\u001b[0;36m41\u001b[0m\u001b[0;34m)\u001b[0m\u001b[0;34m:\u001b[0m\u001b[0;34m\u001b[0m\u001b[0m\n\u001b[0;32m----> 3\u001b[0;31m     \u001b[0mplot\u001b[0m\u001b[0;34m(\u001b[0m\u001b[0mI\u001b[0m\u001b[0;34m[\u001b[0m\u001b[0mi\u001b[0m\u001b[0;34m]\u001b[0m\u001b[0;34m,\u001b[0m\u001b[0mlabel\u001b[0m\u001b[0;34m=\u001b[0m\u001b[0;34m'I{0}'\u001b[0m\u001b[0;34m.\u001b[0m\u001b[0mformat\u001b[0m\u001b[0;34m(\u001b[0m\u001b[0mi\u001b[0m\u001b[0;34m)\u001b[0m\u001b[0;34m)\u001b[0m\u001b[0;34m\u001b[0m\u001b[0m\n\u001b[0m\u001b[1;32m      4\u001b[0m \u001b[0mplot\u001b[0m\u001b[0;34m(\u001b[0m\u001b[0mI\u001b[0m\u001b[0;34m[\u001b[0m\u001b[0;36m5\u001b[0m\u001b[0;34m]\u001b[0m\u001b[0;34m+\u001b[0m\u001b[0mI\u001b[0m\u001b[0;34m[\u001b[0m\u001b[0;36m6\u001b[0m\u001b[0;34m]\u001b[0m\u001b[0;34m,\u001b[0m\u001b[0mlabel\u001b[0m\u001b[0;34m=\u001b[0m\u001b[0;34m'I{0}'\u001b[0m\u001b[0;34m.\u001b[0m\u001b[0mformat\u001b[0m\u001b[0;34m(\u001b[0m\u001b[0mi\u001b[0m\u001b[0;34m)\u001b[0m\u001b[0;34m)\u001b[0m\u001b[0;34m\u001b[0m\u001b[0m\n\u001b[1;32m      5\u001b[0m \u001b[0;34m\u001b[0m\u001b[0m\n",
        "\u001b[0;31mKeyError\u001b[0m: 1"
       ]
      },
      {
       "metadata": {},
       "output_type": "display_data",
       "text": [
        "<matplotlib.figure.Figure at 0x105c82cd0>"
       ]
      }
     ],
     "prompt_number": 4
    },
    {
     "cell_type": "code",
     "collapsed": false,
     "input": [
      "for i in range(1,40,2):\n",
      "    plot(I[i]+I[i+1],label='I{0}'.format(i))\n",
      "    \n",
      "show()"
     ],
     "language": "python",
     "metadata": {},
     "outputs": [
      {
       "metadata": {},
       "output_type": "display_data",
       "png": "[encoded data removed]",
       "text": [
        "<matplotlib.figure.Figure at 0x112637890>"
       ]
      }
     ],
     "prompt_number": 5
    },
    {
     "cell_type": "markdown",
     "metadata": {},
     "source": [
      "Estas son las curvas equivalentes a las curvas de intensidad que se usan para caracterizar el modulador en el art\u00edculo de Moreno."
     ]
    },
    {
     "cell_type": "code",
     "collapsed": false,
     "input": [
      "#fig = figure()\n",
      "#plot(I[1],label='I1')\n",
      "#plot(I[2],label='I2')\n",
      "#plot(I[4],label='I3')\n",
      "#plot(I[42],label='I4')\n",
      "#plot(I[21],label='I5')\n",
      "#plot(I[22],label='I6')\n",
      "#plot(I[5],label='I7')\n",
      "#plot(I[6],label='I7p')\n",
      "#legend(bbox_to_anchor=(1.05, 1), loc=2, borderaxespad=0.)\n",
      "#display(fig)"
     ],
     "language": "python",
     "metadata": {},
     "outputs": [],
     "prompt_number": 6
    },
    {
     "cell_type": "heading",
     "level": 2,
     "metadata": {},
     "source": [
      "Definici\u00f3n de X, Y, Z y W"
     ]
    },
    {
     "cell_type": "markdown",
     "metadata": {},
     "source": [
      "Siguiendo las f\u00f3rmulas que se exponen en el art\u00edculo de Moreno y Velazques  \n",
      "encuentro los valores de X, Y, Z, y W, y sus signos."
     ]
    },
    {
     "cell_type": "code",
     "collapsed": false,
     "input": [
      "X = zeros(52)\n",
      "Y = zeros(52)\n",
      "Z = zeros(52)\n",
      "W = zeros(52)\n",
      "\n",
      "#for i in range(3,43,2):\n",
      "#    delta = I[i][0]-I[i+1][0]\n",
      "#   I[i] = I[i]- delta/2\n",
      "#    I[i+1] = I[i+1] + delta/2\n",
      "#for g in range(I[1].shape[0]):\n",
      "#    X[g] = sqrt( I[1][g]/(1+( (I[5][g]-I[22][g])/(I[4][g]-I[42][g]) )**2) )\n",
      "#    Y[g] = sqrt( I[1][g]/(1+( (I[4][g]-I[42][g])/(I[5][g]-I[22][g]) )**2) )\n",
      "#    Z[g] = sqrt( I[2][g]/(1+( (I[4][g]-I[42][g])/(I[21][g]-I[5][g]) )**2) )\n",
      "#    W[g] = sqrt( I[2][g]/(1+( (I[21][g]-I[5][g])/(I[4][g]-I[42][g]) )**2) )\n",
      "    \n",
      "#    sign_Z = sign(I[21][g]-I[5][g])/sign(X[g])\n",
      "#    if sign(Z[g]) != sign_Z:\n",
      "#        Z[g] = Z[g]*-1\n",
      "#    sign_W = sign(I[4][g]-I[42][g])/sign(X[g])\n",
      "#    if sign(W[g]) != sign_W:\n",
      "#       W[g] = W[g]*-1\n",
      "#    sign_Y = sign(I[5][g]-I[22][g])/sign(X[g])\n",
      "#    if sign(Z[g]) != sign_Y:\n",
      "#        Y[g] = Y[g]*-1   \n",
      "    "
     ],
     "language": "python",
     "metadata": {},
     "outputs": [],
     "prompt_number": 7
    },
    {
     "cell_type": "markdown",
     "metadata": {},
     "source": [
      "Graficas de X, Y, Z y W:"
     ]
    },
    {
     "cell_type": "code",
     "collapsed": false,
     "input": [
      "## figure()\n",
      "## plot(X,label='X,76,34')\n",
      "## plot(Y,label='Y,34,76')\n",
      "## plot(Z,label='Z, 34,57')\n",
      "## plot(W,label='W, 57,34')\n",
      "## grid()\n",
      "## legend()"
     ],
     "language": "python",
     "metadata": {},
     "outputs": [],
     "prompt_number": 8
    },
    {
     "cell_type": "heading",
     "level": 2,
     "metadata": {},
     "source": [
      "Matriz de Jones del modulador"
     ]
    },
    {
     "cell_type": "markdown",
     "metadata": {},
     "source": [
      "Definici\u00f3n de Brakets siguiendo la formulaci\u00f3n de vectores de Jones.\n"
     ]
    },
    {
     "cell_type": "code",
     "collapsed": false,
     "input": [
      "I_exp = I\n",
      "def intensity(bra,ket):\n",
      "    In  = matrix([[cos(ket[0])],[sin(ket[0])*exp(ket[1]*1j)]])\n",
      "    Out = matrix([[cos(bra[0])],[sin(bra[0])*exp(bra[1]*1j)]])\n",
      "    return In, Out\n",
      "brakets = {1:intensity([ 0,   0],     [0,0]),\\\n",
      "           2:intensity([ pi/2,0],     [0,0]),\\\n",
      "           3:intensity([ pi/4,pi/2],  [0,0]),\\\n",
      "           4:intensity([ pi/4,-pi/2],  [0,0]),\\\n",
      "           5:intensity([ pi/4, 0],    [0,0]),\\\n",
      "           6:intensity([-pi/4, 0],    [0,0]),\\\n",
      "           7:intensity([ 3*pi/8, pi/2],  [0,0]),\\\n",
      "           8:intensity([pi/8,-pi/2],[0,0]),\\\n",
      "           9:intensity([ pi/4, pi/4],   [0,0]),\\\n",
      "           10:intensity([3*pi/4, pi/4],[0,0]),\\\n",
      "           11:intensity([ 0,   0],     [pi/2,0]),\\\n",
      "           12:intensity([ pi/2,0],     [pi/2,0]),\\\n",
      "           13:intensity([ pi/4,pi/2],  [pi/2,0]),\\\n",
      "           14:intensity([ pi/4,-pi/2],  [pi/2,0]),\\\n",
      "           15:intensity([ pi/4, 0],    [pi/2,0]),\\\n",
      "           16:intensity([-pi/4, 0],    [pi/2,0]),\\\n",
      "           17:intensity([ 3*pi/8, pi/2],  [pi/2,0]),\\\n",
      "           18:intensity([ pi/8, -pi/2],[pi/2,0]),\\\n",
      "           19:intensity([ pi/4, pi/4],   [pi/2,0]),\\\n",
      "           20:intensity([3*pi/4, pi/4],   [pi/2,0]),\\\n",
      "           21:intensity([ 0,   0],     [pi/4,0]),\\\n",
      "           22:intensity([ pi/2,0],     [pi/4,0]),\\\n",
      "           23:intensity([ pi/4,pi/2],  [pi/4,0]),\\\n",
      "           24:intensity([ pi/4,-pi/2],  [pi/4,0]),\\\n",
      "           25:intensity([ pi/4, 0],    [pi/4,0]),\\\n",
      "           26:intensity([-pi/4, 0],    [pi/4,0]),\\\n",
      "           27:intensity([3*pi/8, pi/2],  [pi/4,0]),\\\n",
      "           28:intensity([pi/8, -pi/2],[pi/4,0]),\\\n",
      "           29:intensity([pi/4, pi/4],   [pi/4,0]),\\\n",
      "           30:intensity([3*pi/4, pi/4],[pi/4,0]),\\\n",
      "           31:intensity([ 0,   0],     [-pi/4,0]),\\\n",
      "           32:intensity([ pi/2,0],     [-pi/4,0]),\\\n",
      "           33:intensity([ pi/4,pi/2],  [-pi/4,0]),\\\n",
      "           34:intensity([ pi/4,-pi/2],  [-pi/4,0]),\\\n",
      "           35:intensity([ pi/4, 0],    [-pi/4,0]),\\\n",
      "           36:intensity([-pi/4, 0],    [-pi/4,0]),\\\n",
      "           37:intensity([3*pi/8, pi/2],  [-pi/4,0]),\\\n",
      "           38:intensity([pi/8, -pi/2],[-pi/4,0]),\\\n",
      "           39:intensity([pi/4, pi/4],   [-pi/4,0]),\\\n",
      "           40:intensity([3*pi/4, pi/4],[-pi/4,0]),\\\n",
      "\t       42:intensity([ 0,   0],     [pi/4,pi/2]),\\\n",
      "\t       41:intensity([ pi/2,   0],     [pi/4,pi/2]),\\\n",
      "\t       43:intensity([ pi/4, pi/2],     [pi/4,pi/2]),\\\n",
      "\t       44:intensity([ pi/4, -pi/2],     [pi/4,pi/2]),\\\n",
      "\t       45:intensity([ -pi/4, 0],     [pi/4,pi/2]),\\\n",
      "\t       46:intensity([ pi/4, 0],     [pi/4,pi/2])}"
     ],
     "language": "python",
     "metadata": {},
     "outputs": [],
     "prompt_number": 9
    },
    {
     "cell_type": "markdown",
     "metadata": {},
     "source": [
      "Definici\u00f3n de una funci\u00f3n a minimizar. Esta funci\u00f3n calcula las diferencias cuadradas  \n",
      "entre las medidas experimentales y las intensidades resultantes de operar con los  \n",
      "vectores de Jones:"
     ]
    },
    {
     "cell_type": "code",
     "collapsed": false,
     "input": [
      "def min_sq(x0,I_exp,g,brakets):\n",
      "    \"\"\" Calculates squared differences for a minimization procedure.\n",
      "\n",
      "    Given the experimental meassures of intensity and arbitrary values for \n",
      "    the parameters of an SLM Jones Matrix, this function gives a value to\n",
      "    minimize. That value tells how close is the estimation of x, y, z, w \n",
      "    to the value that correctly models the SLM.\n",
      "\n",
      "    :param x,y,z,w: Are a guess of real scalars that conform the Joung Matrix for the SLM.\n",
      "    :param I_exp: Is a dictionary contanining intensities for every polarization state.\n",
      "    :param g: Is the gray level of the SLM for which we are solving.\n",
      "    \"\"\"\n",
      "    [x,y,z,w] = x0\n",
      "    \n",
      "    #w = w*sign(I_exp[4][g]-I_exp[42][g])\n",
      "    #if w!=0:\n",
      "    #    y = y*sign(I_exp[5][g]-I_exp[22][g])*sign(w)\n",
      "    #z = z*sign(I_exp[21][g]-I_exp[5][g])\n",
      "    \n",
      "    \n",
      "    M = matrix([[ x - y*1j, z-w*1j],\\\n",
      "                [-z - w*1j, x+y*1j]])\n",
      "    min_sum = 0\n",
      "    I_sim = {}\n",
      "    for i in range(1,41):\n",
      "        #if i%2 !=0:\n",
      "\t#if i in [1,2,5,6,11,12,15,16,21,22,25,26,31,32,36,35]:\n",
      "        #if i in [1,2,3,4,5,6,11,12,13,14,15,16,21,22,23,24,25,26,31,32,33,34,35,36]:\n",
      "        #if i in range(11,21):\n",
      "        if i not in []:\n",
      "            In, Out = brakets[i]\n",
      "            I_sim[i] = (In.H*M.H*Out * Out.H*M*In)\n",
      "            min_sum += ((I_sim[i]-I_exp[i][g])**2)[0,0].real\n",
      "            #min_sum += (sqrt(abs(I_sim[i]**2-I_exp[i][g]**2)))[0,0].realqq\n",
      "    \n",
      "    return min_sum\n",
      "    "
     ],
     "language": "python",
     "metadata": {},
     "outputs": [],
     "prompt_number": 10
    },
    {
     "cell_type": "markdown",
     "metadata": {},
     "source": [
      "Si probamos con unos valores iniciales cualquiera debe devolver un n\u00famero escalar:"
     ]
    },
    {
     "cell_type": "code",
     "collapsed": false,
     "input": [
      "min_sq([ .9,  .2,  0 , 0],I_exp,0, brakets)"
     ],
     "language": "python",
     "metadata": {},
     "outputs": [
      {
       "metadata": {},
       "output_type": "pyout",
       "prompt_number": 11,
       "text": [
        "0.52072770769966281"
       ]
      }
     ],
     "prompt_number": 11
    },
    {
     "cell_type": "markdown",
     "metadata": {},
     "source": [
      "Minimizaci\u00f3n con restricci\u00f3nes de caja. El m\u00e9todo que mejor hace la minimizaci\u00f3n es el SLSQP:"
     ]
    },
    {
     "cell_type": "code",
     "collapsed": false,
     "input": [
      "M = {}\n",
      "bnds = ((-1, 1), (-1, 1),(-1, 1), (-1, 1))\n",
      "cons = ({'type': 'eq', 'fun': lambda x:  x[0]**2+x[1]**2+x[2]**2+x[3]**2 - 1})\n",
      "from scipy.optimize import fmin_l_bfgs_b\n",
      "x,y,z,w = [ .5,-.5,-.5,-.5]\n",
      "for g in range(51,-1,-1):\n",
      "    #res = minimize(min_sq,[ X[g],  Y[g],  Z[g], W[g]], args = (I_exp,g),method = 'SLSQP',bounds =bnds,constraints=cons)\n",
      "    #res = minimize(min_sq,[ x,  y,  z, w], args = (I_exp,g,brakets),method = 'SLSQP',bounds =bnds,constraints=cons)\n",
      "    #res = minimize(min_sq,[ .1,  .1,  .1 , -.1], args = (I_exp,g,brakets),method = 'Nelder-Mead')        \n",
      "    #res = minimize(min_sq,[ 0.9,  .5,  .5, .5], args = (I_exp,g),method = 'COBYLA',bounds =bnds, options={ 'disp': True})\n",
      "    res = fmin_l_bfgs_b(min_sq,[ x,y,z,w],fprime=None,approx_grad=1, args = (I_exp,g,brakets),pgtol=1e-05,bounds =bnds)\n",
      "    x,y,z,w = res[0]\n",
      "    M[g] = matrix([[ x - y*1j, z-w*1j],\\\n",
      "                   [-z - w*1j, x+y*1j]])\n",
      "    print(res[0])"
     ],
     "language": "python",
     "metadata": {},
     "outputs": [
      {
       "output_type": "stream",
       "stream": "stdout",
       "text": [
        "[ 0.13060049 -0.20159232 -0.94314196 -0.06530867]\n",
        "[ 0.18252862 -0.22956658 -0.92505399 -0.07125362]"
       ]
      },
      {
       "output_type": "stream",
       "stream": "stdout",
       "text": [
        "\n",
        "[ 0.23972715 -0.25749104 -0.90153064 -0.07650471]"
       ]
      },
      {
       "output_type": "stream",
       "stream": "stdout",
       "text": [
        "\n",
        "[ 0.30035683 -0.28226453 -0.8728417  -0.08104976]"
       ]
      },
      {
       "output_type": "stream",
       "stream": "stdout",
       "text": [
        "\n",
        "[ 0.3626648  -0.3044794  -0.83896283 -0.08317274]"
       ]
      },
      {
       "output_type": "stream",
       "stream": "stdout",
       "text": [
        "\n",
        "[ 0.42437321 -0.32216306 -0.80070163 -0.08491135]"
       ]
      },
      {
       "output_type": "stream",
       "stream": "stdout",
       "text": [
        "\n",
        "[ 0.48361809 -0.33619415 -0.75880827 -0.08527718]"
       ]
      },
      {
       "output_type": "stream",
       "stream": "stdout",
       "text": [
        "\n",
        "[ 0.54001332 -0.34474503 -0.71432986 -0.08643438]"
       ]
      },
      {
       "output_type": "stream",
       "stream": "stdout",
       "text": [
        "\n",
        "[ 0.59745441 -0.34918437 -0.66381286 -0.08703291]"
       ]
      },
      {
       "output_type": "stream",
       "stream": "stdout",
       "text": [
        "\n",
        "[ 0.6454605  -0.34958738 -0.61650668 -0.08569953]"
       ]
      },
      {
       "output_type": "stream",
       "stream": "stdout",
       "text": [
        "\n",
        "[ 0.69523314 -0.34596711 -0.56145478 -0.08560038]"
       ]
      },
      {
       "output_type": "stream",
       "stream": "stdout",
       "text": [
        "\n",
        "[ 0.73604257 -0.33881217 -0.51154465 -0.08651251]"
       ]
      },
      {
       "output_type": "stream",
       "stream": "stdout",
       "text": [
        "\n",
        "[ 0.77615132 -0.32658132 -0.45798815 -0.08624782]"
       ]
      },
      {
       "output_type": "stream",
       "stream": "stdout",
       "text": [
        "\n",
        "[ 0.8097972  -0.31211344 -0.40787167 -0.08602002]"
       ]
      },
      {
       "output_type": "stream",
       "stream": "stdout",
       "text": [
        "\n",
        "[ 0.83815549 -0.295881   -0.36155345 -0.08632618]"
       ]
      },
      {
       "output_type": "stream",
       "stream": "stdout",
       "text": [
        "\n",
        "[ 0.86323504 -0.27772958 -0.31664611 -0.0874449 ]"
       ]
      },
      {
       "output_type": "stream",
       "stream": "stdout",
       "text": [
        "\n",
        "[ 0.88607145 -0.25591616 -0.27155919 -0.08875586]"
       ]
      },
      {
       "output_type": "stream",
       "stream": "stdout",
       "text": [
        "\n",
        "[ 0.90361007 -0.23564909 -0.23329088 -0.08970501]"
       ]
      },
      {
       "output_type": "stream",
       "stream": "stdout",
       "text": [
        "\n",
        "[ 0.91904809 -0.21405726 -0.19634491 -0.09158247]"
       ]
      },
      {
       "output_type": "stream",
       "stream": "stdout",
       "text": [
        "\n",
        "[ 0.93205766 -0.19154392 -0.162141   -0.09296543]"
       ]
      },
      {
       "output_type": "stream",
       "stream": "stdout",
       "text": [
        "\n",
        "[ 0.94231033 -0.17060449 -0.13164835 -0.09412787]"
       ]
      },
      {
       "output_type": "stream",
       "stream": "stdout",
       "text": [
        "\n",
        "[ 0.95030741 -0.15153684 -0.10549052 -0.09538029]"
       ]
      },
      {
       "output_type": "stream",
       "stream": "stdout",
       "text": [
        "\n",
        "[ 0.95684211 -0.13271382 -0.08138812 -0.09691709]"
       ]
      },
      {
       "output_type": "stream",
       "stream": "stdout",
       "text": [
        "\n",
        "[ 0.96243627 -0.11263211 -0.05855548 -0.09809631]"
       ]
      },
      {
       "output_type": "stream",
       "stream": "stdout",
       "text": [
        "\n",
        "[ 0.96665961 -0.09508791 -0.03960009 -0.09871375]"
       ]
      },
      {
       "output_type": "stream",
       "stream": "stdout",
       "text": [
        "\n",
        "[ 0.96989484 -0.07909949 -0.02186075 -0.09944588]"
       ]
      },
      {
       "output_type": "stream",
       "stream": "stdout",
       "text": [
        "\n",
        "[ 0.9724102  -0.06444079 -0.00600266 -0.10064887]"
       ]
      },
      {
       "output_type": "stream",
       "stream": "stdout",
       "text": [
        "\n",
        "[ 0.97439868 -0.05024432  0.00762102 -0.10097727]"
       ]
      },
      {
       "output_type": "stream",
       "stream": "stdout",
       "text": [
        "\n",
        "[ 0.97591703 -0.03747306  0.02024265 -0.10124107]"
       ]
      },
      {
       "output_type": "stream",
       "stream": "stdout",
       "text": [
        "\n",
        "[ 0.9769729  -0.02573483  0.03168755 -0.10190692]"
       ]
      },
      {
       "output_type": "stream",
       "stream": "stdout",
       "text": [
        "\n",
        "[ 0.97774333 -0.01556093  0.04129742 -0.1022983 ]"
       ]
      },
      {
       "output_type": "stream",
       "stream": "stdout",
       "text": [
        "\n",
        "[ 0.9783061  -0.00538211  0.04999428 -0.10255194]"
       ]
      },
      {
       "output_type": "stream",
       "stream": "stdout",
       "text": [
        "\n",
        "[ 0.97868989  0.00463532  0.05867491 -0.10269402]"
       ]
      },
      {
       "output_type": "stream",
       "stream": "stdout",
       "text": [
        "\n",
        "[ 0.97880601  0.01267622  0.06581241 -0.10300341]"
       ]
      },
      {
       "output_type": "stream",
       "stream": "stdout",
       "text": [
        "\n",
        "[ 0.97891617  0.02053917  0.07215368 -0.10307006]"
       ]
      },
      {
       "output_type": "stream",
       "stream": "stdout",
       "text": [
        "\n",
        "[ 0.97890351  0.02828534  0.0784813  -0.10324556]"
       ]
      },
      {
       "output_type": "stream",
       "stream": "stdout",
       "text": [
        "\n",
        "[ 0.97880796  0.03489256  0.08364505 -0.10326931]"
       ]
      },
      {
       "output_type": "stream",
       "stream": "stdout",
       "text": [
        "\n",
        "[ 0.97869783  0.04137325  0.08844213 -0.10327125]"
       ]
      },
      {
       "output_type": "stream",
       "stream": "stdout",
       "text": [
        "\n",
        "[ 0.9785304   0.04705887  0.09279468 -0.10347931]"
       ]
      },
      {
       "output_type": "stream",
       "stream": "stdout",
       "text": [
        "\n",
        "[ 0.97833606  0.05234597  0.09675543 -0.10346505]"
       ]
      },
      {
       "output_type": "stream",
       "stream": "stdout",
       "text": [
        "\n",
        "[ 0.9781235   0.05697263  0.10017553 -0.10361623]"
       ]
      },
      {
       "output_type": "stream",
       "stream": "stdout",
       "text": [
        "\n",
        "[ 0.97792337  0.06158655  0.10329619 -0.10381845]"
       ]
      },
      {
       "output_type": "stream",
       "stream": "stdout",
       "text": [
        "\n",
        "[ 0.97767094  0.06580481  0.10611833 -0.10396619]"
       ]
      },
      {
       "output_type": "stream",
       "stream": "stdout",
       "text": [
        "\n",
        "[ 0.97737686  0.0700778   0.10905455 -0.10402115]"
       ]
      },
      {
       "output_type": "stream",
       "stream": "stdout",
       "text": [
        "\n",
        "[ 0.97717745  0.07348585  0.11122322 -0.10405825]"
       ]
      },
      {
       "output_type": "stream",
       "stream": "stdout",
       "text": [
        "\n",
        "[ 0.97695248  0.07694899  0.11344463 -0.10396644]"
       ]
      },
      {
       "output_type": "stream",
       "stream": "stdout",
       "text": [
        "\n",
        "[ 0.9767052   0.07995272  0.11542293 -0.10410508]"
       ]
      },
      {
       "output_type": "stream",
       "stream": "stdout",
       "text": [
        "\n",
        "[ 0.97650505  0.08299597  0.11707714 -0.10420224]"
       ]
      },
      {
       "output_type": "stream",
       "stream": "stdout",
       "text": [
        "\n",
        "[ 0.9762708   0.0856113   0.11876019 -0.10435754]"
       ]
      },
      {
       "output_type": "stream",
       "stream": "stdout",
       "text": [
        "\n",
        "[ 0.97606623  0.08809576  0.12027547 -0.10418773]"
       ]
      },
      {
       "output_type": "stream",
       "stream": "stdout",
       "text": [
        "\n",
        "[ 0.97585757  0.09007445  0.12179731 -0.10428179]"
       ]
      },
      {
       "output_type": "stream",
       "stream": "stdout",
       "text": [
        "\n",
        "[ 0.97566576  0.09244155  0.1227918  -0.10438074]"
       ]
      },
      {
       "output_type": "stream",
       "stream": "stdout",
       "text": [
        "\n"
       ]
      }
     ],
     "prompt_number": 12
    },
    {
     "cell_type": "markdown",
     "metadata": {},
     "source": [
      "Figura que compara las intensidades normalizadas experimentales en verde con las intensidades  \n",
      "normalizadas producidas por los vectores de Jones definidos antes entrando y saliendo de la matriz  \n",
      "que resulta de la caracterizaci\u00f3n."
     ]
    },
    {
     "cell_type": "code",
     "collapsed": false,
     "input": [
      "#%pylab inline \n",
      "\n",
      "fig = figure()\n",
      "gs1 = gridspec.GridSpec(8, 6)\n",
      "axes = []\n",
      "for i in range(8):\n",
      "    for j in range(6):\n",
      "        #if i+j!=6:\n",
      "        axes.append(fig.add_subplot(gs1[i,j]))\n",
      "        \n",
      "for i in range(1,41,2):\n",
      "    In1, Out1 = brakets[i]\n",
      "    In2, Out2 = brakets[i+1]\n",
      "    \n",
      "    I_test1 = zeros(52)\n",
      "    I_test2 = zeros(52)\n",
      "    \n",
      "    for g in range(52):\n",
      "        I_test1[g] = (In1.H*M[g].H*Out1 * Out1.H*M[g]*In1)[0,0].real/\\\n",
      "        ((In2.H*M[g].H*Out2 * Out2.H*M[g]*In2)[0,0].real+(In1.H*M[g].H*Out1 * Out1.H*M[g]*In1)[0,0].real)\n",
      "        I_test2[g] = (In2.H*M[g].H*Out2 * Out2.H*M[g]*In2)[0,0].real/\\\n",
      "        ((In2.H*M[g].H*Out2 * Out2.H*M[g]*In2)[0,0].real+(In1.H*M[g].H*Out1 * Out1.H*M[g]*In1)[0,0].real)\n",
      "        \n",
      "    n = '8'+str(g)\n",
      "    axes[i-1].plot(I_test1, label = 'It')\n",
      "    axes[i-1].plot(I_exp[i], label = 'Ie')\n",
      "    axes[i-1].set_title('$I_{'+str(i)+'}$')\n",
      "    axes[i-1].set_ylim(0, 1)\n",
      "    axes[i].set_ylim(0, 1)\n",
      "    axes[i].plot(I_test2, label = 'It')\n",
      "    axes[i].plot(I_exp[i+1], label = 'Ie')\n",
      "    axes[i].set_title('$I_{'+str(i+1)+'}$')\n",
      "show()"
     ],
     "language": "python",
     "metadata": {},
     "outputs": [
      {
       "metadata": {},
       "output_type": "display_data",
       "png": "[encoded data removed]",
       "text": [
        "<matplotlib.figure.Figure at 0x115c50290>"
       ]
      }
     ],
     "prompt_number": 13
    },
    {
     "cell_type": "markdown",
     "metadata": {},
     "source": [
      "Extracci\u00f3n de los par\u00e1metros X, Y, Z, y W extra\u00eddos por la minimizaci\u00f3n:"
     ]
    },
    {
     "cell_type": "code",
     "collapsed": false,
     "input": [
      "for g in range(52):\n",
      "     X[g] = M[g][0,0].real\n",
      "     Y[g] = -M[g][0,0].imag\n",
      "     Z[g] = M[g][0,1].real\n",
      "     W[g] = -M[g][0,1].imag\n",
      "        "
     ],
     "language": "python",
     "metadata": {},
     "outputs": [],
     "prompt_number": 14
    },
    {
     "cell_type": "markdown",
     "metadata": {},
     "source": [
      "Gr\u00e1fica de X, Y, Z, y W"
     ]
    },
    {
     "cell_type": "code",
     "collapsed": false,
     "input": [
      "f = figure()\n",
      "ax = f.gca()\n",
      "plot(X,label='X,76,34')\n",
      "plot(Y,label='Y,34,76')\n",
      "plot(Z,label='Z, 34,57')\n",
      "plot(W,label='W, 57,34')\n",
      "grid()\n",
      "# Shink current axis by 20%\n",
      "box = ax.get_position()\n",
      "ax.set_position([box.x0, box.y0, box.width * 0.8, box.height])\n",
      "legend(bbox_to_anchor=(1.01, 1), loc=2)\n",
      "show()"
     ],
     "language": "python",
     "metadata": {},
     "outputs": [
      {
       "metadata": {},
       "output_type": "display_data",
       "png": "[encoded data removed]",
       "text": [
        "<matplotlib.figure.Figure at 0x1153b0990>"
       ]
      }
     ],
     "prompt_number": 15
    },
    {
     "cell_type": "markdown",
     "metadata": {},
     "source": [
      "Figura que compara las intensidades experimentales en verde con las intensidades  \n",
      "producidas por los vectores de Jones definidos antes entrando y saliendo de la matriz  \n",
      "que resulta de la caracterizaci\u00f3n."
     ]
    },
    {
     "cell_type": "raw",
     "metadata": {},
     "source": [
      "fig = figure()\n",
      "gs1 = gridspec.GridSpec(8, 6)\n",
      "axes = []\n",
      "for i in range(8):\n",
      "    for j in range(6):\n",
      "        #if i+j!=6:\n",
      "        axes.append(fig.add_subplot(gs1[i,j]))\n",
      "        \n",
      "for i in range(1,46,2):\n",
      "    In1, Out1 = brakets[i]\n",
      "    In2, Out2 = brakets[i+1]\n",
      "    \n",
      "    I_test1 = zeros(52)\n",
      "    I_test2 = zeros(52)\n",
      "    \n",
      "    for g in range(52):\n",
      "        I_test1[g] = (In1.H*M[g].H*Out1 * Out1.H*M[g]*In1)[0,0].real\n",
      "        I_test2[g] = (In2.H*M[g].H*Out2 * Out2.H*M[g]*In2)[0,0].real\n",
      "        \n",
      "    n = '8'+str(g)\n",
      "    axes[i-1].plot(I_test1, label = 'It')\n",
      "    axes[i-1].plot(I_exp_2[i][:,1], label = 'Ie')\n",
      "    axes[i-1].set_title('$I_{'+str(i)+'}$')\n",
      "    axes[i-1].set_ylim(0, 1)\n",
      "    axes[i].plot(I_test2, label = 'It')\n",
      "    axes[i].plot(I_exp_2[i+1][:,1], label = 'Ie')\n",
      "    axes[i].set_title('$I_{'+str(i+1)+'}$')\n",
      "    axes[i].set_ylim(0, 1)"
     ]
    },
    {
     "cell_type": "heading",
     "level": 2,
     "metadata": {},
     "source": [
      "B\u00fasqueda de una combinaci\u00f3n de estados de polarizaci\u00f3n que generen modulaci\u00f3n s\u00f3lo de fase"
     ]
    },
    {
     "cell_type": "markdown",
     "metadata": {},
     "source": [
      "Script para encontrar la fase vs nivel de gris introducida por la matriz de Jones del modulador. Estoy probando una forma alternativa en la cual no hago uso de la funci\u00f3n \"arctan\" para obtener la fase introducida por la matriz de Jones antes de encontrar el par\u00e1metro beta.  \n",
      "En vez de eso estoy extrayendo el \u00e1ngulo del valor que se produce cuando el ket es multiplicado por la matriz M."
     ]
    },
    {
     "cell_type": "code",
     "collapsed": false,
     "input": [
      "from numpy import arctan,arctan2, info\n",
      "\n",
      "phi = zeros(52)\n",
      "\n",
      "## Secci\u00f3n que sigue lo usado por I. Moreno, d\u00f3nde a partir de una formula \n",
      "## y las variables X,Y,Z,w del modulador se extrae la fase.\n",
      "\n",
      "#chi1 = 0#pi/4#0.3490658503988659#-0.43307956358421984#0.2181361052344816\n",
      "#chi2 = 0#pi/4#0.3490658503988659#0.59291218452902072#0.63376524318875027\n",
      "#for i in range(0,52):\n",
      "#    phi[i] = arctan((Y[i]*cos(chi1+chi2)+W[i]*sin(chi1+chi2))/  \\\n",
      "#\t\t            (X[i]*cos(chi1-chi2)+Z[i]*sin(chi1+chi2)))\n",
      "fig1 = figure()   \n",
      "for i in range(11,21):\n",
      "    \n",
      "    In, Out =brakets[i]\n",
      "    \n",
      "    for g in range(52):\n",
      "        ket2 = Out.H*M[g]*In\n",
      "        phi[g] = angle(ket2)\n",
      "        if g>0 and phi[g]-phi[g-1]>pi:\n",
      "               phi[g] =phi[g]-2*pi\n",
      "        elif g>0 and phi[g]-phi[g-1] <- pi:\n",
      "               phi[g] =phi[g]+2*pi\n",
      "    \n",
      "             \n",
      "    #phi = phi - phi[0]\n",
      "    plot(phi,color = 'r')\n",
      "    image = loadtxt(\"Imagen{0}_fase\".format(i))\n",
      "    #image = loadtxt('If1-52_fase')#\"Im{0}_fase\".format(i))\n",
      "    plot(image[::,1],color = 'b')\n",
      "    beta = image[::,1]-phi\n",
      "    plot(beta,color = 'g')\n",
      "show()"
     ],
     "language": "python",
     "metadata": {},
     "outputs": [
      {
       "metadata": {},
       "output_type": "display_data",
       "png": "[encoded data removed]",
       "text": [
        "<matplotlib.figure.Figure at 0x10e3735d0>"
       ]
      }
     ],
     "prompt_number": 60
    },
    {
     "cell_type": "code",
     "collapsed": false,
     "input": [
      "def measure_best_modulation(x0, Jones_matrix, beta, a, b):\n",
      "    \"\"\" Function for finding a configuration where phase modulation \n",
      "    is maximum and intensity variation is a minimum\n",
      "    \n",
      "    x0: Are the variables that we will vary s a list that includes \n",
      "        the parameters for input and output of the braket.\n",
      "        \n",
      "    Jones_matrix: Is the matrix that we obtained by doing the \n",
      "                characterization of the SLM.\n",
      "    \n",
      "    beta: Is the global phase by gray level that the SLM introduces.\n",
      "    \n",
      "    a, b: Are weights used to give more or less priority to a state where \n",
      "          flatness of the intensity curve is prioritized or range of phase\n",
      "          modulation is.\n",
      "    \"\"\"\n",
      "\n",
      "    chi2,phi2,chi1,phi1 = x0\n",
      "    from numpy import arctan2\n",
      "    def intensity(bra,ket):\n",
      "        In  = matrix([[cos(ket[0])],[sin(ket[0])*exp(ket[1]*1j)]])\n",
      "        Out = matrix([[cos(bra[0])],[sin(bra[0])*exp(bra[1]*1j)]])\n",
      "        return In, Out\n",
      "    \n",
      "    In, Out =intensity([ chi2,   -phi2],     [chi1,phi1])\n",
      "    \n",
      "    phi_t = zeros(52)\n",
      "    I = zeros(52)\n",
      "    cambio = 0\n",
      "    for g in range(52):\n",
      "        ket2 = Out.H*exp(1j*beta[g])*M[g]*In # Beta was negative.\n",
      "        I[g] = (ket2.H*ket2)[0,0].real\n",
      "        phi_t[g] = arctan2(ket2.imag,ket2.real)\n",
      "    #plot(phi_t)\n",
      "    for g in range(52):\n",
      "        if g>0 and  phi_t[g] - phi_t[g-1] > pi-0.1:\n",
      "            phi_t[g:] = phi_t[g:]-2*pi\n",
      "        if g>0 and  phi_t[g] - phi_t[g-1] < -pi+0.1:\n",
      "            phi_t[g:] = phi_t[g:]+2*pi\n",
      "    \n",
      "    phi_t = phi_t - phi_t[0]\n",
      "    \n",
      "    p = (max(I)-min(I))/average(I)\n",
      "    q = max(phi_t)-min(phi_t)\n",
      "    plot(phi_t)\n",
      "    return p**a/q**b \n",
      "\n",
      "bnds = ((-pi/1, pi/1), (-pi, pi),(-pi/1, pi/1), (-pi/1, pi/1))\n",
      "#bnds = ((-pi, pi),(-pi, pi), (-pi/2, pi/2))\n",
      "\n",
      "from scipy.optimize import fmin_l_bfgs_b\n",
      "res = fmin_l_bfgs_b(measure_best_modulation,[ pi/8,0,pi/8,0],\\\n",
      "                    fprime=None,approx_grad=1,  args = (M,beta,0,2), pgtol=1e-05,bounds =bnds)\n",
      "\n",
      "#res = minimize(measure_modulation,[ .5,  0.5,  0.5, 0.5], args = (M,),method = 'SLSQP',bounds =bnds)\n",
      "#res = minimize(measure_flatness,[ 0,  0,  0, 0], args = (M,),)   \n",
      "chi2,phi2,chi1,phi1 = res[0]\n",
      "\n",
      "res\n",
      "    \n",
      "    "
     ],
     "language": "python",
     "metadata": {},
     "outputs": [
      {
       "metadata": {},
       "output_type": "pyout",
       "prompt_number": 61,
       "text": [
        "(array([-1.72972225,  2.65604766,  3.14038035,  3.14159265]),\n",
        " 0.084868437694939361,\n",
        " {'funcalls': 96,\n",
        "  'grad': array([-0.15375579, -0.02848488,  0.00549627, -0.0002823 ]),\n",
        "  'nit': 9,\n",
        "  'task': b'ABNORMAL_TERMINATION_IN_LNSRCH',\n",
        "  'warnflag': 2})"
       ]
      },
      {
       "metadata": {},
       "output_type": "display_data",
       "png": "[encoded data removed]",
       "text": [
        "<matplotlib.figure.Figure at 0x10ebb6290>"
       ]
      }
     ],
     "prompt_number": 61
    },
    {
     "cell_type": "code",
     "collapsed": false,
     "input": [
      "chi2,phi2,chi1,phi1 = res[0]\n",
      "#chi2,phi2,chi1,phi1 = [pi/4,pi/2,0,0]\n",
      "In, Out =intensity([ chi2, phi2],     [chi1,phi1])\n",
      "print(In, Out)\n",
      "phi1 = zeros(52)\n",
      "phi2 = zeros(52)\n",
      "phi_t = zeros(52)\n",
      "I = zeros(52)\n",
      "for g in range(52):\n",
      "    #*exp(1j*-beta[g])\n",
      "    ket2 = Out.H*exp(1j*beta[g])*M[g]*In\n",
      "    #print(ket2)\n",
      "    I[g] = (ket2.H*ket2)[0,0].real\n",
      "    phi_t[g] = arctan2(ket2.imag,ket2.real)\n",
      "#for g in range(52):\n",
      "    #print('g',g,'phi_t[g] - phi_t[g-1]',phi_t[g] - phi_t[g-1])\n",
      "    #print('phi_t[g]',phi_t[g],'phi_t[g-1]', phi_t[g-1])\n",
      "    \n",
      "    #if g>1 and  phi_t[g] - phi_t[g-1] > pi:\n",
      "    #    phi_t[g:] = phi_t[g:]-2*pi\n",
      "    #if g>1 and  phi_t[g] - phi_t[g-1] < -pi:\n",
      "    #    phi_t[g:] = phi_t[g:]+2*pi\n",
      "figure()\n",
      "phi_t = phi_t - phi_t[0]\n",
      "plot(phi_t)\n",
      "figure()\n",
      "plot(I)\n",
      "abs(max(phi_t)-min(phi_t))\n",
      "show()"
     ],
     "language": "python",
     "metadata": {},
     "outputs": [
      {
       "output_type": "stream",
       "stream": "stdout",
       "text": [
        "[[-0.99999927 +0.00000000e+00j]\n",
        " [-0.00121230 +1.48463855e-19j]] [[-0.15825776+0.j        ]\n",
        " [ 0.87327512-0.46080912j]]\n"
       ]
      },
      {
       "metadata": {},
       "output_type": "display_data",
       "png": "[encoded data removed]",
       "text": [
        "<matplotlib.figure.Figure at 0x10e21e610>"
       ]
      },
      {
       "metadata": {},
       "output_type": "display_data",
       "png": "[encoded data removed]",
       "text": [
        "<matplotlib.figure.Figure at 0x10971fc90>"
       ]
      }
     ],
     "prompt_number": 62
    },
    {
     "cell_type": "code",
     "collapsed": false,
     "input": [
      "phi_t\n"
     ],
     "language": "python",
     "metadata": {},
     "outputs": [
      {
       "metadata": {},
       "output_type": "pyout",
       "prompt_number": 63,
       "text": [
        "array([ 0.        ,  0.0177696 ,  0.02107998,  0.03812331,  0.03153689,\n",
        "        0.12349679,  0.06966599,  0.08491551,  0.09400007,  0.09154985,\n",
        "        0.12183933,  0.1250116 ,  0.17683068,  0.15426473,  0.19510001,\n",
        "        0.18288106,  0.20865273,  0.20358186,  0.20186644,  0.21571886,\n",
        "        0.19687108,  0.19384337,  0.20199854,  0.18005149,  0.15573751,\n",
        "        0.13527161,  0.09638532,  0.06085833, -0.02261972, -0.11778587,\n",
        "       -0.24836714, -0.41212241, -0.62712115, -0.87759871, -1.09196979,\n",
        "       -1.33353429, -1.49749962, -1.63288796, -1.7144927 , -1.78555637,\n",
        "       -1.89025104, -1.93320342, -2.00274333, -2.05138523, -2.06901843,\n",
        "       -2.15584335, -2.15468228, -2.25255856, -2.32948058, -2.3624655 ,\n",
        "       -2.42232201, -2.50258608])"
       ]
      }
     ],
     "prompt_number": 63
    },
    {
     "cell_type": "code",
     "collapsed": false,
     "input": [
      "plot(phi_t)\n",
      "show()"
     ],
     "language": "python",
     "metadata": {},
     "outputs": [
      {
       "metadata": {},
       "output_type": "display_data",
       "png": "[encoded data removed]",
       "text": [
        "<matplotlib.figure.Figure at 0x10ddc7c10>"
       ]
      }
     ],
     "prompt_number": 64
    },
    {
     "cell_type": "code",
     "collapsed": false,
     "input": [
      "phi_t[-5]-phi_t[-6]"
     ],
     "language": "python",
     "metadata": {},
     "outputs": [
      {
       "metadata": {},
       "output_type": "pyout",
       "prompt_number": 65,
       "text": [
        "-0.09787628021125494"
       ]
      }
     ],
     "prompt_number": 65
    },
    {
     "cell_type": "code",
     "collapsed": false,
     "input": [
      "deg2rad(20)"
     ],
     "language": "python",
     "metadata": {},
     "outputs": [
      {
       "metadata": {},
       "output_type": "pyout",
       "prompt_number": 66,
       "text": [
        "0.3490658503988659"
       ]
      }
     ],
     "prompt_number": 66
    },
    {
     "cell_type": "code",
     "collapsed": false,
     "input": [
      "plot(phi_t[::-1])\n",
      "show()"
     ],
     "language": "python",
     "metadata": {},
     "outputs": [
      {
       "metadata": {},
       "output_type": "display_data",
       "png": "[encoded data removed]",
       "text": [
        "<matplotlib.figure.Figure at 0x10e1e0510>"
       ]
      }
     ],
     "prompt_number": 67
    },
    {
     "cell_type": "raw",
     "metadata": {},
     "source": [
      "La funci\u00f3n que esta comentntado debajo hace un barrido dobre muchos estados de entrada y salida hasta llegar a una combinaci\u00f3n que sea relativamente buena. Lo coment\u00e9 porque no es muy bueno."
     ]
    },
    {
     "cell_type": "raw",
     "metadata": {},
     "source": [
      "def get_optimal_state(Jones_matrix):\n",
      "    \"\"\" Function for finding a configuration where the amplitude\n",
      "    is not modulated\"\"\"\n",
      "    def intensity(bra,ket):\n",
      "        In  = matrix([[cos(ket[0])],[sin(ket[0])*exp(ket[1]*1j)]])\n",
      "        Out = matrix([[cos(bra[0])],[sin(bra[0])*exp(bra[1]*1j)]])\n",
      "        return In, Out\n",
      "    \n",
      "    optimal = {'chi1':0,'chi2':0,'theta1':0,'theta2':0,'value':0 }\n",
      "    for chi1 in linspace(0,pi,20):\n",
      "        for chi2 in linspace(0,pi,20):\n",
      "            for theta1 in linspace(0,pi,10):\n",
      "                for theta2 in linspace(0,pi,10):\n",
      "                    I_sim = zeros(52)\n",
      "                    for g in range(52):\n",
      "                        In,Out = intensity([chi2,theta2],[chi1,theta1])\n",
      "                        I_sim[g] = (In.H*M[g].H*Out * Out.H*M[g]*In)[0,0].real\n",
      "                    p = (max(I_sim)-min(I_sim))/average(I_sim)\n",
      "                    if 1/p >  optimal['value']:\n",
      "                        optimal = {'chi1':chi1,'chi2':chi2,'theta1':theta1,'theta2':theta2,'value':p }\n",
      "    return optimal\n",
      "optimal = get_optimal_state(M)\n"
     ]
    },
    {
     "cell_type": "markdown",
     "metadata": {},
     "source": [
      "Funci\u00f3n que s\u00f3lo optimiza para que la intensidad "
     ]
    },
    {
     "cell_type": "code",
     "collapsed": false,
     "input": [
      "def measure_flatness(x0,Jones_matrix):\n",
      "    \"\"\" Function for finding a configuration where the amplitude\n",
      "    is not modulated\"\"\"\n",
      "    chi2,phi2,chi1,phi1 = x0\n",
      "    def intensity(bra,ket):\n",
      "        In  = matrix([[cos(ket[0])],[sin(ket[0])*exp(ket[1]*1j)]])\n",
      "        Out = matrix([[cos(bra[0])],[sin(bra[0])*exp(bra[1]*1j)]])\n",
      "        return In, Out\n",
      "    I_sim = zeros(52)\n",
      "    for g in range(52):\n",
      "        In,Out = intensity([chi2,phi2],[chi1,phi1])\n",
      "        I_sim[g] = (In.H*M[g].H*Out * Out.H*M[g]*In)[0,0].real\n",
      "    return  (max(I_sim)-min(I_sim))/average(I_sim)\n",
      "\n",
      "bnds = ((-pi/1, pi/1), (-pi/2, pi/2),(-pi/1, pi/1), (-pi/1, pi/1))\n",
      "res = minimize(measure_flatness,[ 0,  0,  0, 0], args = (M,),method = 'SLSQP',bounds =bnds)\n",
      "#res = minimize(measure_flatness,[ 0,  0,  0, 0], args = (M,),)   \n",
      "chi2,phi2,chi1,phi1 = res.x\n",
      "res"
     ],
     "language": "python",
     "metadata": {},
     "outputs": [
      {
       "metadata": {},
       "output_type": "pyout",
       "prompt_number": 68,
       "text": [
        " success: True\n",
        "     jac: array([ 0.01201219, -0.02353548, -0.44030083,  0.00681117,  0.        ])\n",
        "    nfev: 332\n",
        "     nit: 46\n",
        "  status: 0\n",
        "    njev: 46\n",
        "       x: array([-0.45526271,  1.36567581, -0.70676554,  1.93131753])\n",
        " message: 'Optimization terminated successfully.'\n",
        "     fun: 0.011406677052540563"
       ]
      }
     ],
     "prompt_number": 68
    },
    {
     "cell_type": "code",
     "collapsed": false,
     "input": [
      "I_sim = zeros(52)\n",
      "for g in range(52):\n",
      "    In,Out = intensity([chi2,theta2],[chi1,theta1])\n",
      "    I_sim[g] = (In.H*M[g].H*Out * Out.H*M[g]*In)[0,0].real\n",
      "figure()\n",
      "plot(I_sim)\n",
      "ylim((0,1))"
     ],
     "language": "python",
     "metadata": {},
     "outputs": [
      {
       "ename": "NameError",
       "evalue": "name 'theta2' is not defined",
       "output_type": "pyerr",
       "traceback": [
        "\u001b[0;31m---------------------------------------------------------------------------\u001b[0m\n\u001b[0;31mNameError\u001b[0m                                 Traceback (most recent call last)",
        "\u001b[0;32m<ipython-input-69-768aaca604fe>\u001b[0m in \u001b[0;36m<module>\u001b[0;34m()\u001b[0m\n\u001b[1;32m      1\u001b[0m \u001b[0mI_sim\u001b[0m \u001b[0;34m=\u001b[0m \u001b[0mzeros\u001b[0m\u001b[0;34m(\u001b[0m\u001b[0;36m52\u001b[0m\u001b[0;34m)\u001b[0m\u001b[0;34m\u001b[0m\u001b[0m\n\u001b[1;32m      2\u001b[0m \u001b[0;32mfor\u001b[0m \u001b[0mg\u001b[0m \u001b[0;32min\u001b[0m \u001b[0mrange\u001b[0m\u001b[0;34m(\u001b[0m\u001b[0;36m52\u001b[0m\u001b[0;34m)\u001b[0m\u001b[0;34m:\u001b[0m\u001b[0;34m\u001b[0m\u001b[0m\n\u001b[0;32m----> 3\u001b[0;31m     \u001b[0mIn\u001b[0m\u001b[0;34m,\u001b[0m\u001b[0mOut\u001b[0m \u001b[0;34m=\u001b[0m \u001b[0mintensity\u001b[0m\u001b[0;34m(\u001b[0m\u001b[0;34m[\u001b[0m\u001b[0mchi2\u001b[0m\u001b[0;34m,\u001b[0m\u001b[0mtheta2\u001b[0m\u001b[0;34m]\u001b[0m\u001b[0;34m,\u001b[0m\u001b[0;34m[\u001b[0m\u001b[0mchi1\u001b[0m\u001b[0;34m,\u001b[0m\u001b[0mtheta1\u001b[0m\u001b[0;34m]\u001b[0m\u001b[0;34m)\u001b[0m\u001b[0;34m\u001b[0m\u001b[0m\n\u001b[0m\u001b[1;32m      4\u001b[0m     \u001b[0mI_sim\u001b[0m\u001b[0;34m[\u001b[0m\u001b[0mg\u001b[0m\u001b[0;34m]\u001b[0m \u001b[0;34m=\u001b[0m \u001b[0;34m(\u001b[0m\u001b[0mIn\u001b[0m\u001b[0;34m.\u001b[0m\u001b[0mH\u001b[0m\u001b[0;34m*\u001b[0m\u001b[0mM\u001b[0m\u001b[0;34m[\u001b[0m\u001b[0mg\u001b[0m\u001b[0;34m]\u001b[0m\u001b[0;34m.\u001b[0m\u001b[0mH\u001b[0m\u001b[0;34m*\u001b[0m\u001b[0mOut\u001b[0m \u001b[0;34m*\u001b[0m \u001b[0mOut\u001b[0m\u001b[0;34m.\u001b[0m\u001b[0mH\u001b[0m\u001b[0;34m*\u001b[0m\u001b[0mM\u001b[0m\u001b[0;34m[\u001b[0m\u001b[0mg\u001b[0m\u001b[0;34m]\u001b[0m\u001b[0;34m*\u001b[0m\u001b[0mIn\u001b[0m\u001b[0;34m)\u001b[0m\u001b[0;34m[\u001b[0m\u001b[0;36m0\u001b[0m\u001b[0;34m,\u001b[0m\u001b[0;36m0\u001b[0m\u001b[0;34m]\u001b[0m\u001b[0;34m.\u001b[0m\u001b[0mreal\u001b[0m\u001b[0;34m\u001b[0m\u001b[0m\n\u001b[1;32m      5\u001b[0m \u001b[0mfigure\u001b[0m\u001b[0;34m(\u001b[0m\u001b[0;34m)\u001b[0m\u001b[0;34m\u001b[0m\u001b[0m\n",
        "\u001b[0;31mNameError\u001b[0m: name 'theta2' is not defined"
       ]
      }
     ],
     "prompt_number": 69
    },
    {
     "cell_type": "code",
     "collapsed": false,
     "input": [
      "from numpy import arctan, info\n",
      "phi = zeros(52)\n",
      "#chi1 = -0.43307956358421984#0.2181361052344816\n",
      "#chi2 = 0.59291218452902072#0.63376524318875027\n",
      "for i in range(0,52):\n",
      "    phi[i] = arctan((Y[i]*cos(chi1+chi2)+W[i]*sin(chi1+chi2))/\\\n",
      "\t\t            X[i]*cos(chi1-chi2)+Z[i]*sin(chi1+chi2))\n",
      "figure()\n",
      "plot(phi)\n",
      "max(phi)-min(phi)"
     ],
     "language": "python",
     "metadata": {},
     "outputs": []
    },
    {
     "cell_type": "code",
     "collapsed": false,
     "input": [
      "def measure_modulation(x0,Jones_matrix):\n",
      "    \"\"\" Function for finding a configuration where phase modulation \n",
      "    is maximum\"\"\"\n",
      "    chi2,phi2,chi1,phi1 = x0\n",
      "    \n",
      "    def intensity(bra,ket):\n",
      "        In  = matrix([[cos(ket[0])],[sin(ket[0])*exp(ket[1]*1j)]])\n",
      "        Out = matrix([[cos(bra[0])],[sin(bra[0])*exp(bra[1]*1j)]])\n",
      "        return In, Out\n",
      "    \n",
      "    In, Out =intensity([ chi2,   phi2],     [chi1,phi1])\n",
      "    \n",
      "    phi_t = zeros(52)\n",
      "    I = zeros(52)\n",
      "    for g in range(52):\n",
      "        ket2 = Out.H*exp(1j*-beta[g])*M[g]*In\n",
      "        I[g] = (ket2.H*ket2)[0,0].real\n",
      "        phi_t[g] = (angle(ket2))\n",
      "        if g>0 and phi_t[g]-phi_t[g-1]>pi:\n",
      "           phi_t[g] =phi_t[g]-2*pi\n",
      "        elif g>0 and phi_t[g]-phi_t[g-1] <- pi:\n",
      "           phi_t[g] =phi_t[g]+2*pi\n",
      "    print(max(phi_t)-min(phi_t))\n",
      "    print(1/(max(phi_t)-min(phi_t)))\n",
      "    return  1/(max(phi_t)-min(phi_t))\n",
      "\n",
      "bnds = ((-pi/1, pi/1), (-pi, pi),(-pi/1, pi/1), (-pi/1, pi/1))\n",
      "#bnds = ((-pi, pi),(-pi, pi), (-pi/2, pi/2))\n",
      "\n",
      "from scipy.optimize import fmin_l_bfgs_b\n",
      "res = fmin_l_bfgs_b(measure_modulation,[ .5,  0.5,  0.5, 0.5],fprime=None,approx_grad=1,  args = (M,), pgtol=1e-05,bounds =bnds)\n",
      "\n",
      "#res = minimize(measure_modulation,[ .5,  0.5,  0.5, 0.5], args = (M,),method = 'SLSQP',bounds =bnds)\n",
      "#res = minimize(measure_flatness,[ 0,  0,  0, 0], args = (M,),)   \n",
      "chi2,phi2,chi1,phi1 = res[0]\n",
      "\n",
      "res"
     ],
     "language": "python",
     "metadata": {},
     "outputs": [
      {
       "output_type": "stream",
       "stream": "stdout",
       "text": [
        "1.0628692276\n",
        "0.940849517546\n",
        "1.0628692276\n",
        "0.940849517546\n",
        "1.06286920808\n",
        "0.940849534827\n",
        "1.06286924022\n",
        "0.940849506374\n",
        "1.06286926531\n",
        "0.940849484167\n",
        "1.06286922957\n",
        "0.940849515797\n",
        "2.26032763379\n",
        "0.442413739074\n",
        "2.26032763379\n",
        "0.442413739074\n",
        "2.26032761522\n",
        "0.442413742711\n",
        "2.2603276231"
       ]
      },
      {
       "output_type": "stream",
       "stream": "stdout",
       "text": [
        "\n",
        "0.442413741167\n",
        "2.26032762219\n",
        "0.442413741347\n",
        "2.26032763379\n",
        "0.442413739074\n",
        "3.46664987662\n",
        "0.288462935569\n",
        "3.46664987662\n",
        "0.288462935569\n",
        "3.46664995\n",
        "0.288462929463\n",
        "3.46664987674\n",
        "0.288462935559\n",
        "3.46664983895\n",
        "0.288462938704\n",
        "3.46664988426\n",
        "0.288462934933\n",
        "2.84864299521\n",
        "0.351044339948\n",
        "2.84864299521\n",
        "0.351044339948\n",
        "2.84864297547\n",
        "0.35104434238\n",
        "2.8486429926\n",
        "0.351044340269\n",
        "2.84864299485"
       ]
      },
      {
       "output_type": "stream",
       "stream": "stdout",
       "text": [
        "\n",
        "0.351044339993\n",
        "2.84864298676\n",
        "0.351044340989\n",
        "3.31183912217\n",
        "0.301947033993\n",
        "3.31183912217\n",
        "0.301947033993\n",
        "3.3118390678\n",
        "0.30194703895\n",
        "3.31183912113\n",
        "0.301947034088\n",
        "3.31183914132\n",
        "0.301947032247\n",
        "3.31183911295\n",
        "0.301947034833\n",
        "3.59530282093\n",
        "0.278140687949\n",
        "3.59530282093\n",
        "0.278140687949\n",
        "3.59530294205"
       ]
      },
      {
       "output_type": "stream",
       "stream": "stdout",
       "text": [
        "\n",
        "0.278140678579\n",
        "3.59530282113\n",
        "0.278140687934\n",
        "3.59530276546\n",
        "0.27814069224\n",
        "3.59530283543\n",
        "0.278140686827\n",
        "3.54848722959\n",
        "0.281810229345\n",
        "3.54848722959\n",
        "0.281810229345\n",
        "3.54848710071\n",
        "0.281810239581\n",
        "3.54848722906\n",
        "0.281810229388\n",
        "3.5484872851\n",
        "0.281810224937\n",
        "3.54848721314"
       ]
      },
      {
       "output_type": "stream",
       "stream": "stdout",
       "text": [
        "\n",
        "0.281810230652\n",
        "3.61287828044\n",
        "0.276787625372\n",
        "3.61287828044\n",
        "0.276787625372\n",
        "3.61287840187\n",
        "0.276787616069\n",
        "3.61287828062\n",
        "0.276787625358\n",
        "3.61287822431\n",
        "0.276787629672\n",
        "3.61287829511\n",
        "0.276787624248\n",
        "3.57152558967\n",
        "0.279992393976\n",
        "3.57152558967\n",
        "0.279992393976\n",
        "3.57152545799\n",
        "0.2799924043\n",
        "3.57152558924\n",
        "0.27999239401\n",
        "3.57152564889"
       ]
      },
      {
       "output_type": "stream",
       "stream": "stdout",
       "text": [
        "\n",
        "0.279992389334\n",
        "3.57152557327\n",
        "0.279992395262\n",
        "3.62947238177\n",
        "0.275522140635\n",
        "3.62947238177\n",
        "0.275522140635\n",
        "3.62947207799\n",
        "0.275522163696\n",
        "3.62947238161\n",
        "0.275522140647\n",
        "3.62947252358\n",
        "0.27552212987\n",
        "3.62947234524\n",
        "0.275522143408\n",
        "3.62947238177\n",
        "0.275522140635\n",
        "3.62947238177\n",
        "0.275522140635\n",
        "3.62947207799\n",
        "0.275522163696\n",
        "3.62947238161\n",
        "0.275522140647\n",
        "3.62947252358\n",
        "0.27552212987\n",
        "3.62947234524\n",
        "0.275522143408\n",
        "3.49239950869"
       ]
      },
      {
       "output_type": "stream",
       "stream": "stdout",
       "text": [
        "\n",
        "0.286336084263\n",
        "3.49239950869\n",
        "0.286336084263\n",
        "3.4923995812\n",
        "0.286336078318\n",
        "3.4923995088\n",
        "0.286336084254\n",
        "3.49239947328\n",
        "0.286336087166\n",
        "3.49239951743\n",
        "0.286336083546\n",
        "3.59092781355\n",
        "0.278479560694\n",
        "3.59092781355\n",
        "0.278479560694\n",
        "3.59092793605\n",
        "0.278479551193\n",
        "3.59092781375\n",
        "0.278479560678\n",
        "3.59092775814\n",
        "0.27847956499\n",
        "3.59092782852\n",
        "0.278479559533\n",
        "3.61405995871\n",
        "0.276697124958\n",
        "3.61405995871\n",
        "0.276697124958\n",
        "3.61406008042\n",
        "0.276697115639\n",
        "3.61405995889\n",
        "0.276697124944\n",
        "3.61405990251"
       ]
      },
      {
       "output_type": "stream",
       "stream": "stdout",
       "text": [
        "\n",
        "0.276697129261\n",
        "3.61405997348\n",
        "0.276697123827\n",
        "3.63074910938\n",
        "0.275425255195\n",
        "3.63074910938\n",
        "0.275425255195\n",
        "3.63074880573\n",
        "0.27542527823\n",
        "3.63074910924\n",
        "0.275425255206\n",
        "3.63074925146\n",
        "0.275425244417\n",
        "3.63074907289\n",
        "0.275425257963\n",
        "3.61558043252\n",
        "0.276580764462\n",
        "3.61558043252\n",
        "0.276580764462\n",
        "3.61558055418\n",
        "0.276580755155\n",
        "3.6155804327\n",
        "0.276580764448\n",
        "3.61558037627\n",
        "0.276580768765\n",
        "3.61558044728\n",
        "0.276580763333\n",
        "3.61832798732\n",
        "0.276370744583\n",
        "3.61832798732"
       ]
      },
      {
       "output_type": "stream",
       "stream": "stdout",
       "text": [
        "\n",
        "0.276370744583\n",
        "3.61832810888\n",
        "0.276370735298\n",
        "3.6183279875\n",
        "0.276370744569\n",
        "3.61832793098\n",
        "0.276370748886\n",
        "3.61832800206\n",
        "0.276370743457\n",
        "3.63075241291\n",
        "0.275425004593\n",
        "3.63075241291\n",
        "0.275425004593\n",
        "3.63075210926\n",
        "0.275425027627\n",
        "3.63075241277\n",
        "0.275425004603\n",
        "3.63075255499\n",
        "0.275424993814\n",
        "3.63075237642\n",
        "0.27542500736\n",
        "3.6310806409\n",
        "0.275400107818\n",
        "3.6310806409\n",
        "0.275400107818\n",
        "3.63108033728\n",
        "0.275400130846\n",
        "3.63108064076\n",
        "0.275400107829\n",
        "3.63108078305"
       ]
      },
      {
       "output_type": "stream",
       "stream": "stdout",
       "text": [
        "\n",
        "0.275400097037\n",
        "3.63108060442\n",
        "0.275400110585\n",
        "3.6310806409\n",
        "0.275400107818\n",
        "3.6310806409\n",
        "0.275400107818\n",
        "3.63108033728\n",
        "0.275400130846\n",
        "3.63108064076\n",
        "0.275400107829\n",
        "3.63108078305\n",
        "0.275400097037\n",
        "3.63108060442\n",
        "0.275400110585\n",
        "1.81206227192\n",
        "0.551857414337\n",
        "1.81206227192\n",
        "0.551857414337\n",
        "1.81206228447\n",
        "0.551857410515\n",
        "1.81206228076\n",
        "0.551857411646\n",
        "1.81206226234\n",
        "0.551857417255\n",
        "1.81206227192\n",
        "0.551857414337\n",
        "2.80789300623\n",
        "0.356138926156\n",
        "2.80789300623\n",
        "0.356138926156\n",
        "2.80789306832"
       ]
      },
      {
       "output_type": "stream",
       "stream": "stdout",
       "text": [
        "\n",
        "0.356138918281\n",
        "2.80789300731\n",
        "0.35613892602\n",
        "2.80789296314\n",
        "0.356138931621\n",
        "2.80789300964\n",
        "0.356138925724\n",
        "3.39758562143\n",
        "0.294326651753\n",
        "3.39758562143\n",
        "0.294326651753\n",
        "3.3975856907\n",
        "0.294326645753\n",
        "3.39758562146\n",
        "0.294326651751\n",
        "3.39758558487\n",
        "0.294326654921\n",
        "3.39758562862\n",
        "0.29432665113\n",
        "3.55288265873\n",
        "0.281461589378\n",
        "3.55288265873\n",
        "0.281461589378\n",
        "3.55288278045\n",
        "0.281461579735\n",
        "3.55288265893\n",
        "0.281461589362\n",
        "3.55288260474\n",
        "0.281461593655\n",
        "3.5528826733\n",
        "0.281461588224\n",
        "3.60574096288"
       ]
      },
      {
       "output_type": "stream",
       "stream": "stdout",
       "text": [
        "\n",
        "0.277335507541\n",
        "3.60574096288\n",
        "0.277335507541\n",
        "3.60574108449\n",
        "0.277335498187\n",
        "3.60574096306\n",
        "0.277335507526\n",
        "3.605740907\n",
        "0.277335511839\n",
        "3.60574097759\n",
        "0.277335506409\n",
        "3.61661006763\n",
        "0.276502022972\n",
        "3.61661006763\n",
        "0.276502022972\n",
        "3.6166101892\n",
        "0.276502013677\n",
        "3.61661006781\n",
        "0.276502022958\n",
        "3.61661001136\n",
        "0.276502027274\n",
        "3.61661008237\n",
        "0.276502021845\n",
        "3.61831361324\n",
        "0.276371842491\n",
        "3.61831361324\n",
        "0.276371842491\n",
        "3.6183137348\n",
        "0.276371833206\n",
        "3.61831361342"
       ]
      },
      {
       "output_type": "stream",
       "stream": "stdout",
       "text": [
        "\n",
        "0.276371842477\n",
        "3.6183135569\n",
        "0.276371846794\n",
        "3.61831362797\n",
        "0.276371841365\n",
        "3.63108118878\n",
        "0.275400066264\n",
        "3.63108118878\n",
        "0.275400066264\n",
        "3.63108088516\n",
        "0.275400089292\n",
        "3.63108118864\n",
        "0.275400066275\n",
        "3.63108133093\n",
        "0.275400055483\n",
        "3.6310811523\n",
        "0.275400069031\n",
        "3.63108173373\n",
        "0.275400024932\n",
        "3.63108173373\n",
        "0.275400024932\n",
        "3.63108143011\n",
        "0.27540004796\n",
        "3.63108173359\n",
        "0.275400024943\n",
        "3.63108187588\n",
        "0.275400014151\n",
        "3.63108169725\n",
        "0.275400027699\n",
        "3.61835451316"
       ]
      },
      {
       "output_type": "stream",
       "stream": "stdout",
       "text": [
        "\n",
        "0.276368718533\n",
        "3.61835451316\n",
        "0.276368718533\n",
        "3.61835463472\n",
        "0.276368709248\n",
        "3.61835451334\n",
        "0.276368718519\n",
        "3.61835445682\n",
        "0.276368722836\n",
        "3.6183545279\n",
        "0.276368717407\n",
        "3.63108187007\n",
        "0.275400014591\n",
        "3.63108187007\n",
        "0.275400014591\n",
        "3.63108156645\n",
        "0.275400037619\n",
        "3.63108186993\n",
        "0.275400014602\n",
        "3.63108201223\n",
        "0.27540000381\n",
        "3.63108183359\n",
        "0.275400017358\n",
        "3.63108200605\n",
        "0.275400004278\n",
        "3.63108200605\n",
        "0.275400004278\n",
        "3.63108170243\n",
        "0.275400027306\n",
        "3.63108200591"
       ]
      },
      {
       "output_type": "stream",
       "stream": "stdout",
       "text": [
        "\n",
        "0.275400004288\n",
        "3.63108214821\n",
        "0.275399993496\n",
        "3.63108196957\n",
        "0.275400007045\n",
        "3.63113305405\n",
        "0.275396132588\n",
        "3.63113305405\n",
        "0.275396132588\n",
        "3.63113275043\n",
        "0.275396155616\n",
        "3.63113305391\n",
        "0.275396132599\n",
        "3.63113319622\n",
        "0.275396121806\n",
        "3.63113301757\n",
        "0.275396135355\n",
        "3.63113308787\n",
        "0.275396130023\n",
        "3.63113308787\n",
        "0.275396130023\n",
        "3.63113278425\n",
        "0.275396153051\n",
        "3.63113308773\n",
        "0.275396130034\n",
        "3.63113323004\n",
        "0.275396119241\n",
        "3.63113305139\n",
        "0.27539613279\n",
        "3.63113312165\n",
        "0.275396127462\n",
        "3.63113312165"
       ]
      },
      {
       "output_type": "stream",
       "stream": "stdout",
       "text": [
        "\n",
        "0.275396127462\n",
        "3.63113281802\n",
        "0.27539615049\n",
        "3.63113312151\n",
        "0.275396127472\n",
        "3.63113326382\n",
        "0.275396116679\n",
        "3.63113308517\n",
        "0.275396130228\n",
        "3.63115861243\n",
        "0.275394194178\n",
        "3.63115861243\n",
        "0.275394194178\n",
        "3.6311583088\n",
        "0.275394217205\n",
        "3.63115861229\n",
        "0.275394194188\n",
        "3.6311587546\n",
        "0.275394183394\n",
        "3.63115857595\n",
        "0.275394196944\n",
        "3.63115862085\n",
        "0.275394193539\n",
        "3.63115862085\n",
        "0.275394193539\n",
        "3.63115831722\n",
        "0.275394216566\n",
        "3.63115862071\n",
        "0.275394193549\n",
        "3.63115876303\n",
        "0.275394182756\n",
        "3.63115858437"
       ]
      },
      {
       "output_type": "stream",
       "stream": "stdout",
       "text": [
        "\n",
        "0.275394196305\n",
        "3.61835797468\n",
        "0.276368454144\n",
        "3.61835797468\n",
        "0.276368454144\n",
        "3.61835809624\n",
        "0.276368444859\n",
        "3.61835797486\n",
        "0.27636845413\n",
        "3.61835791834\n",
        "0.276368458447\n",
        "3.61835798942\n",
        "0.276368453018\n",
        "3.63115862452\n",
        "0.275394193261\n",
        "3.63115862452\n",
        "0.275394193261\n",
        "3.63115832089\n",
        "0.275394216288\n",
        "3.63115862438\n",
        "0.275394193271\n",
        "3.63115876669\n",
        "0.275394182478\n",
        "3.63115858804\n",
        "0.275394196027\n",
        "3.63115862818\n",
        "0.275394192983\n",
        "3.63115862818\n",
        "0.275394192983\n",
        "3.63115832456"
       ]
      },
      {
       "output_type": "stream",
       "stream": "stdout",
       "text": [
        "\n",
        "0.27539421601\n",
        "3.63115862804\n",
        "0.275394192993\n",
        "3.63115877036\n",
        "0.275394182199\n",
        "3.6311585917\n",
        "0.275394195749\n",
        "1.36973028818\n",
        "0.730070736284\n",
        "1.36973028818\n",
        "0.730070736284\n",
        "1.36973026091\n",
        "0.730070750815\n",
        "1.36973028818\n",
        "0.730070736284\n",
        "1.36973031133\n",
        "0.730070723942\n",
        "1.36973028818\n",
        "0.730070736284\n",
        "1.83131484003\n",
        "0.546055750841\n",
        "1.83131484003\n",
        "0.546055750841\n",
        "1.83131486686\n",
        "0.546055742842\n",
        "1.8313148474\n",
        "0.546055748643\n",
        "1.83131482165\n",
        "0.546055756323\n",
        "1.83131483977\n",
        "0.546055750919\n",
        "3.00718863449"
       ]
      },
      {
       "output_type": "stream",
       "stream": "stdout",
       "text": [
        "\n",
        "0.332536505535\n",
        "3.00718863449\n",
        "0.332536505535\n",
        "3.00718869844\n",
        "0.332536498464\n",
        "3.00718863472\n",
        "0.33253650551\n",
        "3.00718859547\n",
        "0.332536509851\n",
        "3.00718863976\n",
        "0.332536504953\n",
        "3.44167227049\n",
        "0.290556427634\n",
        "3.44167227049\n",
        "0.290556427634\n",
        "3.44167233868\n",
        "0.290556421877\n",
        "3.44167227056\n",
        "0.290556427628\n",
        "3.44167223555\n",
        "0.290556430583\n",
        "3.4416722781\n",
        "0.290556426991\n",
        "3.57036294755\n",
        "0.280083569847\n",
        "3.57036294755\n",
        "0.280083569847\n",
        "3.5703630697\n",
        "0.280083560265\n",
        "3.57036294776\n",
        "0.280083569831\n",
        "3.57036289299"
       ]
      },
      {
       "output_type": "stream",
       "stream": "stdout",
       "text": [
        "\n",
        "0.280083574127\n",
        "3.57036296234\n",
        "0.280083568687\n",
        "3.6094439372\n",
        "0.277050985526\n",
        "3.6094439372\n",
        "0.277050985526\n",
        "3.60944405888\n",
        "0.277050976185\n",
        "3.60944393738\n",
        "0.277050985511\n",
        "3.60944388119\n",
        "0.277050989825\n",
        "3.60944395195\n",
        "0.277050984393\n",
        "3.61728946614\n",
        "0.276450090423\n",
        "3.61728946614\n",
        "0.276450090423\n",
        "3.61728958771\n",
        "0.276450081132\n",
        "3.61728946632\n",
        "0.276450090409\n",
        "3.61728940984\n",
        "0.276450094726\n",
        "3.61728948088\n",
        "0.276450089297"
       ]
      },
      {
       "output_type": "stream",
       "stream": "stdout",
       "text": [
        "\n",
        "3.61836155563\n",
        "0.276368180632\n",
        "3.61836155563\n",
        "0.276368180632\n",
        "3.61836167719\n",
        "0.276368171347\n",
        "3.61836155581\n",
        "0.276368180619\n",
        "3.61836149929\n",
        "0.276368184935\n",
        "3.61836157037\n",
        "0.276368179507\n",
        "3.6310807365\n",
        "0.275400100567\n",
        "3.6310807365\n",
        "0.275400100567\n",
        "3.63108043288\n",
        "0.275400123595\n",
        "3.63108073636\n",
        "0.275400100578\n",
        "3.63108087866\n",
        "0.275400089785\n",
        "3.63108070002\n",
        "0.275400103334\n",
        "3.63113721716\n",
        "0.275395816846\n",
        "3.63113721716\n",
        "0.275395816846\n",
        "3.63113691354\n",
        "0.275395839873\n",
        "3.63113721703"
       ]
      },
      {
       "output_type": "stream",
       "stream": "stdout",
       "text": [
        "\n",
        "0.275395816856\n",
        "3.63113735933\n",
        "0.275395806063\n",
        "3.63113718069\n",
        "0.275395819612\n",
        "3.63115642071\n",
        "0.275394360402\n",
        "3.63115642071\n",
        "0.275394360402\n",
        "3.63115611708\n",
        "0.275394383429\n",
        "3.63115642057\n",
        "0.275394360413\n",
        "3.63115656288\n",
        "0.275394349619\n",
        "3.63115638423\n",
        "0.275394363169\n",
        "3.61836290203\n",
        "0.276368077795\n",
        "3.61836290203\n",
        "0.276368077795\n",
        "3.61836302359\n",
        "0.276368068511\n",
        "3.61836290221\n",
        "0.276368077782\n",
        "3.61836284569\n",
        "0.276368082099\n",
        "3.61836291677\n",
        "0.27636807667\n",
        "3.63115642071"
       ]
      },
      {
       "output_type": "stream",
       "stream": "stdout",
       "text": [
        "\n",
        "0.275394360402\n",
        "3.63115642071\n",
        "0.275394360402\n",
        "3.63115611708\n",
        "0.275394383429\n",
        "3.63115642057\n",
        "0.275394360413\n",
        "3.63115656288\n",
        "0.275394349619\n",
        "3.63115638423\n",
        "0.275394363169\n",
        "2.39431831307\n",
        "0.417655411372\n",
        "2.39431831307\n",
        "0.417655411372\n",
        "2.39431836021\n",
        "0.417655403149\n",
        "2.3943183162\n",
        "0.417655410826\n",
        "2.39431827272\n",
        "0.41765541841\n",
        "2.39431831388\n",
        "0.41765541123\n",
        "3.28778676452\n",
        "0.304155978359\n",
        "3.28778676452\n",
        "0.304155978359\n",
        "3.28778683516\n",
        "0.304155971825\n",
        "3.28778676451"
       ]
      },
      {
       "output_type": "stream",
       "stream": "stdout",
       "text": [
        "\n",
        "0.30415597836\n",
        "3.28778672607\n",
        "0.304155981917\n",
        "3.28778677118\n",
        "0.304155977743\n",
        "3.50789367806\n",
        "0.285071353859\n",
        "3.50789367806\n",
        "0.285071353859\n",
        "3.50789379965\n",
        "0.285071343978\n",
        "3.50789367829\n",
        "0.285071353841\n",
        "3.50789362577\n",
        "0.285071358109\n",
        "3.50789369247\n",
        "0.285071352688\n",
        "3.59624627216\n",
        "0.278067719595\n",
        "3.59624627216\n",
        "0.278067719595\n",
        "3.59624639379\n",
        "0.27806771019\n",
        "3.59624627235"
       ]
      },
      {
       "output_type": "stream",
       "stream": "stdout",
       "text": [
        "\n",
        "0.27806771958\n",
        "3.59624621664\n",
        "0.278067723888\n",
        "3.59624628684\n",
        "0.278067718459\n",
        "3.6147283771\n",
        "0.276645959441\n",
        "3.6147283771\n",
        "0.276645959441\n",
        "3.61472849868\n",
        "0.276645950136\n",
        "3.61472837728\n",
        "0.276645959427\n",
        "3.6147283209\n",
        "0.276645963742\n",
        "3.61472839183\n",
        "0.276645958313\n",
        "3.61808803986\n",
        "0.276389073174\n",
        "3.61808803986"
       ]
      },
      {
       "output_type": "stream",
       "stream": "stdout",
       "text": [
        "\n",
        "0.276389073174\n",
        "3.61808816142\n",
        "0.276389063888\n",
        "3.61808804004\n",
        "0.27638907316\n",
        "3.61808798353\n",
        "0.276389077477\n",
        "3.6180880546\n",
        "0.276389072048\n",
        "3.618363115\n",
        "0.276368061529\n",
        "3.618363115\n",
        "0.276368061529\n",
        "3.61836323656\n",
        "0.276368052244\n",
        "3.61836311518"
       ]
      },
      {
       "output_type": "stream",
       "stream": "stdout",
       "text": [
        "\n",
        "0.276368061515\n",
        "3.61836305866\n",
        "0.276368065832\n",
        "3.61836312974\n",
        "0.276368060403\n",
        "3.63115642117\n",
        "0.275394360367\n",
        "3.63115642117\n",
        "0.275394360367\n",
        "3.63115611755\n",
        "0.275394383394\n",
        "3.63115642103\n",
        "0.275394360377\n",
        "3.63115656335\n",
        "0.275394349584\n",
        "3.6311563847\n",
        "0.275394363133\n",
        "3.63115642164\n",
        "0.275394360331\n",
        "3.63115642164\n",
        "0.275394360331\n",
        "3.63115611802\n",
        "0.275394383358\n",
        "3.6311564215\n",
        "0.275394360342\n",
        "3.63115656382"
       ]
      },
      {
       "output_type": "stream",
       "stream": "stdout",
       "text": [
        "\n",
        "0.275394349548\n",
        "3.63115638516\n",
        "0.275394363098\n",
        "3.63115942335\n",
        "0.275394132676\n",
        "3.63115942335\n",
        "0.275394132676\n",
        "3.63115911973\n",
        "0.275394155703\n",
        "3.63115942321\n",
        "0.275394132686\n",
        "3.63115956552\n",
        "0.275394121893\n",
        "3.63115938687\n",
        "0.275394135442\n",
        "3.63115942346\n",
        "0.275394132667\n",
        "3.63115942346\n",
        "0.275394132667\n",
        "3.63115911984\n",
        "0.275394155694\n",
        "3.63115942333\n",
        "0.275394132677\n",
        "3.63115956564\n",
        "0.275394121884\n",
        "3.63115938699\n",
        "0.275394135433\n",
        "3.63115964703\n",
        "0.275394115711\n",
        "3.63115964703"
       ]
      },
      {
       "output_type": "stream",
       "stream": "stdout",
       "text": [
        "\n",
        "0.275394115711\n",
        "3.63115934341\n",
        "0.275394138738\n",
        "3.63115964689\n",
        "0.275394115722\n",
        "3.63115978921\n",
        "0.275394104928\n",
        "3.63115961055\n",
        "0.275394118478\n",
        "3.63116103604\n",
        "0.275394010366\n",
        "3.63116103604\n",
        "0.275394010366\n",
        "3.63116073242\n",
        "0.275394033393\n",
        "3.6311610359\n",
        "0.275394010376\n",
        "3.63116117822\n",
        "0.275393999583\n",
        "3.63116099957\n",
        "0.275394013132\n",
        "3.63116103607\n",
        "0.275394010364\n",
        "3.63116103607\n",
        "0.275394010364\n",
        "3.63116073245\n",
        "0.275394033391\n",
        "3.63116103593"
       ]
      },
      {
       "output_type": "stream",
       "stream": "stdout",
       "text": [
        "\n",
        "0.275394010374\n",
        "3.63116117825\n",
        "0.275393999581\n",
        "3.63116099959\n",
        "0.27539401313\n",
        "3.63116103689\n",
        "0.275394010301\n",
        "3.63116103689\n",
        "0.275394010301\n",
        "3.63116073327\n",
        "0.275394033329\n",
        "3.63116103675\n",
        "0.275394010312\n",
        "3.63116117907\n",
        "0.275393999518\n",
        "3.63116100042\n",
        "0.275394013068\n",
        "3.6183633925\n",
        "0.276368040333\n",
        "3.6183633925\n",
        "0.276368040333\n",
        "3.63116142735\n",
        "0.275393980688\n",
        "3.61836339269\n",
        "0.276368040319\n",
        "3.61836333617\n",
        "0.276368044636\n",
        "3.61836340724"
       ]
      },
      {
       "output_type": "stream",
       "stream": "stdout",
       "text": [
        "\n",
        "0.276368039207\n",
        "3.63116103691\n",
        "0.2753940103\n",
        "3.63116103691\n",
        "0.2753940103\n",
        "3.63116073329\n",
        "0.275394033327\n",
        "3.63116103677\n",
        "0.275394010311\n",
        "3.63116117909\n",
        "0.275393999517\n",
        "3.63116100043\n",
        "0.275394013067\n",
        "3.63116103693\n",
        "0.275394010299\n",
        "3.63116103693\n",
        "0.275394010299\n",
        "3.63116073331\n",
        "0.275394033326\n",
        "3.63116103679\n",
        "0.275394010309\n",
        "3.6311611791\n",
        "0.275393999516\n",
        "3.63116100045\n",
        "0.275394013065\n",
        "3.63116138395"
       ]
      },
      {
       "output_type": "stream",
       "stream": "stdout",
       "text": [
        "\n",
        "0.27539398398\n",
        "3.63116138395\n",
        "0.27539398398\n",
        "3.63116108033\n",
        "0.275394007007\n",
        "3.63116138381\n",
        "0.27539398399\n",
        "3.63116152613\n",
        "0.275393973197\n",
        "3.63116134747\n",
        "0.275393986746\n",
        "3.63116138395\n",
        "0.27539398398\n",
        "3.63116138395\n",
        "0.27539398398\n",
        "3.63116108033\n",
        "0.275394007007\n",
        "3.63116138381\n",
        "0.27539398399\n",
        "3.63116152613\n",
        "0.275393973197\n",
        "3.63116134747\n",
        "0.275393986746\n",
        "2.3943172963\n",
        "0.417655588734\n",
        "2.3943172963\n",
        "0.417655588734\n",
        "2.39431734344\n",
        "0.417655580511\n",
        "2.39431729943\n",
        "0.417655588188\n",
        "2.39431725595"
       ]
      },
      {
       "output_type": "stream",
       "stream": "stdout",
       "text": [
        "\n",
        "0.417655595771\n",
        "2.39431729711\n",
        "0.417655588591\n",
        "3.28778603653\n",
        "0.304156045706\n",
        "3.28778603653\n",
        "0.304156045706\n",
        "3.28778610717\n",
        "0.304156039171\n",
        "3.28778603653\n",
        "0.304156045707\n",
        "3.28778599808\n",
        "0.304156049263\n",
        "3.28778604319\n",
        "0.30415604509\n",
        "3.50789265756\n",
        "0.285071436791\n",
        "3.50789265756\n",
        "0.285071436791\n",
        "3.50789277915\n",
        "0.28507142691\n",
        "3.50789265779\n",
        "0.285071436773\n",
        "3.50789260527\n",
        "0.285071441041\n",
        "3.50789267197"
       ]
      },
      {
       "output_type": "stream",
       "stream": "stdout",
       "text": [
        "\n",
        "0.28507143562\n",
        "3.59624514192\n",
        "0.278067806986\n",
        "3.59624514192\n",
        "0.278067806986\n",
        "3.59624526356\n",
        "0.278067797581\n",
        "3.59624514212\n",
        "0.278067806971\n",
        "3.59624508641\n",
        "0.278067811279\n",
        "3.59624515661\n",
        "0.278067805851\n",
        "3.61472700914\n",
        "0.276646064134\n",
        "3.61472700914\n",
        "0.276646064134\n",
        "3.61472713072\n",
        "0.27664605483\n",
        "3.61472700933\n",
        "0.27664606412\n",
        "3.61472695294\n",
        "0.276646068436\n",
        "3.61472702387\n",
        "0.276646063007\n",
        "3.61808622964"
       ]
      },
      {
       "output_type": "stream",
       "stream": "stdout",
       "text": [
        "\n",
        "0.276389211459\n",
        "3.61808622964\n",
        "0.276389211459\n",
        "3.6180863512\n",
        "0.276389202173\n",
        "3.61808622982\n",
        "0.276389211445\n",
        "3.61808617331\n",
        "0.276389215762\n",
        "3.61808624437\n",
        "0.276389210333\n",
        "3.61836113483\n",
        "0.276368212773\n",
        "3.61836113483\n",
        "0.276368212773\n",
        "3.61836125639\n",
        "0.276368203488\n",
        "3.61836113501\n",
        "0.276368212759\n",
        "3.61836107849\n",
        "0.276368217076\n",
        "3.61836114957\n",
        "0.276368211647\n",
        "3.63116138442\n",
        "0.275393983944\n",
        "3.63116138442\n",
        "0.275393983944\n",
        "3.6311610808"
       ]
      },
      {
       "output_type": "stream",
       "stream": "stdout",
       "text": [
        "\n",
        "0.275394006972\n",
        "3.63116138428\n",
        "0.275393983955\n",
        "3.63116152659\n",
        "0.275393973162\n",
        "3.63116134794\n",
        "0.275393986711\n",
        "3.63116138488\n",
        "0.275393983909\n",
        "3.63116138488\n",
        "0.275393983909\n",
        "3.63116108126\n",
        "0.275394006936\n",
        "3.63116138474\n",
        "0.27539398392\n",
        "3.63116152706\n",
        "0.275393973126\n",
        "3.63116134841\n",
        "0.275393986676\n",
        "3.61836233285\n",
        "0.276368121269\n",
        "3.61836233285\n",
        "0.276368121269\n",
        "3.61836245442\n",
        "0.276368111984\n",
        "3.61836233303\n",
        "0.276368121255\n",
        "3.61836227652\n",
        "0.276368125572\n",
        "3.61836234759"
       ]
      },
      {
       "output_type": "stream",
       "stream": "stdout",
       "text": [
        "\n",
        "0.276368120143\n",
        "3.631161385\n",
        "0.2753939839\n",
        "3.631161385\n",
        "0.2753939839\n",
        "3.63116108138\n",
        "0.275394006928\n",
        "3.63116138486\n",
        "0.275393983911\n",
        "3.63116152718\n",
        "0.275393973117\n",
        "3.63116134852\n",
        "0.275393986667\n",
        "3.63116138512\n",
        "0.275393983891\n",
        "3.63116138512\n",
        "0.275393983891\n",
        "3.63116108149\n",
        "0.275394006919\n",
        "3.63116138498\n",
        "0.275393983902\n",
        "3.63116152729\n",
        "0.275393973109\n",
        "3.63116134864\n",
        "0.275393986658\n",
        "3.61836293182\n",
        "0.27636807552\n",
        "3.61836293182\n",
        "0.27636807552\n",
        "3.61836305338\n",
        "0.276368066235\n",
        "3.618362932"
       ]
      },
      {
       "output_type": "stream",
       "stream": "stdout",
       "text": [
        "\n",
        "0.276368075506\n",
        "3.61836287548\n",
        "0.276368079823\n",
        "3.61836294656\n",
        "0.276368074394\n",
        "3.63116138515\n",
        "0.275393983889\n",
        "3.63116138515\n",
        "0.275393983889\n",
        "3.63116108152\n",
        "0.275394006916\n",
        "3.63116138501\n",
        "0.2753939839\n",
        "3.63116152732\n",
        "0.275393973106\n",
        "3.63116134867\n",
        "0.275393986656\n",
        "3.61836313546\n",
        "0.276368059966\n",
        "3.61836313546\n",
        "0.276368059966\n",
        "3.61836325703\n",
        "0.276368050681\n",
        "3.61836313564\n",
        "0.276368059952\n",
        "3.61836307912\n",
        "0.276368064269\n",
        "3.6183631502\n",
        "0.27636805884\n",
        "3.63116138516"
       ]
      },
      {
       "output_type": "stream",
       "stream": "stdout",
       "text": [
        "\n",
        "0.275393983888\n",
        "3.63116138516\n",
        "0.275393983888\n",
        "3.63116108154\n",
        "0.275394006916\n",
        "3.63116138502\n",
        "0.275393983899\n",
        "3.63116152733\n",
        "0.275393973105\n",
        "3.63116134868\n",
        "0.275393986655\n",
        "3.63116138517\n",
        "0.275393983887\n",
        "3.63116138517\n",
        "0.275393983887\n",
        "3.63116108155\n",
        "0.275394006915\n",
        "3.63116138503\n",
        "0.275393983898\n",
        "3.63116152735\n",
        "0.275393973104\n",
        "3.63116134869\n",
        "0.275393986654\n",
        "3.61836333311\n",
        "0.27636804487\n",
        "3.61836333311\n",
        "0.27636804487\n",
        "3.6311615759"
       ]
      },
      {
       "output_type": "stream",
       "stream": "stdout",
       "text": [
        "\n",
        "0.275393969422\n",
        "3.61836333329\n",
        "0.276368044856\n",
        "3.61836327677\n",
        "0.276368049173\n",
        "3.61836334785\n",
        "0.276368043744\n",
        "3.63116138518\n",
        "0.275393983887\n",
        "3.63116138518\n",
        "0.275393983887\n",
        "3.63116108155\n",
        "0.275394006914\n",
        "3.63116138504\n",
        "0.275393983897\n",
        "3.63116152735\n",
        "0.275393973104\n",
        "3.6311613487\n",
        "0.275393986653\n",
        "3.63116138518\n",
        "0.275393983886\n",
        "3.63116138518"
       ]
      },
      {
       "output_type": "stream",
       "stream": "stdout",
       "text": [
        "\n",
        "0.275393983886\n",
        "3.63116108156\n",
        "0.275394006914\n",
        "3.63116138504\n",
        "0.275393983897\n",
        "3.63116152736\n",
        "0.275393973104\n",
        "3.6311613487\n",
        "0.275393986653\n",
        "1.36973028818\n",
        "0.730070736284\n",
        "1.36973028818\n",
        "0.730070736284\n",
        "1.36973026092\n",
        "0.730070750815\n",
        "1.36973028818\n",
        "0.730070736284\n",
        "1.36973031133\n",
        "0.730070723942\n",
        "1.36973028818"
       ]
      },
      {
       "output_type": "stream",
       "stream": "stdout",
       "text": [
        "\n",
        "0.730070736284\n",
        "1.83132223729\n",
        "0.546053545159\n",
        "1.83132223729\n",
        "0.546053545159\n",
        "1.83132226412\n",
        "0.54605353716\n",
        "1.83132224466\n",
        "0.546053542961\n",
        "1.8313222189\n",
        "0.546053550642\n",
        "1.83132223703\n",
        "0.546053545237\n",
        "3.0071914461\n",
        "0.332536194627\n",
        "3.0071914461\n",
        "0.332536194627\n",
        "3.00719151004\n",
        "0.332536187556\n",
        "3.00719144633\n",
        "0.332536194601\n",
        "3.00719140707\n",
        "0.332536198942\n",
        "3.00719145137"
       ]
      },
      {
       "output_type": "stream",
       "stream": "stdout",
       "text": [
        "\n",
        "0.332536194044\n",
        "3.44166763236\n",
        "0.2905568192\n",
        "3.44166763236\n",
        "0.2905568192\n",
        "3.44166770054\n",
        "0.290556813443\n",
        "3.44166763243\n",
        "0.290556819194\n",
        "3.44166759741\n",
        "0.29055682215\n",
        "3.44166763996\n",
        "0.290556818557\n",
        "3.57034768628\n",
        "0.28008476705\n",
        "3.57034768628\n",
        "0.28008476705\n",
        "3.57034780843\n",
        "0.280084757468\n",
        "3.57034768649\n",
        "0.280084767034\n",
        "3.57034763172\n",
        "0.280084771331\n",
        "3.57034770107"
       ]
      },
      {
       "output_type": "stream",
       "stream": "stdout",
       "text": [
        "\n",
        "0.28008476589\n",
        "3.60942460038\n",
        "0.277052469774\n",
        "3.60942460038\n",
        "0.277052469774\n",
        "3.60942472207\n",
        "0.277052460434\n",
        "3.60942460057\n",
        "0.27705246976\n",
        "3.60942454437\n",
        "0.277052474074\n",
        "3.60942461513\n",
        "0.277052468642\n",
        "3.61726355518\n",
        "0.276452070673\n",
        "3.61726355518\n",
        "0.276452070673\n",
        "3.61726367676"
       ]
      },
      {
       "output_type": "stream",
       "stream": "stdout",
       "text": [
        "\n",
        "0.276452061381\n",
        "3.61726355537\n",
        "0.276452070659\n",
        "3.61726349889\n",
        "0.276452074975\n",
        "3.61726356992\n",
        "0.276452069546\n",
        "3.61832986271\n",
        "0.276370601339\n",
        "3.61832986271\n",
        "0.276370601339\n",
        "3.61832998428\n",
        "0.276370592054\n",
        "3.6183298629\n",
        "0.276370601325\n",
        "3.61832980638\n",
        "0.276370605642\n",
        "3.61832987745\n",
        "0.276370600213\n",
        "3.6311614753"
       ]
      },
      {
       "output_type": "stream",
       "stream": "stdout",
       "text": [
        "\n",
        "0.275393977052\n",
        "3.6311614753\n",
        "0.275393977052\n",
        "3.63116117168\n",
        "0.275394000079\n",
        "3.63116147516\n",
        "0.275393977062\n",
        "3.61836343835\n",
        "0.276368036832\n",
        "3.63116143882\n",
        "0.275393979818\n",
        "3.63116138398\n",
        "0.275393983978\n",
        "3.63116138398\n",
        "0.275393983978\n",
        "3.63116108036\n",
        "0.275394007005\n",
        "3.63116138384\n",
        "0.275393983988\n",
        "3.63116152615\n",
        "0.275393973195\n",
        "3.6311613475\n",
        "0.275393986744\n",
        "3.63116144487\n",
        "0.27539397936\n",
        "3.63116144487\n",
        "0.27539397936\n",
        "3.63116114125\n",
        "0.275394002387\n",
        "3.63116144473"
       ]
      },
      {
       "output_type": "stream",
       "stream": "stdout",
       "text": [
        "\n",
        "0.27539397937\n",
        "3.63116158705\n",
        "0.275393968577\n",
        "3.63116140839\n",
        "0.275393982126\n",
        "3.63116146516\n",
        "0.275393977821\n",
        "3.63116146516\n",
        "0.275393977821\n",
        "3.63116116154\n",
        "0.275394000848\n",
        "3.63116146502\n",
        "0.275393977831\n",
        "3.6183634424\n",
        "0.276368036522\n",
        "3.63116142868\n",
        "0.275393980587\n",
        "3.63116147316\n",
        "0.275393977214\n",
        "3.63116147316\n",
        "0.275393977214\n",
        "3.63116116953\n",
        "0.275394000242\n",
        "3.63116147302\n",
        "0.275393977225\n",
        "3.6183634392\n",
        "0.276368036766\n",
        "3.63116143668"
       ]
      },
      {
       "output_type": "stream",
       "stream": "stdout",
       "text": [
        "\n",
        "0.275393979981\n",
        "3.6311614753\n",
        "0.275393977052\n",
        "3.6311614753\n",
        "0.275393977052\n",
        "3.63116117168\n",
        "0.275394000079\n",
        "3.63116147516\n",
        "0.275393977062\n",
        "3.61836343835\n",
        "0.276368036832\n",
        "3.63116143882\n",
        "0.275393979818\n",
        "3.631161384\n",
        "0.275393983976\n",
        "3.631161384\n",
        "0.275393983976\n",
        "3.63116108038\n",
        "0.275394007003\n",
        "3.63116138386\n",
        "0.275393983986\n",
        "3.63116152618\n",
        "0.275393973193\n",
        "3.63116134753\n",
        "0.275393986742\n",
        "3.63116144488\n",
        "0.275393979359\n",
        "3.63116144488\n",
        "0.275393979359\n",
        "3.63116114126\n",
        "0.275394002386\n",
        "3.63116144474"
       ]
      },
      {
       "output_type": "stream",
       "stream": "stdout",
       "text": [
        "\n",
        "0.275393979369\n",
        "3.63116158706\n",
        "0.275393968576\n",
        "3.6311614084\n",
        "0.275393982125\n",
        "3.63116146516\n",
        "0.275393977821\n",
        "3.63116146516\n",
        "0.275393977821\n",
        "3.63116116154\n",
        "0.275394000848\n",
        "3.63116146502\n",
        "0.275393977831\n",
        "3.6183634424\n",
        "0.276368036522\n",
        "3.63116142869\n",
        "0.275393980587\n",
        "3.63116147316\n",
        "0.275393977214\n",
        "3.63116147316\n",
        "0.275393977214\n",
        "3.63116116954\n",
        "0.275394000242\n",
        "3.63116147302\n",
        "0.275393977225\n",
        "3.6183634392"
       ]
      },
      {
       "output_type": "stream",
       "stream": "stdout",
       "text": [
        "\n",
        "0.276368036766\n",
        "3.63116143668\n",
        "0.275393979981\n",
        "3.63116147485\n",
        "0.275393977086\n",
        "3.63116147485\n",
        "0.275393977086\n",
        "3.63116117122\n",
        "0.275394000113\n",
        "3.63116147471\n",
        "0.275393977097\n",
        "3.61836343853\n",
        "0.276368036818\n",
        "3.63116143837\n",
        "0.275393979853\n",
        "3.6311614752\n",
        "0.275393977059\n",
        "3.6311614752\n",
        "0.275393977059\n",
        "3.63116117158\n",
        "0.275394000086\n",
        "3.63116147506\n",
        "0.27539397707\n",
        "3.61836343838\n",
        "0.276368036829\n",
        "3.63116143872\n",
        "0.275393979826\n",
        "3.63116147528\n",
        "0.275393977053\n",
        "3.63116147528\n",
        "0.275393977053"
       ]
      },
      {
       "output_type": "stream",
       "stream": "stdout",
       "text": [
        "\n",
        "3.63116117166\n",
        "0.275394000081\n",
        "3.63116147514\n",
        "0.275393977064\n",
        "3.61836343835\n",
        "0.276368036831\n",
        "3.6311614388\n",
        "0.27539397982\n",
        "3.63116147529\n",
        "0.275393977052\n",
        "3.63116147529\n",
        "0.275393977052\n",
        "3.63116117167\n",
        "0.275394000079\n",
        "3.63116147515\n",
        "0.275393977063\n",
        "3.61836343835\n",
        "0.276368036832\n",
        "3.63116143882\n",
        "0.275393979819\n",
        "3.6311614753\n",
        "0.275393977052\n",
        "3.6311614753\n",
        "0.275393977052\n",
        "3.63116117168\n",
        "0.275394000079\n",
        "3.63116147516\n",
        "0.275393977063\n",
        "3.61836343835"
       ]
      },
      {
       "output_type": "stream",
       "stream": "stdout",
       "text": [
        "\n",
        "0.276368036832\n",
        "3.63116143882\n",
        "0.275393979819\n",
        "3.6311614753\n",
        "0.275393977052\n",
        "3.6311614753\n",
        "0.275393977052\n",
        "3.63116117168\n",
        "0.275394000079\n",
        "3.63116147516\n",
        "0.275393977063\n",
        "3.61836343835\n",
        "0.276368036832\n",
        "3.63116143882\n",
        "0.275393979818\n",
        "3.6311614753\n",
        "0.275393977052\n",
        "3.6311614753\n",
        "0.275393977052\n",
        "3.63116117168\n",
        "0.275394000079\n",
        "3.63116147516\n",
        "0.275393977062\n",
        "3.61836343835\n",
        "0.276368036832\n",
        "3.63116143882\n",
        "0.275393979818\n",
        "3.6311614753"
       ]
      },
      {
       "output_type": "stream",
       "stream": "stdout",
       "text": [
        "\n",
        "0.275393977052\n",
        "3.6311614753\n",
        "0.275393977052\n",
        "3.63116117168\n",
        "0.275394000079\n",
        "3.63116147516\n",
        "0.275393977062\n",
        "3.61836343835\n",
        "0.276368036832\n",
        "3.63116143882\n",
        "0.275393979818\n",
        "3.6311614753\n",
        "0.275393977052\n",
        "3.6311614753\n",
        "0.275393977052\n",
        "3.63116117168\n",
        "0.275394000079\n",
        "3.63116147516\n",
        "0.275393977062\n",
        "3.61836343835\n",
        "0.276368036832\n",
        "3.63116143882"
       ]
      },
      {
       "output_type": "stream",
       "stream": "stdout",
       "text": [
        "\n",
        "0.275393979818\n",
        "3.6311614753\n",
        "0.275393977052\n",
        "3.6311614753\n",
        "0.275393977052\n",
        "3.63116117168\n",
        "0.275394000079\n",
        "3.63116147516\n",
        "0.275393977062\n",
        "3.61836343835\n",
        "0.276368036832\n",
        "3.63116143882\n",
        "0.275393979818\n",
        "3.6311614753\n",
        "0.275393977052\n",
        "3.6311614753\n",
        "0.275393977052\n",
        "3.63116117168\n",
        "0.275394000079\n",
        "3.63116147516\n",
        "0.275393977062\n",
        "3.61836343835\n",
        "0.276368036832\n",
        "3.63116143882\n",
        "0.275393979818\n",
        "3.6311614753\n",
        "0.275393977052\n",
        "3.6311614753\n",
        "0.275393977052\n",
        "3.63116117168"
       ]
      },
      {
       "output_type": "stream",
       "stream": "stdout",
       "text": [
        "\n",
        "0.275394000079\n",
        "3.63116147516\n",
        "0.275393977062\n",
        "3.61836343835\n",
        "0.276368036832\n",
        "3.63116143882\n",
        "0.275393979818\n",
        "3.6311614753\n",
        "0.275393977052\n",
        "3.6311614753\n",
        "0.275393977052\n",
        "3.63116117168\n",
        "0.275394000079\n",
        "3.63116147516\n",
        "0.275393977062\n",
        "3.61836343835\n",
        "0.276368036832\n",
        "3.63116143882\n",
        "0.275393979818\n",
        "3.6311614753\n",
        "0.275393977052\n",
        "3.6311614753\n",
        "0.275393977052\n",
        "3.63116117168\n",
        "0.275394000079\n",
        "3.63116147516\n",
        "0.275393977062\n",
        "3.61836343835"
       ]
      },
      {
       "output_type": "stream",
       "stream": "stdout",
       "text": [
        "\n",
        "0.276368036832\n",
        "3.63116143882\n",
        "0.275393979818\n",
        "3.6311614753\n",
        "0.275393977052\n",
        "3.6311614753\n",
        "0.275393977052\n",
        "3.63116117168\n",
        "0.275394000079\n",
        "3.63116147516\n",
        "0.275393977062\n",
        "3.61836343835\n",
        "0.276368036832\n",
        "3.63116143882\n",
        "0.275393979818\n",
        "3.6311614753\n",
        "0.275393977052\n",
        "3.6311614753\n",
        "0.275393977052\n",
        "3.63116117168\n",
        "0.275394000079\n",
        "3.63116147516\n",
        "0.275393977062\n",
        "3.61836343835\n",
        "0.276368036832\n",
        "3.63116143882\n",
        "0.275393979818\n"
       ]
      },
      {
       "metadata": {},
       "output_type": "pyout",
       "prompt_number": 70,
       "text": [
        "(array([-1.54061115,  1.46490229,  3.00384439,  0.67812716]),\n",
        " 0.27539397705193702,\n",
        " {'funcalls': 127,\n",
        "  'grad': array([  2.30272256e+00,   1.05491726e-03,   9.74059780e+04,\n",
        "         2.76650641e-01]),\n",
        "  'nit': 8,\n",
        "  'task': b'CONVERGENCE: REL_REDUCTION_OF_F_<=_FACTR*EPSMCH',\n",
        "  'warnflag': 0})"
       ]
      }
     ],
     "prompt_number": 70
    },
    {
     "cell_type": "code",
     "collapsed": false,
     "input": [],
     "language": "python",
     "metadata": {},
     "outputs": []
    }
   ],
   "metadata": {}
  }
 ]
}