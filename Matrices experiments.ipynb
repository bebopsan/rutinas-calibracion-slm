{
 "metadata": {
  "name": ""
 },
 "nbformat": 3,
 "nbformat_minor": 0,
 "worksheets": [
  {
   "cells": [
    {
     "cell_type": "code",
     "collapsed": false,
     "input": [
      "from sympy import Matrix, exp, pi, sqrt, sign, cos, sin, init_session, symbols\n",
      "\n",
      "init_session(quiet = True)\n",
      "\n",
      "M = Matrix([[ 1 - 1*1j, 1-1*1j],\\\n",
      "           [-1 - 1*1j, 1+1*1j]])\n",
      "\n",
      "V = Matrix([[ 1 , 0],\\\n",
      "            [ 0 , 0]])\n",
      "\n",
      "QWP = Matrix([[ 1 , 0],\\\n",
      "            [ 0 , -1j]])\n"
     ],
     "language": "python",
     "metadata": {},
     "outputs": [
      {
       "output_type": "stream",
       "stream": "stdout",
       "text": [
        "IPython console for SymPy 0.7.4.1 (Python 3.3.3-64-bit) (ground types: python)\n"
       ]
      }
     ],
     "prompt_number": 2
    },
    {
     "cell_type": "code",
     "collapsed": false,
     "input": [
      "def Rotate( element, theta):     \n",
      "    \"\"\"Applies a rotation on any polarizing element given \n",
      "    its Jones matrix representation and a angle of rotation.\n",
      "    The angle is to be ginven in radians and the matrix.  \n",
      "    \n",
      "    \"\"\"\n",
      "    \n",
      "    assert isinstance(element, Matrix)\n",
      "    assert element.shape == (2,2)\n",
      "    \n",
      "    rotator = Matrix([[ cos(theta), sin(theta)],\\\n",
      "                      [-sin(theta), cos(theta)]])\n",
      "    return rotator.transpose()*element*rotator"
     ],
     "language": "python",
     "metadata": {},
     "outputs": [],
     "prompt_number": 3
    },
    {
     "cell_type": "code",
     "collapsed": false,
     "input": [
      "H = Rotate(V,pi/2)\n",
      "r_45 = Rotate(V,pi/4)\n",
      "r_m45 = Rotate(V,-pi/4)\n",
      "r_30 = Rotate(V,pi/6)\n",
      "r_m60 = Rotate(V,-pi/3)\n"
     ],
     "language": "python",
     "metadata": {},
     "outputs": [],
     "prompt_number": 4
    },
    {
     "cell_type": "code",
     "collapsed": false,
     "input": [
      "print(r_45)\n",
      "print(r_30)\n",
      "print(r_60)"
     ],
     "language": "python",
     "metadata": {},
     "outputs": [
      {
       "ename": "NameError",
       "evalue": "name 'r_60' is not defined",
       "output_type": "pyerr",
       "traceback": [
        "\u001b[0;31m---------------------------------------------------------------------------\u001b[0m\n\u001b[0;31mNameError\u001b[0m                                 Traceback (most recent call last)",
        "\u001b[0;32m<ipython-input-5-95943e85ed9f>\u001b[0m in \u001b[0;36m<module>\u001b[0;34m()\u001b[0m\n\u001b[1;32m      1\u001b[0m \u001b[0mprint\u001b[0m\u001b[0;34m(\u001b[0m\u001b[0mr_45\u001b[0m\u001b[0;34m)\u001b[0m\u001b[0;34m\u001b[0m\u001b[0m\n\u001b[1;32m      2\u001b[0m \u001b[0mprint\u001b[0m\u001b[0;34m(\u001b[0m\u001b[0mr_30\u001b[0m\u001b[0;34m)\u001b[0m\u001b[0;34m\u001b[0m\u001b[0m\n\u001b[0;32m----> 3\u001b[0;31m \u001b[0mprint\u001b[0m\u001b[0;34m(\u001b[0m\u001b[0mr_60\u001b[0m\u001b[0;34m)\u001b[0m\u001b[0;34m\u001b[0m\u001b[0m\n\u001b[0m",
        "\u001b[0;31mNameError\u001b[0m: name 'r_60' is not defined"
       ]
      },
      {
       "output_type": "stream",
       "stream": "stdout",
       "text": [
        "Matrix([[1/2, 1/2], [1/2, 1/2]])\n",
        "Matrix([[3/4, sqrt(3)/4], [sqrt(3)/4, 1/4]])\n"
       ]
      }
     ],
     "prompt_number": 5
    },
    {
     "cell_type": "code",
     "collapsed": false,
     "input": [
      "print(H*V)\n",
      "print(r_45*r_m45)\n",
      "print(r_30*r_m60)\n",
      "\n",
      "from sympy import init_printing, latex\n",
      "init_printing()\n",
      "print(latex(H))\n"
     ],
     "language": "python",
     "metadata": {},
     "outputs": [
      {
       "output_type": "stream",
       "stream": "stdout",
       "text": [
        "Matrix([[0, 0], [0, 0]])\n",
        "Matrix([[0, 0], [0, 0]])\n",
        "Matrix([[0, 0], [0, 0]])\n",
        "\\left[\\begin{matrix}0 & 0\\\\0 & 1\\end{matrix}\\right]\n"
       ]
      }
     ],
     "prompt_number": 6
    },
    {
     "cell_type": "code",
     "collapsed": false,
     "input": [
      "r_60 = Rotate(V,pi/3)\n",
      "r_30 = Rotate(V,pi/6)\n",
      "r_225 = Rotate(V,pi/8)\n",
      "r_675 = Rotate(V,3*pi/8)\n",
      "r_1125 = Rotate(V,5*pi/8)\n",
      "r_m675 = Rotate(V,-3*pi/8)\n",
      "R_m135 = Rotate(QWP,-3*pi/4)\n",
      "R_105 = Rotate(QWP, 7*pi/12)\n",
      "R_90 = Rotate(QWP, pi/2)\n",
      "R_45 = Rotate(QWP, pi/4)\n",
      "R_225 = Rotate(QWP, pi/8)\n",
      "R_30 = Rotate(QWP, pi/6)\n",
      "R_60 = Rotate(QWP, pi/3)\n",
      "R_675 = Rotate(QWP, 3*pi/8)\n",
      "R_m45 = Rotate(QWP, -pi/4)"
     ],
     "language": "python",
     "metadata": {},
     "outputs": [],
     "prompt_number": 55
    },
    {
     "cell_type": "code",
     "collapsed": false,
     "input": [
      "((R_105*r_60*Matrix([[1],[0]]))/(R_105*r_60*Matrix([[1],[0]]))[0]).evalf()"
     ],
     "language": "python",
     "metadata": {},
     "outputs": [
      {
       "latex": [
        "$$\\left[\\begin{matrix}1.0\\\\-2.71050543121376 \\cdot 10^{-20} + 1.0 i\\end{matrix}\\right]$$"
       ],
       "metadata": {},
       "output_type": "pyout",
       "png": "[encoded data removed]",
       "prompt_number": 44,
       "text": [
        "\u23a1             1.0             \u23a4\n",
        "\u23a2                             \u23a5\n",
        "\u23a3-2.71050543121376e-20 + 1.0\u22c5\u2148\u23a6"
       ]
      }
     ],
     "prompt_number": 44
    },
    {
     "cell_type": "code",
     "collapsed": false,
     "input": [
      "Matrix([[cos(pi/3)],[sin(pi/3)*exp(pi*1j/2)]])\n"
     ],
     "language": "python",
     "metadata": {},
     "outputs": [
      {
       "latex": [
        "$$\\left[\\begin{matrix}\\frac{1}{2}\\\\\\frac{\\sqrt{3}}{2} e^{0.5 i \\pi}\\end{matrix}\\right]$$"
       ],
       "metadata": {},
       "output_type": "pyout",
       "png": "[encoded data removed]",
       "prompt_number": 45,
       "text": [
        "\u23a1     1/2      \u23a4\n",
        "\u23a2              \u23a5\n",
        "\u23a2  ___  0.5\u22c5\u2148\u22c5\u03c0\u23a5\n",
        "\u23a2\u2572\u2571 3 \u22c5\u212f       \u23a5\n",
        "\u23a2\u2500\u2500\u2500\u2500\u2500\u2500\u2500\u2500\u2500\u2500\u2500\u2500\u2500\u2500\u23a5\n",
        "\u23a3      2       \u23a6"
       ]
      }
     ],
     "prompt_number": 45
    },
    {
     "cell_type": "code",
     "collapsed": false,
     "input": [
      "(R_90*r_60*Matrix([[1],[0]]))/-.5j"
     ],
     "language": "python",
     "metadata": {},
     "outputs": [
      {
       "latex": [
        "$$\\left[\\begin{matrix}0.5\\\\0.5 \\sqrt{3} i\\end{matrix}\\right]$$"
       ],
       "metadata": {},
       "output_type": "pyout",
       "png": "[encoded data removed]",
       "prompt_number": 46,
       "text": [
        "\u23a1    0.5    \u23a4\n",
        "\u23a2           \u23a5\n",
        "\u23a2      ___  \u23a5\n",
        "\u23a30.5\u22c5\u2572\u2571 3 \u22c5\u2148\u23a6"
       ]
      }
     ],
     "prompt_number": 46
    },
    {
     "cell_type": "code",
     "collapsed": false,
     "input": [
      "QWP*r_30*Matrix([[1],[0]])"
     ],
     "language": "python",
     "metadata": {},
     "outputs": [
      {
       "latex": [
        "$$\\left[\\begin{matrix}\\frac{3}{4}\\\\- 0.25 \\sqrt{3} i\\end{matrix}\\right]$$"
       ],
       "metadata": {},
       "output_type": "pyout",
       "png": "[encoded data removed]",
       "prompt_number": 47,
       "text": [
        "\u23a1     3/4     \u23a4\n",
        "\u23a2             \u23a5\n",
        "\u23a2        ___  \u23a5\n",
        "\u23a3-0.25\u22c5\u2572\u2571 3 \u22c5\u2148\u23a6"
       ]
      }
     ],
     "prompt_number": 47
    },
    {
     "cell_type": "code",
     "collapsed": false,
     "input": [
      "Matrix([[cos(pi/6)],[sin(pi/6)*exp(0)]])"
     ],
     "language": "python",
     "metadata": {},
     "outputs": [
      {
       "latex": [
        "$$\\left[\\begin{matrix}\\frac{\\sqrt{3}}{2}\\\\\\frac{1}{2}\\end{matrix}\\right]$$"
       ],
       "metadata": {},
       "output_type": "pyout",
       "png": "[encoded data removed]",
       "prompt_number": 48,
       "text": [
        "\u23a1  ___\u23a4\n",
        "\u23a2\u2572\u2571 3 \u23a5\n",
        "\u23a2\u2500\u2500\u2500\u2500\u2500\u23a5\n",
        "\u23a2  2  \u23a5\n",
        "\u23a2     \u23a5\n",
        "\u23a3 1/2 \u23a6"
       ]
      }
     ],
     "prompt_number": 48
    },
    {
     "cell_type": "code",
     "collapsed": false,
     "input": [
      "(R_30*r_30*Matrix([[1],[0]])).evalf()"
     ],
     "language": "python",
     "metadata": {},
     "outputs": [
      {
       "latex": [
        "$$\\left[\\begin{matrix}0.75 - 7.0 \\cdot 10^{-24} i\\\\0.433012701892219 - 2.0 \\cdot 10^{-21} i\\end{matrix}\\right]$$"
       ],
       "metadata": {},
       "output_type": "pyout",
       "png": "[encoded data removed]",
       "prompt_number": 49,
       "text": [
        "\u23a1      0.75 - 0.e-23\u22c5\u2148       \u23a4\n",
        "\u23a2                            \u23a5\n",
        "\u23a30.433012701892219 - 0.e-21\u22c5\u2148\u23a6"
       ]
      }
     ],
     "prompt_number": 49
    },
    {
     "cell_type": "code",
     "collapsed": false,
     "input": [
      "(0.25*sqrt(3)).evalf()"
     ],
     "language": "python",
     "metadata": {},
     "outputs": [
      {
       "latex": [
        "$$0.433012701892219$$"
       ],
       "metadata": {},
       "output_type": "pyout",
       "png": "[encoded data removed]",
       "prompt_number": 50,
       "text": [
        "0.433012701892219"
       ]
      }
     ],
     "prompt_number": 50
    },
    {
     "cell_type": "code",
     "collapsed": false,
     "input": [
      "0.75/0.433012701892219"
     ],
     "language": "python",
     "metadata": {},
     "outputs": [
      {
       "latex": [
        "$$1.7320508075688785$$"
       ],
       "metadata": {},
       "output_type": "pyout",
       "png": "[encoded data removed]",
       "prompt_number": 51,
       "text": [
        "1.7320508075688785"
       ]
      }
     ],
     "prompt_number": 51
    },
    {
     "cell_type": "code",
     "collapsed": false,
     "input": [
      "sqrt(3).evalf()"
     ],
     "language": "python",
     "metadata": {},
     "outputs": [
      {
       "latex": [
        "$$1.73205080756888$$"
       ],
       "metadata": {},
       "output_type": "pyout",
       "png": "[encoded data removed]",
       "prompt_number": 52,
       "text": [
        "1.73205080756888"
       ]
      }
     ],
     "prompt_number": 52
    },
    {
     "cell_type": "code",
     "collapsed": false,
     "input": [
      "( r_225*QWP*R_90*r_225*Matrix([[1],[0]])).evalf()"
     ],
     "language": "python",
     "metadata": {},
     "outputs": [
      {
       "latex": [
        "$$\\left[\\begin{matrix}- 0.853553390593274 i\\\\- 0.353553390593274 i\\end{matrix}\\right]$$"
       ],
       "metadata": {},
       "output_type": "pyout",
       "png": "[encoded data removed]",
       "prompt_number": 53,
       "text": [
        "\u23a1-0.853553390593274\u22c5\u2148\u23a4\n",
        "\u23a2                    \u23a5\n",
        "\u23a3-0.353553390593274\u22c5\u2148\u23a6"
       ]
      }
     ],
     "prompt_number": 53
    },
    {
     "cell_type": "code",
     "collapsed": false,
     "input": [
      "Matrix([[cos(pi/8)],[sin(pi/8)*exp(pi*1j/2)]]).evalf()/Matrix([[cos(pi/8)],[sin(pi/8)*exp(pi*1j/2)]])[0].evalf()"
     ],
     "language": "python",
     "metadata": {},
     "outputs": [
      {
       "latex": [
        "$$\\left[\\begin{matrix}1.0\\\\4.37533747288054 \\cdot 10^{-24} + 0.414213562373095 i\\end{matrix}\\right]$$"
       ],
       "metadata": {},
       "output_type": "pyout",
       "png": "[encoded data removed]",
       "prompt_number": 54,
       "text": [
        "\u23a1                   1.0                    \u23a4\n",
        "\u23a2                                          \u23a5\n",
        "\u23a34.37533747288054e-24 + 0.414213562373095\u22c5\u2148\u23a6"
       ]
      }
     ],
     "prompt_number": 54
    },
    {
     "cell_type": "code",
     "collapsed": false,
     "input": [
      "(R_m135*r_m675*Matrix([[1],[0]]))"
     ],
     "language": "python",
     "metadata": {},
     "outputs": [
      {
       "latex": [
        "$$\\left[\\begin{matrix}- \\left(\\frac{1}{2} + 0.5 i\\right) \\sqrt{- \\frac{\\sqrt{2}}{4} + \\frac{1}{2}} \\sqrt{\\frac{\\sqrt{2}}{4} + \\frac{1}{2}} + \\left(\\frac{1}{2} - 0.5 i\\right) \\left(- \\frac{\\sqrt{2}}{4} + \\frac{1}{2}\\right)\\\\\\left(\\frac{1}{2} + 0.5 i\\right) \\left(- \\frac{\\sqrt{2}}{4} + \\frac{1}{2}\\right) - \\left(\\frac{1}{2} - 0.5 i\\right) \\sqrt{- \\frac{\\sqrt{2}}{4} + \\frac{1}{2}} \\sqrt{\\frac{\\sqrt{2}}{4} + \\frac{1}{2}}\\end{matrix}\\right]$$"
       ],
       "metadata": {},
       "output_type": "pyout",
       "png": "[encoded data removed]",
       "prompt_number": 55,
       "text": [
        "\u23a1                     _____________      ___________                          \n",
        "\u23a2                    \u2571     ___          \u2571   ___                      \u239b    ___ \n",
        "\u23a2                   \u2571    \u2572\u2571 2    1     \u2571  \u2572\u2571 2    1                  \u239c  \u2572\u2571 2  \n",
        "\u23a2- (1/2 + 0.5\u22c5\u2148)\u22c5  \u2571   - \u2500\u2500\u2500\u2500\u2500 + \u2500 \u22c5  \u2571   \u2500\u2500\u2500\u2500\u2500 + \u2500  + (1/2 - 0.5\u22c5\u2148)\u22c5\u239c- \u2500\u2500\u2500\u2500\u2500 \n",
        "\u23a2                \u2572\u2571        4     2  \u2572\u2571      4     2                  \u239d    4   \n",
        "\u23a2                                                                             \n",
        "\u23a2                                                  _____________      ________\n",
        "\u23a2               \u239b    ___    \u239e                     \u2571     ___          \u2571   ___  \n",
        "\u23a2               \u239c  \u2572\u2571 2    1\u239f                    \u2571    \u2572\u2571 2    1     \u2571  \u2572\u2571 2   \n",
        "\u23a2 (1/2 + 0.5\u22c5\u2148)\u22c5\u239c- \u2500\u2500\u2500\u2500\u2500 + \u2500\u239f - (1/2 - 0.5\u22c5\u2148)\u22c5  \u2571   - \u2500\u2500\u2500\u2500\u2500 + \u2500 \u22c5  \u2571   \u2500\u2500\u2500\u2500\u2500 +\n",
        "\u23a3               \u239d    4     2\u23a0                 \u2572\u2571        4     2  \u2572\u2571      4    \n",
        "\n",
        "    \u23a4\n",
        "   \u239e\u23a5\n",
        "  1\u239f\u23a5\n",
        "+ \u2500\u239f\u23a5\n",
        "  2\u23a0\u23a5\n",
        "    \u23a5\n",
        "___ \u23a5\n",
        "    \u23a5\n",
        " 1  \u23a5\n",
        " \u2500  \u23a5\n",
        " 2  \u23a6"
       ]
      }
     ],
     "prompt_number": 55
    },
    {
     "cell_type": "code",
     "collapsed": false,
     "input": [
      "((R_675*r_225*Matrix([[1],[0]])).evalf()/(R_675*r_225*Matrix([[1],[0]]))[0].evalf()).evalf()"
     ],
     "language": "python",
     "metadata": {},
     "outputs": [
      {
       "latex": [
        "$$\\left[\\begin{matrix}1.0\\\\1.0 i\\end{matrix}\\right]$$"
       ],
       "metadata": {},
       "output_type": "pyout",
       "png": "[encoded data removed]",
       "prompt_number": 94,
       "text": [
        "\u23a1 1.0 \u23a4\n",
        "\u23a2     \u23a5\n",
        "\u23a31.0\u22c5\u2148\u23a6"
       ]
      }
     ],
     "prompt_number": 94
    },
    {
     "cell_type": "code",
     "collapsed": false,
     "input": [
      "((r_225*R_90*Matrix([[1],[0]])).evalf()/(r_225*R_90*Matrix([[1],[0]]))[0].evalf()).evalf()"
     ],
     "language": "python",
     "metadata": {},
     "outputs": [
      {
       "latex": [
        "$$\\left[\\begin{matrix}1.0\\\\0.414213562373095\\end{matrix}\\right]$$"
       ],
       "metadata": {},
       "output_type": "pyout",
       "png": "[encoded data removed]",
       "prompt_number": 92,
       "text": [
        "\u23a1       1.0       \u23a4\n",
        "\u23a2                 \u23a5\n",
        "\u23a30.414213562373095\u23a6"
       ]
      }
     ],
     "prompt_number": 92
    },
    {
     "cell_type": "code",
     "collapsed": false,
     "input": [
      "Matrix([[cos(pi/8)],[sin(pi/8)*exp(pi*1j/2)]]).H.evalf()/Matrix([[cos(pi/8)],[sin(pi/8)*exp(pi*1j/2)]])[0].evalf()"
     ],
     "language": "python",
     "metadata": {},
     "outputs": [
      {
       "latex": [
        "$$\\left[\\begin{matrix}1.0 & 4.37533747288054 \\cdot 10^{-24} - 0.414213562373095 i\\end{matrix}\\right]$$"
       ],
       "metadata": {},
       "output_type": "pyout",
       "png": "[encoded data removed]",
       "prompt_number": 59,
       "text": [
        "[1.0  4.37533747288054e-24 - 0.414213562373095\u22c5\u2148]"
       ]
      }
     ],
     "prompt_number": 59
    },
    {
     "cell_type": "code",
     "collapsed": false,
     "input": [
      "(Rotate(QWP,pi/8)*Rotate(QWP,pi/8+pi/2)).evalf()"
     ],
     "language": "python",
     "metadata": {},
     "outputs": [
      {
       "latex": [
        "$$\\left[\\begin{matrix}-7.0 \\cdot 10^{-24} - 1.0 i & 6.0 \\cdot 10^{-126} + 3.0 \\cdot 10^{-126} i\\\\6.0 \\cdot 10^{-126} + 3.0 \\cdot 10^{-126} i & -7.0 \\cdot 10^{-24} - 1.0 i\\end{matrix}\\right]$$"
       ],
       "metadata": {},
       "output_type": "pyout",
       "png": "[encoded data removed]",
       "prompt_number": 60,
       "text": [
        "\u23a1  -0.e-23 - 1.0\u22c5\u2148    0.e-125 + 0.e-126\u22c5\u2148\u23a4\n",
        "\u23a2                                        \u23a5\n",
        "\u23a30.e-125 + 0.e-126\u22c5\u2148    -0.e-23 - 1.0\u22c5\u2148  \u23a6"
       ]
      }
     ],
     "prompt_number": 60
    },
    {
     "cell_type": "code",
     "collapsed": false,
     "input": [
      "((Matrix([[cos(pi/8)],[sin(pi/8)*exp(pi*1j/2)]]).H).evalf()*Matrix([[cos(-3*pi/8)],[sin(-3*pi/8)*exp(pi*1j/2)]]).evalf()).evalf()"
     ],
     "language": "python",
     "metadata": {},
     "outputs": [
      {
       "latex": [
        "$$\\left[\\begin{matrix}6.0 \\cdot 10^{-126}\\end{matrix}\\right]$$"
       ],
       "metadata": {},
       "output_type": "pyout",
       "png": "[encoded data removed]",
       "prompt_number": 61,
       "text": [
        "[0.e-125]"
       ]
      }
     ],
     "prompt_number": 61
    },
    {
     "cell_type": "code",
     "collapsed": false,
     "input": [
      "Matrix([[cos(-3*pi/8)],[sin(-3*pi/8)*exp(pi*1j/2)]]).evalf()/Matrix([[cos(-3*pi/8)],[sin(-3*pi/8)*exp(pi*1j/2)]])[0].evalf()"
     ],
     "language": "python",
     "metadata": {},
     "outputs": [
      {
       "latex": [
        "$$\\left[\\begin{matrix}1.0\\\\-2.55013356068554 \\cdot 10^{-23} - 2.41421356237309 i\\end{matrix}\\right]$$"
       ],
       "metadata": {},
       "output_type": "pyout",
       "png": "[encoded data removed]",
       "prompt_number": 62,
       "text": [
        "\u23a1                   1.0                    \u23a4\n",
        "\u23a2                                          \u23a5\n",
        "\u23a3-2.55013356068554e-23 - 2.41421356237309\u22c5\u2148\u23a6"
       ]
      }
     ],
     "prompt_number": 62
    },
    {
     "cell_type": "code",
     "collapsed": false,
     "input": [
      "Matrix([[cos(pi/8)],[sin(pi/8)*exp(pi*1j/2)]]).evalf()/Matrix([[cos(pi/8)],[sin(pi/8)*exp(pi*1j/2)]])[0].evalf()"
     ],
     "language": "python",
     "metadata": {},
     "outputs": [
      {
       "latex": [
        "$$\\left[\\begin{matrix}1.0\\\\4.37533747288054 \\cdot 10^{-24} + 0.414213562373095 i\\end{matrix}\\right]$$"
       ],
       "metadata": {},
       "output_type": "pyout",
       "png": "[encoded data removed]",
       "prompt_number": 63,
       "text": [
        "\u23a1                   1.0                    \u23a4\n",
        "\u23a2                                          \u23a5\n",
        "\u23a34.37533747288054e-24 + 0.414213562373095\u22c5\u2148\u23a6"
       ]
      }
     ],
     "prompt_number": 63
    },
    {
     "cell_type": "code",
     "collapsed": false,
     "input": [
      "(R_90*r_m45*Matrix([[1],[0]]))/(R_90*r_m45*Matrix([[1],[0]]))[0]"
     ],
     "language": "python",
     "metadata": {},
     "outputs": [
      {
       "latex": [
        "$$\\left[\\begin{matrix}1.0\\\\- 1.0 i\\end{matrix}\\right]$$"
       ],
       "metadata": {},
       "output_type": "pyout",
       "png": "[encoded data removed]",
       "prompt_number": 67,
       "text": [
        "\u23a1 1.0  \u23a4\n",
        "\u23a2      \u23a5\n",
        "\u23a3-1.0\u22c5\u2148\u23a6"
       ]
      }
     ],
     "prompt_number": 67
    },
    {
     "cell_type": "code",
     "collapsed": false,
     "input": [
      "r_m45*QWP*R_90*r_m45*Matrix([[x],[y]])/(r_m45*QWP*R_90*r_m45*Matrix([[1],[0]]))[0]"
     ],
     "language": "python",
     "metadata": {},
     "outputs": [
      {
       "latex": [
        "$$\\left[\\begin{matrix}2.0 i \\left(- 0.5 i x + 0.5 i y\\right)\\\\2.0 i \\left(0.5 i x - 0.5 i y\\right)\\end{matrix}\\right]$$"
       ],
       "metadata": {},
       "output_type": "pyout",
       "png": "[encoded data removed]",
       "prompt_number": 78,
       "text": [
        "\u23a12.0\u22c5\u2148\u22c5(-0.5\u22c5\u2148\u22c5x + 0.5\u22c5\u2148\u22c5y)\u23a4\n",
        "\u23a2                          \u23a5\n",
        "\u23a32.0\u22c5\u2148\u22c5(0.5\u22c5\u2148\u22c5x - 0.5\u22c5\u2148\u22c5y) \u23a6"
       ]
      }
     ],
     "prompt_number": 78
    },
    {
     "cell_type": "code",
     "collapsed": false,
     "input": [
      "x,y =symbols('x, y')"
     ],
     "language": "python",
     "metadata": {},
     "outputs": [],
     "prompt_number": 72
    },
    {
     "cell_type": "code",
     "collapsed": false,
     "input": [
      "r_45*r_45*Matrix([[x],[y]])"
     ],
     "language": "python",
     "metadata": {},
     "outputs": [
      {
       "latex": [
        "$$\\left[\\begin{matrix}\\frac{x}{2} + \\frac{y}{2}\\\\\\frac{x}{2} + \\frac{y}{2}\\end{matrix}\\right]$$"
       ],
       "metadata": {},
       "output_type": "pyout",
       "png": "[encoded data removed]",
       "prompt_number": 81,
       "text": [
        "\u23a1x   y\u23a4\n",
        "\u23a2\u2500 + \u2500\u23a5\n",
        "\u23a22   2\u23a5\n",
        "\u23a2     \u23a5\n",
        "\u23a2x   y\u23a5\n",
        "\u23a2\u2500 + \u2500\u23a5\n",
        "\u23a32   2\u23a6"
       ]
      }
     ],
     "prompt_number": 81
    },
    {
     "cell_type": "code",
     "collapsed": false,
     "input": [
      "Matrix([[cos(pi/8)],[sin(pi/8)*exp(pi*1j/2)]]).evalf()"
     ],
     "language": "python",
     "metadata": {},
     "outputs": [
      {
       "latex": [
        "$$\\left[\\begin{matrix}0.923879532511287\\\\4.04228473902399 \\cdot 10^{-24} + 0.38268343236509 i\\end{matrix}\\right]$$"
       ],
       "metadata": {},
       "output_type": "pyout",
       "png": "[encoded data removed]",
       "prompt_number": 95,
       "text": [
        "\u23a1            0.923879532511287            \u23a4\n",
        "\u23a2                                         \u23a5\n",
        "\u23a34.04228473902399e-24 + 0.38268343236509\u22c5\u2148\u23a6"
       ]
      }
     ],
     "prompt_number": 95
    },
    {
     "cell_type": "code",
     "collapsed": false,
     "input": [
      "angle(0.38268343236509j)"
     ],
     "language": "python",
     "metadata": {},
     "outputs": [
      {
       "latex": [
        "$$1.57079632679$$"
       ],
       "metadata": {},
       "output_type": "pyout",
       "png": "[encoded data removed]",
       "prompt_number": 98,
       "text": [
        "1.57079632679"
       ]
      }
     ],
     "prompt_number": 98
    },
    {
     "cell_type": "code",
     "collapsed": false,
     "input": [
      "(pi/2).evalf()"
     ],
     "language": "python",
     "metadata": {},
     "outputs": [
      {
       "latex": [
        "$$1.5707963267949$$"
       ],
       "metadata": {},
       "output_type": "pyout",
       "png": "[encoded data removed]",
       "prompt_number": 101,
       "text": [
        "1.57079632679490"
       ]
      }
     ],
     "prompt_number": 101
    },
    {
     "cell_type": "code",
     "collapsed": false,
     "input": [
      "(((R_225*r_1125*Matrix([[1],[0]])).evalf())/((R_225*r_1125*Matrix([[1],[0]]))[0].evalf())).evalf()"
     ],
     "language": "python",
     "metadata": {},
     "outputs": [
      {
       "latex": [
        "$$\\left[\\begin{matrix}1.0\\\\-2.4142135623731 - 1.20387126225656 \\cdot 10^{-22} i\\end{matrix}\\right]$$"
       ],
       "metadata": {},
       "output_type": "pyout",
       "png": "[encoded data removed]",
       "prompt_number": 65,
       "text": [
        "\u23a1                   1.0                   \u23a4\n",
        "\u23a2                                         \u23a5\n",
        "\u23a3-2.4142135623731 - 1.20387126225656e-22\u22c5\u2148\u23a6"
       ]
      }
     ],
     "prompt_number": 65
    },
    {
     "cell_type": "code",
     "collapsed": false,
     "input": [
      "from polarization_routines import plot_ellipse\n",
      "\n",
      "plot_ellipse(R_225*r_45*Matrix([[1],[0]]))\n",
      "plot_ellipse(R_225*V*Matrix([[1],[0]]))"
     ],
     "language": "python",
     "metadata": {},
     "outputs": [
      {
       "metadata": {},
       "output_type": "pyout",
       "prompt_number": 15,
       "text": [
        "'done'"
       ]
      }
     ],
     "prompt_number": 15
    },
    {
     "cell_type": "code",
     "collapsed": false,
     "input": [
      "plot_ellipse(R_45*H*Matrix([[1],[0]]))"
     ],
     "language": "python",
     "metadata": {},
     "outputs": [
      {
       "metadata": {},
       "output_type": "pyout",
       "prompt_number": 68,
       "text": [
        "'done'"
       ]
      }
     ],
     "prompt_number": 68
    },
    {
     "cell_type": "code",
     "collapsed": false,
     "input": [
      "plot_ellipse(R_225*r_1125*Matrix([[cos(5*pi/8)],[sin(5*pi/8)*exp(0)]]))"
     ],
     "language": "python",
     "metadata": {},
     "outputs": [
      {
       "metadata": {},
       "output_type": "pyout",
       "prompt_number": 71,
       "text": [
        "'done'"
       ]
      }
     ],
     "prompt_number": 71
    },
    {
     "cell_type": "code",
     "collapsed": false,
     "input": [
      "Matrix([[cos(5*pi/8)],[sin(5*pi/8)*exp(0)]]).evalf()"
     ],
     "language": "python",
     "metadata": {},
     "outputs": [
      {
       "latex": [
        "$$\\left[\\begin{matrix}-0.38268343236509\\\\0.923879532511287\\end{matrix}\\right]$$"
       ],
       "metadata": {},
       "output_type": "pyout",
       "png": "[encoded data removed]",
       "prompt_number": 70,
       "text": [
        "\u23a1-0.38268343236509\u23a4\n",
        "\u23a2                 \u23a5\n",
        "\u23a30.923879532511287\u23a6"
       ]
      }
     ],
     "prompt_number": 70
    },
    {
     "cell_type": "code",
     "collapsed": false,
     "input": [
      "plot_ellipse(R_m45*r_m45*Matrix([[sqrt(2)/2],[-sqrt(2)/2]]))"
     ],
     "language": "python",
     "metadata": {},
     "outputs": [
      {
       "metadata": {},
       "output_type": "pyout",
       "prompt_number": 81,
       "text": [
        "'done'"
       ]
      }
     ],
     "prompt_number": 81
    },
    {
     "cell_type": "code",
     "collapsed": false,
     "input": [
      "(R_225*r_1125*Matrix([[cos(5*pi/8)],[sin(5*pi/8)*exp(0)]])).evalf()"
     ],
     "language": "python",
     "metadata": {},
     "outputs": [
      {
       "latex": [
        "$$\\left[\\begin{matrix}-9.57030648654473 \\cdot 10^{-29} + 0.38268343236509 i\\\\2.09069262276757 \\cdot 10^{-29} - 0.923879532511287 i\\end{matrix}\\right]$$"
       ],
       "metadata": {},
       "output_type": "pyout",
       "png": "[encoded data removed]",
       "prompt_number": 73,
       "text": [
        "\u23a1-9.57030648654473e-29 + 0.38268343236509\u22c5\u2148\u23a4\n",
        "\u23a2                                          \u23a5\n",
        "\u23a32.09069262276757e-29 - 0.923879532511287\u22c5\u2148\u23a6"
       ]
      }
     ],
     "prompt_number": 73
    },
    {
     "cell_type": "code",
     "collapsed": false,
     "input": [],
     "language": "python",
     "metadata": {},
     "outputs": []
    }
   ],
   "metadata": {}
  }
 ]
}