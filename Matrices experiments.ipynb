{
 "metadata": {
  "name": ""
 },
 "nbformat": 3,
 "nbformat_minor": 0,
 "worksheets": [
  {
   "cells": [
    {
     "cell_type": "code",
     "collapsed": false,
     "input": [
      "from sympy import Matrix, exp, pi, sqrt, sign, cos, sin, init_session, symbols\n",
      "\n",
      "init_session(quiet = True)\n",
      "\n",
      "M = Matrix([[ 1 - 1*1j, 1-1*1j],\\\n",
      "           [-1 - 1*1j, 1+1*1j]])\n",
      "\n",
      "V = Matrix([[ 1 , 0],\\\n",
      "            [ 0 , 0]])\n",
      "\n",
      "QWP = Matrix([[ 1 , 0],\\\n",
      "            [ 0 , -1j]])\n"
     ],
     "language": "python",
     "metadata": {},
     "outputs": [
      {
       "output_type": "stream",
       "stream": "stdout",
       "text": [
        "IPython console for SymPy 0.7.4.1 (Python 3.3.3-64-bit) (ground types: python)\n"
       ]
      }
     ],
     "prompt_number": 1
    },
    {
     "cell_type": "code",
     "collapsed": false,
     "input": [
      "def Rotate( element, theta):     \n",
      "    \"\"\"Applies a rotation on any polarizing element given \n",
      "    its Jones matrix representation and a angle of rotation.\n",
      "    The angle is to be ginven in radians and the matrix.  \n",
      "    \n",
      "    \"\"\"\n",
      "    \n",
      "    assert isinstance(element, Matrix)\n",
      "    assert element.shape == (2,2)\n",
      "    \n",
      "    rotator = Matrix([[ cos(theta), sin(theta)],\\\n",
      "                      [-sin(theta), cos(theta)]])\n",
      "    return rotator.transpose()*element*rotator"
     ],
     "language": "python",
     "metadata": {},
     "outputs": [],
     "prompt_number": 2
    },
    {
     "cell_type": "code",
     "collapsed": false,
     "input": [
      "H = Rotate(V,pi/2)\n",
      "r_45 = Rotate(V,pi/4)\n",
      "r_m45 = Rotate(V,-pi/4)\n",
      "r_30 = Rotate(V,pi/6)\n",
      "r_m60 = Rotate(V,-pi/3)\n"
     ],
     "language": "python",
     "metadata": {},
     "outputs": [],
     "prompt_number": 3
    },
    {
     "cell_type": "code",
     "collapsed": false,
     "input": [
      "print(r_45)\n",
      "print(r_30)\n",
      "print(r_60)"
     ],
     "language": "python",
     "metadata": {},
     "outputs": [
      {
       "ename": "NameError",
       "evalue": "name 'r_60' is not defined",
       "output_type": "pyerr",
       "traceback": [
        "\u001b[0;31m---------------------------------------------------------------------------\u001b[0m\n\u001b[0;31mNameError\u001b[0m                                 Traceback (most recent call last)",
        "\u001b[0;32m<ipython-input-4-95943e85ed9f>\u001b[0m in \u001b[0;36m<module>\u001b[0;34m()\u001b[0m\n\u001b[1;32m      1\u001b[0m \u001b[0mprint\u001b[0m\u001b[0;34m(\u001b[0m\u001b[0mr_45\u001b[0m\u001b[0;34m)\u001b[0m\u001b[0;34m\u001b[0m\u001b[0m\n\u001b[1;32m      2\u001b[0m \u001b[0mprint\u001b[0m\u001b[0;34m(\u001b[0m\u001b[0mr_30\u001b[0m\u001b[0;34m)\u001b[0m\u001b[0;34m\u001b[0m\u001b[0m\n\u001b[0;32m----> 3\u001b[0;31m \u001b[0mprint\u001b[0m\u001b[0;34m(\u001b[0m\u001b[0mr_60\u001b[0m\u001b[0;34m)\u001b[0m\u001b[0;34m\u001b[0m\u001b[0m\n\u001b[0m",
        "\u001b[0;31mNameError\u001b[0m: name 'r_60' is not defined"
       ]
      },
      {
       "output_type": "stream",
       "stream": "stdout",
       "text": [
        "Matrix([[1/2, 1/2], [1/2, 1/2]])\n",
        "Matrix([[3/4, sqrt(3)/4], [sqrt(3)/4, 1/4]])\n"
       ]
      }
     ],
     "prompt_number": 4
    },
    {
     "cell_type": "code",
     "collapsed": false,
     "input": [
      "print(H*V)\n",
      "print(r_45*r_m45)\n",
      "print(r_30*r_m60)\n",
      "\n",
      "from sympy import init_printing, latex\n",
      "init_printing()\n",
      "print(latex(H))\n"
     ],
     "language": "python",
     "metadata": {},
     "outputs": [
      {
       "output_type": "stream",
       "stream": "stdout",
       "text": [
        "Matrix([[0, 0], [0, 0]])\n",
        "Matrix([[0, 0], [0, 0]])\n",
        "Matrix([[0, 0], [0, 0]])\n",
        "\\left[\\begin{matrix}0 & 0\\\\0 & 1\\end{matrix}\\right]\n"
       ]
      }
     ],
     "prompt_number": 5
    },
    {
     "cell_type": "code",
     "collapsed": false,
     "input": [
      "r_60 = Rotate(V,pi/3)\n",
      "r_30 = Rotate(V,pi/6)\n",
      "r_225 = Rotate(V,pi/8)\n",
      "r_m225 = Rotate(V,-pi/8)\n",
      "r_675 = Rotate(V,3*pi/8)\n",
      "r_1125 = Rotate(V,5*pi/8)\n",
      "r_m675 = Rotate(V,-3*pi/8)\n",
      "R_m135 = Rotate(QWP,-3*pi/4)\n",
      "R_105 = Rotate(QWP, 7*pi/12)\n",
      "R_1125 = Rotate(QWP, 5*pi/8)\n",
      "\n",
      "R_90 = Rotate(QWP, pi/2)\n",
      "R_45 = Rotate(QWP, pi/4)\n",
      "R_225 = Rotate(QWP, pi/8)\n",
      "R_m225 = Rotate(QWP, -pi/8)\n",
      "R_30 = Rotate(QWP, pi/6)\n",
      "R_60 = Rotate(QWP, pi/3)\n",
      "R_675 = Rotate(QWP, 3*pi/8)\n",
      "R_m45 = Rotate(QWP, -pi/4)"
     ],
     "language": "python",
     "metadata": {},
     "outputs": [],
     "prompt_number": 257
    },
    {
     "cell_type": "code",
     "collapsed": false,
     "input": [
      "((R_105*r_60*Matrix([[1],[0]]))/(R_105*r_60*Matrix([[1],[0]]))[0]).evalf()"
     ],
     "language": "python",
     "metadata": {},
     "outputs": [
      {
       "latex": [
        "$$\\left[\\begin{smallmatrix}{}1.0\\\\-2.71050543121376 \\cdot 10^{-20} + 1.0 i\\end{smallmatrix}\\right]$$"
       ],
       "metadata": {},
       "output_type": "pyout",
       "prompt_number": 7,
       "text": [
        "\u23a1             1.0             \u23a4\n",
        "\u23a2                             \u23a5\n",
        "\u23a3-2.71050543121376e-20 + 1.0\u22c5\u2148\u23a6"
       ]
      }
     ],
     "prompt_number": 7
    },
    {
     "cell_type": "code",
     "collapsed": false,
     "input": [
      "Matrix([[cos(pi/3)],[sin(pi/3)*exp(pi*1j/2)]])\n"
     ],
     "language": "python",
     "metadata": {},
     "outputs": [
      {
       "latex": [
        "$$\\left[\\begin{smallmatrix}{}\\frac{1}{2}\\\\\\frac{\\sqrt{3}}{2} e^{0.5 i \\pi}\\end{smallmatrix}\\right]$$"
       ],
       "metadata": {},
       "output_type": "pyout",
       "prompt_number": 8,
       "text": [
        "\u23a1     1/2      \u23a4\n",
        "\u23a2              \u23a5\n",
        "\u23a2  ___  0.5\u22c5\u2148\u22c5\u03c0\u23a5\n",
        "\u23a2\u2572\u2571 3 \u22c5\u212f       \u23a5\n",
        "\u23a2\u2500\u2500\u2500\u2500\u2500\u2500\u2500\u2500\u2500\u2500\u2500\u2500\u2500\u2500\u23a5\n",
        "\u23a3      2       \u23a6"
       ]
      }
     ],
     "prompt_number": 8
    },
    {
     "cell_type": "code",
     "collapsed": false,
     "input": [
      "(R_90*r_60*Matrix([[1],[0]]))/-.5j"
     ],
     "language": "python",
     "metadata": {},
     "outputs": [
      {
       "latex": [
        "$$\\left[\\begin{smallmatrix}{}0.5\\\\0.5 \\sqrt{3} i\\end{smallmatrix}\\right]$$"
       ],
       "metadata": {},
       "output_type": "pyout",
       "prompt_number": 9,
       "text": [
        "\u23a1    0.5    \u23a4\n",
        "\u23a2           \u23a5\n",
        "\u23a2      ___  \u23a5\n",
        "\u23a30.5\u22c5\u2572\u2571 3 \u22c5\u2148\u23a6"
       ]
      }
     ],
     "prompt_number": 9
    },
    {
     "cell_type": "code",
     "collapsed": false,
     "input": [
      "QWP*r_30*Matrix([[1],[0]])"
     ],
     "language": "python",
     "metadata": {},
     "outputs": [
      {
       "latex": [
        "$$\\left[\\begin{smallmatrix}{}\\frac{3}{4}\\\\- 0.25 \\sqrt{3} i\\end{smallmatrix}\\right]$$"
       ],
       "metadata": {},
       "output_type": "pyout",
       "prompt_number": 10,
       "text": [
        "\u23a1     3/4     \u23a4\n",
        "\u23a2             \u23a5\n",
        "\u23a2        ___  \u23a5\n",
        "\u23a3-0.25\u22c5\u2572\u2571 3 \u22c5\u2148\u23a6"
       ]
      }
     ],
     "prompt_number": 10
    },
    {
     "cell_type": "code",
     "collapsed": false,
     "input": [
      "Matrix([[cos(pi/6)],[sin(pi/6)*exp(0)]])"
     ],
     "language": "python",
     "metadata": {},
     "outputs": [
      {
       "latex": [
        "$$\\left[\\begin{smallmatrix}{}\\frac{\\sqrt{3}}{2}\\\\\\frac{1}{2}\\end{smallmatrix}\\right]$$"
       ],
       "metadata": {},
       "output_type": "pyout",
       "prompt_number": 11,
       "text": [
        "\u23a1  ___\u23a4\n",
        "\u23a2\u2572\u2571 3 \u23a5\n",
        "\u23a2\u2500\u2500\u2500\u2500\u2500\u23a5\n",
        "\u23a2  2  \u23a5\n",
        "\u23a2     \u23a5\n",
        "\u23a3 1/2 \u23a6"
       ]
      }
     ],
     "prompt_number": 11
    },
    {
     "cell_type": "code",
     "collapsed": false,
     "input": [
      "(R_30*r_30*Matrix([[1],[0]])).evalf()"
     ],
     "language": "python",
     "metadata": {},
     "outputs": [
      {
       "latex": [
        "$$\\left[\\begin{smallmatrix}{}0.75 - 7.0 \\cdot 10^{-24} i\\\\0.433012701892219 - 2.0 \\cdot 10^{-21} i\\end{smallmatrix}\\right]$$"
       ],
       "metadata": {},
       "output_type": "pyout",
       "prompt_number": 12,
       "text": [
        "\u23a1      0.75 - 0.e-23\u22c5\u2148       \u23a4\n",
        "\u23a2                            \u23a5\n",
        "\u23a30.433012701892219 - 0.e-21\u22c5\u2148\u23a6"
       ]
      }
     ],
     "prompt_number": 12
    },
    {
     "cell_type": "code",
     "collapsed": false,
     "input": [
      "(0.25*sqrt(3)).evalf()"
     ],
     "language": "python",
     "metadata": {},
     "outputs": [
      {
       "latex": [
        "$$0.433012701892219$$"
       ],
       "metadata": {},
       "output_type": "pyout",
       "prompt_number": 13,
       "text": [
        "0.433012701892219"
       ]
      }
     ],
     "prompt_number": 13
    },
    {
     "cell_type": "code",
     "collapsed": false,
     "input": [
      "0.75/0.433012701892219"
     ],
     "language": "python",
     "metadata": {},
     "outputs": [
      {
       "latex": [
        "$$1.7320508075688785$$"
       ],
       "metadata": {},
       "output_type": "pyout",
       "prompt_number": 14,
       "text": [
        "1.7320508075688785"
       ]
      }
     ],
     "prompt_number": 14
    },
    {
     "cell_type": "code",
     "collapsed": false,
     "input": [
      "sqrt(3).evalf()"
     ],
     "language": "python",
     "metadata": {},
     "outputs": [
      {
       "latex": [
        "$$1.73205080756888$$"
       ],
       "metadata": {},
       "output_type": "pyout",
       "prompt_number": 15,
       "text": [
        "1.73205080756888"
       ]
      }
     ],
     "prompt_number": 15
    },
    {
     "cell_type": "code",
     "collapsed": false,
     "input": [
      "( r_225*QWP*R_90*r_225*Matrix([[1],[0]])).evalf()"
     ],
     "language": "python",
     "metadata": {},
     "outputs": [
      {
       "latex": [
        "$$\\left[\\begin{smallmatrix}{}- 0.853553390593274 i\\\\- 0.353553390593274 i\\end{smallmatrix}\\right]$$"
       ],
       "metadata": {},
       "output_type": "pyout",
       "prompt_number": 16,
       "text": [
        "\u23a1-0.853553390593274\u22c5\u2148\u23a4\n",
        "\u23a2                    \u23a5\n",
        "\u23a3-0.353553390593274\u22c5\u2148\u23a6"
       ]
      }
     ],
     "prompt_number": 16
    },
    {
     "cell_type": "code",
     "collapsed": false,
     "input": [
      "Matrix([[cos(pi/8)],[sin(pi/8)*exp(pi*1j/2)]]).evalf()/Matrix([[cos(pi/8)],[sin(pi/8)*exp(pi*1j/2)]])[0].evalf()"
     ],
     "language": "python",
     "metadata": {},
     "outputs": [
      {
       "latex": [
        "$$\\left[\\begin{smallmatrix}{}1.0\\\\4.37533747288054 \\cdot 10^{-24} + 0.414213562373095 i\\end{smallmatrix}\\right]$$"
       ],
       "metadata": {},
       "output_type": "pyout",
       "prompt_number": 17,
       "text": [
        "\u23a1                   1.0                    \u23a4\n",
        "\u23a2                                          \u23a5\n",
        "\u23a34.37533747288054e-24 + 0.414213562373095\u22c5\u2148\u23a6"
       ]
      }
     ],
     "prompt_number": 17
    },
    {
     "cell_type": "code",
     "collapsed": false,
     "input": [
      "(R_m135*r_m675*Matrix([[1],[0]]))"
     ],
     "language": "python",
     "metadata": {},
     "outputs": [
      {
       "latex": [
        "$$\\left[\\begin{smallmatrix}{}- \\left(\\frac{1}{2} + 0.5 i\\right) \\sqrt{- \\frac{\\sqrt{2}}{4} + \\frac{1}{2}} \\sqrt{\\frac{\\sqrt{2}}{4} + \\frac{1}{2}} + \\left(\\frac{1}{2} - 0.5 i\\right) \\left(- \\frac{\\sqrt{2}}{4} + \\frac{1}{2}\\right)\\\\\\left(\\frac{1}{2} + 0.5 i\\right) \\left(- \\frac{\\sqrt{2}}{4} + \\frac{1}{2}\\right) - \\left(\\frac{1}{2} - 0.5 i\\right) \\sqrt{- \\frac{\\sqrt{2}}{4} + \\frac{1}{2}} \\sqrt{\\frac{\\sqrt{2}}{4} + \\frac{1}{2}}\\end{smallmatrix}\\right]$$"
       ],
       "metadata": {},
       "output_type": "pyout",
       "prompt_number": 18,
       "text": [
        "\u23a1                     _____________      ___________                          \n",
        "\u23a2                    \u2571     ___          \u2571   ___                      \u239b    ___ \n",
        "\u23a2                   \u2571    \u2572\u2571 2    1     \u2571  \u2572\u2571 2    1                  \u239c  \u2572\u2571 2  \n",
        "\u23a2- (1/2 + 0.5\u22c5\u2148)\u22c5  \u2571   - \u2500\u2500\u2500\u2500\u2500 + \u2500 \u22c5  \u2571   \u2500\u2500\u2500\u2500\u2500 + \u2500  + (1/2 - 0.5\u22c5\u2148)\u22c5\u239c- \u2500\u2500\u2500\u2500\u2500 \n",
        "\u23a2                \u2572\u2571        4     2  \u2572\u2571      4     2                  \u239d    4   \n",
        "\u23a2                                                                             \n",
        "\u23a2                                                  _____________      ________\n",
        "\u23a2               \u239b    ___    \u239e                     \u2571     ___          \u2571   ___  \n",
        "\u23a2               \u239c  \u2572\u2571 2    1\u239f                    \u2571    \u2572\u2571 2    1     \u2571  \u2572\u2571 2   \n",
        "\u23a2 (1/2 + 0.5\u22c5\u2148)\u22c5\u239c- \u2500\u2500\u2500\u2500\u2500 + \u2500\u239f - (1/2 - 0.5\u22c5\u2148)\u22c5  \u2571   - \u2500\u2500\u2500\u2500\u2500 + \u2500 \u22c5  \u2571   \u2500\u2500\u2500\u2500\u2500 +\n",
        "\u23a3               \u239d    4     2\u23a0                 \u2572\u2571        4     2  \u2572\u2571      4    \n",
        "\n",
        "    \u23a4\n",
        "   \u239e\u23a5\n",
        "  1\u239f\u23a5\n",
        "+ \u2500\u239f\u23a5\n",
        "  2\u23a0\u23a5\n",
        "    \u23a5\n",
        "___ \u23a5\n",
        "    \u23a5\n",
        " 1  \u23a5\n",
        " \u2500  \u23a5\n",
        " 2  \u23a6"
       ]
      }
     ],
     "prompt_number": 18
    },
    {
     "cell_type": "code",
     "collapsed": false,
     "input": [
      "((R_675*r_225*Matrix([[1],[0]])).evalf()/(R_675*r_225*Matrix([[1],[0]]))[0].evalf()).evalf()"
     ],
     "language": "python",
     "metadata": {},
     "outputs": [
      {
       "latex": [
        "$$\\left[\\begin{smallmatrix}{}1.0\\\\1.0 i\\end{smallmatrix}\\right]$$"
       ],
       "metadata": {},
       "output_type": "pyout",
       "prompt_number": 19,
       "text": [
        "\u23a1 1.0 \u23a4\n",
        "\u23a2     \u23a5\n",
        "\u23a31.0\u22c5\u2148\u23a6"
       ]
      }
     ],
     "prompt_number": 19
    },
    {
     "cell_type": "code",
     "collapsed": false,
     "input": [
      "((r_225*R_90*Matrix([[1],[0]])).evalf()/(r_225*R_90*Matrix([[1],[0]]))[0].evalf()).evalf()"
     ],
     "language": "python",
     "metadata": {},
     "outputs": [
      {
       "latex": [
        "$$\\left[\\begin{smallmatrix}{}1.0\\\\0.414213562373095\\end{smallmatrix}\\right]$$"
       ],
       "metadata": {},
       "output_type": "pyout",
       "prompt_number": 20,
       "text": [
        "\u23a1       1.0       \u23a4\n",
        "\u23a2                 \u23a5\n",
        "\u23a30.414213562373095\u23a6"
       ]
      }
     ],
     "prompt_number": 20
    },
    {
     "cell_type": "code",
     "collapsed": false,
     "input": [
      "Matrix([[cos(pi/8)],[sin(pi/8)*exp(pi*1j/2)]]).H.evalf()/Matrix([[cos(pi/8)],[sin(pi/8)*exp(pi*1j/2)]])[0].evalf()"
     ],
     "language": "python",
     "metadata": {},
     "outputs": [
      {
       "latex": [
        "$$\\left[\\begin{smallmatrix}{}1.0 & 4.37533747288054 \\cdot 10^{-24} - 0.414213562373095 i\\end{smallmatrix}\\right]$$"
       ],
       "metadata": {},
       "output_type": "pyout",
       "prompt_number": 21,
       "text": [
        "[1.0  4.37533747288054e-24 - 0.414213562373095\u22c5\u2148]"
       ]
      }
     ],
     "prompt_number": 21
    },
    {
     "cell_type": "code",
     "collapsed": false,
     "input": [
      "(Rotate(QWP,pi/8)*Rotate(QWP,pi/8+pi/2)).evalf()"
     ],
     "language": "python",
     "metadata": {},
     "outputs": [
      {
       "latex": [
        "$$\\left[\\begin{smallmatrix}{}-7.0 \\cdot 10^{-24} - 1.0 i & 6.0 \\cdot 10^{-126} + 3.0 \\cdot 10^{-126} i\\\\6.0 \\cdot 10^{-126} + 3.0 \\cdot 10^{-126} i & -7.0 \\cdot 10^{-24} - 1.0 i\\end{smallmatrix}\\right]$$"
       ],
       "metadata": {},
       "output_type": "pyout",
       "prompt_number": 22,
       "text": [
        "\u23a1  -0.e-23 - 1.0\u22c5\u2148    0.e-125 + 0.e-126\u22c5\u2148\u23a4\n",
        "\u23a2                                        \u23a5\n",
        "\u23a30.e-125 + 0.e-126\u22c5\u2148    -0.e-23 - 1.0\u22c5\u2148  \u23a6"
       ]
      }
     ],
     "prompt_number": 22
    },
    {
     "cell_type": "code",
     "collapsed": false,
     "input": [
      "((Matrix([[cos(pi/8)],[sin(pi/8)*exp(pi*1j/2)]]).H).evalf()*Matrix([[cos(-3*pi/8)],[sin(-3*pi/8)*exp(pi*1j/2)]]).evalf()).evalf()"
     ],
     "language": "python",
     "metadata": {},
     "outputs": [
      {
       "latex": [
        "$$\\left[\\begin{smallmatrix}{}6.0 \\cdot 10^{-126}\\end{smallmatrix}\\right]$$"
       ],
       "metadata": {},
       "output_type": "pyout",
       "prompt_number": 23,
       "text": [
        "[0.e-125]"
       ]
      }
     ],
     "prompt_number": 23
    },
    {
     "cell_type": "code",
     "collapsed": false,
     "input": [
      "Matrix([[cos(-3*pi/8)],[sin(-3*pi/8)*exp(pi*1j/2)]]).evalf()/Matrix([[cos(-3*pi/8)],[sin(-3*pi/8)*exp(pi*1j/2)]])[0].evalf()"
     ],
     "language": "python",
     "metadata": {},
     "outputs": [
      {
       "latex": [
        "$$\\left[\\begin{smallmatrix}{}1.0\\\\-2.55013356068554 \\cdot 10^{-23} - 2.41421356237309 i\\end{smallmatrix}\\right]$$"
       ],
       "metadata": {},
       "output_type": "pyout",
       "prompt_number": 24,
       "text": [
        "\u23a1                   1.0                    \u23a4\n",
        "\u23a2                                          \u23a5\n",
        "\u23a3-2.55013356068554e-23 - 2.41421356237309\u22c5\u2148\u23a6"
       ]
      }
     ],
     "prompt_number": 24
    },
    {
     "cell_type": "code",
     "collapsed": false,
     "input": [
      "Matrix([[cos(pi/8)],[sin(pi/8)*exp(pi*1j/2)]]).evalf()/Matrix([[cos(pi/8)],[sin(pi/8)*exp(pi*1j/2)]])[0].evalf()"
     ],
     "language": "python",
     "metadata": {},
     "outputs": [
      {
       "latex": [
        "$$\\left[\\begin{smallmatrix}{}1.0\\\\4.37533747288054 \\cdot 10^{-24} + 0.414213562373095 i\\end{smallmatrix}\\right]$$"
       ],
       "metadata": {},
       "output_type": "pyout",
       "prompt_number": 25,
       "text": [
        "\u23a1                   1.0                    \u23a4\n",
        "\u23a2                                          \u23a5\n",
        "\u23a34.37533747288054e-24 + 0.414213562373095\u22c5\u2148\u23a6"
       ]
      }
     ],
     "prompt_number": 25
    },
    {
     "cell_type": "code",
     "collapsed": false,
     "input": [
      "(R_90*r_m45*Matrix([[1],[0]]))/(R_90*r_m45*Matrix([[1],[0]]))[0]"
     ],
     "language": "python",
     "metadata": {},
     "outputs": [
      {
       "latex": [
        "$$\\left[\\begin{smallmatrix}{}1.0\\\\- 1.0 i\\end{smallmatrix}\\right]$$"
       ],
       "metadata": {},
       "output_type": "pyout",
       "prompt_number": 26,
       "text": [
        "\u23a1 1.0  \u23a4\n",
        "\u23a2      \u23a5\n",
        "\u23a3-1.0\u22c5\u2148\u23a6"
       ]
      }
     ],
     "prompt_number": 26
    },
    {
     "cell_type": "code",
     "collapsed": false,
     "input": [
      "r_m45*QWP*R_90*r_m45*Matrix([[x],[y]])/(r_m45*QWP*R_90*r_m45*Matrix([[1],[0]]))[0]"
     ],
     "language": "python",
     "metadata": {},
     "outputs": [
      {
       "latex": [
        "$$\\left[\\begin{smallmatrix}{}2.0 i \\left(- 0.5 i x + 0.5 i y\\right)\\\\2.0 i \\left(0.5 i x - 0.5 i y\\right)\\end{smallmatrix}\\right]$$"
       ],
       "metadata": {},
       "output_type": "pyout",
       "prompt_number": 27,
       "text": [
        "\u23a12.0\u22c5\u2148\u22c5(-0.5\u22c5\u2148\u22c5x + 0.5\u22c5\u2148\u22c5y)\u23a4\n",
        "\u23a2                          \u23a5\n",
        "\u23a32.0\u22c5\u2148\u22c5(0.5\u22c5\u2148\u22c5x - 0.5\u22c5\u2148\u22c5y) \u23a6"
       ]
      }
     ],
     "prompt_number": 27
    },
    {
     "cell_type": "code",
     "collapsed": false,
     "input": [
      "x,y =symbols('x, y')"
     ],
     "language": "python",
     "metadata": {},
     "outputs": [],
     "prompt_number": 28
    },
    {
     "cell_type": "code",
     "collapsed": false,
     "input": [
      "r_45*r_45*Matrix([[x],[y]])"
     ],
     "language": "python",
     "metadata": {},
     "outputs": [
      {
       "latex": [
        "$$\\left[\\begin{smallmatrix}{}\\frac{x}{2} + \\frac{y}{2}\\\\\\frac{x}{2} + \\frac{y}{2}\\end{smallmatrix}\\right]$$"
       ],
       "metadata": {},
       "output_type": "pyout",
       "prompt_number": 29,
       "text": [
        "\u23a1x   y\u23a4\n",
        "\u23a2\u2500 + \u2500\u23a5\n",
        "\u23a22   2\u23a5\n",
        "\u23a2     \u23a5\n",
        "\u23a2x   y\u23a5\n",
        "\u23a2\u2500 + \u2500\u23a5\n",
        "\u23a32   2\u23a6"
       ]
      }
     ],
     "prompt_number": 29
    },
    {
     "cell_type": "code",
     "collapsed": false,
     "input": [
      "Matrix([[cos(pi/8)],[sin(pi/8)*exp(pi*1j/2)]]).evalf()"
     ],
     "language": "python",
     "metadata": {},
     "outputs": [
      {
       "latex": [
        "$$\\left[\\begin{smallmatrix}{}0.923879532511287\\\\4.04228473902399 \\cdot 10^{-24} + 0.38268343236509 i\\end{smallmatrix}\\right]$$"
       ],
       "metadata": {},
       "output_type": "pyout",
       "prompt_number": 30,
       "text": [
        "\u23a1            0.923879532511287            \u23a4\n",
        "\u23a2                                         \u23a5\n",
        "\u23a34.04228473902399e-24 + 0.38268343236509\u22c5\u2148\u23a6"
       ]
      }
     ],
     "prompt_number": 30
    },
    {
     "cell_type": "code",
     "collapsed": false,
     "input": [
      "angle(0.38268343236509j)"
     ],
     "language": "python",
     "metadata": {},
     "outputs": [
      {
       "latex": [
        "$$1.57079632679$$"
       ],
       "metadata": {},
       "output_type": "pyout",
       "prompt_number": 31,
       "text": [
        "1.57079632679"
       ]
      }
     ],
     "prompt_number": 31
    },
    {
     "cell_type": "code",
     "collapsed": false,
     "input": [
      "(pi/2).evalf()"
     ],
     "language": "python",
     "metadata": {},
     "outputs": [
      {
       "latex": [
        "$$1.5707963267949$$"
       ],
       "metadata": {},
       "output_type": "pyout",
       "prompt_number": 32,
       "text": [
        "1.57079632679490"
       ]
      }
     ],
     "prompt_number": 32
    },
    {
     "cell_type": "code",
     "collapsed": false,
     "input": [
      "(((R_225*r_1125*Matrix([[1],[0]])).evalf())/((R_225*r_1125*Matrix([[1],[0]]))[0].evalf())).evalf()"
     ],
     "language": "python",
     "metadata": {},
     "outputs": [
      {
       "latex": [
        "$$\\left[\\begin{smallmatrix}{}1.0\\\\-2.4142135623731 - 1.20387126225656 \\cdot 10^{-22} i\\end{smallmatrix}\\right]$$"
       ],
       "metadata": {},
       "output_type": "pyout",
       "prompt_number": 33,
       "text": [
        "\u23a1                   1.0                   \u23a4\n",
        "\u23a2                                         \u23a5\n",
        "\u23a3-2.4142135623731 - 1.20387126225656e-22\u22c5\u2148\u23a6"
       ]
      }
     ],
     "prompt_number": 33
    },
    {
     "cell_type": "code",
     "collapsed": false,
     "input": [
      "from polarization_routines import plot_ellipse\n",
      "\n",
      "plot_ellipse(R_225*r_45*Matrix([[1],[0]]))\n",
      "plot_ellipse(R_225*V*Matrix([[1],[0]]))"
     ],
     "language": "python",
     "metadata": {},
     "outputs": [
      {
       "metadata": {},
       "output_type": "pyout",
       "prompt_number": 8,
       "text": [
        "'done'"
       ]
      }
     ],
     "prompt_number": 8
    },
    {
     "cell_type": "code",
     "collapsed": false,
     "input": [
      "plot_ellipse(R_225*H*Matrix([[1/sqrt(2)],[1/sqrt(2)]]))"
     ],
     "language": "python",
     "metadata": {},
     "outputs": [
      {
       "metadata": {},
       "output_type": "pyout",
       "prompt_number": 141,
       "text": [
        "'done'"
       ]
      }
     ],
     "prompt_number": 141
    },
    {
     "cell_type": "code",
     "collapsed": false,
     "input": [
      "plot_ellipse(R_225*r_45*Matrix([[1/sqrt(2)],[1/sqrt(2)]]))"
     ],
     "language": "python",
     "metadata": {},
     "outputs": [
      {
       "metadata": {},
       "output_type": "pyout",
       "prompt_number": 157,
       "text": [
        "'done'"
       ]
      }
     ],
     "prompt_number": 157
    },
    {
     "cell_type": "code",
     "collapsed": false,
     "input": [
      "Matrix([[cos(3*pi/8)],[sin(3*pi/8)*exp()]]).evalf()"
     ],
     "language": "python",
     "metadata": {},
     "outputs": [
      {
       "latex": [
        "$$\\left[\\begin{smallmatrix}{}-0.38268343236509\\\\0.923879532511287\\end{smallmatrix}\\right]$$"
       ],
       "metadata": {},
       "output_type": "pyout",
       "prompt_number": 37,
       "text": [
        "\u23a1-0.38268343236509\u23a4\n",
        "\u23a2                 \u23a5\n",
        "\u23a30.923879532511287\u23a6"
       ]
      }
     ],
     "prompt_number": 37
    },
    {
     "cell_type": "code",
     "collapsed": false,
     "input": [
      "plot_ellipse(R_675*H*Matrix([[1/sqrt(2)],[1/sqrt(2)]]))"
     ],
     "language": "python",
     "metadata": {},
     "outputs": [
      {
       "metadata": {},
       "output_type": "pyout",
       "prompt_number": 148,
       "text": [
        "'done'"
       ]
      }
     ],
     "prompt_number": 148
    },
    {
     "cell_type": "code",
     "collapsed": false,
     "input": [
      "plot_ellipse(Matrix([[cos(pi/8)],[sin(pi/8)*exp(1j*6*pi/8)]]))\n",
      "plot_ellipse(Matrix([[cos(5*pi/8)],[sin(5*pi/8)*exp(1j*6*pi/8)]]))"
     ],
     "language": "python",
     "metadata": {},
     "outputs": [
      {
       "metadata": {},
       "output_type": "pyout",
       "prompt_number": 39,
       "text": [
        "'done'"
       ]
      }
     ],
     "prompt_number": 39
    },
    {
     "cell_type": "code",
     "collapsed": false,
     "input": [
      "(R_1125*R_225*H).evalf()"
     ],
     "language": "python",
     "metadata": {},
     "outputs": [
      {
       "latex": [
        "$$\\left[\\begin{smallmatrix}{}0 & 6.0 \\cdot 10^{-126} + 3.0 \\cdot 10^{-126} i\\\\0 & -7.0 \\cdot 10^{-24} - 1.0 i\\end{smallmatrix}\\right]$$"
       ],
       "metadata": {},
       "output_type": "pyout",
       "prompt_number": 40,
       "text": [
        "\u23a10  0.e-125 + 0.e-126\u22c5\u2148\u23a4\n",
        "\u23a2                      \u23a5\n",
        "\u23a30    -0.e-23 - 1.0\u22c5\u2148  \u23a6"
       ]
      }
     ],
     "prompt_number": 40
    },
    {
     "cell_type": "code",
     "collapsed": false,
     "input": [
      "plot_ellipse(Matrix([[cos(pi/128)],[sin(pi/128)*(exp(1j*pi/4))]]))"
     ],
     "language": "python",
     "metadata": {},
     "outputs": [
      {
       "metadata": {},
       "output_type": "pyout",
       "prompt_number": 290,
       "text": [
        "'done'"
       ]
      }
     ],
     "prompt_number": 290
    },
    {
     "cell_type": "code",
     "collapsed": false,
     "input": [
      "plot_ellipse(Matrix([[cos(-0.43307956358421984)],[sin(-0.43307956358421984)*(exp(1j*-1.6137844363714395))]]))"
     ],
     "language": "python",
     "metadata": {},
     "outputs": [
      {
       "metadata": {},
       "output_type": "pyout",
       "prompt_number": 389,
       "text": [
        "'done'"
       ]
      }
     ],
     "prompt_number": 389
    },
    {
     "cell_type": "code",
     "collapsed": false,
     "input": [
      "d = -0.43307956358421984+0.806892218185720\n",
      "print(d)\n",
      "pru=((d)*180/pi).evalf()\n",
      "print('pru',pru)\n",
      "pru2 = ((3*pi/4*90)/pi).evalf()\n",
      "print('pru2',pru2)\n",
      "pru3 = ((-46.2315186239909*pi)/180).evalf()\n",
      "print('pru3',pru3)\n",
      "print('d', d)\n",
      "deg = (d*180/pi).evalf()\n",
      "print(deg)\n",
      "print('d', d)"
     ],
     "language": "python",
     "metadata": {},
     "outputs": [
      {
       "output_type": "stream",
       "stream": "stdout",
       "text": [
        "0.37381265460150015\n",
        "pru 21.4178874372476\n",
        "pru2 67.5000000000000\n",
        "pru3 -0.806892218185720\n",
        "d 0.37381265460150015\n",
        "21.4178874372476\n",
        "d 0.37381265460150015\n"
       ]
      }
     ],
     "prompt_number": 273
    },
    {
     "cell_type": "code",
     "collapsed": false,
     "input": [
      "r_8 = Rotate(V,-0.43307956358421984)\n",
      "R_65 = Rotate(QWP,0.01578672)\n",
      "\n",
      "plot_ellipse(R_65*r_8*Matrix([[cos(0.43307956358421984)],[sin(0.43307956358421984)*(exp(1j*0))]]))\n",
      "\n"
     ],
     "language": "python",
     "metadata": {},
     "outputs": [
      {
       "metadata": {},
       "output_type": "pyout",
       "prompt_number": 390,
       "text": [
        "'done'"
       ]
      }
     ],
     "prompt_number": 390
    },
    {
     "cell_type": "code",
     "collapsed": false,
     "input": [
      "pi.evalf()-1.6137844363714395"
     ],
     "language": "python",
     "metadata": {},
     "outputs": [
      {
       "latex": [
        "$$1.52780821721835$$"
       ],
       "metadata": {},
       "output_type": "pyout",
       "prompt_number": 198,
       "text": [
        "1.52780821721835"
       ]
      }
     ],
     "prompt_number": 198
    },
    {
     "cell_type": "code",
     "collapsed": false,
     "input": [
      "plot_ellipse(Matrix([[cos(-0.23404404231888243)],[sin(-0.23404404231888243)*(exp(1j*-0.0073492291316602015))]]))"
     ],
     "language": "python",
     "metadata": {},
     "outputs": [
      {
       "metadata": {},
       "output_type": "pyout",
       "prompt_number": 309,
       "text": [
        "'done'"
       ]
      }
     ],
     "prompt_number": 309
    },
    {
     "cell_type": "code",
     "collapsed": false,
     "input": [
      "d = -0.23404404231888243-0.0073492291316602015\n",
      "print(d)\n",
      "pru=((-0.23404404231888243)*180/(2*pi)).evalf()\n",
      "print(pru)\n",
      "pru2 = ((pi/4*2*pi)/180).evalf()\n",
      "print(pru2)\n",
      "rad = (d*2*pi/180).evalf()\n",
      "rad"
     ],
     "language": "python",
     "metadata": {},
     "outputs": [
      {
       "output_type": "stream",
       "stream": "stdout",
       "text": [
        "-0.24139327145054262\n",
        "-6.70486792252660\n",
        "0.0274155677808038\n"
       ]
      },
      {
       "latex": [
        "$$-0.0084262147579448$$"
       ],
       "metadata": {},
       "output_type": "pyout",
       "prompt_number": 269,
       "text": [
        "-0.00842621475794480"
       ]
      }
     ],
     "prompt_number": 269
    },
    {
     "cell_type": "code",
     "collapsed": false,
     "input": [
      "r_8 = Rotate(V,-0.59292806797884656)\n",
      "R_65 = Rotate(QWP,0.05966366)\n",
      "\n",
      "plot_ellipse(R_65*r_8*Matrix([[cos(-0.59292806797884656)],[sin(-0.59292806797884656)*exp(1j*0)]]))"
     ],
     "language": "python",
     "metadata": {},
     "outputs": [
      {
       "metadata": {},
       "output_type": "pyout",
       "prompt_number": 73,
       "text": [
        "'done'"
       ]
      }
     ],
     "prompt_number": 73
    },
    {
     "cell_type": "code",
     "collapsed": false,
     "input": [
      "pi.evalf()/2-0.0073492291316602015"
     ],
     "language": "python",
     "metadata": {},
     "outputs": [
      {
       "latex": [
        "$$1.56344709766324$$"
       ],
       "metadata": {},
       "output_type": "pyout",
       "prompt_number": 159,
       "text": [
        "1.56344709766324"
       ]
      }
     ],
     "prompt_number": 159
    },
    {
     "cell_type": "code",
     "collapsed": false,
     "input": [
      "plot_ellipse(Matrix([[cos(-0.23404404231888243)],[sin(-0.23404404231888243)*(exp(1j*-0.0073492291316602015))]]))"
     ],
     "language": "python",
     "metadata": {},
     "outputs": [
      {
       "metadata": {},
       "output_type": "pyout",
       "prompt_number": 312,
       "text": [
        "'done'"
       ]
      }
     ],
     "prompt_number": 312
    },
    {
     "cell_type": "code",
     "collapsed": false,
     "input": [
      "r_8 = Rotate(V, 0.04594062)\n",
      "R_65 = Rotate(QWP,0.30774035)\n",
      "#plot_ellipse(b)\n",
      "b = (R_65*r_8*matrix([[1],[0]],dtype = 'complex')).evalf()\n",
      "b = (R_65*r_8*Matrix([[cos(pi/8)],[sin(pi/8)*exp(1j*0)]],dtype = 'complex').evalf()).evalf()\n",
      "b.evalf()\n",
      "#b = b/b[0]\n",
      "#b.evalf()\n"
     ],
     "language": "python",
     "metadata": {},
     "outputs": [
      {
       "latex": [
        "$$\\left[\\begin{matrix}0.8657553856511 - 0.0737316210591191 i\\\\0.275169779263683 + 0.231978773961037 i\\end{matrix}\\right]$$"
       ],
       "metadata": {},
       "output_type": "pyout",
       "png": "[encoded data removed]",
       "prompt_number": 294,
       "text": [
        "\u23a10.8657553856511 - 0.0737316210591191\u22c5\u2148 \u23a4\n",
        "\u23a2                                       \u23a5\n",
        "\u23a30.275169779263683 + 0.231978773961037\u22c5\u2148\u23a6"
       ]
      }
     ],
     "prompt_number": 294
    },
    {
     "cell_type": "code",
     "collapsed": false,
     "input": [
      "b = Matrix([[cos(pi/8)],[sin(pi/8)*exp(1j*pi/4)]],dtype = 'complex').evalf()\n",
      "#b = b/b[0]\n",
      "b.evalf()"
     ],
     "language": "python",
     "metadata": {},
     "outputs": [
      {
       "latex": [
        "$$\\left[\\begin{matrix}0.923879532511287\\\\0.270598050073099 + 0.270598050073099 i\\end{matrix}\\right]$$"
       ],
       "metadata": {},
       "output_type": "pyout",
       "png": "[encoded data removed]",
       "prompt_number": 295,
       "text": [
        "\u23a1           0.923879532511287           \u23a4\n",
        "\u23a2                                       \u23a5\n",
        "\u23a30.270598050073099 + 0.270598050073099\u22c5\u2148\u23a6"
       ]
      }
     ],
     "prompt_number": 295
    },
    {
     "cell_type": "code",
     "collapsed": false,
     "input": [
      "plot_ellipse(R_45*r_675*Matrix([[1],[1]]))"
     ],
     "language": "python",
     "metadata": {},
     "outputs": [
      {
       "metadata": {},
       "output_type": "pyout",
       "prompt_number": 117,
       "text": [
        "'done'"
       ]
      }
     ],
     "prompt_number": 117
    },
    {
     "cell_type": "code",
     "collapsed": false,
     "input": [
      "plot_ellipse(R_45*r_1125*Matrix([[1],[1]]))"
     ],
     "language": "python",
     "metadata": {},
     "outputs": [
      {
       "metadata": {},
       "output_type": "pyout",
       "prompt_number": 277,
       "text": [
        "'done'"
       ]
      }
     ],
     "prompt_number": 277
    },
    {
     "cell_type": "code",
     "collapsed": false,
     "input": [
      "def ellipse_min(x0,theta_pol,phi):\n",
      "    \"\"\"\" encuentra la matriz del retardador para conseguir un vector deseado\"\"\"\n",
      "    [chi,theta,lam] = x0\n",
      "    V = matrix([[ 1 , 0],\\\n",
      "                [ 0 , 0]], dtype = 'complex')\n",
      "    QWP = matrix([[ 1 , 0],\\\n",
      "                [ 0 , -1j]], dtype = 'complex')\n",
      "    \n",
      "    def Rotate( element, theta):   \n",
      "        \n",
      "        \"\"\"Applies a rotation on any polarizing element given \n",
      "        its Jones matrix representation and a angle of rotation.\n",
      "        The angle is to be ginven in radians and the matrix.  \n",
      "        \n",
      "        \"\"\"\n",
      "        \n",
      "        assert isinstance(element, matrix)\n",
      "        assert element.shape == (2,2)\n",
      "    \n",
      "        rotator = matrix([[ cos(theta), sin(theta)],\\\n",
      "                      [-sin(theta), cos(theta)]],dtype = 'complex')\n",
      "        return rotator.transpose()*element*rotator\n",
      "    \n",
      "    M = Rotate(QWP,theta)\n",
      "    P = Rotate(V,chi)\n",
      "    \n",
      "    In = matrix([[cos(0)],[sin(0)*exp(1j*0)]],dtype = 'complex')\n",
      "    J  = matrix([[cos(theta_pol)],[sin(theta_pol)*exp(1j*phi)]],dtype = 'complex')\n",
      "    \n",
      "    \n",
      "    Out = M*P*In\n",
      "    \n",
      "    J_p = matrix([[lam,0],[0,lam]],dtype = 'complex')*Out\n",
      "    J_p_c = matrix([[lam*1j,0],[0,lam*1j]],dtype = 'complex')*Out\n",
      "    \n",
      "    J = J/J[0] \n",
      "    J_p = J_p/J_p[0]\n",
      "    J_p_c = J_p_c/J_p_c[0]\n",
      "    \n",
      "    print('J,J_p,J_p_c','\\n',J,'\\n',J_p,'\\n', J_p_c)\n",
      "    \n",
      "    result =((J[0].real-J_p[0].real)**2+(J[1].real-J_p[1].real)**2+(J[0].imag-J_p[0].imag)**2+(J[1].imag-J_p[1].imag)**2)[0,0]\n",
      "    complex_result =((J[0].real-J_p_c[0].real)**2+(J[1].real-J_p_c[1].real)**2+(J[0].imag-J_p_c[0].imag)**2+(J[1].imag-J_p_c[1].imag)**2)[0,0]\n",
      "    if result > complex_result:\n",
      "        return complex_result\n",
      "    else:\n",
      "        return result\n",
      "    #return complex_result\n",
      "\n",
      "ellipse_min([pi/4,pi/8,1j],pi/8,-pi/4)\n",
      "bnds = ((-2*pi, 2*pi),(-2*pi, 2*pi), (-pi/2, pi/2))\n",
      "\n",
      "from scipy.optimize import fmin_l_bfgs_b\n",
      "res = fmin_l_bfgs_b(ellipse_min,[ pi/8,pi/8,  1],fprime=None,approx_grad=1,  args = (pi/8,pi/4),pgtol=1e-05,bounds =bnds)\n",
      "#res.x\n",
      "#res"
     ],
     "language": "python",
     "metadata": {},
     "outputs": [
      {
       "output_type": "stream",
       "stream": "stdout",
       "text": [
        "J,J_p,J_p_c \n",
        " [[ 1.00000000+0.j        ]\n",
        " [ 0.29289322-0.29289322j]] \n",
        " [[ 1.00000000 +2.23359624e-17j]\n",
        " [ 0.33333333 -4.71404521e-01j]] \n",
        " [[ 1.00000000 +2.23359624e-17j]\n",
        " [ 0.33333333 -4.71404521e-01j]]\n",
        "J,J_p,J_p_c \n",
        " [[ 1.00000000+0.j        ]\n",
        " [ 0.29289322+0.29289322j]] \n",
        " [[ 1.00000000 +0.00000000e+00j]\n",
        " [ 0.41421356 -1.34692639e-17j]] \n",
        " [[ 1.00000000 +0.00000000e+00j]\n",
        " [ 0.41421356 -1.34692639e-17j]]\n",
        "J,J_p,J_p_c \n",
        " [[ 1.00000000+0.j        ]\n",
        " [ 0.29289322+0.29289322j]] \n",
        " [[ 1.00000000 +0.00000000e+00j]\n",
        " [ 0.41421356 -1.34692639e-17j]] \n",
        " [[ 1.00000000 +0.00000000e+00j]\n",
        " [ 0.41421356 -1.34692639e-17j]]\n",
        "J,J_p,J_p_c \n",
        " [[ 1.00000000+0.j        ]\n",
        " [ 0.29289322+0.29289322j]] \n",
        " [[ 1.00000000 +0.00000000e+00j]\n",
        " [ 0.41421356 -1.17157286e-08j]] \n",
        " [[ 1.00000000 +0.00000000e+00j]\n",
        " [ 0.41421356 -1.17157286e-08j]]\n",
        "J,J_p,J_p_c \n",
        " [[ 1.00000000+0.j        ]\n",
        " [ 0.29289322+0.29289322j]] \n",
        " [[ 1.00000000 +0.00000000e+00j]\n",
        " [ 0.41421357 +1.17157287e-08j]] \n",
        " [[ 1.00000000 +0.00000000e+00j]\n",
        " [ 0.41421357 +1.17157287e-08j]]\n",
        "J,J_p,J_p_c \n",
        " [[ 1.00000000+0.j        ]\n",
        " [ 0.29289322+0.29289322j]] \n",
        " [[ 1.00000000 +0.00000000e+00j]\n",
        " [ 0.41421356 -1.34692639e-17j]] \n",
        " [[ 1.00000000 +0.00000000e+00j]\n",
        " [ 0.41421356 -1.34692639e-17j]]\n",
        "J,J_p,J_p_c \n",
        " [[ 1.00000000+0.j        ]\n",
        " [ 0.29289322+0.29289322j]] \n",
        " [[ 1.00000000-0.j        ]\n",
        " [-0.56336311+0.81339708j]] \n",
        " [[ 1.00000000+0.j        ]\n",
        " [-0.56336311+0.81339708j]]\n",
        "J,J_p,J_p_c \n",
        " [[ 1.00000000+0.j        ]\n",
        " [ 0.29289322+0.29289322j]] \n",
        " [[ 1.00000000-0.j        ]\n",
        " [-0.56336311+0.81339708j]] \n",
        " [[ 1.00000000+0.j        ]\n",
        " [-0.56336311+0.81339708j]]\n",
        "J,J_p,J_p_c \n",
        " [[ 1.00000000+0.j        ]\n",
        " [ 0.29289322+0.29289322j]] \n",
        " [[ 1.00000000-0.j       ]\n",
        " [-0.56336309+0.8133971j]] \n",
        " [[ 1.00000000+0.j       ]\n",
        " [-0.56336309+0.8133971j]]\n",
        "J,J_p,J_p_c \n",
        " [[ 1.00000000+0.j        ]\n",
        " [ 0.29289322+0.29289322j]] \n",
        " [[ 1.00000000-0.j        ]\n",
        " [-0.56336312+0.81339706j]] \n",
        " [[ 1.00000000+0.j        ]\n",
        " [-0.56336312+0.81339706j]]"
       ]
      },
      {
       "output_type": "stream",
       "stream": "stdout",
       "text": [
        "\n",
        "J,J_p,J_p_c \n",
        " [[ 1.00000000+0.j        ]\n",
        " [ 0.29289322+0.29289322j]] \n",
        " [[ 1.00000000 +7.25554956e-17j]\n",
        " [-0.56336311 +8.13397085e-01j]] \n",
        " [[ 1.00000000 +7.25554956e-17j]\n",
        " [-0.56336311 +8.13397085e-01j]]\n",
        "J,J_p,J_p_c \n",
        " [[ 1.00000000+0.j        ]\n",
        " [ 0.29289322+0.29289322j]] \n",
        " [[ 1.00000000+0.j        ]\n",
        " [ 0.45909783+0.14724563j]] \n",
        " [[ 1.00000000+0.j        ]\n",
        " [ 0.45909783+0.14724563j]]\n",
        "J,J_p,J_p_c \n",
        " [[ 1.00000000+0.j        ]\n",
        " [ 0.29289322+0.29289322j]] \n",
        " [[ 1.00000000+0.j        ]\n",
        " [ 0.45909783+0.14724563j]] \n",
        " [[ 1.00000000+0.j        ]\n",
        " [ 0.45909783+0.14724563j]]\n",
        "J,J_p,J_p_c \n",
        " [[ 1.00000000+0.j        ]\n",
        " [ 0.29289322+0.29289322j]] \n",
        " [[ 1.00000000+0.j        ]\n",
        " [ 0.45909784+0.14724562j]] \n",
        " [[ 1.00000000+0.j        ]\n",
        " [ 0.45909784+0.14724562j]]\n",
        "J,J_p,J_p_c \n",
        " [[ 1.00000000+0.j        ]\n",
        " [ 0.29289322+0.29289322j]] \n",
        " [[ 1.00000000+0.j        ]\n",
        " [ 0.45909785+0.14724564j]] \n",
        " [[ 1.00000000+0.j        ]\n",
        " [ 0.45909785+0.14724564j]]\n",
        "J,J_p,J_p_c \n",
        " [[ 1.00000000+0.j        ]\n",
        " [ 0.29289322+0.29289322j]] \n",
        " [[ 1.00000000+0.j        ]\n",
        " [ 0.45909783+0.14724563j]] \n",
        " [[ 1.00000000+0.j        ]\n",
        " [ 0.45909783+0.14724563j]]\n",
        "J,J_p,J_p_c \n",
        " [[ 1.00000000+0.j        ]\n",
        " [ 0.29289322+0.29289322j]]"
       ]
      },
      {
       "output_type": "stream",
       "stream": "stdout",
       "text": [
        " \n",
        " [[ 1.00000000+0.j        ]\n",
        " [ 0.43719993+0.28958172j]] \n",
        " [[ 1.00000000+0.j        ]\n",
        " [ 0.43719993+0.28958172j]]\n",
        "J,J_p,J_p_c \n",
        " [[ 1.00000000+0.j        ]\n",
        " [ 0.29289322+0.29289322j]] \n",
        " [[ 1.00000000+0.j        ]\n",
        " [ 0.43719993+0.28958172j]] \n",
        " [[ 1.00000000+0.j        ]\n",
        " [ 0.43719993+0.28958172j]]\n",
        "J,J_p,J_p_c \n",
        " [[ 1.00000000+0.j        ]\n",
        " [ 0.29289322+0.29289322j]] \n",
        " [[ 1.00000000+0.j        ]\n",
        " [ 0.43719993+0.28958171j]] \n",
        " [[ 1.00000000+0.j        ]\n",
        " [ 0.43719993+0.28958171j]]\n",
        "J,J_p,J_p_c \n",
        " [[ 1.00000000+0.j        ]\n",
        " [ 0.29289322+0.29289322j]] \n",
        " [[ 1.00000000+0.j        ]\n",
        " [ 0.43719993+0.28958174j]] \n",
        " [[ 1.00000000+0.j        ]\n",
        " [ 0.43719993+0.28958174j]]\n",
        "J,J_p,J_p_c \n",
        " [[ 1.00000000+0.j        ]\n",
        " [ 0.29289322+0.29289322j]] \n",
        " [[ 1.00000000+0.j        ]\n",
        " [ 0.43719993+0.28958172j]] \n",
        " [[ 1.00000000+0.j        ]\n",
        " [ 0.43719993+0.28958172j]]\n",
        "J,J_p,J_p_c \n",
        " [[ 1.00000000+0.j        ]\n",
        " [ 0.29289322+0.29289322j]] \n",
        " [[ 1.00000000+0.j      ]\n",
        " [ 0.38342727+0.310812j]] \n",
        " [[ 1.00000000+0.j      ]\n",
        " [ 0.38342727+0.310812j]]\n",
        "J,J_p,J_p_c \n",
        " [[ 1.00000000+0.j        ]\n",
        " [ 0.29289322+0.29289322j]] \n",
        " [[ 1.00000000+0.j      ]\n",
        " [ 0.38342727+0.310812j]] \n",
        " [[ 1.00000000+0.j      ]\n",
        " [ 0.38342727+0.310812j]]\n",
        "J,J_p,J_p_c"
       ]
      },
      {
       "output_type": "stream",
       "stream": "stdout",
       "text": [
        " \n",
        " [[ 1.00000000+0.j        ]\n",
        " [ 0.29289322+0.29289322j]] \n",
        " [[ 1.00000000+0.j        ]\n",
        " [ 0.38342728+0.31081199j]] \n",
        " [[ 1.00000000+0.j        ]\n",
        " [ 0.38342728+0.31081199j]]\n",
        "J,J_p,J_p_c \n",
        " [[ 1.00000000+0.j        ]\n",
        " [ 0.29289322+0.29289322j]] \n",
        " [[ 1.00000000+0.j        ]\n",
        " [ 0.38342728+0.31081202j]] \n",
        " [[ 1.00000000+0.j        ]\n",
        " [ 0.38342728+0.31081202j]]\n",
        "J,J_p,J_p_c \n",
        " [[ 1.00000000+0.j        ]\n",
        " [ 0.29289322+0.29289322j]] \n",
        " [[ 1.00000000+0.j      ]\n",
        " [ 0.38342727+0.310812j]] \n",
        " [[ 1.00000000+0.j      ]\n",
        " [ 0.38342727+0.310812j]]\n",
        "J,J_p,J_p_c \n",
        " [[ 1.00000000+0.j        ]\n",
        " [ 0.29289322+0.29289322j]] \n",
        " [[ 1.0000000+0.j        ]\n",
        " [ 0.3033317+0.28353473j]] \n",
        " [[ 1.0000000+0.j        ]\n",
        " [ 0.3033317+0.28353473j]]\n",
        "J,J_p,J_p_c \n",
        " [[ 1.00000000+0.j        ]\n",
        " [ 0.29289322+0.29289322j]] \n",
        " [[ 1.0000000+0.j        ]\n",
        " [ 0.3033317+0.28353473j]] \n",
        " [[ 1.0000000+0.j        ]\n",
        " [ 0.3033317+0.28353473j]]\n",
        "J,J_p,J_p_c \n",
        " [[ 1.00000000+0.j        ]\n",
        " [ 0.29289322+0.29289322j]] \n",
        " [[ 1.0000000+0.j        ]\n",
        " [ 0.3033317+0.28353472j]] \n",
        " [[ 1.0000000+0.j        ]\n",
        " [ 0.3033317+0.28353472j]]\n",
        "J,J_p,J_p_c \n",
        " [[ 1.00000000+0.j        ]\n",
        " [ 0.29289322+0.29289322j]] \n",
        " [[ 1.0000000+0.j        ]\n",
        " [ 0.3033317+0.28353474j]] \n",
        " [[ 1.0000000+0.j        ]\n",
        " [ 0.3033317+0.28353474j]]"
       ]
      },
      {
       "output_type": "stream",
       "stream": "stdout",
       "text": [
        "\n",
        "J,J_p,J_p_c \n",
        " [[ 1.00000000+0.j        ]\n",
        " [ 0.29289322+0.29289322j]] \n",
        " [[ 1.0000000+0.j        ]\n",
        " [ 0.3033317+0.28353473j]] \n",
        " [[ 1.0000000+0.j        ]\n",
        " [ 0.3033317+0.28353473j]]\n",
        "J,J_p,J_p_c \n",
        " [[ 1.00000000+0.j        ]\n",
        " [ 0.29289322+0.29289322j]] \n",
        " [[ 1.00000000+0.j        ]\n",
        " [ 0.29418854+0.29178274j]] \n",
        " [[ 1.00000000+0.j        ]\n",
        " [ 0.29418854+0.29178274j]]\n",
        "J,J_p,J_p_c \n",
        " [[ 1.00000000+0.j        ]\n",
        " [ 0.29289322+0.29289322j]] \n",
        " [[ 1.00000000+0.j        ]\n",
        " [ 0.29418854+0.29178274j]] \n",
        " [[ 1.00000000+0.j        ]\n",
        " [ 0.29418854+0.29178274j]]\n",
        "J,J_p,J_p_c \n",
        " [[ 1.00000000+0.j        ]\n",
        " [ 0.29289322+0.29289322j]] \n",
        " [[ 1.00000000+0.j        ]\n",
        " [ 0.29418854+0.29178272j]] \n",
        " [[ 1.00000000+0.j        ]\n",
        " [ 0.29418854+0.29178272j]]\n",
        "J,J_p,J_p_c \n",
        " [[ 1.00000000+0.j        ]\n",
        " [ 0.29289322+0.29289322j]] \n",
        " [[ 1.00000000+0.j        ]\n",
        " [ 0.29418854+0.29178275j]] \n",
        " [[ 1.00000000+0.j        ]\n",
        " [ 0.29418854+0.29178275j]]\n",
        "J,J_p,J_p_c \n",
        " [[ 1.00000000+0.j        ]\n",
        " [ 0.29289322+0.29289322j]] \n",
        " [[ 1.00000000+0.j        ]\n",
        " [ 0.29418854+0.29178274j]] \n",
        " [[ 1.00000000+0.j        ]\n",
        " [ 0.29418854+0.29178274j]]\n",
        "J,J_p,J_p_c \n",
        " [[ 1.00000000+0.j        ]\n",
        " [ 0.29289322+0.29289322j]] \n",
        " [[ 1.00000000+0.j        ]\n",
        " [ 0.29291305+0.29289672j]] \n",
        " [[ 1.00000000+0.j        ]\n",
        " [ 0.29291305+0.29289672j]]\n",
        "J,J_p,J_p_c \n",
        " [[ 1.00000000+0.j        ]\n",
        " [ 0.29289322+0.29289322j]] \n",
        " [[ 1.00000000+0.j        ]\n",
        " [ 0.29291305+0.29289672j]] \n",
        " [[ 1.00000000+0.j        ]\n",
        " [ 0.29291305+0.29289672j]]\n",
        "J,J_p,J_p_c"
       ]
      },
      {
       "output_type": "stream",
       "stream": "stdout",
       "text": [
        " \n",
        " [[ 1.00000000+0.j        ]\n",
        " [ 0.29289322+0.29289322j]] \n",
        " [[ 1.00000000+0.j        ]\n",
        " [ 0.29291306+0.29289671j]] \n",
        " [[ 1.00000000+0.j        ]\n",
        " [ 0.29291306+0.29289671j]]\n",
        "J,J_p,J_p_c \n",
        " [[ 1.00000000+0.j        ]\n",
        " [ 0.29289322+0.29289322j]] \n",
        " [[ 1.00000000+0.j        ]\n",
        " [ 0.29291306+0.29289673j]] \n",
        " [[ 1.00000000+0.j        ]\n",
        " [ 0.29291306+0.29289673j]]\n",
        "J,J_p,J_p_c \n",
        " [[ 1.00000000+0.j        ]\n",
        " [ 0.29289322+0.29289322j]] \n",
        " [[ 1.00000000+0.j        ]\n",
        " [ 0.29291305+0.29289672j]] \n",
        " [[ 1.00000000+0.j        ]\n",
        " [ 0.29291305+0.29289672j]]\n",
        "J,J_p,J_p_c \n",
        " [[ 1.00000000+0.j        ]\n",
        " [ 0.29289322+0.29289322j]] \n",
        " [[ 1.00000000+0.j        ]\n",
        " [ 0.29289365+0.29289369j]] \n",
        " [[ 1.00000000+0.j        ]\n",
        " [ 0.29289365+0.29289369j]]\n",
        "J,J_p,J_p_c \n",
        " [[ 1.00000000+0.j        ]\n",
        " [ 0.29289322+0.29289322j]] \n",
        " [[ 1.00000000+0.j        ]\n",
        " [ 0.29289365+0.29289369j]] \n",
        " [[ 1.00000000+0.j        ]\n",
        " [ 0.29289365+0.29289369j]]\n",
        "J,J_p,J_p_c \n",
        " [[ 1.00000000+0.j        ]\n",
        " [ 0.29289322+0.29289322j]] \n",
        " [[ 1.00000000+0.j        ]\n",
        " [ 0.29289365+0.29289368j]] \n",
        " [[ 1.00000000+0.j        ]\n",
        " [ 0.29289365+0.29289368j]]\n",
        "J,J_p,J_p_c \n",
        " [[ 1.00000000+0.j        ]\n",
        " [ 0.29289322+0.29289322j]] \n",
        " [[ 1.00000000+0.j       ]\n",
        " [ 0.29289365+0.2928937j]] \n",
        " [[ 1.00000000+0.j       ]\n",
        " [ 0.29289365+0.2928937j]]\n",
        "J,J_p,J_p_c \n",
        " [[ 1.00000000+0.j        ]\n",
        " [ 0.29289322+0.29289322j]] \n",
        " [[ 1.00000000+0.j        ]\n",
        " [ 0.29289365+0.29289369j]] \n",
        " [[ 1.00000000+0.j        ]\n",
        " [ 0.29289365+0.29289369j]]\n"
       ]
      }
     ],
     "prompt_number": 277
    },
    {
     "cell_type": "code",
     "collapsed": false,
     "input": [
      "res"
     ],
     "language": "python",
     "metadata": {},
     "outputs": [
      {
       "metadata": {},
       "output_type": "pyout",
       "prompt_number": 278,
       "text": [
        "(array([ 0.04594062,  0.30774035,  0.99999999]),\n",
        " 4.0476966490328614e-13,\n",
        " {'funcalls': 9,\n",
        "  'grad': array([ -9.07165085e-07,   1.96015029e-06,   4.73669953e-15]),\n",
        "  'nit': 7,\n",
        "  'task': b'CONVERGENCE: NORM_OF_PROJECTED_GRADIENT_<=_PGTOL',\n",
        "  'warnflag': 0})"
       ]
      }
     ],
     "prompt_number": 278
    },
    {
     "cell_type": "code",
     "collapsed": false,
     "input": [
      "ellipse_min([-pi/4,1],pi/4,pi/8)"
     ],
     "language": "python",
     "metadata": {},
     "outputs": [
      {
       "output_type": "stream",
       "stream": "stdout",
       "text": [
        "J,J_p,J_p_c \n",
        " [[ 1.00000000+0.j        ]\n",
        " [ 0.29289322-0.29289322j]] \n",
        " [[ 1.+0.j        ]\n",
        " [ 1.-0.58578644j]] \n",
        " [[ 1.+0.j        ]\n",
        " [ 1.-0.58578644j]]\n"
       ]
      },
      {
       "latex": [
        "$$0.585786437627$$"
       ],
       "metadata": {},
       "output_type": "pyout",
       "png": "[encoded data removed]",
       "prompt_number": 245,
       "text": [
        "0.585786437627"
       ]
      }
     ],
     "prompt_number": 245
    },
    {
     "cell_type": "code",
     "collapsed": false,
     "input": [
      "plot_ellipse(Matrix([[cos(pi/8)],[sin(pi/8)*exp(1j*pi/4)]],dtype = 'complex'))"
     ],
     "language": "python",
     "metadata": {},
     "outputs": [
      {
       "metadata": {},
       "output_type": "pyout",
       "prompt_number": 284,
       "text": [
        "'done'"
       ]
      }
     ],
     "prompt_number": 284
    },
    {
     "cell_type": "code",
     "collapsed": false,
     "input": [
      "Rotate(QWP,3*pi/8).evalf()"
     ],
     "language": "python",
     "metadata": {},
     "outputs": [
      {
       "latex": [
        "$$\\left[\\begin{smallmatrix}{}0.146446609406726 - 0.853553390593274 i & 0.353553390593274 + 0.353553390593274 i\\\\0.353553390593274 + 0.353553390593274 i & 0.853553390593274 - 0.146446609406726 i\\end{smallmatrix}\\right]$$"
       ],
       "metadata": {},
       "output_type": "pyout",
       "prompt_number": 340,
       "text": [
        "\u23a10.146446609406726 - 0.853553390593274\u22c5\u2148  0.353553390593274 + 0.35355339059327\n",
        "\u23a2                                                                             \n",
        "\u23a30.353553390593274 + 0.353553390593274\u22c5\u2148  0.853553390593274 - 0.14644660940672\n",
        "\n",
        "4\u22c5\u2148\u23a4\n",
        "   \u23a5\n",
        "6\u22c5\u2148\u23a6"
       ]
      }
     ],
     "prompt_number": 340
    },
    {
     "cell_type": "code",
     "collapsed": false,
     "input": [
      "(pi/8-pi/2).evalf()"
     ],
     "language": "python",
     "metadata": {},
     "outputs": [
      {
       "latex": [
        "$$-1.17809724509617$$"
       ],
       "metadata": {},
       "output_type": "pyout",
       "prompt_number": 384,
       "text": [
        "-1.17809724509617"
       ]
      }
     ],
     "prompt_number": 384
    },
    {
     "cell_type": "code",
     "collapsed": false,
     "input": [
      "plot_ellipse(Matrix([[cos(pi/8)],[sin(pi/8)*exp(1j*-pi/4)]],dtype = 'complex'))"
     ],
     "language": "python",
     "metadata": {},
     "outputs": [
      {
       "metadata": {},
       "output_type": "pyout",
       "prompt_number": 179,
       "text": [
        "'done'"
       ]
      }
     ],
     "prompt_number": 179
    },
    {
     "cell_type": "code",
     "collapsed": false,
     "input": [
      "plot_ellipse(Matrix([[cos(pi/4)],[sin(pi/4)*exp(1j*pi/4)]],dtype = 'complex'))"
     ],
     "language": "python",
     "metadata": {},
     "outputs": [
      {
       "metadata": {},
       "output_type": "pyout",
       "prompt_number": 224,
       "text": [
        "'done'"
       ]
      }
     ],
     "prompt_number": 224
    },
    {
     "cell_type": "code",
     "collapsed": false,
     "input": [
      "plot_ellipse(R_225*r_45*Matrix([[cos(pi/8)],[sin(pi/8)*exp(1j*0)]],dtype = 'complex'))"
     ],
     "language": "python",
     "metadata": {},
     "outputs": [
      {
       "metadata": {},
       "output_type": "pyout",
       "prompt_number": 234,
       "text": [
        "'done'"
       ]
      }
     ],
     "prompt_number": 234
    },
    {
     "cell_type": "code",
     "collapsed": false,
     "input": [
      "a =Matrix([[cos(pi/8)],[sin(pi/8)*exp(1j*-pi/4)]],dtype = 'complex').evalf()\n",
      "a = a/a[0]\n",
      "a.evalf()"
     ],
     "language": "python",
     "metadata": {},
     "outputs": [
      {
       "latex": [
        "$$\\left[\\begin{matrix}1.0\\\\0.292893218813452 - 0.292893218813452 i\\end{matrix}\\right]$$"
       ],
       "metadata": {},
       "output_type": "pyout",
       "png": "[encoded data removed]",
       "prompt_number": 241,
       "text": [
        "\u23a1                  1.0                  \u23a4\n",
        "\u23a2                                       \u23a5\n",
        "\u23a30.292893218813452 - 0.292893218813452\u22c5\u2148\u23a6"
       ]
      }
     ],
     "prompt_number": 241
    },
    {
     "cell_type": "code",
     "collapsed": false,
     "input": [
      "b = (R_225*r_45*matrix([[cos(0)],[sin(0)*exp(1j*0)]],dtype = 'complex')).evalf()\n",
      "b = b/b[0]\n",
      "b.evalf()"
     ],
     "language": "python",
     "metadata": {},
     "outputs": [
      {
       "latex": [
        "$$\\left[\\begin{matrix}1.0\\\\0.333333333333333 - 0.471404520791032 i\\end{matrix}\\right]$$"
       ],
       "metadata": {},
       "output_type": "pyout",
       "png": "[encoded data removed]",
       "prompt_number": 260,
       "text": [
        "\u23a1                  1.0                  \u23a4\n",
        "\u23a2                                       \u23a5\n",
        "\u23a30.333333333333333 - 0.471404520791032\u22c5\u2148\u23a6"
       ]
      }
     ],
     "prompt_number": 260
    },
    {
     "cell_type": "code",
     "collapsed": false,
     "input": [
      "a =Matrix([[cos(pi/4)],[sin(pi/4)*exp(1j*pi/4)]],dtype = 'complex').evalf()"
     ],
     "language": "python",
     "metadata": {},
     "outputs": [],
     "prompt_number": 211
    },
    {
     "cell_type": "code",
     "collapsed": false,
     "input": [
      "b=(R_45*r_225*Matrix([[cos(pi/4)],[sin(pi/4)*exp(1j*0)]],dtype = 'complex')).evalf()"
     ],
     "language": "python",
     "metadata": {},
     "outputs": [],
     "prompt_number": 225
    },
    {
     "cell_type": "code",
     "collapsed": false,
     "input": [
      "a = a/a[0]\n",
      "a.evalf()"
     ],
     "language": "python",
     "metadata": {},
     "outputs": [
      {
       "latex": [
        "$$\\left[\\begin{matrix}1.0\\\\0.707106781186547 + 0.707106781186547 i\\end{matrix}\\right]$$"
       ],
       "metadata": {},
       "output_type": "pyout",
       "png": "[encoded data removed]",
       "prompt_number": 226,
       "text": [
        "\u23a1                  1.0                  \u23a4\n",
        "\u23a2                                       \u23a5\n",
        "\u23a30.707106781186547 + 0.707106781186547\u22c5\u2148\u23a6"
       ]
      }
     ],
     "prompt_number": 226
    },
    {
     "cell_type": "code",
     "collapsed": false,
     "input": [
      "b = b/b[0]\n",
      "b.evalf()"
     ],
     "language": "python",
     "metadata": {},
     "outputs": [
      {
       "latex": [
        "$$\\left[\\begin{matrix}1.0\\\\0.707106781186547 + 0.707106781186548 i\\end{matrix}\\right]$$"
       ],
       "metadata": {},
       "output_type": "pyout",
       "png": "[encoded data removed]",
       "prompt_number": 227,
       "text": [
        "\u23a1                  1.0                  \u23a4\n",
        "\u23a2                                       \u23a5\n",
        "\u23a30.707106781186547 + 0.707106781186548\u22c5\u2148\u23a6"
       ]
      }
     ],
     "prompt_number": 227
    },
    {
     "cell_type": "code",
     "collapsed": false,
     "input": [
      "res = fmin_l_bfgs_b(ellipse_min,[ pi/8,-pi/4,  1],fprime=None,approx_grad=1,  args = (-0.59292806797884656,-1.9194049908833906),pgtol=1e-05,bounds =bnds)"
     ],
     "language": "python",
     "metadata": {},
     "outputs": [
      {
       "output_type": "stream",
       "stream": "stdout",
       "text": [
        "J,J_p,J_p_c \n",
        " [[ 1.00000000+0.j        ]\n",
        " [ 0.23016529+0.63327462j]] \n",
        " [[ 1.00000000-0.j        ]\n",
        " [ 0.70710678-0.70710678j]] \n",
        " [[ 1.00000000+0.j        ]\n",
        " [ 0.70710678-0.70710678j]]\n",
        "J,J_p,J_p_c \n",
        " [[ 1.00000000+0.j        ]\n",
        " [ 0.23016529+0.63327462j]] \n",
        " [[ 1.00000000-0.j        ]\n",
        " [ 0.70710678-0.70710678j]] \n",
        " [[ 1.00000000+0.j        ]\n",
        " [ 0.70710678-0.70710678j]]\n",
        "J,J_p,J_p_c \n",
        " [[ 1.00000000+0.j        ]\n",
        " [ 0.23016529+0.63327462j]] \n",
        " [[ 1.0000000-0.j        ]\n",
        " [ 0.7071068-0.70710677j]] \n",
        " [[ 1.0000000+0.j        ]\n",
        " [ 0.7071068-0.70710677j]]\n",
        "J,J_p,J_p_c \n",
        " [[ 1.00000000+0.j        ]\n",
        " [ 0.23016529+0.63327462j]] \n",
        " [[ 1.00000000-0.j        ]\n",
        " [ 0.70710678-0.70710681j]] \n",
        " [[ 1.00000000+0.j        ]\n",
        " [ 0.70710678-0.70710681j]]\n",
        "J,J_p,J_p_c \n",
        " [[ 1.00000000+0.j        ]\n",
        " [ 0.23016529+0.63327462j]] \n",
        " [[ 1.00000000-0.j        ]\n",
        " [ 0.70710678-0.70710678j]] \n",
        " [[ 1.00000000+0.j        ]\n",
        " [ 0.70710678-0.70710678j]]\n",
        "J,J_p,J_p_c \n",
        " [[ 1.00000000+0.j        ]\n",
        " [ 0.23016529+0.63327462j]] \n",
        " [[  1.00000000e+00+0.j        ]\n",
        " [  2.20361493e-16+0.31671111j]] \n",
        " [[  1.00000000e+00+0.j        ]\n",
        " [  2.20361493e-16+0.31671111j]]\n",
        "J,J_p,J_p_c \n",
        " [[ 1.00000000+0.j        ]\n",
        " [ 0.23016529+0.63327462j]] \n",
        " [[  1.00000000e+00+0.j        ]\n",
        " [  2.20361493e-16+0.31671111j]] \n",
        " [[  1.00000000e+00+0.j        ]\n",
        " [  2.20361493e-16+0.31671111j]]\n",
        "J,J_p,J_p_c \n",
        " [[ 1.00000000+0.j        ]\n",
        " [ 0.23016529+0.63327462j]] \n",
        " [[  1.00000000e+00+0.j       ]\n",
        " [  2.20361495e-16+0.3167111j]] \n",
        " [[  1.00000000e+00+0.j       ]\n",
        " [  2.20361495e-16+0.3167111j]]\n",
        "J,J_p,J_p_c \n",
        " [[ 1.00000000+0.j        ]\n",
        " [ 0.23016529+0.63327462j]] \n",
        " [[  1.00000000e+00+0.j        ]\n",
        " [  8.99694083e-09+0.31671112j]] \n",
        " [[  1.00000000e+00+0.j        ]\n",
        " [  8.99694083e-09+0.31671112j]]\n",
        "J,J_p,J_p_c \n",
        " [[ 1.00000000+0.j        ]\n",
        " [ 0.23016529+0.63327462j]] \n",
        " [[  1.00000000e+00+0.j        ]\n",
        " [  2.20361493e-16+0.31671111j]] \n",
        " [[  1.00000000e+00+0.j        ]\n",
        " [  2.20361493e-16+0.31671111j]]\n",
        "J,J_p,J_p_c \n",
        " [[ 1.00000000+0.j        ]\n",
        " [ 0.23016529+0.63327462j]] \n",
        " [[ 1.00000000-0.j        ]\n",
        " [-0.85298426-0.22275773j]] \n",
        " [[ 1.00000000+0.j        ]\n",
        " [-0.85298426-0.22275773j]]\n",
        "J,J_p,J_p_c \n",
        " [[ 1.00000000+0.j        ]\n",
        " [ 0.23016529+0.63327462j]] \n",
        " [[ 1.00000000-0.j        ]\n",
        " [-0.85298426-0.22275773j]] \n",
        " [[ 1.00000000+0.j        ]\n",
        " [-0.85298426-0.22275773j]]\n",
        "J,J_p,J_p_c"
       ]
      },
      {
       "output_type": "stream",
       "stream": "stdout",
       "text": [
        " \n",
        " [[ 1.00000000+0.j        ]\n",
        " [ 0.23016529+0.63327462j]] \n",
        " [[ 1.00000000-0.j        ]\n",
        " [-0.85298427-0.22275771j]] \n",
        " [[ 1.00000000+0.j        ]\n",
        " [-0.85298427-0.22275771j]]\n",
        "J,J_p,J_p_c \n",
        " [[ 1.00000000+0.j        ]\n",
        " [ 0.23016529+0.63327462j]] \n",
        " [[ 1.00000000-0.j        ]\n",
        " [-0.85298424-0.22275774j]] \n",
        " [[ 1.00000000+0.j        ]\n",
        " [-0.85298424-0.22275774j]]\n",
        "J,J_p,J_p_c \n",
        " [[ 1.00000000+0.j        ]\n",
        " [ 0.23016529+0.63327462j]] \n",
        " [[ 1.00000000-0.j        ]\n",
        " [-0.85298426-0.22275773j]] \n",
        " [[ 1.00000000+0.j        ]\n",
        " [-0.85298426-0.22275773j]]\n",
        "J,J_p,J_p_c \n",
        " [[ 1.00000000+0.j        ]\n",
        " [ 0.23016529+0.63327462j]] \n",
        " [[ 1.0000000+0.j        ]\n",
        " [ 0.0566779+0.45185066j]] \n",
        " [[ 1.0000000+0.j        ]\n",
        " [ 0.0566779+0.45185066j]]\n",
        "J,J_p,J_p_c \n",
        " [[ 1.00000000+0.j        ]\n",
        " [ 0.23016529+0.63327462j]] \n",
        " [[ 1.0000000+0.j        ]\n",
        " [ 0.0566779+0.45185066j]] \n",
        " [[ 1.0000000+0.j        ]\n",
        " [ 0.0566779+0.45185066j]]\n",
        "J,J_p,J_p_c \n",
        " [[ 1.00000000+0.j        ]\n",
        " [ 0.23016529+0.63327462j]] \n",
        " [[ 1.0000000+0.j        ]\n",
        " [ 0.0566779+0.45185065j]] \n",
        " [[ 1.0000000+0.j        ]\n",
        " [ 0.0566779+0.45185065j]]\n",
        "J,J_p,J_p_c \n",
        " [[ 1.00000000+0.j        ]\n",
        " [ 0.23016529+0.63327462j]] \n",
        " [[ 1.0000000+0.j        ]\n",
        " [ 0.0566779+0.45185068j]] \n",
        " [[ 1.0000000+0.j        ]\n",
        " [ 0.0566779+0.45185068j]]\n",
        "J,J_p,J_p_c \n",
        " [[ 1.00000000+0.j        ]\n",
        " [ 0.23016529+0.63327462j]] \n",
        " [[ 1.0000000 -4.05898551e-18j]\n",
        " [ 0.0566779 +4.51850665e-01j]] \n",
        " [[ 1.0000000 -4.05898551e-18j]\n",
        " [ 0.0566779 +4.51850665e-01j]]\n",
        "J,J_p,J_p_c \n",
        " [[ 1.00000000+0.j        ]\n",
        " [ 0.23016529+0.63327462j]] \n",
        " [[ 1.00000000+0.j        ]\n",
        " [ 0.09903892+0.71455917j]] \n",
        " [[ 1.00000000+0.j        ]\n",
        " [ 0.09903892+0.71455917j]]\n",
        "J,J_p,J_p_c \n",
        " [[ 1.00000000+0.j        ]\n",
        " [ 0.23016529+0.63327462j]] \n",
        " [[ 1.00000000+0.j        ]\n",
        " [ 0.09903892+0.71455917j]] \n",
        " [[ 1.00000000+0.j        ]\n",
        " [ 0.09903892+0.71455917j]]\n",
        "J,J_p,J_p_c \n",
        " [[ 1.00000000+0.j        ]\n",
        " [ 0.23016529+0.63327462j]] \n",
        " [[ 1.00000000+0.j        ]\n",
        " [ 0.09903892+0.71455915j]]"
       ]
      },
      {
       "output_type": "stream",
       "stream": "stdout",
       "text": [
        " \n",
        " [[ 1.00000000+0.j        ]\n",
        " [ 0.09903892+0.71455915j]]\n",
        "J,J_p,J_p_c \n",
        " [[ 1.00000000+0.j        ]\n",
        " [ 0.23016529+0.63327462j]] \n",
        " [[ 1.00000000 +1.85245312e-17j]\n",
        " [ 0.09903892 +7.14559183e-01j]] \n",
        " [[ 1.00000000 +1.85245312e-17j]\n",
        " [ 0.09903892 +7.14559183e-01j]]\n",
        "J,J_p,J_p_c \n",
        " [[ 1.00000000+0.j        ]\n",
        " [ 0.23016529+0.63327462j]] \n",
        " [[ 1.00000000+0.j        ]\n",
        " [ 0.09903892+0.71455917j]] \n",
        " [[ 1.00000000+0.j        ]\n",
        " [ 0.09903892+0.71455917j]]\n",
        "J,J_p,J_p_c \n",
        " [[ 1.00000000+0.j        ]\n",
        " [ 0.23016529+0.63327462j]] \n",
        " [[ 1.00000000+0.j        ]\n",
        " [ 0.10402819+0.62383787j]] \n",
        " [[ 1.00000000+0.j        ]\n",
        " [ 0.10402819+0.62383787j]]\n",
        "J,J_p,J_p_c \n",
        " [[ 1.00000000+0.j        ]\n",
        " [ 0.23016529+0.63327462j]] \n",
        " [[ 1.00000000+0.j        ]\n",
        " [ 0.10402819+0.62383787j]] \n",
        " [[ 1.00000000+0.j        ]\n",
        " [ 0.10402819+0.62383787j]]\n",
        "J,J_p,J_p_c \n",
        " [[ 1.00000000+0.j        ]\n",
        " [ 0.23016529+0.63327462j]] \n",
        " [[ 1.00000000+0.j        ]\n",
        " [ 0.10402819+0.62383785j]] \n",
        " [[ 1.00000000+0.j        ]\n",
        " [ 0.10402819+0.62383785j]]\n",
        "J,J_p,J_p_c \n",
        " [[ 1.00000000+0.j        ]\n",
        " [ 0.23016529+0.63327462j]] \n",
        " [[ 1.00000000+0.j        ]\n",
        " [ 0.10402819+0.62383788j]] \n",
        " [[ 1.00000000+0.j        ]\n",
        " [ 0.10402819+0.62383788j]]\n",
        "J,J_p,J_p_c \n",
        " [[ 1.00000000+0.j        ]\n",
        " [ 0.23016529+0.63327462j]] \n",
        " [[ 1.00000000+0.j        ]\n",
        " [ 0.10402819+0.62383787j]] \n",
        " [[ 1.00000000+0.j        ]\n",
        " [ 0.10402819+0.62383787j]]\n",
        "J,J_p,J_p_c \n",
        " [[ 1.00000000+0.j        ]\n",
        " [ 0.23016529+0.63327462j]] \n",
        " [[ 1.00000000+0.j        ]\n",
        " [ 0.10995075+0.63078624j]] \n",
        " [[ 1.00000000+0.j        ]\n",
        " [ 0.10995075+0.63078624j]]\n",
        "J,J_p,J_p_c \n",
        " [[ 1.00000000+0.j        ]\n",
        " [ 0.23016529+0.63327462j]] \n",
        " [[ 1.00000000+0.j        ]\n",
        " [ 0.10995075+0.63078624j]] \n",
        " [[ 1.00000000+0.j        ]\n",
        " [ 0.10995075+0.63078624j]]\n",
        "J,J_p,J_p_c \n",
        " [[ 1.00000000+0.j        ]\n",
        " [ 0.23016529+0.63327462j]] \n",
        " [[ 1.00000000+0.j        ]\n",
        " [ 0.10995075+0.63078622j]] \n",
        " [[ 1.00000000+0.j        ]\n",
        " [ 0.10995075+0.63078622j]]\n",
        "J,J_p,J_p_c"
       ]
      },
      {
       "output_type": "stream",
       "stream": "stdout",
       "text": [
        " \n",
        " [[ 1.00000000+0.j        ]\n",
        " [ 0.23016529+0.63327462j]] \n",
        " [[ 1.00000000+0.j        ]\n",
        " [ 0.10995075+0.63078625j]] \n",
        " [[ 1.00000000+0.j        ]\n",
        " [ 0.10995075+0.63078625j]]\n",
        "J,J_p,J_p_c \n",
        " [[ 1.00000000+0.j        ]\n",
        " [ 0.23016529+0.63327462j]] \n",
        " [[ 1.00000000+0.j        ]\n",
        " [ 0.10995075+0.63078624j]] \n",
        " [[ 1.00000000+0.j        ]\n",
        " [ 0.10995075+0.63078624j]]\n",
        "J,J_p,J_p_c \n",
        " [[ 1.00000000+0.j        ]\n",
        " [ 0.23016529+0.63327462j]] \n",
        " [[ 1.00000000+0.j        ]\n",
        " [ 0.17738349+0.66284085j]] \n",
        " [[ 1.00000000+0.j        ]\n",
        " [ 0.17738349+0.66284085j]]\n",
        "J,J_p,J_p_c \n",
        " [[ 1.00000000+0.j        ]\n",
        " [ 0.23016529+0.63327462j]] \n",
        " [[ 1.00000000+0.j        ]\n",
        " [ 0.17738349+0.66284085j]] \n",
        " [[ 1.00000000+0.j        ]\n",
        " [ 0.17738349+0.66284085j]]\n",
        "J,J_p,J_p_c \n",
        " [[ 1.00000000+0.j        ]\n",
        " [ 0.23016529+0.63327462j]] \n",
        " [[ 1.00000000+0.j        ]\n",
        " [ 0.17738349+0.66284083j]] \n",
        " [[ 1.00000000+0.j        ]\n",
        " [ 0.17738349+0.66284083j]]\n",
        "J,J_p,J_p_c \n",
        " [[ 1.00000000+0.j        ]\n",
        " [ 0.23016529+0.63327462j]] \n",
        " [[ 1.00000000+0.j        ]\n",
        " [ 0.17738349+0.66284086j]] \n",
        " [[ 1.00000000+0.j        ]\n",
        " [ 0.17738349+0.66284086j]]\n",
        "J,J_p,J_p_c \n",
        " [[ 1.00000000+0.j        ]\n",
        " [ 0.23016529+0.63327462j]] \n",
        " [[ 1.00000000+0.j        ]\n",
        " [ 0.17738349+0.66284085j]] \n",
        " [[ 1.00000000+0.j        ]\n",
        " [ 0.17738349+0.66284085j]]\n",
        "J,J_p,J_p_c \n",
        " [[ 1.00000000+0.j        ]\n",
        " [ 0.23016529+0.63327462j]] \n",
        " [[ 1.00000000+0.j        ]\n",
        " [ 0.22330845+0.65481725j]] \n",
        " [[ 1.00000000+0.j        ]\n",
        " [ 0.22330845+0.65481725j]]\n",
        "J,J_p,J_p_c \n",
        " [[ 1.00000000+0.j        ]\n",
        " [ 0.23016529+0.63327462j]] \n",
        " [[ 1.00000000+0.j        ]\n",
        " [ 0.22330845+0.65481725j]] \n",
        " [[ 1.00000000+0.j        ]\n",
        " [ 0.22330845+0.65481725j]]\n",
        "J,J_p,J_p_c \n",
        " [[ 1.00000000+0.j        ]\n",
        " [ 0.23016529+0.63327462j]] \n",
        " [[ 1.00000000+0.j        ]\n",
        " [ 0.22330845+0.65481723j]] \n",
        " [[ 1.00000000+0.j        ]\n",
        " [ 0.22330845+0.65481723j]]\n",
        "J,J_p,J_p_c \n",
        " [[ 1.00000000+0.j        ]\n",
        " [ 0.23016529+0.63327462j]] \n",
        " [[ 1.00000000+0.j        ]\n",
        " [ 0.22330845+0.65481726j]] \n",
        " [[ 1.00000000+0.j        ]\n",
        " [ 0.22330845+0.65481726j]]\n",
        "J,J_p,J_p_c \n",
        " [[ 1.00000000+0.j        ]\n",
        " [ 0.23016529+0.63327462j]] \n",
        " [[ 1.00000000+0.j        ]\n",
        " [ 0.22330845+0.65481725j]] \n",
        " [[ 1.00000000+0.j        ]\n",
        " [ 0.22330845+0.65481725j]]\n",
        "J,J_p,J_p_c \n",
        " [[ 1.00000000+0.j        ]\n",
        " [ 0.23016529+0.63327462j]] \n",
        " [[ 1.00000000+0.j       ]\n",
        " [ 0.23133573+0.6389711j]] \n",
        " [[ 1.00000000+0.j       ]\n",
        " [ 0.23133573+0.6389711j]]\n",
        "J,J_p,J_p_c"
       ]
      },
      {
       "output_type": "stream",
       "stream": "stdout",
       "text": [
        " \n",
        " [[ 1.00000000+0.j        ]\n",
        " [ 0.23016529+0.63327462j]] \n",
        " [[ 1.00000000+0.j       ]\n",
        " [ 0.23133573+0.6389711j]] \n",
        " [[ 1.00000000+0.j       ]\n",
        " [ 0.23133573+0.6389711j]]\n",
        "J,J_p,J_p_c \n",
        " [[ 1.00000000+0.j        ]\n",
        " [ 0.23016529+0.63327462j]] \n",
        " [[ 1.00000000+0.j        ]\n",
        " [ 0.23133574+0.63897109j]] \n",
        " [[ 1.00000000+0.j        ]\n",
        " [ 0.23133574+0.63897109j]]\n",
        "J,J_p,J_p_c \n",
        " [[ 1.00000000+0.j        ]\n",
        " [ 0.23016529+0.63327462j]] \n",
        " [[ 1.00000000+0.j        ]\n",
        " [ 0.23133573+0.63897112j]] \n",
        " [[ 1.00000000+0.j        ]\n",
        " [ 0.23133573+0.63897112j]]\n",
        "J,J_p,J_p_c \n",
        " [[ 1.00000000+0.j        ]\n",
        " [ 0.23016529+0.63327462j]] \n",
        " [[ 1.00000000+0.j       ]\n",
        " [ 0.23133573+0.6389711j]] \n",
        " [[ 1.00000000+0.j       ]\n",
        " [ 0.23133573+0.6389711j]]\n",
        "J,J_p,J_p_c \n",
        " [[ 1.00000000+0.j        ]\n",
        " [ 0.23016529+0.63327462j]] \n",
        " [[ 1.00000000+0.j       ]\n",
        " [ 0.23012755+0.6333942j]] \n",
        " [[ 1.00000000+0.j       ]\n",
        " [ 0.23012755+0.6333942j]]\n",
        "J,J_p,J_p_c \n",
        " [[ 1.00000000+0.j        ]\n",
        " [ 0.23016529+0.63327462j]] \n",
        " [[ 1.00000000+0.j       ]\n",
        " [ 0.23012755+0.6333942j]] \n",
        " [[ 1.00000000+0.j       ]\n",
        " [ 0.23012755+0.6333942j]]\n",
        "J,J_p,J_p_c \n",
        " [[ 1.00000000+0.j        ]\n",
        " [ 0.23016529+0.63327462j]] \n",
        " [[ 1.00000000+0.j        ]\n",
        " [ 0.23012756+0.63339418j]] \n",
        " [[ 1.00000000+0.j        ]\n",
        " [ 0.23012756+0.63339418j]]\n",
        "J,J_p,J_p_c \n",
        " [[ 1.00000000+0.j        ]\n",
        " [ 0.23016529+0.63327462j]] \n",
        " [[ 1.00000000+0.j        ]\n",
        " [ 0.23012755+0.63339421j]] \n",
        " [[ 1.00000000+0.j        ]\n",
        " [ 0.23012755+0.63339421j]]\n",
        "J,J_p,J_p_c \n",
        " [[ 1.00000000+0.j        ]\n",
        " [ 0.23016529+0.63327462j]] \n",
        " [[ 1.00000000+0.j       ]\n",
        " [ 0.23012755+0.6333942j]] \n",
        " [[ 1.00000000+0.j       ]\n",
        " [ 0.23012755+0.6333942j]]\n",
        "J,J_p,J_p_c \n",
        " [[ 1.00000000+0.j        ]\n",
        " [ 0.23016529+0.63327462j]] \n",
        " [[ 1.00000000+0.j        ]\n",
        " [ 0.23016467+0.63327519j]] \n",
        " [[ 1.00000000+0.j        ]\n",
        " [ 0.23016467+0.63327519j]]\n",
        "J,J_p,J_p_c \n",
        " [[ 1.00000000+0.j        ]\n",
        " [ 0.23016529+0.63327462j]] \n",
        " [[ 1.00000000+0.j        ]\n",
        " [ 0.23016467+0.63327519j]] \n",
        " [[ 1.00000000+0.j        ]\n",
        " [ 0.23016467+0.63327519j]]\n",
        "J,J_p,J_p_c \n",
        " [[ 1.00000000+0.j        ]\n",
        " [ 0.23016529+0.63327462j]] \n",
        " [[ 1.00000000+0.j        ]\n",
        " [ 0.23016468+0.63327518j]]"
       ]
      },
      {
       "output_type": "stream",
       "stream": "stdout",
       "text": [
        " \n",
        " [[ 1.00000000+0.j        ]\n",
        " [ 0.23016468+0.63327518j]]\n",
        "J,J_p,J_p_c \n",
        " [[ 1.00000000+0.j        ]\n",
        " [ 0.23016529+0.63327462j]] \n",
        " [[ 1.00000000+0.j        ]\n",
        " [ 0.23016467+0.63327521j]] \n",
        " [[ 1.00000000+0.j        ]\n",
        " [ 0.23016467+0.63327521j]]\n",
        "J,J_p,J_p_c \n",
        " [[ 1.00000000+0.j        ]\n",
        " [ 0.23016529+0.63327462j]] \n",
        " [[ 1.00000000+0.j        ]\n",
        " [ 0.23016467+0.63327519j]] \n",
        " [[ 1.00000000+0.j        ]\n",
        " [ 0.23016467+0.63327519j]]\n"
       ]
      }
     ],
     "prompt_number": 308
    },
    {
     "cell_type": "code",
     "collapsed": false,
     "input": [
      "res"
     ],
     "language": "python",
     "metadata": {},
     "outputs": [
      {
       "metadata": {},
       "output_type": "pyout",
       "prompt_number": 309,
       "text": [
        "(array([ 2.96314371, -5.93294378,  1.        ]),\n",
        " 7.0366472072308915e-13,\n",
        " {'funcalls': 12,\n",
        "  'grad': array([ -2.22195886e-06,   1.79846688e-06,  -1.94843140e-14]),\n",
        "  'nit': 10,\n",
        "  'task': b'CONVERGENCE: NORM_OF_PROJECTED_GRADIENT_<=_PGTOL',\n",
        "  'warnflag': 0})"
       ]
      }
     ],
     "prompt_number": 309
    },
    {
     "cell_type": "code",
     "collapsed": false,
     "input": [
      "r_8 = Rotate(V,-0.178448)\n",
      "R_65 = Rotate(QWP,0.35024195)\n",
      "\n",
      "b = (R_65*r_8*matrix([[1],[0]],dtype = 'complex')).evalf()\n",
      "plot_ellipse(b)\n",
      "#b = (R_65*r_8*Matrix([[cos()],[sin(pi/8)*exp(1j*0)]],dtype = 'complex').evalf()).evalf()\n",
      "b.evalf()\n",
      "b = b/b[0]\n",
      "b.evalf()\n"
     ],
     "language": "python",
     "metadata": {},
     "outputs": [
      {
       "latex": [
        "$$\\left[\\begin{matrix}1.0\\\\0.230165254893437 + 0.633274620284777 i\\end{matrix}\\right]$$"
       ],
       "metadata": {},
       "output_type": "pyout",
       "png": "[encoded data removed]",
       "prompt_number": 304,
       "text": [
        "\u23a1                  1.0                  \u23a4\n",
        "\u23a2                                       \u23a5\n",
        "\u23a30.230165254893437 + 0.633274620284777\u22c5\u2148\u23a6"
       ]
      }
     ],
     "prompt_number": 304
    },
    {
     "cell_type": "code",
     "collapsed": false,
     "input": [
      "b = Matrix([[cos(-0.59292806797884656)],[sin(-0.59292806797884656)*exp(1j*-1.9194049908833906)]],dtype = 'complex').evalf()\n",
      "plot_ellipse(b)\n",
      "b = b/b[0]\n",
      "b.evalf()"
     ],
     "language": "python",
     "metadata": {},
     "outputs": [
      {
       "latex": [
        "$$\\left[\\begin{matrix}1.0\\\\0.230165287495101 + 0.633274620607482 i\\end{matrix}\\right]$$"
       ],
       "metadata": {},
       "output_type": "pyout",
       "png": "[encoded data removed]",
       "prompt_number": 305,
       "text": [
        "\u23a1                  1.0                  \u23a4\n",
        "\u23a2                                       \u23a5\n",
        "\u23a30.230165287495101 + 0.633274620607482\u22c5\u2148\u23a6"
       ]
      }
     ],
     "prompt_number": 305
    },
    {
     "cell_type": "code",
     "collapsed": false,
     "input": [],
     "language": "python",
     "metadata": {},
     "outputs": []
    }
   ],
   "metadata": {}
  }
 ]
}