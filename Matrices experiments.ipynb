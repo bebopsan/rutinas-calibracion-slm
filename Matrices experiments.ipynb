{
 "metadata": {
  "name": ""
 },
 "nbformat": 3,
 "nbformat_minor": 0,
 "worksheets": [
  {
   "cells": [
    {
     "cell_type": "heading",
     "level": 1,
     "metadata": {},
     "source": [
      "Funciones para trabajo con matrices de Jones, y gr\u00e1ficas de estados de polarizaci\u00f3n."
     ]
    },
    {
     "cell_type": "markdown",
     "metadata": {},
     "source": [
      "Importaci\u00f3n de librer\u00edas y definici\u00f3n de algunas matrices para elementos \u00f3pticos simples."
     ]
    },
    {
     "cell_type": "code",
     "collapsed": false,
     "input": [
      "from pylab import *\n",
      "from sympy import Matrix, exp, pi, sqrt, sign, cos, sin, init_session, symbols\n",
      "from polarization_routines import plot_ellipse\n",
      "%pylab inline\n",
      "init_session(quiet = True)\n",
      "\n",
      "M = Matrix([[ 1 - 1*1j, 1-1*1j],\\\n",
      "           [-1 - 1*1j, 1+1*1j]])\n",
      "\n",
      "V = Matrix([[ 1 , 0],\\\n",
      "            [ 0 , 0]])\n",
      "\n",
      "QWP = Matrix([[ 1 , 0],\\\n",
      "            [ 0 , -1j]])\n"
     ],
     "language": "python",
     "metadata": {},
     "outputs": [
      {
       "output_type": "stream",
       "stream": "stdout",
       "text": [
        "Populating the interactive namespace from numpy and matplotlib\n",
        "IPython console for SymPy 0.7.4.1 (Python 3.3.3-64-bit) (ground types: python)\n"
       ]
      },
      {
       "output_type": "stream",
       "stream": "stderr",
       "text": [
        "WARNING: pylab import has clobbered these variables: ['exp', 'sign', 'fft', 'sqrt', 'pi', 'sin', 'random', 'info', 'cos', 'power', 'linalg']\n",
        "`%pylab --no-import-all` prevents importing * from pylab and numpy\n"
       ]
      }
     ],
     "prompt_number": 198
    },
    {
     "cell_type": "markdown",
     "metadata": {},
     "source": [
      "Funci\u00f3n para rotar elementos \u00f3pticos como retardadores y polarizadores."
     ]
    },
    {
     "cell_type": "code",
     "collapsed": false,
     "input": [
      "def Rotate( element, theta):     \n",
      "    \"\"\"Applies a rotation on any polarizing element given \n",
      "    its Jones matrix representation and a angle of rotation.\n",
      "    The angle is to be ginven in radians and the matrix.  \n",
      "    \n",
      "    \"\"\"\n",
      "    \n",
      "    assert isinstance(element, Matrix)\n",
      "    assert element.shape == (2,2)\n",
      "    \n",
      "    rotator = Matrix([[ cos(theta), sin(theta)],\\\n",
      "                      [-sin(theta), cos(theta)]])\n",
      "    return rotator.transpose()*element*rotator"
     ],
     "language": "python",
     "metadata": {},
     "outputs": [],
     "prompt_number": 199
    },
    {
     "cell_type": "markdown",
     "metadata": {},
     "source": [
      "Colecci\u00f3n de polarizadores y retardadores de $\\lambda /2$ rotados. Los polarizadores tienen una r y las placas retardadoras una R."
     ]
    },
    {
     "cell_type": "code",
     "collapsed": false,
     "input": [
      "H = Rotate(V,pi/2)\n",
      "r_45 = Rotate(V,pi/4)\n",
      "r_m45 = Rotate(V,-pi/4)\n",
      "r_30 = Rotate(V,pi/6)\n",
      "r_m60 = Rotate(V,-pi/3)\n",
      "r_60 = Rotate(V,pi/3)\n",
      "r_30 = Rotate(V,pi/6)\n",
      "r_225 = Rotate(V,pi/8)\n",
      "r_m225 = Rotate(V,-pi/8)\n",
      "r_675 = Rotate(V,3*pi/8)\n",
      "r_1125 = Rotate(V,5*pi/8)\n",
      "r_m675 = Rotate(V,-3*pi/8)\n",
      "R_m135 = Rotate(QWP,-3*pi/4)\n",
      "R_105 = Rotate(QWP, 7*pi/12)\n",
      "R_1125 = Rotate(QWP, 5*pi/8)\n",
      "R_90 = Rotate(QWP, pi/2)\n",
      "R_45 = Rotate(QWP, pi/4)\n",
      "R_225 = Rotate(QWP, pi/8)\n",
      "R_m225 = Rotate(QWP, -pi/8)\n",
      "R_30 = Rotate(QWP, pi/6)\n",
      "R_60 = Rotate(QWP, pi/3)\n",
      "R_675 = Rotate(QWP, 3*pi/8)\n",
      "R_m45 = Rotate(QWP, -pi/4)"
     ],
     "language": "python",
     "metadata": {},
     "outputs": [],
     "prompt_number": 200
    },
    {
     "cell_type": "heading",
     "level": 2,
     "metadata": {},
     "source": [
      "Definici\u00f3n de una funci\u00f3n que caracteriza qu\u00e9 tanto se parece un estado de polarizaci\u00f3n generado por un polarizador y una l\u00e1mina de $\\lambda/4$  a un estado deseado definido por un ket en la forma $|\\chi,phi>$"
     ]
    },
    {
     "cell_type": "markdown",
     "metadata": {},
     "source": [
      "Esta funci\u00f3n sirve para ser usada en conjunto con un algor\u00edtmo de minimizaci\u00f3n que permita encontrar r\u00e1pidamente los \u00e1ngulos   \n",
      "en los que se deben poner los instrumentos del laboratorio para obtener un estado de polarizaci\u00f3n arbitrario dado por un \u00e1ngulo  \n",
      "de polarizaci\u00f3n y un retardo de fase.  En el siguiente bloque de c\u00f3digo se define la funci\u00f3n y se aplica para encontrar los  \n",
      "\u00e1ngulos que generan el estado el\u00edptico orientado a $22.5^{\\circ}$ y con retardo de fase de $\\pi/4$:\n"
     ]
    },
    {
     "cell_type": "code",
     "collapsed": false,
     "input": [
      "def ellipse_ket(x0,chi, phi, verbose = False):\n",
      "    \"\"\"\" encuentra la matriz del retardador para conseguir un vector deseado.\n",
      "    \n",
      "    chi es el valor de la polarizaci\u00f3 en la notaci\u00f3n ket.\n",
      "    phi es el retardo en fase entre la componente X y Y del campo\n",
      "    tal y como est\u00e1 en la notaci\u00f3n ket.\n",
      "    \n",
      "    alpha es el angulo del polarizador a la entrada.\n",
      "    theta es el angulo de la placa de lam/4.\n",
      "    \n",
      "    \"\"\"\n",
      "    [alpha,theta,lam] = x0\n",
      "    \n",
      "    V = matrix([[ 1 , 0],\\\n",
      "                [ 0 , 0]], dtype = 'complex')\n",
      "    QWP = matrix([[ 1 , 0],\\\n",
      "                [ 0 , -1j]], dtype = 'complex')\n",
      "    \n",
      "    def Rotate( element, theta):   \n",
      "        \n",
      "        \"\"\"Applies a rotation on any polarizing element given \n",
      "        its Jones matrix representation and a angle of rotation.\n",
      "        The angle is to be ginven in radians and the matrix.  \n",
      "        \n",
      "        \"\"\"\n",
      "        \n",
      "        assert isinstance(element, matrix)\n",
      "        assert element.shape == (2,2)\n",
      "    \n",
      "        rotator = matrix([[ cos(theta), sin(theta)],\\\n",
      "                      [-sin(theta), cos(theta)]],dtype = 'complex')\n",
      "        return rotator.transpose()*element*rotator\n",
      "    \n",
      "    M = Rotate(QWP,theta)\n",
      "    P = Rotate(V,alpha)\n",
      "    \n",
      "    In = matrix([[cos(chi)],[sin(chi)*exp(1j*0)]],dtype = 'complex')\n",
      "    J  = matrix([[cos(chi)],[sin(chi)*exp(1j*phi)]],dtype = 'complex')\n",
      "    \n",
      "    \n",
      "    Out = M*P*In\n",
      "    \n",
      "    J_p = matrix([[lam,0],[0,lam]],dtype = 'complex')*Out\n",
      "    J_p_c = matrix([[lam*1j,0],[0,lam*1j]],dtype = 'complex')*Out\n",
      "    \n",
      "    J = J/J[0] \n",
      "    J_p = J_p/J_p[0]\n",
      "    J_p_c = J_p_c/J_p_c[0]\n",
      "    if verbose == True:\n",
      "        print('J,J_p,J_p_c','\\n',J,'\\n',J_p,'\\n', J_p_c)\n",
      "    \n",
      "    result =((J[0].real-J_p[0].real)**2+(J[1].real-J_p[1].real)**2+(J[0].imag-J_p[0].imag)**2+(J[1].imag-J_p[1].imag)**2)[0,0]\n",
      "    complex_result =((J[0].real-J_p_c[0].real)**2+(J[1].real-J_p_c[1].real)**2+(J[0].imag-J_p_c[0].imag)**2+(J[1].imag-J_p_c[1].imag)**2)[0,0]\n",
      "    if result > complex_result:\n",
      "        return complex_result\n",
      "    else:\n",
      "        return result\n",
      "\n",
      "\n",
      "ellipse_ket([pi/4,pi/8,1j],pi/8,-pi/4)\n",
      "\n",
      "bnds = ((-pi, pi),(-pi, pi), (-pi/2, pi/2))\n",
      "\n",
      "from scipy.optimize import fmin_l_bfgs_b\n",
      "res = fmin_l_bfgs_b(ellipse_ket,[ pi/8,pi/8,  1],fprime=None,approx_grad=1,  args = (pi/8,pi/4),pgtol=1e-05,bounds =bnds)\n",
      "res"
     ],
     "language": "python",
     "metadata": {},
     "outputs": [
      {
       "output_type": "pyout",
       "prompt_number": 201,
       "text": [
        "(array([ 0.04594062,  0.30774035,  1.        ]),\n",
        " 4.0476826855325048e-13,\n",
        " {'funcalls': 9,\n",
        "  'grad': array([ -9.07162901e-07,   1.96014674e-06,   9.97647270e-15]),\n",
        "  'nit': 7,\n",
        "  'task': b'CONVERGENCE: NORM_OF_PROJECTED_GRADIENT_<=_PGTOL',\n",
        "  'warnflag': 0})"
       ]
      }
     ],
     "prompt_number": 201
    },
    {
     "cell_type": "code",
     "collapsed": false,
     "input": [],
     "language": "python",
     "metadata": {},
     "outputs": [],
     "prompt_number": 201
    },
    {
     "cell_type": "heading",
     "level": 2,
     "metadata": {},
     "source": [
      "Prueba de que la funci\u00f3n de minimizaci\u00f3n entrega posiciones en las cuales se genera una elipse correspondiente al estado $|\\pi/8,\\pi/4>$:"
     ]
    },
    {
     "cell_type": "code",
     "collapsed": false,
     "input": [
      "polarizer = Rotate(V, res[0][0])\n",
      "retarder = Rotate(QWP,res[0][1])\n",
      "\n",
      "b = (retarder*polarizer*matrix([[1],[0]],dtype = 'complex')).evalf()\n",
      "b = (retarder*polarizer*Matrix([[cos(pi/8)],[sin(pi/8)*exp(1j*0)]],dtype = 'complex').evalf()).evalf()\n",
      "b.evalf()\n",
      "b = b/b[0]\n",
      "plot_ellipse(b)\n",
      "alpha =(res[0][0]*180/pi).evalf()\n",
      "theta = (res[0][1]*180/pi).evalf()\n",
      "print(alpha-theta)\n",
      "print('El polarizador debe estar a {0} grados y la l\u00e1mina a {1} grados.'.format(alpha,theta))\n",
      "b.evalf()\n"
     ],
     "language": "python",
     "metadata": {},
     "outputs": [
      {
       "output_type": "display_data",
       "png": "[encoded data removed]",
       "text": [
        "<matplotlib.figure.Figure at 0x1121956d0>"
       ]
      },
      {
       "output_type": "display_data",
       "png": "[encoded data removed]",
       "text": [
        "<matplotlib.figure.Figure at 0x1120cf410>"
       ]
      },
      {
       "output_type": "stream",
       "stream": "stdout",
       "text": [
        "-15.0000192203385\n",
        "El polarizador debe estar a 2.63220387376794 grados y la l\u00e1mina a 17.6322230941065 grados.\n"
       ]
      },
      {
       "latex": [
        "$$\\left[\\begin{matrix}1.0\\\\0.29289364545708 + 0.29289369077053 i\\end{matrix}\\right]$$"
       ],
       "output_type": "pyout",
       "png": "[encoded data removed]",
       "prompt_number": 202,
       "text": [
        "\u23a1                 1.0                 \u23a4\n",
        "\u23a2                                     \u23a5\n",
        "\u23a30.29289364545708 + 0.29289369077053\u22c5\u2148\u23a6"
       ]
      }
     ],
     "prompt_number": 202
    },
    {
     "cell_type": "code",
     "collapsed": false,
     "input": [
      "b = Matrix([[cos(pi/8)],[sin(pi/8)*exp(1j*pi/4)]],dtype = 'complex').evalf()\n",
      "plot_ellipse(b)\n",
      "b = b/b[0]\n",
      "b.evalf()"
     ],
     "language": "python",
     "metadata": {},
     "outputs": [
      {
       "output_type": "display_data",
       "png": "[encoded data removed]",
       "text": [
        "<matplotlib.figure.Figure at 0x111ffccd0>"
       ]
      },
      {
       "output_type": "display_data",
       "png": "[encoded data removed]",
       "text": [
        "<matplotlib.figure.Figure at 0x1121956d0>"
       ]
      },
      {
       "latex": [
        "$$\\left[\\begin{matrix}1.0\\\\0.292893218813452 + 0.292893218813452 i\\end{matrix}\\right]$$"
       ],
       "output_type": "pyout",
       "png": "[encoded data removed]",
       "prompt_number": 203,
       "text": [
        "\u23a1                  1.0                  \u23a4\n",
        "\u23a2                                       \u23a5\n",
        "\u23a30.292893218813452 + 0.292893218813452\u22c5\u2148\u23a6"
       ]
      }
     ],
     "prompt_number": 203
    },
    {
     "cell_type": "code",
     "collapsed": false,
     "input": [
      "res"
     ],
     "language": "python",
     "metadata": {},
     "outputs": [
      {
       "output_type": "pyout",
       "prompt_number": 204,
       "text": [
        "(array([ 0.04594062,  0.30774035,  1.        ]),\n",
        " 4.0476826855325048e-13,\n",
        " {'funcalls': 9,\n",
        "  'grad': array([ -9.07162901e-07,   1.96014674e-06,   9.97647270e-15]),\n",
        "  'nit': 7,\n",
        "  'task': b'CONVERGENCE: NORM_OF_PROJECTED_GRADIENT_<=_PGTOL',\n",
        "  'warnflag': 0})"
       ]
      }
     ],
     "prompt_number": 204
    },
    {
     "cell_type": "code",
     "collapsed": false,
     "input": [
      "plot_ellipse(Matrix([[cos(pi/8)],[sin(pi/8)*exp(1j*-pi/4)]],dtype = 'complex'))"
     ],
     "language": "python",
     "metadata": {},
     "outputs": [
      {
       "output_type": "display_data",
       "png": "[encoded data removed]",
       "text": [
        "<matplotlib.figure.Figure at 0x1120e9ad0>"
       ]
      },
      {
       "output_type": "display_data",
       "png": "[encoded data removed]",
       "text": [
        "<matplotlib.figure.Figure at 0x1121e21d0>"
       ]
      },
      {
       "output_type": "pyout",
       "prompt_number": 205,
       "text": [
        "'done'"
       ]
      }
     ],
     "prompt_number": 205
    },
    {
     "cell_type": "heading",
     "level": 2,
     "metadata": {},
     "source": [
      "An\u00e1lisis del resultado de minimizaci\u00f3n para el caso en el cual el modulador modula solo en fase:"
     ]
    },
    {
     "cell_type": "markdown",
     "metadata": {},
     "source": [
      "Estos resultados se obtuvieron en el archivo :Jones Matrix for 40 meassures"
     ]
    },
    {
     "cell_type": "code",
     "collapsed": false,
     "input": [
      "res = fmin_l_bfgs_b(ellipse_ket,[ pi/8,-pi/4,  1],fprime=None,approx_grad=1,  args = (-0.59292806797884656,-1.9194049908833906),pgtol=1e-05,bounds =bnds)"
     ],
     "language": "python",
     "metadata": {},
     "outputs": [],
     "prompt_number": 206
    },
    {
     "cell_type": "markdown",
     "metadata": {},
     "source": [
      "Y este es el valor de los \u00e1ngulos que deben tener el polarizador y la l\u00e1mina:"
     ]
    },
    {
     "cell_type": "code",
     "collapsed": false,
     "input": [
      "res"
     ],
     "language": "python",
     "metadata": {},
     "outputs": [
      {
       "output_type": "pyout",
       "prompt_number": 207,
       "text": [
        "(array([ 2.96314183, -2.79135408,  0.99999995]),\n",
        " 6.5905517805123714e-12,\n",
        " {'funcalls': 12,\n",
        "  'grad': array([  2.32944840e-06,  -5.76911543e-06,  -5.93652339e-14]),\n",
        "  'nit': 10,\n",
        "  'task': b'CONVERGENCE: NORM_OF_PROJECTED_GRADIENT_<=_PGTOL',\n",
        "  'warnflag': 0})"
       ]
      }
     ],
     "prompt_number": 207
    },
    {
     "cell_type": "code",
     "collapsed": false,
     "input": [
      "polarizer = Rotate(V,res[0][0])\n",
      "retarder= Rotate(QWP,res[0][1])\n",
      "\n",
      "b = (retarder*polarizer*matrix([[1],[0]],dtype = 'complex')).evalf()\n",
      "plot_ellipse(b)\n",
      "#b = (R_65*r_8*Matrix([[cos()],[sin(pi/8)*exp(1j*0)]],dtype = 'complex').evalf()).evalf()\n",
      "\n",
      "b = b/b[0]\n",
      "\n",
      "\n",
      "alpha =(res[0][0]*180/pi).evalf()\n",
      "theta = (res[0][1]*180/pi).evalf()\n",
      "print(alpha-theta)\n",
      "print('El polarizador debe estar a {0} grados y la l\u00e1mina a {1} grados.'.format(alpha,theta))\n",
      "b.evalf()"
     ],
     "language": "python",
     "metadata": {},
     "outputs": [
      {
       "output_type": "display_data",
       "png": "[encoded data removed]",
       "text": [
        "<matplotlib.figure.Figure at 0x1115b1250>"
       ]
      },
      {
       "output_type": "display_data",
       "png": "[encoded data removed]",
       "text": [
        "<matplotlib.figure.Figure at 0x1120dbd50>"
       ]
      },
      {
       "output_type": "stream",
       "stream": "stdout",
       "text": [
        "329.708328985457\n",
        "El polarizador debe estar a 169.775521053709 grados y la l\u00e1mina a -159.932807931748 grados.\n"
       ]
      },
      {
       "latex": [
        "$$\\left[\\begin{matrix}1.0\\\\0.230163382763162 + 0.633272899402084 i\\end{matrix}\\right]$$"
       ],
       "output_type": "pyout",
       "png": "[encoded data removed]",
       "prompt_number": 208,
       "text": [
        "\u23a1                  1.0                  \u23a4\n",
        "\u23a2                                       \u23a5\n",
        "\u23a30.230163382763162 + 0.633272899402084\u22c5\u2148\u23a6"
       ]
      }
     ],
     "prompt_number": 208
    },
    {
     "cell_type": "code",
     "collapsed": false,
     "input": [
      "b = Matrix([[cos(-0.59292806797884656)],[sin(-0.59292806797884656)*exp(1j*-1.9194049908833906)]],dtype = 'complex').evalf()\n",
      "plot_ellipse(b)\n",
      "b = b/b[0]\n",
      "b.evalf()"
     ],
     "language": "python",
     "metadata": {},
     "outputs": [
      {
       "output_type": "display_data",
       "png": "[encoded data removed]",
       "text": [
        "<matplotlib.figure.Figure at 0x11205fcd0>"
       ]
      },
      {
       "output_type": "display_data",
       "png": "[encoded data removed]",
       "text": [
        "<matplotlib.figure.Figure at 0x1120df8d0>"
       ]
      },
      {
       "latex": [
        "$$\\left[\\begin{matrix}1.0\\\\0.230165287495101 + 0.633274620607482 i\\end{matrix}\\right]$$"
       ],
       "output_type": "pyout",
       "png": "[encoded data removed]",
       "prompt_number": 209,
       "text": [
        "\u23a1                  1.0                  \u23a4\n",
        "\u23a2                                       \u23a5\n",
        "\u23a30.230165287495101 + 0.633274620607482\u22c5\u2148\u23a6"
       ]
      }
     ],
     "prompt_number": 209
    },
    {
     "cell_type": "heading",
     "level": 2,
     "metadata": {},
     "source": [
      "Pruebas con otros estados para tratar de deducir alg\u00fan comportamiento recurrente."
     ]
    },
    {
     "cell_type": "code",
     "collapsed": false,
     "input": [
      "res = fmin_l_bfgs_b(ellipse_ket,[ pi/8,pi/2,  1],fprime=None,approx_grad=1,  args = (3*pi/8,pi/2),pgtol=1e-05,bounds =bnds)\n",
      "res"
     ],
     "language": "python",
     "metadata": {},
     "outputs": [
      {
       "output_type": "pyout",
       "prompt_number": 210,
       "text": [
        "(array([  1.96349528e+00,  -2.91840999e-07,   9.99999998e-01]),\n",
        " 3.2713181614844221e-12,\n",
        " {'funcalls': 23,\n",
        "  'grad': array([  1.59513647e-05,  -2.83934597e-05,   1.00708109e-13]),\n",
        "  'nit': 13,\n",
        "  'task': b'CONVERGENCE: REL_REDUCTION_OF_F_<=_FACTR*EPSMCH',\n",
        "  'warnflag': 0})"
       ]
      }
     ],
     "prompt_number": 210
    },
    {
     "cell_type": "code",
     "collapsed": false,
     "input": [
      "1.96349528e+00*180/pi.evalf()"
     ],
     "language": "python",
     "metadata": {},
     "outputs": [
      {
       "latex": [
        "$$112.499992637858$$"
       ],
       "output_type": "pyout",
       "png": "[encoded data removed]",
       "prompt_number": 211,
       "text": [
        "112.499992637858"
       ]
      }
     ],
     "prompt_number": 211
    },
    {
     "cell_type": "code",
     "collapsed": false,
     "input": [
      "def plot_ket(alpha, theta, chi, phi):\n",
      "    \"\"\" Returns a plot and positions of retarder and polarizer for a given state\"\"\"\n",
      "    \n",
      "    bnds = ((-pi, pi),(-pi, pi), (-pi/2, pi/2))    \n",
      "    res = fmin_l_bfgs_b(ellipse_ket,[alpha,theta ,  1], fprime=None, approx_grad=1,\\\n",
      "                        args = (chi,phi),pgtol=1e-05,bounds =bnds)\n",
      "    polarizer = Rotate(V,res[0][0])\n",
      "    retarder= Rotate(QWP,res[0][1])\n",
      "\n",
      "    b = (retarder*polarizer*matrix([[1],[0]],dtype = 'complex')).evalf()\n",
      "    plot_ellipse(b)\n",
      "    #b = (R_65*r_8*Matrix([[cos()],[sin(pi/8)*exp(1j*0)]],dtype = 'complex').evalf()).evalf()\n",
      "\n",
      "    b = b/b[0]\n",
      "    \n",
      "    \n",
      "    alpha =(res[0][0]*180/pi).evalf()\n",
      "    theta = (res[0][1]*180/pi).evalf()\n",
      "    print(alpha-theta)\n",
      "    print('El polarizador debe estar a {0} grados y la l\u00e1mina a {1} grados.'.format(alpha,theta))\n",
      "    \n",
      "    b.evalf()\n",
      "    \n",
      "    return res[0]"
     ],
     "language": "python",
     "metadata": {},
     "outputs": [],
     "prompt_number": 212
    },
    {
     "cell_type": "code",
     "collapsed": false,
     "input": [
      "plot_ket(pi/16,pi/7,1.30940801, -2.8503679)"
     ],
     "language": "python",
     "metadata": {},
     "outputs": [
      {
       "output_type": "display_data",
       "png": "[encoded data removed]",
       "text": [
        "<matplotlib.figure.Figure at 0x111105c50>"
       ]
      },
      {
       "output_type": "display_data",
       "png": "[encoded data removed]",
       "text": [
        "<matplotlib.figure.Figure at 0x112407f10>"
       ]
      },
      {
       "output_type": "stream",
       "stream": "stdout",
       "text": [
        "4.12111220910356\n",
        "El polarizador debe estar a -71.4297547862204 grados y la l\u00e1mina a -75.5508669953239 grados.\n"
       ]
      },
      {
       "output_type": "pyout",
       "prompt_number": 213,
       "text": [
        "array([-1.2466844 , -1.31861138,  1.        ])"
       ]
      }
     ],
     "prompt_number": 213
    },
    {
     "cell_type": "code",
     "collapsed": false,
     "input": [],
     "language": "python",
     "metadata": {},
     "outputs": [],
     "prompt_number": 213
    },
    {
     "cell_type": "heading",
     "level": 2,
     "metadata": {},
     "source": [
      "Analisis de un resultado para modulaci\u00f3n s\u00f3lo de fase:"
     ]
    },
    {
     "cell_type": "code",
     "collapsed": false,
     "input": [
      "res = fmin_l_bfgs_b(ellipse_ket,[ 0,0,  1],fprime=None,approx_grad=1,  args = (-1.07392055e+00, 8.41940256e-01),pgtol=1e-05,bounds =bnds)"
     ],
     "language": "python",
     "metadata": {},
     "outputs": [],
     "prompt_number": 214
    },
    {
     "cell_type": "code",
     "collapsed": false,
     "input": [
      "polarizer = Rotate(V,res[0][0])\n",
      "retarder= Rotate(QWP,res[0][1])\n",
      "\n",
      "b = (retarder*polarizer*matrix([[1],[0]],dtype = 'complex')).evalf()\n",
      "plot_ellipse(b)\n",
      "#b = (R_65*r_8*Matrix([[cos()],[sin(pi/8)*exp(1j*0)]],dtype = 'complex').evalf()).evalf()\n",
      "\n",
      "b = b/b[0]\n",
      "\n",
      "\n",
      "alpha =(res[0][0]*180/pi).evalf()\n",
      "theta = (res[0][1]*180/pi).evalf()\n",
      "print(alpha-theta)\n",
      "print('El polarizador debe estar a {0} grados y la l\u00e1mina a {1} grados.'.format(alpha,theta))\n",
      "b.evalf()"
     ],
     "language": "python",
     "metadata": {},
     "outputs": [
      {
       "output_type": "display_data",
       "png": "[encoded data removed]",
       "text": [
        "<matplotlib.figure.Figure at 0x1121dfbd0>"
       ]
      },
      {
       "output_type": "display_data",
       "png": "[encoded data removed]",
       "text": [
        "<matplotlib.figure.Figure at 0x11211b610>"
       ]
      },
      {
       "output_type": "stream",
       "stream": "stdout",
       "text": [
        "19.3467305956964\n",
        "El polarizador debe estar a -47.8255984563899 grados y la l\u00e1mina a -67.1723290520863 grados.\n"
       ]
      },
      {
       "latex": [
        "$$\\left[\\begin{matrix}1.0\\\\-1.22824045301235 - 1.37562550588521 i\\end{matrix}\\right]$$"
       ],
       "output_type": "pyout",
       "png": "[encoded data removed]",
       "prompt_number": 215,
       "text": [
        "\u23a1                 1.0                  \u23a4\n",
        "\u23a2                                      \u23a5\n",
        "\u23a3-1.22824045301235 - 1.37562550588521\u22c5\u2148\u23a6"
       ]
      }
     ],
     "prompt_number": 215
    },
    {
     "cell_type": "markdown",
     "metadata": {},
     "source": [
      "Estos son los \u00e1ngulos para el polarizador y placa de $\\lambda/4$ a la entrada. A continuaci\u00f3n realizar\u00e9 un proceso para encontrar los \u00e1ngulos de la placa de $\\lambda/4$ y el polarizador a la salida.\n",
      "El esquema es el siguiente, dados los valores de $\\chi$ y $\\phi$ para un bra, es decir, dado un $<\\chi,phi|$ voy a encontrar su ket como su producto daga y luego voy a encontrar los \u00e1ngulos de polarizador y $\\lambda/4$ qe lo producir\u00edan. Lugo de eso voy a rotar el polarizador $\\pi/2$ Y seg\u00fan la tabla esto deber\u00eda ser suficiente."
     ]
    },
    {
     "cell_type": "code",
     "collapsed": false,
     "input": [
      "chi2, phi2 = [1.06827900e+00,  -3.14549497e-04]\n",
      "bra = matrix([[cos(chi2),sin(chi2)*exp(phi2*-1j)]],dtype = complex)\n",
      "bra/bra[0,0]\n",
      "angle(bra[0,1])\n",
      "bra"
     ],
     "language": "python",
     "metadata": {},
     "outputs": [
      {
       "output_type": "pyout",
       "prompt_number": 238,
       "text": [
        "matrix([[ 0.48163318+0.j        ,  0.87637287+0.00027566j]])"
       ]
      }
     ],
     "prompt_number": 238
    },
    {
     "cell_type": "code",
     "collapsed": false,
     "input": [
      "ket = bra.H\n",
      "print(ket)\n",
      "print(angle(ket[1,0]))\n",
      "acos(ket[0,0])\n",
      "angle(ket[1,0])"
     ],
     "language": "python",
     "metadata": {},
     "outputs": [
      {
       "output_type": "stream",
       "stream": "stdout",
       "text": [
        "[[ 0.48163318-0.j        ]\n",
        " [ 0.87637287-0.00027566j]]\n",
        "-0.000314549497\n"
       ]
      },
      {
       "latex": [
        "$$-0.000314549497$$"
       ],
       "output_type": "pyout",
       "png": "[encoded data removed]",
       "prompt_number": 247,
       "text": [
        "-0.000314549497"
       ]
      }
     ],
     "prompt_number": 247
    },
    {
     "cell_type": "code",
     "collapsed": false,
     "input": [
      "res = fmin_l_bfgs_b(ellipse_ket,[ 1,1,  1],fprime=None, approx_grad=1,  args = (acos(ket[0,0]), angle(ket[1,0]),True), pgtol=1e-05,bounds =bnds)"
     ],
     "language": "python",
     "metadata": {},
     "outputs": [
      {
       "output_type": "stream",
       "stream": "stdout",
       "text": [
        "J,J_p,J_p_c \n",
        " [[ 1.00000000+0.j        ]\n",
        " [ 1.81958575-0.00057235j]] \n",
        " [[ 1.00000000+0.j]\n",
        " [ 1.55740772+0.j]] \n",
        " [[ 1.00000000+0.j]\n",
        " [ 1.55740772+0.j]]\n",
        "J,J_p,J_p_c \n",
        " [[ 1.00000000+0.j        ]\n",
        " [ 1.81958575-0.00057235j]] \n",
        " [[ 1.00000000+0.j]\n",
        " [ 1.55740772+0.j]] \n",
        " [[ 1.00000000+0.j]\n",
        " [ 1.55740772+0.j]]\n",
        "J,J_p,J_p_c \n",
        " [[ 1.00000000+0.j        ]\n",
        " [ 1.81958575-0.00057235j]] \n",
        " [[ 1.00000000 +0.00000000e+00j]\n",
        " [ 1.55740772 -3.42551881e-08j]] \n",
        " [[ 1.00000000 +0.00000000e+00j]\n",
        " [ 1.55740772 -3.42551881e-08j]]\n",
        "J,J_p,J_p_c \n",
        " [[ 1.00000000+0.j        ]\n",
        " [ 1.81958575-0.00057235j]] \n",
        " [[ 1.00000000 +0.00000000e+00j]\n",
        " [ 1.55740776 +3.42551892e-08j]] \n",
        " [[ 1.00000000 +0.00000000e+00j]\n",
        " [ 1.55740776 +3.42551892e-08j]]\n",
        "J,J_p,J_p_c \n",
        " [[ 1.00000000+0.j        ]\n",
        " [ 1.81958575-0.00057235j]] \n",
        " [[ 1.00000000+0.j]\n",
        " [ 1.55740772+0.j]] \n",
        " [[ 1.00000000+0.j]\n",
        " [ 1.55740772+0.j]]\n",
        "J,J_p,J_p_c \n",
        " [[ 1.00000000+0.j        ]\n",
        " [ 1.81958575-0.00057235j]] \n",
        " [[ 1.00000000 +6.08249469e-17j]\n",
        " [ 1.90835852 -1.37913512e+00j]] \n",
        " [[ 1.00000000 +6.08249469e-17j]\n",
        " [ 1.90835852 -1.37913512e+00j]]\n",
        "J,J_p,J_p_c \n",
        " [[ 1.00000000+0.j        ]\n",
        " [ 1.81958575-0.00057235j]] \n",
        " [[ 1.00000000 +6.08249469e-17j]\n",
        " [ 1.90835852 -1.37913512e+00j]] \n",
        " [[ 1.00000000 +6.08249469e-17j]\n",
        " [ 1.90835852 -1.37913512e+00j]]\n",
        "J,J_p,J_p_c \n",
        " [[ 1.00000000+0.j        ]\n",
        " [ 1.81958575-0.00057235j]] \n",
        " [[ 1.00000000-0.j        ]\n",
        " [ 1.90835857-1.37913509j]] \n",
        " [[ 1.00000000+0.j        ]\n",
        " [ 1.90835857-1.37913509j]]\n",
        "J,J_p,J_p_c \n",
        " [[ 1.00000000+0.j        ]\n",
        " [ 1.81958575-0.00057235j]] \n",
        " [[ 1.00000000-0.j       ]\n",
        " [ 1.90835849-1.3791352j]] \n",
        " [[ 1.00000000+0.j       ]\n",
        " [ 1.90835849-1.3791352j]]\n",
        "J,J_p,J_p_c \n",
        " [[ 1.00000000+0.j        ]\n",
        " [ 1.81958575-0.00057235j]] \n",
        " [[ 1.00000000-0.j        ]\n",
        " [ 1.90835852-1.37913512j]] \n",
        " [[ 1.00000000+0.j        ]\n",
        " [ 1.90835852-1.37913512j]]\n",
        "J,J_p,J_p_c \n",
        " [[ 1.00000000+0.j        ]\n",
        " [ 1.81958575-0.00057235j]] \n",
        " [[ 1.00000000-0.j        ]\n",
        " [ 0.04752867+0.91496588j]] \n",
        " [[ 1.00000000+0.j        ]\n",
        " [ 0.04752867+0.91496588j]]\n",
        "J,J_p,J_p_c \n",
        " [[ 1.00000000+0.j        ]\n",
        " [ 1.81958575-0.00057235j]] \n",
        " [[ 1.00000000-0.j        ]\n",
        " [ 0.04752867+0.91496588j]] \n",
        " [[ 1.00000000+0.j        ]\n",
        " [ 0.04752867+0.91496588j]]\n",
        "J,J_p,J_p_c \n",
        " [[ 1.00000000+0.j        ]\n",
        " [ 1.81958575-0.00057235j]] \n",
        " [[ 1.00000000-0.j       ]\n",
        " [ 0.04752867+0.9149659j]] \n",
        " [[ 1.00000000+0.j       ]\n",
        " [ 0.04752867+0.9149659j]]\n",
        "J,J_p,J_p_c"
       ]
      },
      {
       "output_type": "stream",
       "stream": "stdout",
       "text": [
        " \n",
        " [[ 1.00000000+0.j        ]\n",
        " [ 1.81958575-0.00057235j]] \n",
        " [[ 1.00000000-0.j        ]\n",
        " [ 0.04752868+0.91496587j]] \n",
        " [[ 1.00000000+0.j        ]\n",
        " [ 0.04752868+0.91496587j]]\n",
        "J,J_p,J_p_c \n",
        " [[ 1.00000000+0.j        ]\n",
        " [ 1.81958575-0.00057235j]] \n",
        " [[ 1.00000000-0.j        ]\n",
        " [ 0.04752867+0.91496588j]] \n",
        " [[ 1.00000000+0.j        ]\n",
        " [ 0.04752867+0.91496588j]]\n",
        "J,J_p,J_p_c \n",
        " [[ 1.00000000+0.j        ]\n",
        " [ 1.81958575-0.00057235j]] \n",
        " [[ 1.00000000+0.j       ]\n",
        " [ 1.66861433+0.1237887j]] \n",
        " [[ 1.00000000+0.j       ]\n",
        " [ 1.66861433+0.1237887j]]\n",
        "J,J_p,J_p_c \n",
        " [[ 1.00000000+0.j        ]\n",
        " [ 1.81958575-0.00057235j]] \n",
        " [[ 1.00000000+0.j       ]\n",
        " [ 1.66861433+0.1237887j]] \n",
        " [[ 1.00000000+0.j       ]\n",
        " [ 1.66861433+0.1237887j]]\n",
        "J,J_p,J_p_c \n",
        " [[ 1.00000000+0.j        ]\n",
        " [ 1.81958575-0.00057235j]] \n",
        " [[ 1.00000000+0.j        ]\n",
        " [ 1.66861434+0.12378866j]] \n",
        " [[ 1.00000000+0.j        ]\n",
        " [ 1.66861434+0.12378866j]]\n",
        "J,J_p,J_p_c \n",
        " [[ 1.00000000+0.j        ]\n",
        " [ 1.81958575-0.00057235j]] \n",
        " [[ 1.00000000+0.j        ]\n",
        " [ 1.66861437+0.12378874j]] \n",
        " [[ 1.00000000+0.j        ]\n",
        " [ 1.66861437+0.12378874j]]\n",
        "J,J_p,J_p_c \n",
        " [[ 1.00000000+0.j        ]\n",
        " [ 1.81958575-0.00057235j]] \n",
        " [[ 1.00000000+0.j       ]\n",
        " [ 1.66861433+0.1237887j]] \n",
        " [[ 1.00000000+0.j       ]\n",
        " [ 1.66861433+0.1237887j]]\n",
        "J,J_p,J_p_c \n",
        " [[ 1.00000000+0.j        ]\n",
        " [ 1.81958575-0.00057235j]] \n",
        " [[ 1.00000000+0.j        ]\n",
        " [ 1.70048602+0.10239079j]] \n",
        " [[ 1.00000000+0.j        ]\n",
        " [ 1.70048602+0.10239079j]]\n",
        "J,J_p,J_p_c \n",
        " [[ 1.00000000+0.j        ]\n",
        " [ 1.81958575-0.00057235j]] \n",
        " [[ 1.00000000+0.j        ]\n",
        " [ 1.70048602+0.10239079j]] \n",
        " [[ 1.00000000+0.j        ]\n",
        " [ 1.70048602+0.10239079j]]\n",
        "J,J_p,J_p_c \n",
        " [[ 1.00000000+0.j        ]\n",
        " [ 1.81958575-0.00057235j]] \n",
        " [[ 1.00000000+0.j        ]\n",
        " [ 1.70048602+0.10239075j]] \n",
        " [[ 1.00000000+0.j        ]\n",
        " [ 1.70048602+0.10239075j]]\n",
        "J,J_p,J_p_c \n",
        " [[ 1.00000000+0.j        ]\n",
        " [ 1.81958575-0.00057235j]] \n",
        " [[ 1.00000000+0.j        ]\n",
        " [ 1.70048606+0.10239083j]] \n",
        " [[ 1.00000000+0.j        ]\n",
        " [ 1.70048606+0.10239083j]]\n",
        "J,J_p,J_p_c \n",
        " [[ 1.00000000+0.j        ]\n",
        " [ 1.81958575-0.00057235j]] \n",
        " [[ 1.00000000+0.j        ]\n",
        " [ 1.70048602+0.10239079j]] \n",
        " [[ 1.00000000+0.j        ]\n",
        " [ 1.70048602+0.10239079j]]\n",
        "J,J_p,J_p_c \n",
        " [[ 1.00000000+0.j        ]\n",
        " [ 1.81958575-0.00057235j]] \n",
        " [[ 1.00000000+0.j        ]\n",
        " [ 1.85491742-0.02086349j]] \n",
        " [[ 1.00000000+0.j        ]\n",
        " [ 1.85491742-0.02086349j]]\n",
        "J,J_p,J_p_c"
       ]
      },
      {
       "output_type": "stream",
       "stream": "stdout",
       "text": [
        " \n",
        " [[ 1.00000000+0.j        ]\n",
        " [ 1.81958575-0.00057235j]] \n",
        " [[ 1.00000000+0.j        ]\n",
        " [ 1.85491742-0.02086349j]] \n",
        " [[ 1.00000000+0.j        ]\n",
        " [ 1.85491742-0.02086349j]]\n",
        "J,J_p,J_p_c \n",
        " [[ 1.00000000+0.j        ]\n",
        " [ 1.81958575-0.00057235j]] \n",
        " [[ 1.00000000+0.j        ]\n",
        " [ 1.85491742-0.02086353j]] \n",
        " [[ 1.00000000+0.j        ]\n",
        " [ 1.85491742-0.02086353j]]\n",
        "J,J_p,J_p_c \n",
        " [[ 1.00000000+0.j        ]\n",
        " [ 1.81958575-0.00057235j]] \n",
        " [[ 1.00000000+0.j        ]\n",
        " [ 1.85491747-0.02086344j]] \n",
        " [[ 1.00000000+0.j        ]\n",
        " [ 1.85491747-0.02086344j]]\n",
        "J,J_p,J_p_c \n",
        " [[ 1.00000000+0.j        ]\n",
        " [ 1.81958575-0.00057235j]] \n",
        " [[ 1.00000000+0.j        ]\n",
        " [ 1.85491742-0.02086349j]] \n",
        " [[ 1.00000000+0.j        ]\n",
        " [ 1.85491742-0.02086349j]]\n",
        "J,J_p,J_p_c \n",
        " [[ 1.00000000+0.j        ]\n",
        " [ 1.81958575-0.00057235j]] \n",
        " [[ 1.00000000+0.j        ]\n",
        " [ 1.81111626+0.00021452j]] \n",
        " [[ 1.00000000+0.j        ]\n",
        " [ 1.81111626+0.00021452j]]\n",
        "J,J_p,J_p_c \n",
        " [[ 1.00000000+0.j        ]\n",
        " [ 1.81958575-0.00057235j]] \n",
        " [[ 1.00000000+0.j        ]\n",
        " [ 1.81111626+0.00021452j]] \n",
        " [[ 1.00000000+0.j        ]\n",
        " [ 1.81111626+0.00021452j]]\n",
        "J,J_p,J_p_c \n",
        " [[ 1.00000000+0.j        ]\n",
        " [ 1.81958575-0.00057235j]] \n",
        " [[ 1.00000000+0.j        ]\n",
        " [ 1.81111626+0.00021448j]] \n",
        " [[ 1.00000000+0.j        ]\n",
        " [ 1.81111626+0.00021448j]]\n",
        "J,J_p,J_p_c \n",
        " [[ 1.00000000+0.j        ]\n",
        " [ 1.81958575-0.00057235j]] \n",
        " [[ 1.00000000+0.j        ]\n",
        " [ 1.81111631+0.00021457j]] \n",
        " [[ 1.00000000+0.j        ]\n",
        " [ 1.81111631+0.00021457j]]\n",
        "J,J_p,J_p_c \n",
        " [[ 1.00000000+0.j        ]\n",
        " [ 1.81958575-0.00057235j]] \n",
        " [[ 1.00000000+0.j        ]\n",
        " [ 1.81111626+0.00021452j]] \n",
        " [[ 1.00000000+0.j        ]\n",
        " [ 1.81111626+0.00021452j]]\n",
        "J,J_p,J_p_c \n",
        " [[ 1.00000000+0.j        ]\n",
        " [ 1.81958575-0.00057235j]] \n",
        " [[ 1.00000000 +1.40692831e-20j]\n",
        " [ 1.81957532 +2.97884550e-04j]] \n",
        " [[ 1.00000000 +1.40692831e-20j]\n",
        " [ 1.81957532 +2.97884550e-04j]]\n",
        "J,J_p,J_p_c \n",
        " [[ 1.00000000+0.j        ]\n",
        " [ 1.81958575-0.00057235j]] \n",
        " [[ 1.00000000 +1.40692831e-20j]\n",
        " [ 1.81957532 +2.97884550e-04j]] \n",
        " [[ 1.00000000 +1.40692831e-20j]\n",
        " [ 1.81957532 +2.97884550e-04j]]"
       ]
      },
      {
       "output_type": "stream",
       "stream": "stdout",
       "text": [
        "\n",
        "J,J_p,J_p_c \n",
        " [[ 1.00000000+0.j        ]\n",
        " [ 1.81958575-0.00057235j]] \n",
        " [[ 1.00000000 -1.40692831e-20j]\n",
        " [ 1.81957532 +2.97841441e-04j]] \n",
        " [[ 1.00000000 -1.40692831e-20j]\n",
        " [ 1.81957532 +2.97841441e-04j]]\n",
        "J,J_p,J_p_c \n",
        " [[ 1.00000000+0.j        ]\n",
        " [ 1.81958575-0.00057235j]] \n",
        " [[ 1.00000000 +1.40692833e-20j]\n",
        " [ 1.81957536 +2.97927669e-04j]] \n",
        " [[ 1.00000000 +1.40692833e-20j]\n",
        " [ 1.81957536 +2.97927669e-04j]]\n",
        "J,J_p,J_p_c \n",
        " [[ 1.00000000+0.j        ]\n",
        " [ 1.81958575-0.00057235j]] \n",
        " [[ 1.00000000+0.j        ]\n",
        " [ 1.81957532+0.00029788j]] \n",
        " [[ 1.00000000+0.j        ]\n",
        " [ 1.81957532+0.00029788j]]\n",
        "J,J_p,J_p_c \n",
        " [[ 1.00000000+0.j        ]\n",
        " [ 1.81958575-0.00057235j]] \n",
        " [[ 1.00000000+0.j        ]\n",
        " [ 1.81958808-0.00077801j]] \n",
        " [[ 1.00000000+0.j        ]\n",
        " [ 1.81958808-0.00077801j]]\n",
        "J,J_p,J_p_c \n",
        " [[ 1.00000000+0.j        ]\n",
        " [ 1.81958575-0.00057235j]] \n",
        " [[ 1.00000000+0.j        ]\n",
        " [ 1.81958808-0.00077801j]] \n",
        " [[ 1.00000000+0.j        ]\n",
        " [ 1.81958808-0.00077801j]]\n",
        "J,J_p,J_p_c \n",
        " [[ 1.00000000+0.j        ]\n",
        " [ 1.81958575-0.00057235j]] \n",
        " [[ 1.00000000+0.j        ]\n",
        " [ 1.81958808-0.00077805j]] \n",
        " [[ 1.00000000+0.j        ]\n",
        " [ 1.81958808-0.00077805j]]\n",
        "J,J_p,J_p_c \n",
        " [[ 1.00000000+0.j        ]\n",
        " [ 1.81958575-0.00057235j]] \n",
        " [[ 1.00000000+0.j        ]\n",
        " [ 1.81958812-0.00077797j]] \n",
        " [[ 1.00000000+0.j        ]\n",
        " [ 1.81958812-0.00077797j]]\n",
        "J,J_p,J_p_c \n",
        " [[ 1.00000000+0.j        ]\n",
        " [ 1.81958575-0.00057235j]] \n",
        " [[ 1.00000000+0.j        ]\n",
        " [ 1.81958808-0.00077801j]] \n",
        " [[ 1.00000000+0.j        ]\n",
        " [ 1.81958808-0.00077801j]]\n",
        "J,J_p,J_p_c \n",
        " [[ 1.00000000+0.j        ]\n",
        " [ 1.81958575-0.00057235j]] \n",
        " [[ 1.00000000+0.j        ]\n",
        " [ 1.81958561-0.00057233j]] \n",
        " [[ 1.00000000+0.j        ]\n",
        " [ 1.81958561-0.00057233j]]\n",
        "J,J_p,J_p_c \n",
        " [[ 1.00000000+0.j        ]\n",
        " [ 1.81958575-0.00057235j]] \n",
        " [[ 1.00000000+0.j        ]\n",
        " [ 1.81958561-0.00057233j]] \n",
        " [[ 1.00000000+0.j        ]\n",
        " [ 1.81958561-0.00057233j]]\n",
        "J,J_p,J_p_c \n",
        " [[ 1.00000000+0.j        ]\n",
        " [ 1.81958575-0.00057235j]] \n",
        " [[ 1.00000000+0.j        ]\n",
        " [ 1.81958561-0.00057237j]] \n",
        " [[ 1.00000000+0.j        ]\n",
        " [ 1.81958561-0.00057237j]]\n",
        "J,J_p,J_p_c \n",
        " [[ 1.00000000+0.j        ]\n",
        " [ 1.81958575-0.00057235j]] \n",
        " [[ 1.00000000+0.j        ]\n",
        " [ 1.81958565-0.00057228j]] \n",
        " [[ 1.00000000+0.j        ]\n",
        " [ 1.81958565-0.00057228j]]\n",
        "J,J_p,J_p_c \n",
        " [[ 1.00000000+0.j        ]\n",
        " [ 1.81958575-0.00057235j]]"
       ]
      },
      {
       "output_type": "stream",
       "stream": "stdout",
       "text": [
        " \n",
        " [[ 1.00000000+0.j        ]\n",
        " [ 1.81958561-0.00057233j]] \n",
        " [[ 1.00000000+0.j        ]\n",
        " [ 1.81958561-0.00057233j]]\n"
       ]
      }
     ],
     "prompt_number": 248
    },
    {
     "cell_type": "code",
     "collapsed": false,
     "input": [
      "angle(ket[1][0,0])"
     ],
     "language": "python",
     "metadata": {},
     "outputs": [
      {
       "latex": [
        "$$-0.000314549497$$"
       ],
       "output_type": "pyout",
       "png": "[encoded data removed]",
       "prompt_number": 249,
       "text": [
        "-0.000314549497"
       ]
      }
     ],
     "prompt_number": 249
    },
    {
     "cell_type": "code",
     "collapsed": false,
     "input": [
      "res"
     ],
     "language": "python",
     "metadata": {},
     "outputs": [
      {
       "output_type": "pyout",
       "prompt_number": 250,
       "text": [
        "(array([ 1.06841174,  1.06827898,  1.        ]),\n",
        " 2.0543799156034593e-14,\n",
        " {'funcalls': 10,\n",
        "  'grad': array([ -1.58161211e-08,  -6.45875714e-07,  -6.27935805e-15]),\n",
        "  'nit': 7,\n",
        "  'task': b'CONVERGENCE: NORM_OF_PROJECTED_GRADIENT_<=_PGTOL',\n",
        "  'warnflag': 0})"
       ]
      }
     ],
     "prompt_number": 250
    },
    {
     "cell_type": "code",
     "collapsed": false,
     "input": [
      "(0.48176236 + pi/2).evalf()"
     ],
     "language": "python",
     "metadata": {},
     "outputs": [
      {
       "latex": [
        "$$2.0525586867949$$"
       ],
       "output_type": "pyout",
       "png": "[encoded data removed]",
       "prompt_number": 251,
       "text": [
        "2.05255868679490"
       ]
      }
     ],
     "prompt_number": 251
    },
    {
     "cell_type": "code",
     "collapsed": false,
     "input": [
      "pi.evalf()/2-0.48176236"
     ],
     "language": "python",
     "metadata": {},
     "outputs": [
      {
       "latex": [
        "$$1.0890339667949$$"
       ],
       "output_type": "pyout",
       "png": "[encoded data removed]",
       "prompt_number": 252,
       "text": [
        "1.08903396679490"
       ]
      }
     ],
     "prompt_number": 252
    },
    {
     "cell_type": "code",
     "collapsed": false,
     "input": [
      "1.06827900"
     ],
     "language": "python",
     "metadata": {},
     "outputs": [
      {
       "latex": [
        "$$1.068279$$"
       ],
       "output_type": "pyout",
       "png": "[encoded data removed]",
       "prompt_number": 253,
       "text": [
        "1.068279"
       ]
      }
     ],
     "prompt_number": 253
    },
    {
     "cell_type": "code",
     "collapsed": false,
     "input": [
      "polarizer = Rotate(V,res[0][0])\n",
      "retarder= Rotate(QWP,res[0][1])\n",
      "\n",
      "b = (retarder*polarizer*matrix([[1],[0]],dtype = 'complex')).evalf()\n",
      "plot_ellipse(b)\n",
      "#b = (R_65*r_8*Matrix([[cos()],[sin(pi/8)*exp(1j*0)]],dtype = 'complex').evalf()).evalf()\n",
      "\n",
      "b = b/b[0]\n",
      "\n",
      "\n",
      "alpha =(res[0][0]*180/pi).evalf()\n",
      "theta = (res[0][1]*180/pi).evalf()\n",
      "print(alpha-theta)\n",
      "print('El polarizador debe estar a {0} grados y la l\u00e1mina a {1} grados.'.format(alpha,theta))\n",
      "b.evalf()"
     ],
     "language": "python",
     "metadata": {},
     "outputs": [
      {
       "output_type": "display_data",
       "png": "[encoded data removed]",
       "text": [
        "<matplotlib.figure.Figure at 0x11208de90>"
       ]
      },
      {
       "output_type": "display_data",
       "png": "[encoded data removed]",
       "text": [
        "<matplotlib.figure.Figure at 0x11248ef90>"
       ]
      },
      {
       "output_type": "stream",
       "stream": "stdout",
       "text": [
        "0.00760675135455813\n",
        "El polarizador debe estar a 61.2154835556815 grados y la l\u00e1mina a 61.2078768043269 grados.\n"
       ]
      },
      {
       "latex": [
        "$$\\left[\\begin{matrix}1.0\\\\1.8195856057732 - 0.000572326343180023 i\\end{matrix}\\right]$$"
       ],
       "output_type": "pyout",
       "png": "[encoded data removed]",
       "prompt_number": 254,
       "text": [
        "\u23a1                  1.0                   \u23a4\n",
        "\u23a2                                        \u23a5\n",
        "\u23a31.8195856057732 - 0.000572326343180023\u22c5\u2148\u23a6"
       ]
      }
     ],
     "prompt_number": 254
    },
    {
     "cell_type": "code",
     "collapsed": false,
     "input": [
      "a = Matrix([[cos(chi2)],[sin(chi2)*exp(-1j*phi2)]],dtype = 'complex')\n",
      "plot_ellipse(a)\n",
      "(a/a[0]).evalf()"
     ],
     "language": "python",
     "metadata": {},
     "outputs": [
      {
       "output_type": "display_data",
       "png": "[encoded data removed]",
       "text": [
        "<matplotlib.figure.Figure at 0x11023c6d0>"
       ]
      },
      {
       "output_type": "display_data",
       "png": "[encoded data removed]",
       "text": [
        "<matplotlib.figure.Figure at 0x11211d4d0>"
       ]
      },
      {
       "latex": [
        "$$\\left[\\begin{matrix}1.0\\\\1.81958574717178 + 0.000572349800397613 i\\end{matrix}\\right]$$"
       ],
       "output_type": "pyout",
       "png": "[encoded data removed]",
       "prompt_number": 255,
       "text": [
        "\u23a1                   1.0                   \u23a4\n",
        "\u23a2                                         \u23a5\n",
        "\u23a31.81958574717178 + 0.000572349800397613\u22c5\u2148\u23a6"
       ]
      }
     ],
     "prompt_number": 255
    },
    {
     "cell_type": "code",
     "collapsed": false,
     "input": [
      "chi2*180/pi.evalf()"
     ],
     "language": "python",
     "metadata": {},
     "outputs": [
      {
       "latex": [
        "$$61.2078780424561$$"
       ],
       "output_type": "pyout",
       "png": "[encoded data removed]",
       "prompt_number": 256,
       "text": [
        "61.2078780424561"
       ]
      }
     ],
     "prompt_number": 256
    },
    {
     "cell_type": "code",
     "collapsed": false,
     "input": [
      "phi2"
     ],
     "language": "python",
     "metadata": {},
     "outputs": [
      {
       "latex": [
        "$$-0.000314549497$$"
       ],
       "output_type": "pyout",
       "png": "[encoded data removed]",
       "prompt_number": 99,
       "text": [
        "-0.000314549497"
       ]
      }
     ],
     "prompt_number": 99
    },
    {
     "cell_type": "code",
     "collapsed": false,
     "input": [
      "sin(chi2)"
     ],
     "language": "python",
     "metadata": {},
     "outputs": [
      {
       "latex": [
        "$$0.876372911820526$$"
       ],
       "output_type": "pyout",
       "png": "[encoded data removed]",
       "prompt_number": 100,
       "text": [
        "0.876372911820526"
       ]
      }
     ],
     "prompt_number": 100
    },
    {
     "cell_type": "code",
     "collapsed": false,
     "input": [],
     "language": "python",
     "metadata": {},
     "outputs": []
    }
   ],
   "metadata": {}
  }
 ]
}