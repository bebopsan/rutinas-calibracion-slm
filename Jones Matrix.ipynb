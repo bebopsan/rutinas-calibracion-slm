{
 "metadata": {
  "name": "Jones Matrix"
 },
 "nbformat": 3,
 "nbformat_minor": 0,
 "worksheets": [
  {
   "cells": [
    {
     "cell_type": "heading",
     "level": 1,
     "metadata": {},
     "source": [
      "Scripts para la construcci\u00f3n de la matriz de Jones usando las medidas experimentales"
     ]
    },
    {
     "cell_type": "markdown",
     "metadata": {},
     "source": [
      "Importaci\u00f3n de librerias y carga de archivos $e^{\\phi}$"
     ]
    },
    {
     "cell_type": "code",
     "collapsed": false,
     "input": [
      "from sympy import symbols, Matrix\n",
      "from numpy import loadtxt, zeros, matrix, exp, pi\n",
      "from scipy.optimize import minimize\n",
      "import matplotlib.gridspec as gridspec\n",
      "\n",
      "I1_amp =loadtxt(\"I1_amp\")\n",
      "I1_fase =loadtxt(\"I1_fase\")\n",
      "I2_amp =loadtxt(\"I2_amp\")\n",
      "I2_fase =loadtxt(\"I2_fase\")\n",
      "I3_amp =loadtxt(\"I3_amp\")\n",
      "I3_fase =loadtxt(\"I3_fase\")\n",
      "I3p_amp =loadtxt(\"I'3_amp\")\n",
      "I3p_fase =loadtxt(\"I'3_fase\")\n",
      "I4_amp =loadtxt(\"I4_amp\")\n",
      "I4_fase =loadtxt(\"I4_fase\")\n",
      "I4p_amp =loadtxt(\"I'4_amp\")\n",
      "I4p_fase =loadtxt(\"I'4_fase\")\n",
      "I5_amp =loadtxt(\"I5_amp\")\n",
      "I5_fase =loadtxt(\"I5_fase\")\n",
      "I6_amp =loadtxt(\"I6_amp\")\n",
      "I6_fase =loadtxt(\"I6_fase\")\n",
      "I7_amp =loadtxt(\"I7_amp\")\n",
      "I7_fase =loadtxt(\"I7_fase\")\n",
      "I7p_amp =loadtxt(\"I'7_amp\")\n",
      "I7p_fase =loadtxt(\"I'7_fase\")"
     ],
     "language": "python",
     "metadata": {},
     "outputs": [],
     "prompt_number": 22
    },
    {
     "cell_type": "heading",
     "level": 2,
     "metadata": {},
     "source": [
      "Definici\u00f3n de X, Y, Z y W"
     ]
    },
    {
     "cell_type": "code",
     "collapsed": false,
     "input": [
      "# Averaging of intensities\n",
      "I1 = zeros(52)\n",
      "I2 = zeros(52)\n",
      "I3 = zeros(52)\n",
      "I4 = zeros(52)\n",
      "I5 = zeros(52)\n",
      "I6 = zeros(52)\n",
      "I7 = zeros(52)\n",
      "for g in range(I1_amp.shape[0]):\n",
      "    I1[g] = I1_amp[g,1]/(I1_amp[g,1]+I2_amp[g,1])\n",
      "    I2[g] = I2_amp[g,1]/(I1_amp[g,1]+I2_amp[g,1])\n",
      "    I3[g] = I3_amp[g,1]/(I3_amp[g,1]+I3p_amp[g,1])\n",
      "    I4[g] = I4_amp[g,1]/(I4_amp[g,1]+I4p_amp[g,1])\n",
      "    I5[g] = I5_amp[g,1]/(I5_amp[g,1]+I6_amp[g,1])\n",
      "    I6[g] = I6_amp[g,1]/(I5_amp[g,1]+I6_amp[g,1])\n",
      "    I7[g] = I7_amp[g,1]/(I7_amp[g,1]+I7p_amp[g,1])\n",
      "\n",
      "X = zeros(52)\n",
      "Y = zeros(52)\n",
      "Z = zeros(52)\n",
      "W = zeros(52)\n",
      "            \n",
      "for g in range(I1_amp.shape[0]):\n",
      "    X[g] = sqrt( I1[g]/(1+( (I7[g]-I6[g])/(I3[g]-I4[g]) )**2) )\n",
      "    Y[g] = sqrt( I1[g]/(1+( (I3[g]-I4[g])/(I7[g]-I6[g]) )**2) )\n",
      "    Z[g] = sqrt( I1[g]/(1+( (I3[g]-I4[g])/(I5[g]-I7[g]) )**2) )\n",
      "    W[g] = sqrt( I1[g]/(1+( (I5[g]-I7[g])/(I3[g]-I4[g]) )**2) )\n",
      "    \n",
      "    sign_Z = sign(I5[g]-I7[g])/sign(X[g])\n",
      "    if sign(Z[g]) != sign_Z:\n",
      "        Z[g] = Z[g]*-1\n",
      "    sign_W = sign(I3[g]-I4[g])/sign(X[g])\n",
      "    if sign(W[g]) != sign_W:\n",
      "        W[g] = W[g]*-1\n",
      "    sign_Y = sign(I7[g]-I6[g])/sign(X[g])\n",
      "    if sign(Z[g]) != sign_Y:\n",
      "        Y[g] = Y[g]*-1\n",
      "    "
     ],
     "language": "python",
     "metadata": {},
     "outputs": [],
     "prompt_number": 37
    },
    {
     "cell_type": "code",
     "collapsed": false,
     "input": [
      "figure()\n",
      "plot(X,label='X,76,34')\n",
      "plot(Y,label='Y,34,76')\n",
      "plot(Z,label='Z, 34,57')\n",
      "plot(W,label='W, 57,34')\n",
      "grid()\n",
      "legend()"
     ],
     "language": "python",
     "metadata": {},
     "outputs": [
      {
       "output_type": "pyout",
       "prompt_number": 38,
       "text": [
        "<matplotlib.legend.Legend at 0x6df2690>"
       ]
      }
     ],
     "prompt_number": 38
    },
    {
     "cell_type": "code",
     "collapsed": false,
     "input": [
      "fig = figure()\n",
      "plot(I1,label='I1')\n",
      "plot(I2,label='I2')\n",
      "plot(I3,label='I3')\n",
      "plot(I4,label='I4')\n",
      "plot(I5,label='I5')\n",
      "plot(I6,label='I6')\n",
      "plot(I7,label='I7')\n",
      "legend()\n"
     ],
     "language": "python",
     "metadata": {},
     "outputs": [
      {
       "output_type": "pyout",
       "prompt_number": 25,
       "text": [
        "<matplotlib.legend.Legend at 0x8b58ed0>"
       ]
      }
     ],
     "prompt_number": 25
    },
    {
     "cell_type": "code",
     "collapsed": false,
     "input": [
      "figure()\n",
      "#plot(I7-I6/(I3-I4))\n",
      "plot(I3-I4/(I7-I6))\n"
     ],
     "language": "python",
     "metadata": {},
     "outputs": [
      {
       "output_type": "pyout",
       "prompt_number": 5,
       "text": [
        "[<matplotlib.lines.Line2D at 0x61a8cd0>]"
       ]
      }
     ],
     "prompt_number": 5
    },
    {
     "cell_type": "code",
     "collapsed": false,
     "input": [
      "M = matrix([[ 1 - 1*1j, 1-1*1j],\\\n",
      "           [-1 - 1*1j, 1+1*1j]])\n",
      "M.conjugate().transpose()\n",
      "matrix([[cos(0)],[sin(0)*exp(0*1j)]]).H*M*matrix([[cos(0)],[sin(0)*exp(0*1j)]])\n"
     ],
     "language": "python",
     "metadata": {},
     "outputs": [
      {
       "output_type": "pyout",
       "prompt_number": 26,
       "text": [
        "matrix([[ 1.-1.j]])"
       ]
      }
     ],
     "prompt_number": 26
    },
    {
     "cell_type": "code",
     "collapsed": false,
     "input": [
      "I_exp = {1:I1, 2:I2, 3:I3, 4:I4, 5:I5, 6:I6, 7:I7}"
     ],
     "language": "python",
     "metadata": {},
     "outputs": [],
     "prompt_number": 27
    },
    {
     "cell_type": "code",
     "collapsed": false,
     "input": [
      "def min_sq(x0,I_exp,g):\n",
      "    \"\"\" Calculates squared differences for a minimization procedure.\n",
      "\n",
      "    Given the experimental meassures of intensity and arbitrary values for \n",
      "    the parameters of an SLM Jones Matrix, this function gives a value to\n",
      "    minimize. That value tells how close is the estimation of x, y, z, w \n",
      "    to the value that correctly models the SLM.\n",
      "\n",
      "    :param x,y,z,w: Are a guess of real scalars that conform the Joung Matrix for the SLM.\n",
      "    :param I_exp: Is a dictionary contanining intensities for every polarization state.\n",
      "    :param g: Is the gray level of the SLM for which we are solving.\n",
      "    \"\"\"\n",
      "    [x,y,z,w] = x0\n",
      "    \n",
      "    def intensity(bra,ket):\n",
      "        In  = matrix([[cos(ket[0])],[sin(ket[0])*exp(ket[1]*1j)]])\n",
      "        Out = matrix([[cos(bra[0])],[sin(bra[0])*exp(bra[1]*1j)]])\n",
      "        return In, Out\n",
      "    \n",
      "    M = matrix([[ x - y*1j, z-w*1j],\\\n",
      "                [-z - w*1j, x+y*1j]])\n",
      "    \n",
      "    In, Out = intensity([0,0],        [0,0])\n",
      "    I1 = In.H*M.H*Out * Out.H*M*In\n",
      "    \n",
      "    In, Out = intensity([pi/2,0],     [0,0])\n",
      "    I2 = In.H*M.H*Out * Out.H*M*In\n",
      "    \n",
      "    In, Out = intensity([pi/4,3*pi/2],[0,0])\n",
      "    I3 = In.H*M.H*Out * Out.H*M*In\n",
      "    \n",
      "    In, Out = intensity([pi/2,0],     [pi/4,pi/2])\n",
      "    I4 = In.H*M.H*Out * Out.H*M*In\n",
      "    \n",
      "    In, Out = intensity([0,0],        [pi/4,0])\n",
      "    I5 = In.H*M.H*Out * Out.H*M*In\n",
      "    \n",
      "    In, Out = intensity([pi/2,0],     [pi/4,0])\n",
      "    I6 = In.H*M.H*Out * Out.H*M*In\n",
      "    \n",
      "    In, Out = intensity([pi/4,0],[0,0])\n",
      "    I7 = In.H*M.H*Out * Out.H*M*In\n",
      "    \n",
      "    return ((I1-I_exp[1][g])**2+(I2-I_exp[2][g])**2+(I3-I_exp[3][g])**2+(I4-I_exp[4][g])**2\\\n",
      "          +(I5-I_exp[5][g])**2+(I6-I_exp[6][g])**2+(I7-I_exp[7][g])**2)[0,0].real\n",
      "    "
     ],
     "language": "python",
     "metadata": {},
     "outputs": [],
     "prompt_number": 28
    },
    {
     "cell_type": "code",
     "collapsed": false,
     "input": [
      "min_sq([0.4,0.4,-.6,.1],I_exp,0)"
     ],
     "language": "python",
     "metadata": {},
     "outputs": [
      {
       "output_type": "pyout",
       "prompt_number": 29,
       "text": [
        "1.3604047103442787"
       ]
      }
     ],
     "prompt_number": 29
    },
    {
     "cell_type": "code",
     "collapsed": false,
     "input": [
      "bnds = ((-1, 1), (-1, 1),(-1, 1), (-1, 1))\n",
      "cons = ({'type': 'eq', 'fun': lambda x:  x[0]**2+x[1]**2+x[2]**2+x[3]**2 - 1})\n",
      "minimize(min_sq,[0,0,0,0], args = (I_exp,0),method = 'SLSQP',bounds =bnds, options={ 'disp': True},constraints=cons)"
     ],
     "language": "python",
     "metadata": {},
     "outputs": [
      {
       "output_type": "stream",
       "stream": "stdout",
       "text": [
        "Optimization terminated successfully.    (Exit mode 0)\n",
        "            Current function value: 0.00371909151759\n",
        "            Iterations: 23\n",
        "            Function evaluations: 155\n",
        "            Gradient evaluations: 23\n"
       ]
      },
      {
       "output_type": "pyout",
       "prompt_number": 30,
       "text": [
        "  status: 0\n",
        " success: True\n",
        "    njev: 23\n",
        "    nfev: 155\n",
        "     fun: 0.0037190915175924003\n",
        "       x: array([ 0.86815737,  0.45776835,  0.18691592, -0.04258508])\n",
        " message: 'Optimization terminated successfully.'\n",
        "     jac: array([ 0.1077983 ,  0.05671583,  0.02283298, -0.00434414,  0.        ])\n",
        "     nit: 23"
       ]
      }
     ],
     "prompt_number": 30
    },
    {
     "cell_type": "code",
     "collapsed": false,
     "input": [
      "min_sq([ 0.8447722 ,  0.48283065,  0.18716985, -0.04066127],I_exp,0)"
     ],
     "language": "python",
     "metadata": {},
     "outputs": [
      {
       "output_type": "pyout",
       "prompt_number": 31,
       "text": [
        "0.0032057416611855566"
       ]
      }
     ],
     "prompt_number": 31
    },
    {
     "cell_type": "code",
     "collapsed": false,
     "input": [
      "M = {}\n",
      "bnds = ((-1, 1), (-1, 1),(-1, 1), (-1, 1))\n",
      "cons = ({'type': 'eq', 'fun': lambda x:  x[0]**2+x[1]**2+x[2]**2+x[3]**2 - 1})\n",
      "for g in range(52):\n",
      "    #res = minimize(min_sq,[ 0.86815737,  0.45776835,  0.18691592, -0.04258508], args = (I_exp,g),method = 'SLSQP',bounds =bnds,constraints=cons, options={ 'disp': True})\n",
      "    res = minimize(min_sq,[ 0.86815737,  0.45776835,  0.18691592, -0.04258508], args = (I_exp,g))\n",
      "    #res = minimize(min_sq,[ 0.86815737,  0.45776835,  0.18691592, -0.04258508], args = (I_exp,g),method = 'COBYLA',bounds =bnds, options={ 'disp': True})\n",
      "    x,y,z,w = res.x\n",
      "    M[g] = matrix([[ x - y*1j, z-w*1j],\\\n",
      "                   [-z - w*1j, x+y*1j]])\n",
      "    \n",
      "    "
     ],
     "language": "python",
     "metadata": {},
     "outputs": [],
     "prompt_number": 32
    },
    {
     "cell_type": "code",
     "collapsed": false,
     "input": [
      "def intensity(bra,ket):\n",
      "    In  = matrix([[cos(ket[0])],[sin(ket[0])*exp(ket[1]*1j)]])\n",
      "    Out = matrix([[cos(bra[0])],[sin(bra[0])*exp(bra[1]*1j)]])\n",
      "    return In, Out\n",
      "brakets = {1:intensity([0,0],        [0,0]),\\\n",
      "           2:intensity([pi/2,0],     [0,0]),\\\n",
      "           3:intensity([pi/4,3*pi/2],[0,0]),\\\n",
      "           4:intensity([pi/2,0],     [pi/4,pi/2]),\\\n",
      "           5:intensity([0,0],        [pi/4,0]),\\\n",
      "           6:intensity([pi/2,0],     [pi/4,0]),\\\n",
      "           7:intensity([pi/4,0],[0,0])}"
     ],
     "language": "python",
     "metadata": {},
     "outputs": [],
     "prompt_number": 33
    },
    {
     "cell_type": "code",
     "collapsed": false,
     "input": [
      "fig = figure()\n",
      "gs1 = gridspec.GridSpec(2, 4)\n",
      "axes = []\n",
      "for i in range(2):\n",
      "    for j in range(4):\n",
      "        if i+j!=4:\n",
      "            axes.append(fig.add_subplot(gs1[i,j]))\n",
      "        \n",
      "for i in range(1,8):\n",
      "    In, Out = brakets[i]\n",
      "    I_test = zeros(52)\n",
      "    for g in range(52):\n",
      "        I_test[g] = (In.H*M[g].H*Out * Out.H*M[g]*In)[0,0].real\n",
      "    n = '81'+str(g)\n",
      "    axes[i-1].plot(I_test,label = 'It')\n",
      "    axes[i-1].plot(I_exp[i], label = 'Ie')\n",
      "    axes[i-1].set_title('$I_{'+str(i)+'}$')"
     ],
     "language": "python",
     "metadata": {},
     "outputs": [],
     "prompt_number": 34
    },
    {
     "cell_type": "code",
     "collapsed": false,
     "input": [
      "for g in range(52):\n",
      "     X[g] = M[g][0,0].real\n",
      "     Y[g] = -M[g][0,0].imag\n",
      "     Z[g] = M[g][0,1].real\n",
      "     W[g] = -M[g][0,1].imag\n",
      "        "
     ],
     "language": "python",
     "metadata": {},
     "outputs": [],
     "prompt_number": 35
    },
    {
     "cell_type": "code",
     "collapsed": false,
     "input": [
      "figure()\n",
      "plot(X,label='X,76,34')\n",
      "plot(Y,label='Y,34,76')\n",
      "plot(Z,label='Z, 34,57')\n",
      "plot(W,label='W, 57,34')\n",
      "grid()\n",
      "legend()"
     ],
     "language": "python",
     "metadata": {},
     "outputs": [
      {
       "output_type": "pyout",
       "prompt_number": 36,
       "text": [
        "<matplotlib.legend.Legend at 0x72962d0>"
       ]
      }
     ],
     "prompt_number": 36
    },
    {
     "cell_type": "code",
     "collapsed": false,
     "input": [
      "\n"
     ],
     "language": "python",
     "metadata": {},
     "outputs": []
    }
   ],
   "metadata": {}
  }
 ]
}