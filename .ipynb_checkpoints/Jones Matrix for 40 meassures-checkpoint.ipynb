{
 "metadata": {
  "name": ""
 },
 "nbformat": 3,
 "nbformat_minor": 0,
 "worksheets": [
  {
   "cells": [
    {
     "cell_type": "heading",
     "level": 1,
     "metadata": {},
     "source": [
      "Scripts para la construcci\u00f3n de la matriz de Jones usando las medidas experimentales"
     ]
    },
    {
     "cell_type": "markdown",
     "metadata": {},
     "source": [
      "Importaci\u00f3n de librerias y carga de archivos. "
     ]
    },
    {
     "cell_type": "code",
     "collapsed": false,
     "input": [
      "]from sympy import symbols, Matrix\n",
      "from numpy import loadtxt, zeros, matrix, exp, pi, sqrt, sign\n",
      "from scipy.optimize import minimize\n",
      "import matplotlib.gridspec as gridspec\n",
      "I_exp = {}\n",
      "I = {}\n",
      "for i in range(1,41):\n",
      "   # image = \"In{0}_amp\".format(i)\n",
      "    image = \"Im{0}_amp\".format(i)\n",
      "    I_exp[i] = loadtxt(image)    \n",
      "    I[i] = zeros(52)\n",
      "for i in range(21,31):\n",
      "    image = \"In{0}_amp\".format(i)\n",
      "    I_exp[i+20] = loadtxt(image)    \n",
      "    I[i+20] = zeros(52)\n",
      "    \n",
      "#I_exp[41] =  loadtxt(\"In21_amp\")\n",
      "#I[41] = zeros(52)\n",
      "#I_exp[42] =  loadtxt(\"In22_amp\")\n",
      "#I[42] = zeros(52)\n",
      "I_exp_2 = I_exp"
     ],
     "language": "python",
     "metadata": {},
     "outputs": [],
     "prompt_number": 1
    },
    {
     "cell_type": "heading",
     "level": 2,
     "metadata": {},
     "source": [
      "Normalizaci\u00f3n"
     ]
    },
    {
     "cell_type": "markdown",
     "metadata": {},
     "source": [
      "En este punto suceden dos cosas, primero realizo una normalizaci\u00f3n por pares.  \n",
      "Asumiendo que cada medida esta antecedida por su estado ortogonal, lo que hago es:\n",
      "$$I_i = \\frac{I_i^{exp}}{I_i^{exp}+I_{i+1}^{exp}}$$"
     ]
    },
    {
     "cell_type": "code",
     "collapsed": false,
     "input": [
      "# Averaging of intensities\n",
      "for i in range(1,46,2):\n",
      "    for g in range(I_exp[i].shape[0]):\n",
      "        I[i][g] = I_exp[i][g,1]/(I_exp[i][g,1]+I_exp[i+1][g,1])\n",
      "        I[i+1][g] = I_exp[i+1][g,1]/(I_exp[i][g,1]+I_exp[i+1][g,1])"
     ],
     "language": "python",
     "metadata": {},
     "outputs": [],
     "prompt_number": 3
    },
    {
     "cell_type": "markdown",
     "metadata": {},
     "source": [
      "Graficaci\u00f3n de las curvas de indensidad normalizadas"
     ]
    },
    {
     "cell_type": "code",
     "collapsed": false,
     "input": [
      "fig = figure()\n",
      "for i in range(1,46):\n",
      "    plot(I[i],label='I{0}'.format(i))\n",
      "#plot(I[5]+I[6],label='I{0}'.format(i))\n",
      "#for i in range(1,43,2):\n",
      "#    delta = I[i][0]-I[i+1][0]\n",
      "#    I[i] = I[i]- delta/2\n",
      "#    I[i+1] = I[i+1] + delta/2"
     ],
     "language": "python",
     "metadata": {},
     "outputs": []
    },
    {
     "cell_type": "code",
     "collapsed": false,
     "input": [
      "#fig = figure()\n",
      "#plot(I[1],label='I1')\n",
      "#plot(I[2],label='I2')\n",
      "#plot(I[4],label='I3')\n",
      "#plot(I[42],label='I4')\n",
      "#plot(I[21],label='I5')\n",
      "#plot(I[22],label='I6')\n",
      "#plot(I[5],label='I7')\n",
      "#plot(I[6],label='I7p')\n",
      "#legend()\n"
     ],
     "language": "python",
     "metadata": {},
     "outputs": []
    },
    {
     "cell_type": "heading",
     "level": 2,
     "metadata": {},
     "source": [
      "Definici\u00f3n de X, Y, Z y W"
     ]
    },
    {
     "cell_type": "markdown",
     "metadata": {},
     "source": [
      "Siguiendo las f\u00f3rmulas que se exponen en el art\u00edculo de Moreno y Velazques  \n",
      "encuentro los valores de X, Y, Z, y W, y sus signos."
     ]
    },
    {
     "cell_type": "code",
     "collapsed": false,
     "input": [
      "X = zeros(52)\n",
      "Y = zeros(52)\n",
      "Z = zeros(52)\n",
      "W = zeros(52)\n",
      "#for i in range(3,43,2):\n",
      "#    delta = I[i][0]-I[i+1][0]\n",
      "#   I[i] = I[i]- delta/2\n",
      "#    I[i+1] = I[i+1] + delta/2\n",
      "for g in range(I[1].shape[0]):\n",
      "    X[g] = sqrt( I[1][g]/(1+( (I[5][g]-I[22][g])/(I[4][g]-I[42][g]) )**2) )\n",
      "    Y[g] = sqrt( I[1][g]/(1+( (I[4][g]-I[42][g])/(I[5][g]-I[22][g]) )**2) )\n",
      "    Z[g] = sqrt( I[2][g]/(1+( (I[4][g]-I[42][g])/(I[21][g]-I[5][g]) )**2) )\n",
      "    W[g] = sqrt( I[2][g]/(1+( (I[21][g]-I[5][g])/(I[4][g]-I[42][g]) )**2) )\n",
      "    \n",
      "    sign_Z = sign(I[21][g]-I[5][g])/sign(X[g])\n",
      "    if sign(Z[g]) != sign_Z:\n",
      "        Z[g] = Z[g]*-1\n",
      "    sign_W = sign(I[4][g]-I[42][g])/sign(X[g])\n",
      "    if sign(W[g]) != sign_W:\n",
      "       W[g] = W[g]*-1\n",
      "    sign_Y = sign(I[5][g]-I[22][g])/sign(X[g])\n",
      "    if sign(Z[g]) != sign_Y:\n",
      "        Y[g] = Y[g]*-1\n",
      "    "
     ],
     "language": "python",
     "metadata": {},
     "outputs": []
    },
    {
     "cell_type": "markdown",
     "metadata": {},
     "source": [
      "Graficas de X, Y, Z y W:"
     ]
    },
    {
     "cell_type": "code",
     "collapsed": false,
     "input": [
      "## figure()\n",
      "## plot(X,label='X,76,34')\n",
      "## plot(Y,label='Y,34,76')\n",
      "## plot(Z,label='Z, 34,57')\n",
      "## plot(W,label='W, 57,34')\n",
      "## grid()\n",
      "## legend()"
     ],
     "language": "python",
     "metadata": {},
     "outputs": [],
     "prompt_number": 4
    },
    {
     "cell_type": "heading",
     "level": 2,
     "metadata": {},
     "source": [
      "Matriz de Jones del modulador"
     ]
    },
    {
     "cell_type": "markdown",
     "metadata": {},
     "source": [
      "Definici\u00f3n de Brakets siguiendo la formulaci\u00f3n de vectores de Jones.\n"
     ]
    },
    {
     "cell_type": "code",
     "collapsed": false,
     "input": [
      "I_exp = I\n",
      "def intensity(bra,ket):\n",
      "    In  = matrix([[cos(ket[0])],[sin(ket[0])*exp(ket[1]*1j)]])\n",
      "    Out = matrix([[cos(bra[0])],[sin(bra[0])*exp(bra[1]*1j)]])\n",
      "    return In, Out\n",
      "brakets = {1:intensity([ 0,   0],     [0,0]),\\\n",
      "               2:intensity([ pi/2,0],     [0,0]),\\\n",
      "               3:intensity([ pi/4,-pi/2],  [0,0]),\\\n",
      "               4:intensity([ pi/4,pi/2],  [0,0]),\\\n",
      "               5:intensity([ pi/4, 0],    [0,0]),\\\n",
      "               6:intensity([-pi/4, 0],    [0,0]),\\\n",
      "               7:intensity([ pi/8, -pi/2],  [0,0]),\\\n",
      "               8:intensity([5*pi/8, -pi/2],[0,0]),\\\n",
      "               9:intensity([ pi/4, -pi/4],   [0,0]),\\\n",
      "               10:intensity([3*pi/4, -pi/4],[0,0]),\\\n",
      "               11:intensity([ 0,   0],     [pi/2,0]),\\\n",
      "               12:intensity([ pi/2,0],     [pi/2,0]),\\\n",
      "               13:intensity([ pi/4,-pi/2],  [pi/2,0]),\\\n",
      "               14:intensity([ pi/4,pi/2],  [pi/2,0]),\\\n",
      "               15:intensity([ pi/4, 0],    [pi/2,0]),\\\n",
      "               16:intensity([-pi/4, 0],    [pi/2,0]),\\\n",
      "               17:intensity([ pi/8, -pi/2],  [pi/2,0]),\\\n",
      "               18:intensity([ 5*pi/8, -pi/2],[pi/2,0]),\\\n",
      "               19:intensity([ pi/4, -pi/4],   [pi/2,0]),\\\n",
      "               20:intensity([3*pi/4, -pi/4],   [pi/2,0]),\\\n",
      "               21:intensity([ 0,   0],     [pi/4,0]),\\\n",
      "               22:intensity([ pi/2,0],     [pi/4,0]),\\\n",
      "               23:intensity([ pi/4,-pi/2],  [pi/4,0]),\\\n",
      "               24:intensity([ pi/4,pi/2],  [pi/4,0]),\\\n",
      "               25:intensity([ pi/4, 0],    [pi/4,0]),\\\n",
      "                26:intensity([-pi/4, 0],    [pi/4,0]),\\\n",
      "               27:intensity([pi/8, -pi/2],  [pi/4,0]),\\\n",
      "               28:intensity([5*pi/8, -pi/2],[pi/4,0]),\\\n",
      "               29:intensity([pi/4, -pi/4],   [pi/4,0]),\\\n",
      "               30:intensity([3*pi/4, -pi/4],[pi/4,0]),\\\n",
      "               31:intensity([ 0,   0],     [-pi/4,0]),\\\n",
      "               32:intensity([ pi/2,0],     [-pi/4,0]),\\\n",
      "               33:intensity([ pi/4,-pi/2],  [-pi/4,0]),\\\n",
      "               34:intensity([ pi/4,pi/2],  [-pi/4,0]),\\\n",
      "               35:intensity([ pi/4, 0],    [-pi/4,0]),\\\n",
      "               36:intensity([-pi/4, 0],    [-pi/4,0]),\\\n",
      "               37:intensity([pi/8, -pi/2],  [-pi/4,0]),\\\n",
      "               38:intensity([5*pi/8, -pi/2],[-pi/4,0]),\\\n",
      "               39:intensity([pi/4, -pi/4],   [-pi/4,0]),\\\n",
      "               40:intensity([3*pi/4, -pi/4],[-pi/4,0]),\\\n",
      "\t       42:intensity([ 0,   0],     [pi/4,pi/2]),\\\n",
      "\t       41:intensity([ pi/2,   0],     [pi/4,pi/2]),\\\n",
      "\t       43:intensity([ pi/4, pi/2],     [pi/4,pi/2]),\\\n",
      "\t       44:intensity([ pi/4, -pi/2],     [pi/4,pi/2]),\\\n",
      "\t       45:intensity([ -pi/4, 0],     [pi/4,pi/2]),\\\n",
      "\t       46:intensity([ pi/4, 0],     [pi/4,pi/2])}"
     ],
     "language": "python",
     "metadata": {},
     "outputs": [],
     "prompt_number": 6
    },
    {
     "cell_type": "markdown",
     "metadata": {},
     "source": [
      "Definici\u00f3n de una funci\u00f3n a minimizar. Esta funci\u00f3n calcula las diferencias cuadradas  \n",
      "entre las medidas experimentales y las intensidades reultantes de operar con los  \n",
      "vectores de Jones:"
     ]
    },
    {
     "cell_type": "code",
     "collapsed": false,
     "input": [
      "def min_sq(x0,I_exp,g,brakets):\n",
      "    \"\"\" Calculates squared differences for a minimization procedure.\n",
      "\n",
      "    Given the experimental meassures of intensity and arbitrary values for \n",
      "    the parameters of an SLM Jones Matrix, this function gives a value to\n",
      "    minimize. That value tells how close is the estimation of x, y, z, w \n",
      "    to the value that correctly models the SLM.\n",
      "\n",
      "    :param x,y,z,w: Are a guess of real scalars that conform the Joung Matrix for the SLM.\n",
      "    :param I_exp: Is a dictionary contanining intensities for every polarization state.\n",
      "    :param g: Is the gray level of the SLM for which we are solving.\n",
      "    \"\"\"\n",
      "    [x,y,z,w] = x0\n",
      "    \n",
      "    \n",
      "    \n",
      "    M = matrix([[ x - y*1j, z-w*1j],\\\n",
      "                [-z - w*1j, x+y*1j]])\n",
      "    min_sum = 0\n",
      "    I_sim = {}\n",
      "    for i in range(1,46):\n",
      "        #if i%2 !=0:\n",
      "\t#if i in [1,2,5,6,11,12,15,16,21,22,25,26,31,32,36,35]:\n",
      "        #if i in [1,2,3,4,5,6,11,12,13,14,15,16,21,22,23,24,25,26,31,32,33,34,35,36]:\n",
      "        if i not in [9,10,19,20,39,40]:\n",
      "            In, Out = brakets[i]\n",
      "            I_sim[i] = (In.H*M.H*Out * Out.H*M*In)\n",
      "            min_sum += ((I_sim[i]-I_exp[i][g])**2)[0,0].real\n",
      "            #min_sum += (sqrt(abs(I_sim[i]**2-I_exp[i][g]**2)))[0,0].real\n",
      "    return min_sum\n",
      "    "
     ],
     "language": "python",
     "metadata": {},
     "outputs": [],
     "prompt_number": 7
    },
    {
     "cell_type": "code",
     "collapsed": false,
     "input": [
      "min_sq([ .9,  .2,  0 , 0],I_exp,0, brakets)"
     ],
     "language": "python",
     "metadata": {},
     "outputs": [
      {
       "metadata": {},
       "output_type": "pyout",
       "prompt_number": 8,
       "text": [
        "1.1393441369341446"
       ]
      }
     ],
     "prompt_number": 8
    },
    {
     "cell_type": "code",
     "collapsed": false,
     "input": [
      "M = {}\n",
      "bnds = ((0, 1), (-1, 1),(-1, 1), (-1, 1))\n",
      "cons = ({'type': 'eq', 'fun': lambda x:  x[0]**2+x[1]**2+x[2]**2+x[3]**2 - 1})\n",
      "for g in range(52):\n",
      "    #res = minimize(min_sq,[ X[g],  Y[g],  Z[g], W[g]], args = (I_exp,g),method = 'SLSQP',bounds =bnds,constraints=cons)\n",
      "    res = minimize(min_sq,[ .1,  0,  0, 0], args = (I_exp,g,brakets),method = 'SLSQP',bounds =bnds,constraints=cons)\n",
      "    #res = minimize(min_sq,[ .1,  .1,  .1 , .1], args = (I_exp,g,brakets))        \n",
      "    #res = minimize(min_sq,[ 0.9,  .5,  .5, .5], args = (I_exp,g),method = 'COBYLA',bounds =bnds, options={ 'disp': True})\n",
      "    x,y,z,w = res.x\n",
      "    M[g] = matrix([[ x - y*1j, z-w*1j],\\\n",
      "                   [-z - w*1j, x+y*1j]])\n",
      "    \n",
      "    "
     ],
     "language": "python",
     "metadata": {},
     "outputs": [],
     "prompt_number": 9
    },
    {
     "cell_type": "code",
     "collapsed": false,
     "input": [
      "fig = figure()\n",
      "gs1 = gridspec.GridSpec(8, 6)\n",
      "axes = []\n",
      "for i in range(8):\n",
      "    for j in range(6):\n",
      "        #if i+j!=6:\n",
      "        axes.append(fig.add_subplot(gs1[i,j]))\n",
      "        \n",
      "for i in range(1,46,2):\n",
      "    In1, Out1 = brakets[i]\n",
      "    In2, Out2 = brakets[i+1]\n",
      "    \n",
      "    I_test1 = zeros(52)\n",
      "    I_test2 = zeros(52)\n",
      "    \n",
      "    for g in range(52):\n",
      "        I_test1[g] = (In1.H*M[g].H*Out1 * Out1.H*M[g]*In1)[0,0].real/\\\n",
      "        ((In2.H*M[g].H*Out2 * Out2.H*M[g]*In2)[0,0].real+(In1.H*M[g].H*Out1 * Out1.H*M[g]*In1)[0,0].real)\n",
      "        I_test2[g] = (In2.H*M[g].H*Out2 * Out2.H*M[g]*In2)[0,0].real/\\\n",
      "        ((In2.H*M[g].H*Out2 * Out2.H*M[g]*In2)[0,0].real+(In1.H*M[g].H*Out1 * Out1.H*M[g]*In1)[0,0].real)\n",
      "        \n",
      "    n = '8'+str(g)\n",
      "    axes[i-1].plot(I_test1, label = 'It')\n",
      "    axes[i-1].plot(I_exp[i], label = 'Ie')\n",
      "    axes[i-1].set_title('$I_{'+str(i)+'}$')\n",
      "    axes[i-1].set_ylim(0, 1)\n",
      "    axes[i].set_ylim(0, 1)\n",
      "    axes[i].plot(I_test2, label = 'It')\n",
      "    axes[i].plot(I_exp[i+1], label = 'Ie')\n",
      "    axes[i].set_title('$I_{'+str(i+1)+'}$')"
     ],
     "language": "python",
     "metadata": {},
     "outputs": [],
     "prompt_number": 10
    },
    {
     "cell_type": "code",
     "collapsed": false,
     "input": [
      "for g in range(52):\n",
      "     X[g] = M[g][0,0].real\n",
      "     Y[g] = -M[g][0,0].imag\n",
      "     Z[g] = M[g][0,1].real\n",
      "     W[g] = -M[g][0,1].imag\n",
      "        "
     ],
     "language": "python",
     "metadata": {},
     "outputs": [],
     "prompt_number": 11
    },
    {
     "cell_type": "code",
     "collapsed": false,
     "input": [
      "figure()\n",
      "plot(X,label='X,76,34')\n",
      "plot(Y,label='Y,34,76')\n",
      "plot(Z,label='Z, 34,57')\n",
      "plot(W,label='W, 57,34')\n",
      "grid()\n",
      "legend()"
     ],
     "language": "python",
     "metadata": {},
     "outputs": [
      {
       "metadata": {},
       "output_type": "pyout",
       "prompt_number": 12,
       "text": [
        "<matplotlib.legend.Legend at 0xf34e898>"
       ]
      }
     ],
     "prompt_number": 12
    },
    {
     "cell_type": "code",
     "collapsed": false,
     "input": [
      "fig = figure()\n",
      "gs1 = gridspec.GridSpec(8, 6)\n",
      "axes = []\n",
      "for i in range(8):\n",
      "    for j in range(6):\n",
      "        #if i+j!=6:\n",
      "        axes.append(fig.add_subplot(gs1[i,j]))\n",
      "        \n",
      "for i in range(1,46,2):\n",
      "    In1, Out1 = brakets[i]\n",
      "    In2, Out2 = brakets[i+1]\n",
      "    \n",
      "    I_test1 = zeros(52)\n",
      "    I_test2 = zeros(52)\n",
      "    \n",
      "    for g in range(52):\n",
      "        I_test1[g] = (In1.H*M[g].H*Out1 * Out1.H*M[g]*In1)[0,0].real\n",
      "        I_test2[g] = (In2.H*M[g].H*Out2 * Out2.H*M[g]*In2)[0,0].real\n",
      "        \n",
      "    n = '8'+str(g)\n",
      "    axes[i-1].plot(I_test1, label = 'It')\n",
      "    axes[i-1].plot(I_exp_2[i][:,1], label = 'Ie')\n",
      "    axes[i-1].set_title('$I_{'+str(i)+'}$')\n",
      "    axes[i-1].set_ylim(0, 1)\n",
      "    axes[i].plot(I_test2, label = 'It')\n",
      "    axes[i].plot(I_exp_2[i+1][:,1], label = 'Ie')\n",
      "    axes[i].set_title('$I_{'+str(i+1)+'}$')\n",
      "    axes[i].set_ylim(0, 1)"
     ],
     "language": "python",
     "metadata": {},
     "outputs": [],
     "prompt_number": 14
    },
    {
     "cell_type": "code",
     "collapsed": false,
     "input": [
      "from numpy import arctan, info\n",
      "phi = zeros(52)\n",
      "chi1 = 0.2181361052344816\n",
      "chi2 = 0.63376524318875027\n",
      "for i in range(0,52):\n",
      "    phi[i] = arctan((Y[i]*cos(chi1+chi2)+W[i]*sin(chi1+chi2))/\\\n",
      "\t\t            X[i]*cos(chi1-chi2)+Z[i]*sin(chi1+chi2))"
     ],
     "language": "python",
     "metadata": {},
     "outputs": [],
     "prompt_number": 13
    },
    {
     "cell_type": "code",
     "collapsed": false,
     "input": [
      "figure()\n",
      "plot(phi)"
     ],
     "language": "python",
     "metadata": {},
     "outputs": [
      {
       "metadata": {},
       "output_type": "pyout",
       "prompt_number": 14,
       "text": [
        "[<matplotlib.lines.Line2D at 0xf425a58>]"
       ]
      }
     ],
     "prompt_number": 14
    },
    {
     "cell_type": "code",
     "collapsed": false,
     "input": [
      "max(phi)-min(phi)\n"
     ],
     "language": "python",
     "metadata": {},
     "outputs": [
      {
       "metadata": {},
       "output_type": "pyout",
       "prompt_number": 15,
       "text": [
        "0.064593774504730819"
       ]
      }
     ],
     "prompt_number": 15
    },
    {
     "cell_type": "code",
     "collapsed": false,
     "input": [
      "M[0]"
     ],
     "language": "python",
     "metadata": {},
     "outputs": [
      {
       "metadata": {},
       "output_type": "pyout",
       "prompt_number": 16,
       "text": [
        "matrix([[ 0.98883984+0.06180386j,  0.12741623-0.04627484j],\n",
        "        [-0.12741623-0.04627484j,  0.98883984-0.06180386j]])"
       ]
      }
     ],
     "prompt_number": 16
    },
    {
     "cell_type": "code",
     "collapsed": false,
     "input": [
      "def get_optimal_state(Jones_matrix):\n",
      "    \"\"\" Function for finding a configuration where the amplitude\n",
      "    is not modulated\"\"\"\n",
      "    def intensity(bra,ket):\n",
      "        In  = matrix([[cos(ket[0])],[sin(ket[0])*exp(ket[1]*1j)]])\n",
      "        Out = matrix([[cos(bra[0])],[sin(bra[0])*exp(bra[1]*1j)]])\n",
      "        return In, Out\n",
      "    \n",
      "    optimal = {'chi1':0,'chi2':0,'theta1':0,'theta2':0,'value':0 }\n",
      "    for chi1 in linspace(0,pi,20):\n",
      "        for chi2 in linspace(0,pi,20):\n",
      "            for theta1 in linspace(0,pi,10):\n",
      "                for theta2 in linspace(0,pi,10):\n",
      "                    I_sim = zeros(52)\n",
      "                    for g in range(52):\n",
      "                        In,Out = intensity([chi2,theta2],[chi1,theta1])\n",
      "                        I_sim[g] = (In.H*M[g].H*Out * Out.H*M[g]*In)[0,0].real\n",
      "                    p = (max(I_sim)-min(I_sim))/average(I_sim)\n",
      "                    if 1/p >  optimal['value']:\n",
      "                        optimal = {'chi1':chi1,'chi2':chi2,'theta1':theta1,'theta2':theta2,'value':p }\n",
      "    return optimal\n",
      "optimal = get_optimal_state(M)\n"
     ],
     "language": "python",
     "metadata": {},
     "outputs": [],
     "prompt_number": 18
    },
    {
     "cell_type": "code",
     "collapsed": false,
     "input": [
      "def measure_flatness(x0,Jones_matrix):\n",
      "    \"\"\" Function for finding a configuration where the amplitude\n",
      "    is not modulated\"\"\"\n",
      "    chi2,theta2,chi1,theta1 = x0\n",
      "    def intensity(bra,ket):\n",
      "        In  = matrix([[cos(ket[0])],[sin(ket[0])*exp(ket[1]*1j)]])\n",
      "        Out = matrix([[cos(bra[0])],[sin(bra[0])*exp(bra[1]*1j)]])\n",
      "        return In, Out\n",
      "    I_sim = zeros(52)\n",
      "    for g in range(52):\n",
      "        In,Out = intensity([chi2,theta2],[chi1,theta1])\n",
      "        I_sim[g] = (In.H*M[g].H*Out * Out.H*M[g]*In)[0,0].real\n",
      "    return  (max(I_sim)-min(I_sim))/average(I_sim)\n",
      "\n",
      "bnds = ((-pi, pi), (-pi, pi),(-pi, pi), (-pi, pi))\n",
      "res = minimize(measure_flatness,[ 0,  0,  0, 0], args = (M,),method = 'SLSQP',bounds =bnds)\n",
      "chi2,theta2,chi1,theta1 = res.x"
     ],
     "language": "python",
     "metadata": {},
     "outputs": [],
     "prompt_number": 25
    },
    {
     "cell_type": "code",
     "collapsed": false,
     "input": [
      "chi2,theta2,chi1,theta1"
     ],
     "language": "python",
     "metadata": {},
     "outputs": [
      {
       "metadata": {},
       "output_type": "pyout",
       "prompt_number": 26,
       "text": [
        "(0.64775231774625741,\n",
        " 2.068682063172075,\n",
        " 0.14996758696218809,\n",
        " -0.22359855918606175)"
       ]
      }
     ],
     "prompt_number": 26
    },
    {
     "cell_type": "code",
     "collapsed": false,
     "input": [
      "I_sim = zeros(52)\n",
      "for g in range(52):\n",
      "    In,Out = intensity([chi2,theta2],[chi1,theta1])\n",
      "    I_sim[g] = (In.H*M[g].H*Out * Out.H*M[g]*In)[0,0].real\n",
      "figure()\n",
      "plot(I_sim)\n",
      "ylim((0,1))"
     ],
     "language": "python",
     "metadata": {},
     "outputs": [
      {
       "metadata": {},
       "output_type": "pyout",
       "prompt_number": 27,
       "text": [
        "(0, 1)"
       ]
      }
     ],
     "prompt_number": 27
    },
    {
     "cell_type": "code",
     "collapsed": false,
     "input": [
      "optimal\n",
      "I_sim = zeros(52)\n",
      "for g in range(52):\n",
      "    In,Out = intensity([optimal['chi2'],optimal['theta2']],[optimal['chi1'],optimal['theta1']])\n",
      "    I_sim[g] = (In.H*M[g].H*Out * Out.H*M[g]*In)[0,0].real\n",
      "plot(I_sim)\n",
      "ylim((0,1))"
     ],
     "language": "python",
     "metadata": {},
     "outputs": [
      {
       "metadata": {},
       "output_type": "pyout",
       "prompt_number": 22,
       "text": [
        "(0, 1)"
       ]
      }
     ],
     "prompt_number": 22
    },
    {
     "cell_type": "code",
     "collapsed": false,
     "input": [
      "optimal"
     ],
     "language": "python",
     "metadata": {},
     "outputs": [
      {
       "metadata": {},
       "output_type": "pyout",
       "prompt_number": 23,
       "text": [
        "{'chi1': 3.1415926535897931,\n",
        " 'chi2': 3.1415926535897931,\n",
        " 'theta1': 3.1415926535897931,\n",
        " 'theta2': 3.1415926535897931,\n",
        " 'value': 0.81435615940944961}"
       ]
      }
     ],
     "prompt_number": 23
    },
    {
     "cell_type": "code",
     "collapsed": false,
     "input": [
      "x,y,z,"
     ],
     "language": "python",
     "metadata": {},
     "outputs": [
      {
       "metadata": {},
       "output_type": "pyout",
       "prompt_number": 24,
       "text": [
        "(0.36039689892482468, 0.34713420456901728, -0.86287798426367346)"
       ]
      }
     ],
     "prompt_number": 24
    },
    {
     "cell_type": "code",
     "collapsed": false,
     "input": [],
     "language": "python",
     "metadata": {},
     "outputs": []
    }
   ],
   "metadata": {}
  }
 ]
}