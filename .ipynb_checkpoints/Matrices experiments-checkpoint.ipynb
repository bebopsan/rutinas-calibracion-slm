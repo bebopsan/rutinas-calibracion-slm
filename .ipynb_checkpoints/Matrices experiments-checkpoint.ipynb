{
 "metadata": {
  "name": ""
 },
 "nbformat": 3,
 "nbformat_minor": 0,
 "worksheets": [
  {
   "cells": [
    {
     "cell_type": "code",
     "collapsed": false,
     "input": [
      "from sympy import Matrix, exp, pi, sqrt, sign, cos, sin, init_session, symbols\n",
      "\n",
      "init_session(quiet = True)\n",
      "\n",
      "M = Matrix([[ 1 - 1*1j, 1-1*1j],\\\n",
      "           [-1 - 1*1j, 1+1*1j]])\n",
      "\n",
      "V = Matrix([[ 1 , 0],\\\n",
      "            [ 0 , 0]])\n",
      "\n",
      "QWP = Matrix([[ 1 , 0],\\\n",
      "            [ 0 , -1j]])\n"
     ],
     "language": "python",
     "metadata": {},
     "outputs": [
      {
       "output_type": "stream",
       "stream": "stdout",
       "text": [
        "IPython console for SymPy 0.7.3 (Python 3.3.3-64-bit) (ground types: python)\n"
       ]
      }
     ],
     "prompt_number": 1
    },
    {
     "cell_type": "code",
     "collapsed": false,
     "input": [
      "def Rotate( element, theta):     \n",
      "    \"\"\"Applies a rotation on any polarizing element given \n",
      "    its Jones matrix representation and a angle of rotation.\n",
      "    The angle is to be ginven in radians and the matrix.  \n",
      "    \n",
      "    \"\"\"\n",
      "    \n",
      "    assert isinstance(element, Matrix)\n",
      "    assert element.shape == (2,2)\n",
      "    \n",
      "    rotator = Matrix([[ cos(theta), sin(theta)],\\\n",
      "                      [-sin(theta), cos(theta)]])\n",
      "    return rotator.transpose()*element*rotator"
     ],
     "language": "python",
     "metadata": {},
     "outputs": [],
     "prompt_number": 2
    },
    {
     "cell_type": "code",
     "collapsed": false,
     "input": [
      "H = Rotate(V,pi/2)\n",
      "r_45 = Rotate(V,pi/4)\n",
      "r_m45 = Rotate(V,-pi/4)\n",
      "r_30 = Rotate(V,pi/6)\n",
      "r_m60 = Rotate(V,-pi/3)\n"
     ],
     "language": "python",
     "metadata": {},
     "outputs": [],
     "prompt_number": 3
    },
    {
     "cell_type": "code",
     "collapsed": false,
     "input": [
      "print(r_45)\n",
      "print(r_30)\n",
      "print(r_60)"
     ],
     "language": "python",
     "metadata": {},
     "outputs": [
      {
       "ename": "NameError",
       "evalue": "name 'r_60' is not defined",
       "output_type": "pyerr",
       "traceback": [
        "\u001b[1;31m---------------------------------------------------------------------------\u001b[0m\n\u001b[1;31mNameError\u001b[0m                                 Traceback (most recent call last)",
        "\u001b[1;32m<ipython-input-4-95943e85ed9f>\u001b[0m in \u001b[0;36m<module>\u001b[1;34m()\u001b[0m\n\u001b[0;32m      1\u001b[0m \u001b[0mprint\u001b[0m\u001b[1;33m(\u001b[0m\u001b[0mr_45\u001b[0m\u001b[1;33m)\u001b[0m\u001b[1;33m\u001b[0m\u001b[0m\n\u001b[0;32m      2\u001b[0m \u001b[0mprint\u001b[0m\u001b[1;33m(\u001b[0m\u001b[0mr_30\u001b[0m\u001b[1;33m)\u001b[0m\u001b[1;33m\u001b[0m\u001b[0m\n\u001b[1;32m----> 3\u001b[1;33m \u001b[0mprint\u001b[0m\u001b[1;33m(\u001b[0m\u001b[0mr_60\u001b[0m\u001b[1;33m)\u001b[0m\u001b[1;33m\u001b[0m\u001b[0m\n\u001b[0m",
        "\u001b[1;31mNameError\u001b[0m: name 'r_60' is not defined"
       ]
      },
      {
       "output_type": "stream",
       "stream": "stdout",
       "text": [
        "Matrix([[1/2, 1/2], [1/2, 1/2]])\n",
        "Matrix([[3/4, sqrt(3)/4], [sqrt(3)/4, 1/4]])\n"
       ]
      }
     ],
     "prompt_number": 4
    },
    {
     "cell_type": "code",
     "collapsed": false,
     "input": [
      "print(H*V)\n",
      "print(r_45*r_m45)\n",
      "print(r_30*r_m60)\n",
      "\n",
      "from sympy import init_printing, latex\n",
      "init_printing()\n",
      "print(latex(H))\n"
     ],
     "language": "python",
     "metadata": {},
     "outputs": [
      {
       "output_type": "stream",
       "stream": "stdout",
       "text": [
        "Matrix([[0, 0], [0, 0]])\n",
        "Matrix([[0, 0], [0, 0]])\n",
        "Matrix([[0, 0], [0, 0]])\n",
        "\\left[\\begin{smallmatrix}{}0 & 0\\\\0 & 1\\end{smallmatrix}\\right]\n"
       ]
      }
     ],
     "prompt_number": 5
    },
    {
     "cell_type": "code",
     "collapsed": false,
     "input": [
      "r_60 = Rotate(V,pi/3)\n",
      "r_30 = Rotate(V,pi/6)\n",
      "r_225 = Rotate(V,pi/8)\n",
      "r_675 = Rotate(V,3*pi/8)\n",
      "r_1125 = Rotate(V,5*pi/8)\n",
      "r_m675 = Rotate(V,-3*pi/8)\n",
      "R_m135 = Rotate(QWP,-3*pi/4)\n",
      "R_105 = Rotate(QWP, 7*pi/12)\n",
      "R_1125 = Rotate(QWP, 5*pi/8)\n",
      "\n",
      "R_90 = Rotate(QWP, pi/2)\n",
      "R_45 = Rotate(QWP, pi/4)\n",
      "R_225 = Rotate(QWP, pi/8)\n",
      "R_30 = Rotate(QWP, pi/6)\n",
      "R_60 = Rotate(QWP, pi/3)\n",
      "R_675 = Rotate(QWP, 3*pi/8)\n",
      "R_m45 = Rotate(QWP, -pi/4)"
     ],
     "language": "python",
     "metadata": {},
     "outputs": [],
     "prompt_number": 6
    },
    {
     "cell_type": "code",
     "collapsed": false,
     "input": [
      "((R_105*r_60*Matrix([[1],[0]]))/(R_105*r_60*Matrix([[1],[0]]))[0]).evalf()"
     ],
     "language": "python",
     "metadata": {},
     "outputs": [
      {
       "latex": [
        "$$\\left[\\begin{smallmatrix}{}1.0\\\\-2.71050543121376 \\cdot 10^{-20} + 1.0 i\\end{smallmatrix}\\right]$$"
       ],
       "metadata": {},
       "output_type": "pyout",
       "prompt_number": 7,
       "text": [
        "\u23a1             1.0             \u23a4\n",
        "\u23a2                             \u23a5\n",
        "\u23a3-2.71050543121376e-20 + 1.0\u22c5\u2148\u23a6"
       ]
      }
     ],
     "prompt_number": 7
    },
    {
     "cell_type": "code",
     "collapsed": false,
     "input": [
      "Matrix([[cos(pi/3)],[sin(pi/3)*exp(pi*1j/2)]])\n"
     ],
     "language": "python",
     "metadata": {},
     "outputs": [
      {
       "latex": [
        "$$\\left[\\begin{smallmatrix}{}\\frac{1}{2}\\\\\\frac{\\sqrt{3}}{2} e^{0.5 i \\pi}\\end{smallmatrix}\\right]$$"
       ],
       "metadata": {},
       "output_type": "pyout",
       "prompt_number": 8,
       "text": [
        "\u23a1     1/2      \u23a4\n",
        "\u23a2              \u23a5\n",
        "\u23a2  ___  0.5\u22c5\u2148\u22c5\u03c0\u23a5\n",
        "\u23a2\u2572\u2571 3 \u22c5\u212f       \u23a5\n",
        "\u23a2\u2500\u2500\u2500\u2500\u2500\u2500\u2500\u2500\u2500\u2500\u2500\u2500\u2500\u2500\u23a5\n",
        "\u23a3      2       \u23a6"
       ]
      }
     ],
     "prompt_number": 8
    },
    {
     "cell_type": "code",
     "collapsed": false,
     "input": [
      "(R_90*r_60*Matrix([[1],[0]]))/-.5j"
     ],
     "language": "python",
     "metadata": {},
     "outputs": [
      {
       "latex": [
        "$$\\left[\\begin{smallmatrix}{}0.5\\\\0.5 \\sqrt{3} i\\end{smallmatrix}\\right]$$"
       ],
       "metadata": {},
       "output_type": "pyout",
       "prompt_number": 9,
       "text": [
        "\u23a1    0.5    \u23a4\n",
        "\u23a2           \u23a5\n",
        "\u23a2      ___  \u23a5\n",
        "\u23a30.5\u22c5\u2572\u2571 3 \u22c5\u2148\u23a6"
       ]
      }
     ],
     "prompt_number": 9
    },
    {
     "cell_type": "code",
     "collapsed": false,
     "input": [
      "QWP*r_30*Matrix([[1],[0]])"
     ],
     "language": "python",
     "metadata": {},
     "outputs": [
      {
       "latex": [
        "$$\\left[\\begin{smallmatrix}{}\\frac{3}{4}\\\\- 0.25 \\sqrt{3} i\\end{smallmatrix}\\right]$$"
       ],
       "metadata": {},
       "output_type": "pyout",
       "prompt_number": 10,
       "text": [
        "\u23a1     3/4     \u23a4\n",
        "\u23a2             \u23a5\n",
        "\u23a2        ___  \u23a5\n",
        "\u23a3-0.25\u22c5\u2572\u2571 3 \u22c5\u2148\u23a6"
       ]
      }
     ],
     "prompt_number": 10
    },
    {
     "cell_type": "code",
     "collapsed": false,
     "input": [
      "Matrix([[cos(pi/6)],[sin(pi/6)*exp(0)]])"
     ],
     "language": "python",
     "metadata": {},
     "outputs": [
      {
       "latex": [
        "$$\\left[\\begin{smallmatrix}{}\\frac{\\sqrt{3}}{2}\\\\\\frac{1}{2}\\end{smallmatrix}\\right]$$"
       ],
       "metadata": {},
       "output_type": "pyout",
       "prompt_number": 11,
       "text": [
        "\u23a1  ___\u23a4\n",
        "\u23a2\u2572\u2571 3 \u23a5\n",
        "\u23a2\u2500\u2500\u2500\u2500\u2500\u23a5\n",
        "\u23a2  2  \u23a5\n",
        "\u23a2     \u23a5\n",
        "\u23a3 1/2 \u23a6"
       ]
      }
     ],
     "prompt_number": 11
    },
    {
     "cell_type": "code",
     "collapsed": false,
     "input": [
      "(R_30*r_30*Matrix([[1],[0]])).evalf()"
     ],
     "language": "python",
     "metadata": {},
     "outputs": [
      {
       "latex": [
        "$$\\left[\\begin{smallmatrix}{}0.75 - 7.0 \\cdot 10^{-24} i\\\\0.433012701892219 - 2.0 \\cdot 10^{-21} i\\end{smallmatrix}\\right]$$"
       ],
       "metadata": {},
       "output_type": "pyout",
       "prompt_number": 12,
       "text": [
        "\u23a1      0.75 - 0.e-23\u22c5\u2148       \u23a4\n",
        "\u23a2                            \u23a5\n",
        "\u23a30.433012701892219 - 0.e-21\u22c5\u2148\u23a6"
       ]
      }
     ],
     "prompt_number": 12
    },
    {
     "cell_type": "code",
     "collapsed": false,
     "input": [
      "(0.25*sqrt(3)).evalf()"
     ],
     "language": "python",
     "metadata": {},
     "outputs": [
      {
       "latex": [
        "$$0.433012701892219$$"
       ],
       "metadata": {},
       "output_type": "pyout",
       "prompt_number": 13,
       "text": [
        "0.433012701892219"
       ]
      }
     ],
     "prompt_number": 13
    },
    {
     "cell_type": "code",
     "collapsed": false,
     "input": [
      "0.75/0.433012701892219"
     ],
     "language": "python",
     "metadata": {},
     "outputs": [
      {
       "latex": [
        "$$1.7320508075688785$$"
       ],
       "metadata": {},
       "output_type": "pyout",
       "prompt_number": 14,
       "text": [
        "1.7320508075688785"
       ]
      }
     ],
     "prompt_number": 14
    },
    {
     "cell_type": "code",
     "collapsed": false,
     "input": [
      "sqrt(3).evalf()"
     ],
     "language": "python",
     "metadata": {},
     "outputs": [
      {
       "latex": [
        "$$1.73205080756888$$"
       ],
       "metadata": {},
       "output_type": "pyout",
       "prompt_number": 15,
       "text": [
        "1.73205080756888"
       ]
      }
     ],
     "prompt_number": 15
    },
    {
     "cell_type": "code",
     "collapsed": false,
     "input": [
      "( r_225*QWP*R_90*r_225*Matrix([[1],[0]])).evalf()"
     ],
     "language": "python",
     "metadata": {},
     "outputs": [
      {
       "latex": [
        "$$\\left[\\begin{smallmatrix}{}- 0.853553390593274 i\\\\- 0.353553390593274 i\\end{smallmatrix}\\right]$$"
       ],
       "metadata": {},
       "output_type": "pyout",
       "prompt_number": 16,
       "text": [
        "\u23a1-0.853553390593274\u22c5\u2148\u23a4\n",
        "\u23a2                    \u23a5\n",
        "\u23a3-0.353553390593274\u22c5\u2148\u23a6"
       ]
      }
     ],
     "prompt_number": 16
    },
    {
     "cell_type": "code",
     "collapsed": false,
     "input": [
      "Matrix([[cos(pi/8)],[sin(pi/8)*exp(pi*1j/2)]]).evalf()/Matrix([[cos(pi/8)],[sin(pi/8)*exp(pi*1j/2)]])[0].evalf()"
     ],
     "language": "python",
     "metadata": {},
     "outputs": [
      {
       "latex": [
        "$$\\left[\\begin{smallmatrix}{}1.0\\\\4.37533747288054 \\cdot 10^{-24} + 0.414213562373095 i\\end{smallmatrix}\\right]$$"
       ],
       "metadata": {},
       "output_type": "pyout",
       "prompt_number": 17,
       "text": [
        "\u23a1                   1.0                    \u23a4\n",
        "\u23a2                                          \u23a5\n",
        "\u23a34.37533747288054e-24 + 0.414213562373095\u22c5\u2148\u23a6"
       ]
      }
     ],
     "prompt_number": 17
    },
    {
     "cell_type": "code",
     "collapsed": false,
     "input": [
      "(R_m135*r_m675*Matrix([[1],[0]]))"
     ],
     "language": "python",
     "metadata": {},
     "outputs": [
      {
       "latex": [
        "$$\\left[\\begin{smallmatrix}{}- \\left(\\frac{1}{2} + 0.5 i\\right) \\sqrt{- \\frac{\\sqrt{2}}{4} + \\frac{1}{2}} \\sqrt{\\frac{\\sqrt{2}}{4} + \\frac{1}{2}} + \\left(\\frac{1}{2} - 0.5 i\\right) \\left(- \\frac{\\sqrt{2}}{4} + \\frac{1}{2}\\right)\\\\\\left(\\frac{1}{2} + 0.5 i\\right) \\left(- \\frac{\\sqrt{2}}{4} + \\frac{1}{2}\\right) - \\left(\\frac{1}{2} - 0.5 i\\right) \\sqrt{- \\frac{\\sqrt{2}}{4} + \\frac{1}{2}} \\sqrt{\\frac{\\sqrt{2}}{4} + \\frac{1}{2}}\\end{smallmatrix}\\right]$$"
       ],
       "metadata": {},
       "output_type": "pyout",
       "prompt_number": 18,
       "text": [
        "\u23a1                     _____________      ___________                          \n",
        "\u23a2                    \u2571     ___          \u2571   ___                      \u239b    ___ \n",
        "\u23a2                   \u2571    \u2572\u2571 2    1     \u2571  \u2572\u2571 2    1                  \u239c  \u2572\u2571 2  \n",
        "\u23a2- (1/2 + 0.5\u22c5\u2148)\u22c5  \u2571   - \u2500\u2500\u2500\u2500\u2500 + \u2500 \u22c5  \u2571   \u2500\u2500\u2500\u2500\u2500 + \u2500  + (1/2 - 0.5\u22c5\u2148)\u22c5\u239c- \u2500\u2500\u2500\u2500\u2500 \n",
        "\u23a2                \u2572\u2571        4     2  \u2572\u2571      4     2                  \u239d    4   \n",
        "\u23a2                                                                             \n",
        "\u23a2                                                  _____________      ________\n",
        "\u23a2               \u239b    ___    \u239e                     \u2571     ___          \u2571   ___  \n",
        "\u23a2               \u239c  \u2572\u2571 2    1\u239f                    \u2571    \u2572\u2571 2    1     \u2571  \u2572\u2571 2   \n",
        "\u23a2 (1/2 + 0.5\u22c5\u2148)\u22c5\u239c- \u2500\u2500\u2500\u2500\u2500 + \u2500\u239f - (1/2 - 0.5\u22c5\u2148)\u22c5  \u2571   - \u2500\u2500\u2500\u2500\u2500 + \u2500 \u22c5  \u2571   \u2500\u2500\u2500\u2500\u2500 +\n",
        "\u23a3               \u239d    4     2\u23a0                 \u2572\u2571        4     2  \u2572\u2571      4    \n",
        "\n",
        "    \u23a4\n",
        "   \u239e\u23a5\n",
        "  1\u239f\u23a5\n",
        "+ \u2500\u239f\u23a5\n",
        "  2\u23a0\u23a5\n",
        "    \u23a5\n",
        "___ \u23a5\n",
        "    \u23a5\n",
        " 1  \u23a5\n",
        " \u2500  \u23a5\n",
        " 2  \u23a6"
       ]
      }
     ],
     "prompt_number": 18
    },
    {
     "cell_type": "code",
     "collapsed": false,
     "input": [
      "((R_675*r_225*Matrix([[1],[0]])).evalf()/(R_675*r_225*Matrix([[1],[0]]))[0].evalf()).evalf()"
     ],
     "language": "python",
     "metadata": {},
     "outputs": [
      {
       "latex": [
        "$$\\left[\\begin{smallmatrix}{}1.0\\\\1.0 i\\end{smallmatrix}\\right]$$"
       ],
       "metadata": {},
       "output_type": "pyout",
       "prompt_number": 19,
       "text": [
        "\u23a1 1.0 \u23a4\n",
        "\u23a2     \u23a5\n",
        "\u23a31.0\u22c5\u2148\u23a6"
       ]
      }
     ],
     "prompt_number": 19
    },
    {
     "cell_type": "code",
     "collapsed": false,
     "input": [
      "((r_225*R_90*Matrix([[1],[0]])).evalf()/(r_225*R_90*Matrix([[1],[0]]))[0].evalf()).evalf()"
     ],
     "language": "python",
     "metadata": {},
     "outputs": [
      {
       "latex": [
        "$$\\left[\\begin{smallmatrix}{}1.0\\\\0.414213562373095\\end{smallmatrix}\\right]$$"
       ],
       "metadata": {},
       "output_type": "pyout",
       "prompt_number": 20,
       "text": [
        "\u23a1       1.0       \u23a4\n",
        "\u23a2                 \u23a5\n",
        "\u23a30.414213562373095\u23a6"
       ]
      }
     ],
     "prompt_number": 20
    },
    {
     "cell_type": "code",
     "collapsed": false,
     "input": [
      "Matrix([[cos(pi/8)],[sin(pi/8)*exp(pi*1j/2)]]).H.evalf()/Matrix([[cos(pi/8)],[sin(pi/8)*exp(pi*1j/2)]])[0].evalf()"
     ],
     "language": "python",
     "metadata": {},
     "outputs": [
      {
       "latex": [
        "$$\\left[\\begin{smallmatrix}{}1.0 & 4.37533747288054 \\cdot 10^{-24} - 0.414213562373095 i\\end{smallmatrix}\\right]$$"
       ],
       "metadata": {},
       "output_type": "pyout",
       "prompt_number": 21,
       "text": [
        "[1.0  4.37533747288054e-24 - 0.414213562373095\u22c5\u2148]"
       ]
      }
     ],
     "prompt_number": 21
    },
    {
     "cell_type": "code",
     "collapsed": false,
     "input": [
      "(Rotate(QWP,pi/8)*Rotate(QWP,pi/8+pi/2)).evalf()"
     ],
     "language": "python",
     "metadata": {},
     "outputs": [
      {
       "latex": [
        "$$\\left[\\begin{smallmatrix}{}-7.0 \\cdot 10^{-24} - 1.0 i & 6.0 \\cdot 10^{-126} + 3.0 \\cdot 10^{-126} i\\\\6.0 \\cdot 10^{-126} + 3.0 \\cdot 10^{-126} i & -7.0 \\cdot 10^{-24} - 1.0 i\\end{smallmatrix}\\right]$$"
       ],
       "metadata": {},
       "output_type": "pyout",
       "prompt_number": 22,
       "text": [
        "\u23a1  -0.e-23 - 1.0\u22c5\u2148    0.e-125 + 0.e-126\u22c5\u2148\u23a4\n",
        "\u23a2                                        \u23a5\n",
        "\u23a30.e-125 + 0.e-126\u22c5\u2148    -0.e-23 - 1.0\u22c5\u2148  \u23a6"
       ]
      }
     ],
     "prompt_number": 22
    },
    {
     "cell_type": "code",
     "collapsed": false,
     "input": [
      "((Matrix([[cos(pi/8)],[sin(pi/8)*exp(pi*1j/2)]]).H).evalf()*Matrix([[cos(-3*pi/8)],[sin(-3*pi/8)*exp(pi*1j/2)]]).evalf()).evalf()"
     ],
     "language": "python",
     "metadata": {},
     "outputs": [
      {
       "latex": [
        "$$\\left[\\begin{smallmatrix}{}6.0 \\cdot 10^{-126}\\end{smallmatrix}\\right]$$"
       ],
       "metadata": {},
       "output_type": "pyout",
       "prompt_number": 23,
       "text": [
        "[0.e-125]"
       ]
      }
     ],
     "prompt_number": 23
    },
    {
     "cell_type": "code",
     "collapsed": false,
     "input": [
      "Matrix([[cos(-3*pi/8)],[sin(-3*pi/8)*exp(pi*1j/2)]]).evalf()/Matrix([[cos(-3*pi/8)],[sin(-3*pi/8)*exp(pi*1j/2)]])[0].evalf()"
     ],
     "language": "python",
     "metadata": {},
     "outputs": [
      {
       "latex": [
        "$$\\left[\\begin{smallmatrix}{}1.0\\\\-2.55013356068554 \\cdot 10^{-23} - 2.41421356237309 i\\end{smallmatrix}\\right]$$"
       ],
       "metadata": {},
       "output_type": "pyout",
       "prompt_number": 24,
       "text": [
        "\u23a1                   1.0                    \u23a4\n",
        "\u23a2                                          \u23a5\n",
        "\u23a3-2.55013356068554e-23 - 2.41421356237309\u22c5\u2148\u23a6"
       ]
      }
     ],
     "prompt_number": 24
    },
    {
     "cell_type": "code",
     "collapsed": false,
     "input": [
      "Matrix([[cos(pi/8)],[sin(pi/8)*exp(pi*1j/2)]]).evalf()/Matrix([[cos(pi/8)],[sin(pi/8)*exp(pi*1j/2)]])[0].evalf()"
     ],
     "language": "python",
     "metadata": {},
     "outputs": [
      {
       "latex": [
        "$$\\left[\\begin{smallmatrix}{}1.0\\\\4.37533747288054 \\cdot 10^{-24} + 0.414213562373095 i\\end{smallmatrix}\\right]$$"
       ],
       "metadata": {},
       "output_type": "pyout",
       "prompt_number": 25,
       "text": [
        "\u23a1                   1.0                    \u23a4\n",
        "\u23a2                                          \u23a5\n",
        "\u23a34.37533747288054e-24 + 0.414213562373095\u22c5\u2148\u23a6"
       ]
      }
     ],
     "prompt_number": 25
    },
    {
     "cell_type": "code",
     "collapsed": false,
     "input": [
      "(R_90*r_m45*Matrix([[1],[0]]))/(R_90*r_m45*Matrix([[1],[0]]))[0]"
     ],
     "language": "python",
     "metadata": {},
     "outputs": [
      {
       "latex": [
        "$$\\left[\\begin{smallmatrix}{}1.0\\\\- 1.0 i\\end{smallmatrix}\\right]$$"
       ],
       "metadata": {},
       "output_type": "pyout",
       "prompt_number": 26,
       "text": [
        "\u23a1 1.0  \u23a4\n",
        "\u23a2      \u23a5\n",
        "\u23a3-1.0\u22c5\u2148\u23a6"
       ]
      }
     ],
     "prompt_number": 26
    },
    {
     "cell_type": "code",
     "collapsed": false,
     "input": [
      "r_m45*QWP*R_90*r_m45*Matrix([[x],[y]])/(r_m45*QWP*R_90*r_m45*Matrix([[1],[0]]))[0]"
     ],
     "language": "python",
     "metadata": {},
     "outputs": [
      {
       "latex": [
        "$$\\left[\\begin{smallmatrix}{}2.0 i \\left(- 0.5 i x + 0.5 i y\\right)\\\\2.0 i \\left(0.5 i x - 0.5 i y\\right)\\end{smallmatrix}\\right]$$"
       ],
       "metadata": {},
       "output_type": "pyout",
       "prompt_number": 27,
       "text": [
        "\u23a12.0\u22c5\u2148\u22c5(-0.5\u22c5\u2148\u22c5x + 0.5\u22c5\u2148\u22c5y)\u23a4\n",
        "\u23a2                          \u23a5\n",
        "\u23a32.0\u22c5\u2148\u22c5(0.5\u22c5\u2148\u22c5x - 0.5\u22c5\u2148\u22c5y) \u23a6"
       ]
      }
     ],
     "prompt_number": 27
    },
    {
     "cell_type": "code",
     "collapsed": false,
     "input": [
      "x,y =symbols('x, y')"
     ],
     "language": "python",
     "metadata": {},
     "outputs": [],
     "prompt_number": 28
    },
    {
     "cell_type": "code",
     "collapsed": false,
     "input": [
      "r_45*r_45*Matrix([[x],[y]])"
     ],
     "language": "python",
     "metadata": {},
     "outputs": [
      {
       "latex": [
        "$$\\left[\\begin{smallmatrix}{}\\frac{x}{2} + \\frac{y}{2}\\\\\\frac{x}{2} + \\frac{y}{2}\\end{smallmatrix}\\right]$$"
       ],
       "metadata": {},
       "output_type": "pyout",
       "prompt_number": 29,
       "text": [
        "\u23a1x   y\u23a4\n",
        "\u23a2\u2500 + \u2500\u23a5\n",
        "\u23a22   2\u23a5\n",
        "\u23a2     \u23a5\n",
        "\u23a2x   y\u23a5\n",
        "\u23a2\u2500 + \u2500\u23a5\n",
        "\u23a32   2\u23a6"
       ]
      }
     ],
     "prompt_number": 29
    },
    {
     "cell_type": "code",
     "collapsed": false,
     "input": [
      "Matrix([[cos(pi/8)],[sin(pi/8)*exp(pi*1j/2)]]).evalf()"
     ],
     "language": "python",
     "metadata": {},
     "outputs": [
      {
       "latex": [
        "$$\\left[\\begin{smallmatrix}{}0.923879532511287\\\\4.04228473902399 \\cdot 10^{-24} + 0.38268343236509 i\\end{smallmatrix}\\right]$$"
       ],
       "metadata": {},
       "output_type": "pyout",
       "prompt_number": 30,
       "text": [
        "\u23a1            0.923879532511287            \u23a4\n",
        "\u23a2                                         \u23a5\n",
        "\u23a34.04228473902399e-24 + 0.38268343236509\u22c5\u2148\u23a6"
       ]
      }
     ],
     "prompt_number": 30
    },
    {
     "cell_type": "code",
     "collapsed": false,
     "input": [
      "angle(0.38268343236509j)"
     ],
     "language": "python",
     "metadata": {},
     "outputs": [
      {
       "latex": [
        "$$1.57079632679$$"
       ],
       "metadata": {},
       "output_type": "pyout",
       "prompt_number": 31,
       "text": [
        "1.57079632679"
       ]
      }
     ],
     "prompt_number": 31
    },
    {
     "cell_type": "code",
     "collapsed": false,
     "input": [
      "(pi/2).evalf()"
     ],
     "language": "python",
     "metadata": {},
     "outputs": [
      {
       "latex": [
        "$$1.5707963267949$$"
       ],
       "metadata": {},
       "output_type": "pyout",
       "prompt_number": 32,
       "text": [
        "1.57079632679490"
       ]
      }
     ],
     "prompt_number": 32
    },
    {
     "cell_type": "code",
     "collapsed": false,
     "input": [
      "(((R_225*r_1125*Matrix([[1],[0]])).evalf())/((R_225*r_1125*Matrix([[1],[0]]))[0].evalf())).evalf()"
     ],
     "language": "python",
     "metadata": {},
     "outputs": [
      {
       "latex": [
        "$$\\left[\\begin{smallmatrix}{}1.0\\\\-2.4142135623731 - 1.20387126225656 \\cdot 10^{-22} i\\end{smallmatrix}\\right]$$"
       ],
       "metadata": {},
       "output_type": "pyout",
       "prompt_number": 33,
       "text": [
        "\u23a1                   1.0                   \u23a4\n",
        "\u23a2                                         \u23a5\n",
        "\u23a3-2.4142135623731 - 1.20387126225656e-22\u22c5\u2148\u23a6"
       ]
      }
     ],
     "prompt_number": 33
    },
    {
     "cell_type": "code",
     "collapsed": false,
     "input": [
      "from polarization_routines import plot_ellipse\n",
      "\n",
      "plot_ellipse(R_225*r_45*Matrix([[1],[0]]))\n",
      "plot_ellipse(R_225*V*Matrix([[1],[0]]))"
     ],
     "language": "python",
     "metadata": {},
     "outputs": [
      {
       "metadata": {},
       "output_type": "pyout",
       "prompt_number": 34,
       "text": [
        "'done'"
       ]
      }
     ],
     "prompt_number": 34
    },
    {
     "cell_type": "code",
     "collapsed": false,
     "input": [
      "plot_ellipse(R_45*H*Matrix([[1],[0]]))"
     ],
     "language": "python",
     "metadata": {},
     "outputs": [
      {
       "metadata": {},
       "output_type": "pyout",
       "prompt_number": 35,
       "text": [
        "'done'"
       ]
      }
     ],
     "prompt_number": 35
    },
    {
     "cell_type": "code",
     "collapsed": false,
     "input": [
      "plot_ellipse(R_225*V*Matrix([[1],[0]]))"
     ],
     "language": "python",
     "metadata": {},
     "outputs": [
      {
       "metadata": {},
       "output_type": "pyout",
       "prompt_number": 36,
       "text": [
        "'done'"
       ]
      }
     ],
     "prompt_number": 36
    },
    {
     "cell_type": "code",
     "collapsed": false,
     "input": [
      "Matrix([[cos(5*pi/8)],[sin(5*pi/8)*exp(0)]]).evalf()"
     ],
     "language": "python",
     "metadata": {},
     "outputs": [
      {
       "latex": [
        "$$\\left[\\begin{smallmatrix}{}-0.38268343236509\\\\0.923879532511287\\end{smallmatrix}\\right]$$"
       ],
       "metadata": {},
       "output_type": "pyout",
       "prompt_number": 37,
       "text": [
        "\u23a1-0.38268343236509\u23a4\n",
        "\u23a2                 \u23a5\n",
        "\u23a30.923879532511287\u23a6"
       ]
      }
     ],
     "prompt_number": 37
    },
    {
     "cell_type": "code",
     "collapsed": false,
     "input": [
      "plot_ellipse(R_675*r_45*Matrix([[1/sqrt(2)],[1/sqrt(2)]]))"
     ],
     "language": "python",
     "metadata": {},
     "outputs": [
      {
       "metadata": {},
       "output_type": "pyout",
       "prompt_number": 38,
       "text": [
        "'done'"
       ]
      }
     ],
     "prompt_number": 38
    },
    {
     "cell_type": "code",
     "collapsed": false,
     "input": [
      "plot_ellipse(Matrix([[cos(pi/8)],[sin(pi/8)*exp(1j*6*pi/8)]]))\n",
      "plot_ellipse(Matrix([[cos(5*pi/8)],[sin(5*pi/8)*exp(1j*6*pi/8)]]))"
     ],
     "language": "python",
     "metadata": {},
     "outputs": [
      {
       "metadata": {},
       "output_type": "pyout",
       "prompt_number": 39,
       "text": [
        "'done'"
       ]
      }
     ],
     "prompt_number": 39
    },
    {
     "cell_type": "code",
     "collapsed": false,
     "input": [
      "(R_1125*R_225*H).evalf()"
     ],
     "language": "python",
     "metadata": {},
     "outputs": [
      {
       "latex": [
        "$$\\left[\\begin{smallmatrix}{}0 & 6.0 \\cdot 10^{-126} + 3.0 \\cdot 10^{-126} i\\\\0 & -7.0 \\cdot 10^{-24} - 1.0 i\\end{smallmatrix}\\right]$$"
       ],
       "metadata": {},
       "output_type": "pyout",
       "prompt_number": 40,
       "text": [
        "\u23a10  0.e-125 + 0.e-126\u22c5\u2148\u23a4\n",
        "\u23a2                      \u23a5\n",
        "\u23a30    -0.e-23 - 1.0\u22c5\u2148  \u23a6"
       ]
      }
     ],
     "prompt_number": 40
    },
    {
     "cell_type": "code",
     "collapsed": false,
     "input": [
      "plot_ellipse(Matrix([[cos(pi/128)],[sin(pi/128)*(exp(1j*pi/4))]]))"
     ],
     "language": "python",
     "metadata": {},
     "outputs": [
      {
       "metadata": {},
       "output_type": "pyout",
       "prompt_number": 290,
       "text": [
        "'done'"
       ]
      }
     ],
     "prompt_number": 290
    },
    {
     "cell_type": "code",
     "collapsed": false,
     "input": [
      "plot_ellipse(Matrix([[cos(-0.43307956358421984)],[sin(-0.43307956358421984)*(exp(1j*-1.6137844363714395))]]))"
     ],
     "language": "python",
     "metadata": {},
     "outputs": [
      {
       "metadata": {},
       "output_type": "pyout",
       "prompt_number": 389,
       "text": [
        "'done'"
       ]
      }
     ],
     "prompt_number": 389
    },
    {
     "cell_type": "code",
     "collapsed": false,
     "input": [
      "d = -0.43307956358421984+0.806892218185720\n",
      "print(d)\n",
      "pru=((d)*180/pi).evalf()\n",
      "print('pru',pru)\n",
      "pru2 = ((3*pi/4*90)/pi).evalf()\n",
      "print('pru2',pru2)\n",
      "pru3 = ((-46.2315186239909*pi)/180).evalf()\n",
      "print('pru3',pru3)\n",
      "print('d', d)\n",
      "deg = (d*180/pi).evalf()\n",
      "print(deg)\n",
      "print('d', d)"
     ],
     "language": "python",
     "metadata": {},
     "outputs": [
      {
       "output_type": "stream",
       "stream": "stdout",
       "text": [
        "0.37381265460150015\n",
        "pru 21.4178874372476\n",
        "pru2 67.5000000000000\n",
        "pru3 -0.806892218185720\n",
        "d 0.37381265460150015\n",
        "21.4178874372476\n",
        "d 0.37381265460150015\n"
       ]
      }
     ],
     "prompt_number": 273
    },
    {
     "cell_type": "code",
     "collapsed": false,
     "input": [
      "r_8 = Rotate(V,-0.43307956358421984)\n",
      "R_65 = Rotate(QWP,0.01578672)\n",
      "\n",
      "plot_ellipse(R_65*r_8*Matrix([[cos(0.43307956358421984)],[sin(0.43307956358421984)*(exp(1j*0))]]))\n",
      "\n"
     ],
     "language": "python",
     "metadata": {},
     "outputs": [
      {
       "metadata": {},
       "output_type": "pyout",
       "prompt_number": 390,
       "text": [
        "'done'"
       ]
      }
     ],
     "prompt_number": 390
    },
    {
     "cell_type": "code",
     "collapsed": false,
     "input": [
      "pi.evalf()-1.6137844363714395"
     ],
     "language": "python",
     "metadata": {},
     "outputs": [
      {
       "latex": [
        "$$1.52780821721835$$"
       ],
       "metadata": {},
       "output_type": "pyout",
       "prompt_number": 198,
       "text": [
        "1.52780821721835"
       ]
      }
     ],
     "prompt_number": 198
    },
    {
     "cell_type": "code",
     "collapsed": false,
     "input": [
      "plot_ellipse(Matrix([[cos(-0.23404404231888243)],[sin(-0.23404404231888243)*(exp(1j*-0.0073492291316602015))]]))"
     ],
     "language": "python",
     "metadata": {},
     "outputs": [
      {
       "metadata": {},
       "output_type": "pyout",
       "prompt_number": 309,
       "text": [
        "'done'"
       ]
      }
     ],
     "prompt_number": 309
    },
    {
     "cell_type": "code",
     "collapsed": false,
     "input": [
      "d = -0.23404404231888243-0.0073492291316602015\n",
      "print(d)\n",
      "pru=((-0.23404404231888243)*180/(2*pi)).evalf()\n",
      "print(pru)\n",
      "pru2 = ((pi/4*2*pi)/180).evalf()\n",
      "print(pru2)\n",
      "rad = (d*2*pi/180).evalf()\n",
      "rad"
     ],
     "language": "python",
     "metadata": {},
     "outputs": [
      {
       "output_type": "stream",
       "stream": "stdout",
       "text": [
        "-0.24139327145054262\n",
        "-6.70486792252660\n",
        "0.0274155677808038\n"
       ]
      },
      {
       "latex": [
        "$$-0.0084262147579448$$"
       ],
       "metadata": {},
       "output_type": "pyout",
       "prompt_number": 269,
       "text": [
        "-0.00842621475794480"
       ]
      }
     ],
     "prompt_number": 269
    },
    {
     "cell_type": "code",
     "collapsed": false,
     "input": [
      "r_8 = Rotate(V,-0.23404404231888243)\n",
      "R_65 = Rotate(QWP,0.0073492291316602015)\n",
      "\n",
      "plot_ellipse(R_65*r_8*Matrix([[cos(-0.23404404231888243)],[sin(-0.23404404231888243)*exp(1j*0)]]))"
     ],
     "language": "python",
     "metadata": {},
     "outputs": [
      {
       "metadata": {},
       "output_type": "pyout",
       "prompt_number": 311,
       "text": [
        "'done'"
       ]
      }
     ],
     "prompt_number": 311
    },
    {
     "cell_type": "code",
     "collapsed": false,
     "input": [
      "pi.evalf()/2-0.0073492291316602015"
     ],
     "language": "python",
     "metadata": {},
     "outputs": [
      {
       "latex": [
        "$$1.56344709766324$$"
       ],
       "metadata": {},
       "output_type": "pyout",
       "prompt_number": 159,
       "text": [
        "1.56344709766324"
       ]
      }
     ],
     "prompt_number": 159
    },
    {
     "cell_type": "code",
     "collapsed": false,
     "input": [
      "plot_ellipse(Matrix([[cos(-0.23404404231888243)],[sin(-0.23404404231888243)*(exp(1j*-0.0073492291316602015))]]))"
     ],
     "language": "python",
     "metadata": {},
     "outputs": [
      {
       "metadata": {},
       "output_type": "pyout",
       "prompt_number": 312,
       "text": [
        "'done'"
       ]
      }
     ],
     "prompt_number": 312
    },
    {
     "cell_type": "code",
     "collapsed": false,
     "input": [
      "r_8 = Rotate(V,+pi/8)\n",
      "R_65 = Rotate(QWP,0)\n",
      "\n",
      "plot_ellipse(R_45*r_225*Matrix([[1],[1]]))"
     ],
     "language": "python",
     "metadata": {},
     "outputs": [
      {
       "metadata": {},
       "output_type": "pyout",
       "prompt_number": 276,
       "text": [
        "'done'"
       ]
      }
     ],
     "prompt_number": 276
    },
    {
     "cell_type": "code",
     "collapsed": false,
     "input": [
      "plot_ellipse(R_45*r_675*Matrix([[1],[1]]))"
     ],
     "language": "python",
     "metadata": {},
     "outputs": [
      {
       "metadata": {},
       "output_type": "pyout",
       "prompt_number": 275,
       "text": [
        "'done'"
       ]
      }
     ],
     "prompt_number": 275
    },
    {
     "cell_type": "code",
     "collapsed": false,
     "input": [
      "plot_ellipse(R_45*r_1125*Matrix([[1],[1]]))"
     ],
     "language": "python",
     "metadata": {},
     "outputs": [
      {
       "metadata": {},
       "output_type": "pyout",
       "prompt_number": 277,
       "text": [
        "'done'"
       ]
      }
     ],
     "prompt_number": 277
    },
    {
     "cell_type": "code",
     "collapsed": false,
     "input": [
      "def ellipse_min(x0,theta_pol,phi):\n",
      "    \"\"\"\" encuentra la matriz del retardador para conseguir un vector deseado\"\"\"\n",
      "    [theta,lam] = x0\n",
      "    \n",
      "    QWP = matrix([[ 1 , 0],\\\n",
      "                [ 0 , -1j]], dtype = 'complex')\n",
      "    \n",
      "    def Rotate( element, theta):   \n",
      "        \n",
      "        \"\"\"Applies a rotation on any polarizing element given \n",
      "        its Jones matrix representation and a angle of rotation.\n",
      "        The angle is to be ginven in radians and the matrix.  \n",
      "        \n",
      "        \"\"\"\n",
      "        \n",
      "        assert isinstance(element, matrix)\n",
      "        assert element.shape == (2,2)\n",
      "    \n",
      "        rotator = matrix([[ cos(theta), sin(theta)],\\\n",
      "                      [-sin(theta), cos(theta)]],dtype = 'complex')\n",
      "        return rotator.transpose()*element*rotator\n",
      "    \n",
      "    M = Rotate(QWP,theta)\n",
      "    \n",
      "    In = matrix([[cos(theta_pol)],[sin(theta_pol)*exp(1j*0)]],dtype = 'complex')\n",
      "    J  = matrix([[cos(theta_pol)],[sin(theta_pol)*exp(1j*phi)]],dtype = 'complex')\n",
      "    \n",
      "    Out = M*In\n",
      "    \n",
      "    J_p = matrix([[lam,0],[0,lam]],dtype = 'complex')*Out\n",
      "    J_p_c = matrix([[lam*1j,0],[0,lam*1j]],dtype = 'complex')*Out\n",
      "    \n",
      "    \n",
      "    result =((abs(J[0])-abs(J_p[0]))**2+(abs(J[1])-abs(J_p[1]))**2+(angle(J[0])-angle(J_p[0]))**2+(angle(J[1])-angle(J_p[1]))**2)[0,0]\n",
      "    complex_result =((abs(J[0])-abs(J_p_c[0]))**2+(abs(J[1])-abs(J_p_c[1]))**2+(angle(J[0])-angle(J_p_c[0]))**2+(angle(J[1])-angle(J_p_c[1]))**2)[0,0]\n",
      "    if result > complex_result:\n",
      "        return complex_result\n",
      "    else:\n",
      "        return result\n",
      "\n",
      "ellipse_min([pi/8,1j],5*pi/8,0)\n",
      "bnds = ((-pi/1, pi/1), (-pi/2, pi/2))\n",
      "#res = minimize(measure_flatness,[ 0,  0,  0, 0], args = (M,),method = 'SLSQP',bounds =bnds)\n",
      "from scipy.optimize import minimize\n",
      "res = minimize(ellipse_min,[ 0,  1],  args = (-0.43307956358421984,-1.6137844363714395),method = 'SLSQP',bounds =bnds)\n",
      "res.x"
     ],
     "language": "python",
     "metadata": {},
     "outputs": [
      {
       "metadata": {},
       "output_type": "pyout",
       "prompt_number": 387,
       "text": [
        "array([ 0.01578672,  1.00018984])"
       ]
      }
     ],
     "prompt_number": 387
    },
    {
     "cell_type": "code",
     "collapsed": false,
     "input": [
      "plot_ellipse(Matrix([[cos(5*pi/8)],[sin(5*pi/8)*exp(1j*0)]],dtype = 'complex'))"
     ],
     "language": "python",
     "metadata": {},
     "outputs": [
      {
       "metadata": {},
       "output_type": "pyout",
       "prompt_number": 369,
       "text": [
        "'done'"
       ]
      }
     ],
     "prompt_number": 369
    },
    {
     "cell_type": "code",
     "collapsed": false,
     "input": [
      "Rotate(QWP,3*pi/8).evalf()"
     ],
     "language": "python",
     "metadata": {},
     "outputs": [
      {
       "latex": [
        "$$\\left[\\begin{smallmatrix}{}0.146446609406726 - 0.853553390593274 i & 0.353553390593274 + 0.353553390593274 i\\\\0.353553390593274 + 0.353553390593274 i & 0.853553390593274 - 0.146446609406726 i\\end{smallmatrix}\\right]$$"
       ],
       "metadata": {},
       "output_type": "pyout",
       "prompt_number": 340,
       "text": [
        "\u23a10.146446609406726 - 0.853553390593274\u22c5\u2148  0.353553390593274 + 0.35355339059327\n",
        "\u23a2                                                                             \n",
        "\u23a30.353553390593274 + 0.353553390593274\u22c5\u2148  0.853553390593274 - 0.14644660940672\n",
        "\n",
        "4\u22c5\u2148\u23a4\n",
        "   \u23a5\n",
        "6\u22c5\u2148\u23a6"
       ]
      }
     ],
     "prompt_number": 340
    },
    {
     "cell_type": "code",
     "collapsed": false,
     "input": [
      "(pi/8-pi/2).evalf()"
     ],
     "language": "python",
     "metadata": {},
     "outputs": [
      {
       "latex": [
        "$$-1.17809724509617$$"
       ],
       "metadata": {},
       "output_type": "pyout",
       "prompt_number": 384,
       "text": [
        "-1.17809724509617"
       ]
      }
     ],
     "prompt_number": 384
    },
    {
     "cell_type": "code",
     "collapsed": false,
     "input": [],
     "language": "python",
     "metadata": {},
     "outputs": []
    }
   ],
   "metadata": {}
  }
 ]
}