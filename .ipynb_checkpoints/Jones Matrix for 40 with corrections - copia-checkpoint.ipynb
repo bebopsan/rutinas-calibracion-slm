{
 "metadata": {
  "name": ""
 },
 "nbformat": 3,
 "nbformat_minor": 0,
 "worksheets": [
  {
   "cells": [
    {
     "cell_type": "heading",
     "level": 1,
     "metadata": {},
     "source": [
      "Scripts para la construcci\u00f3n de la matriz de Jones usando las medidas experimentales"
     ]
    },
    {
     "cell_type": "markdown",
     "metadata": {},
     "source": [
      "Importaci\u00f3n de librerias y carga de archivos. "
     ]
    },
    {
     "cell_type": "code",
     "collapsed": false,
     "input": [
      "from sympy import symbols, Matrix\n",
      "from numpy import loadtxt, zeros, matrix, exp, pi, sqrt, sign\n",
      "from scipy.optimize import minimize\n",
      "import matplotlib.gridspec as gridspec\n",
      "from pylab import *\n",
      "#%pylab inline\n",
      "\n",
      "I_exp = {}\n",
      "I = {}\n",
      "for i in range(1,41):\n",
      "   # image = \"I{0}_amp\".format(i)\n",
      "    image = \"I{0}_amp\".format(i)\n",
      "    I_exp[i] = loadtxt(image)    \n",
      "    I[i] = zeros(52)\n",
      "#for i in range(21,31):\n",
      "#    image = \"I{0}_amp\".format(i)\n",
      "#    I_exp[i+20] = loadtxt(image)    \n",
      "#    I[i+20] = zeros(52)\n",
      "    \n",
      "#I_exp[41] =  loadtxt(\"In21_amp\")\n",
      "#I[41] = zeros(52)\n",
      "#I_exp[42] =  loadtxt(\"In22_amp\")\n",
      "#I[42] = zeros(52)\n",
      "I_exp_2 = I_exp\n",
      "\n",
      "print(list(range(1,41)))"
     ],
     "language": "python",
     "metadata": {},
     "outputs": [
      {
       "output_type": "stream",
       "stream": "stdout",
       "text": [
        "[1, 2, 3, 4, 5, 6, 7, 8, 9, 10, 11, 12, 13, 14, 15, 16, 17, 18, 19, 20, 21, 22, 23, 24, 25, 26, 27, 28, 29, 30, 31, 32, 33, 34, 35, 36, 37, 38, 39, 40]\n"
       ]
      }
     ],
     "prompt_number": 17
    },
    {
     "cell_type": "heading",
     "level": 2,
     "metadata": {},
     "source": [
      "Normalizaci\u00f3n"
     ]
    },
    {
     "cell_type": "markdown",
     "metadata": {},
     "source": [
      "En este punto suceden dos cosas, primero realizo una normalizaci\u00f3n por pares.  \n",
      "Asumiendo que cada medida esta antecedida por su estado ortogonal, lo que hago es:\n",
      "$$I_i = \\frac{I_i^{exp}}{I_i^{exp}+I_{i+1}^{exp}}$$"
     ]
    },
    {
     "cell_type": "code",
     "collapsed": false,
     "input": [
      "# Averaging of intensities\n",
      "for i in range(1,40,2):\n",
      "    for g in range(I_exp[i].shape[0]):\n",
      "        I[i][g] = I_exp[i][g,1]/(I_exp[i][g,1]+I_exp[i+1][g,1])\n",
      "        I[i+1][g] = I_exp[i+1][g,1]/(I_exp[i][g,1]+I_exp[i+1][g,1])"
     ],
     "language": "python",
     "metadata": {},
     "outputs": [],
     "prompt_number": 18
    },
    {
     "cell_type": "markdown",
     "metadata": {},
     "source": [
      "Graficaci\u00f3n de las curvas de intensidad normalizadas"
     ]
    },
    {
     "cell_type": "code",
     "collapsed": false,
     "input": [
      "fig = figure()\n",
      "for i in range(1,41):\n",
      "    plot(I[i],label='I{0}'.format(i))\n",
      "fig2 =figure()\n",
      "plot(I[5]+I[6],label='I{0}'.format(i))\n",
      "for i in range(1,40,2):\n",
      "    delta = I[i][0]-I[i+1][0]\n",
      "    I[i] = I[i]- delta/2\n",
      "    I[i+1] = I[i+1] + delta/2\n",
      "\n",
      "fig2 =figure()\n"
     ],
     "language": "python",
     "metadata": {},
     "outputs": [],
     "prompt_number": 19
    },
    {
     "cell_type": "code",
     "collapsed": false,
     "input": [
      "for i in range(1,40,2):\n",
      "    plot(I[i]+I[i+1],label='I{0}'.format(i))\n",
      "show()"
     ],
     "language": "python",
     "metadata": {},
     "outputs": [],
     "prompt_number": 20
    },
    {
     "cell_type": "markdown",
     "metadata": {},
     "source": [
      "Estas son las curvas equivalentes a las curvas de intensidad que se usan para caracterizar el modulador en el art\u00edculo de Moreno."
     ]
    },
    {
     "cell_type": "code",
     "collapsed": false,
     "input": [
      "#fig = figure()\n",
      "#plot(I[1],label='I1')\n",
      "#plot(I[2],label='I2')\n",
      "#plot(I[4],label='I3')\n",
      "#plot(I[42],label='I4')\n",
      "#plot(I[21],label='I5')\n",
      "#plot(I[22],label='I6')\n",
      "#plot(I[5],label='I7')\n",
      "#plot(I[6],label='I7p')\n",
      "#legend(bbox_to_anchor=(1.05, 1), loc=2, borderaxespad=0.)\n",
      "#display(fig)"
     ],
     "language": "python",
     "metadata": {},
     "outputs": [],
     "prompt_number": 21
    },
    {
     "cell_type": "heading",
     "level": 2,
     "metadata": {},
     "source": [
      "Definici\u00f3n de X, Y, Z y W"
     ]
    },
    {
     "cell_type": "markdown",
     "metadata": {},
     "source": [
      "Siguiendo las f\u00f3rmulas que se exponen en el art\u00edculo de Moreno y Velazques  \n",
      "encuentro los valores de X, Y, Z, y W, y sus signos."
     ]
    },
    {
     "cell_type": "code",
     "collapsed": false,
     "input": [
      "#X = zeros(52)\n",
      "#Y = zeros(52)\n",
      "#Z = zeros(52)\n",
      "#W = zeros(52)\n",
      "#for i in range(3,43,2):\n",
      "#    delta = I[i][0]-I[i+1][0]\n",
      "#   I[i] = I[i]- delta/2\n",
      "#    I[i+1] = I[i+1] + delta/2\n",
      "#for g in range(I[1].shape[0]):\n",
      "#    X[g] = sqrt( I[1][g]/(1+( (I[5][g]-I[22][g])/(I[4][g]-I[42][g]) )**2) )\n",
      "#    Y[g] = sqrt( I[1][g]/(1+( (I[4][g]-I[42][g])/(I[5][g]-I[22][g]) )**2) )\n",
      "#    Z[g] = sqrt( I[2][g]/(1+( (I[4][g]-I[42][g])/(I[21][g]-I[5][g]) )**2) )\n",
      "#    W[g] = sqrt( I[2][g]/(1+( (I[21][g]-I[5][g])/(I[4][g]-I[42][g]) )**2) )\n",
      "    \n",
      "#    sign_Z = sign(I[21][g]-I[5][g])/sign(X[g])\n",
      "#    if sign(Z[g]) != sign_Z:\n",
      "#        Z[g] = Z[g]*-1\n",
      "#    sign_W = sign(I[4][g]-I[42][g])/sign(X[g])\n",
      "#    if sign(W[g]) != sign_W:\n",
      "#       W[g] = W[g]*-1\n",
      "#    sign_Y = sign(I[5][g]-I[22][g])/sign(X[g])\n",
      "#    if sign(Z[g]) != sign_Y:\n",
      "#        Y[g] = Y[g]*-1   "
     ],
     "language": "python",
     "metadata": {},
     "outputs": [],
     "prompt_number": 22
    },
    {
     "cell_type": "markdown",
     "metadata": {},
     "source": [
      "Graficas de X, Y, Z y W:"
     ]
    },
    {
     "cell_type": "code",
     "collapsed": false,
     "input": [
      "## figure()\n",
      "## plot(X,label='X,76,34')\n",
      "## plot(Y,label='Y,34,76')\n",
      "## plot(Z,label='Z, 34,57')\n",
      "## plot(W,label='W, 57,34')\n",
      "## grid()\n",
      "## legend()"
     ],
     "language": "python",
     "metadata": {},
     "outputs": [],
     "prompt_number": 23
    },
    {
     "cell_type": "heading",
     "level": 2,
     "metadata": {},
     "source": [
      "Matriz de Jones del modulador"
     ]
    },
    {
     "cell_type": "markdown",
     "metadata": {},
     "source": [
      "Definici\u00f3n de Brakets siguiendo la formulaci\u00f3n de vectores de Jones.\n"
     ]
    },
    {
     "cell_type": "code",
     "collapsed": false,
     "input": [
      "I_exp = I\n",
      "def intensity(bra,ket):\n",
      "    In  = matrix([[cos(ket[0])],[sin(ket[0])*exp(ket[1]*1j)]])\n",
      "    Out = matrix([[cos(bra[0])],[sin(bra[0])*exp(bra[1]*1j)]])\n",
      "    return In, Out\n",
      "brakets = {1:intensity([ pi/2,   0],     [pi/2,0]),\\\n",
      "           2:intensity([ pi,0],          [pi/2,0]),\\\n",
      "           3:intensity([ 5*pi/4,-pi/2],  [pi/2,0]),\\\n",
      "           4:intensity([ 5*pi/4, pi/2],  [pi/2,0]),\\\n",
      "           5:intensity([ 5*pi/4, 0],     [pi/2,0]),\\\n",
      "           6:intensity([pi/4, 0],        [pi/2,0]),\\\n",
      "           7:intensity([ pi/8, -pi/2],   [pi/2,0]),\\\n",
      "           8:intensity([3*pi/8, pi/2],   [pi/2,0]),\\\n",
      "           9:intensity([ 3*pi/8, -pi/4], [pi/2,0]),\\\n",
      "           10:intensity([ pi/8, pi/4],   [pi/2,0]),\\\n",
      "           11:intensity([ pi/2,   0],    [0,0]),\\\n",
      "           12:intensity([ pi,0],         [0,0]),\\\n",
      "           13:intensity([ 5*pi/4,-pi/2], [0,0]),\\\n",
      "           14:intensity([ 5*pi/4, pi/2], [0,0]),\\\n",
      "           15:intensity([ 5*pi/4, 0],    [0,0]),\\\n",
      "           16:intensity([ pi/4, 0],      [0,0]),\\\n",
      "           17:intensity([ pi/8, -pi/2],  [0,0]),\\\n",
      "           18:intensity([ 3*pi/8, pi/2], [0,0]),\\\n",
      "           19:intensity([ 3-pi/8, -pi/4],[0,0]),\\\n",
      "           20:intensity([ pi/8, pi/4],   [0,0]),\\\n",
      "           21:intensity([ pi/2,   0],    [pi/4,0]),\\\n",
      "           22:intensity([ pi,0],         [pi/4,0]),\\\n",
      "           23:intensity([ 5*pi/4,-pi/2], [5*pi/4,0]),\\\n",
      "           24:intensity([ 5*pi/4, pi/2], [5*pi/4,0]),\\\n",
      "           25:intensity([ 5*pi/4, 0],    [5*pi/4,0]),\\\n",
      "           26:intensity([ pi/4, 0],      [5*pi/4,0]),\\\n",
      "           27:intensity([pi/8, -pi/2],   [5*pi/4,0]),\\\n",
      "           28:intensity([3*pi/8, pi/2],  [5*pi/4,0]),\\\n",
      "           29:intensity([ 3*pi/8, -pi/4],[5*pi/4,0]),\\\n",
      "           30:intensity([ pi/8, pi/4],   [5*pi/4,0]),\\\n",
      "           31:intensity([ pi/2,   0],    [pi/4,0]),\\\n",
      "           32:intensity([ pi,0],         [pi/4,0]),\\\n",
      "           33:intensity([ 5*pi/4,-pi/2], [pi/4,0]),\\\n",
      "           34:intensity([ 5*pi/4, pi/2], [pi/4,0]),\\\n",
      "           35:intensity([ 5*pi/4, 0],    [pi/4,0]),\\\n",
      "           36:intensity([ pi/4, 0],      [pi/4,0]),\\\n",
      "           37:intensity([pi/8, -pi/2],   [pi/4,0]),\\\n",
      "           38:intensity([3*pi/8, pi/2],  [pi/4,0]),\\\n",
      "           39:intensity([ 3*pi/8, -pi/4],[pi/4,0]),\\\n",
      "           40:intensity([ pi/8, pi/4],   [pi/4,0]),\\\n",
      "\t       42:intensity([ 0,   0],       [5*pi/4,0]),\\\n",
      "\t       41:intensity([ pi/2,   0],    [5*pi/4, 0]),\\\n",
      "\t       43:intensity([ pi/4, pi/2],   [5*pi/4, 0]),\\\n",
      "\t       44:intensity([ pi/4, -pi/2],  [5*pi/4, 0]),\\\n",
      "\t       45:intensity([ -pi/4, 0],     [5*pi/4, 0]),\\\n",
      "\t       46:intensity([ pi/4, 0],      [5*pi/4, 0])}"
     ],
     "language": "python",
     "metadata": {},
     "outputs": [],
     "prompt_number": 33
    },
    {
     "cell_type": "markdown",
     "metadata": {},
     "source": [
      "Definici\u00f3n de una funci\u00f3n a minimizar. Esta funci\u00f3n calcula las diferencias cuadradas  \n",
      "entre las medidas experimentales y las intensidades resultantes de operar con los  \n",
      "vectores de Jones:"
     ]
    },
    {
     "cell_type": "code",
     "collapsed": false,
     "input": [
      "def min_sq(x0,I_exp,g,brakets):\n",
      "    \"\"\" Calculates squared differences for a minimization procedure.\n",
      "\n",
      "    Given the experimental meassures of intensity and arbitrary values for \n",
      "    the parameters of an SLM Jones Matrix, this function gives a value to\n",
      "    minimize. That value tells how close is the estimation of x, y, z, w \n",
      "    to the value that correctly models the SLM.\n",
      "\n",
      "    :param x,y,z,w: Are a guess of real scalars that conform the Joung Matrix for the SLM.\n",
      "    :param I_exp: Is a dictionary contanining intensities for every polarization state.\n",
      "    :param g: Is the gray level of the SLM for which we are solving.\n",
      "    \"\"\"\n",
      "    [x,y,z,w] = x0\n",
      "    \n",
      "    #w = w*sign(I_exp[4][g]-I_exp[42][g])\n",
      "    #if w!=0:\n",
      "    #    y = y*sign(I_exp[5][g]-I_exp[22][g])*sign(w)\n",
      "    #z = z*sign(I_exp[21][g]-I_exp[5][g])\n",
      "    \n",
      "    \n",
      "    M = matrix([[ x - y*1j, z-w*1j],\\\n",
      "                [-z - w*1j, x+y*1j]])\n",
      "    min_sum = 0\n",
      "    I_sim = {}\n",
      "    for i in range(1,41):\n",
      "        #if i%2 !=0:\n",
      "\t#if i in [1,2,5,6,11,12,15,16,21,22,25,26,31,32,36,35]:\n",
      "        #if i in [1,2,5,6,11,12,15,16,21,22,25,26,31,33,35,36]:\n",
      "        if i in [1,2,11,12,]:\n",
      "        #if i not in []:\n",
      "            In, Out = brakets[i]\n",
      "            I_sim[i] = (In.H*M.H*Out * Out.H*M*In)\n",
      "            min_sum += ((I_sim[i]-I_exp[i][g])**2)[0,0].real\n",
      "            #min_sum += (sqrt(abs(I_sim[i]**2-I_exp[i][g]**2)))[0,0].realqq\n",
      "    \n",
      "    return min_sum\n",
      "    "
     ],
     "language": "python",
     "metadata": {},
     "outputs": [],
     "prompt_number": 44
    },
    {
     "cell_type": "markdown",
     "metadata": {},
     "source": [
      "Si probamos con unos valores iniciales cualquiera debe devolver un n\u00famero escalar:"
     ]
    },
    {
     "cell_type": "code",
     "collapsed": false,
     "input": [
      "min_sq([ .9,  .2,  0 , 0],I_exp,0, brakets)"
     ],
     "language": "python",
     "metadata": {},
     "outputs": [
      {
       "metadata": {},
       "output_type": "pyout",
       "prompt_number": 45,
       "text": [
        "0.74500000000000011"
       ]
      }
     ],
     "prompt_number": 45
    },
    {
     "cell_type": "markdown",
     "metadata": {},
     "source": [
      "Minimizaci\u00f3n con restricci\u00f3nes de caja. El m\u00e9todo que mejor hace la minimizaci\u00f3n es el SLSQP:"
     ]
    },
    {
     "cell_type": "code",
     "collapsed": false,
     "input": [
      "M = {}\n",
      "bnds = ((0, 1), (-1, 1),(-1, 1), (-1, 1))\n",
      "cons = ({'type': 'eq', 'fun': lambda x:  x[0]**2+x[1]**2+x[2]**2+x[3]**2 - 1})\n",
      "from scipy.optimize import fmin_l_bfgs_b\n",
      "\n",
      "for g in range(52):\n",
      "    #res = minimize(min_sq,[ X[g],  Y[g],  Z[g], W[g]], args = (I_exp,g),method = 'SLSQP',bounds =bnds,constraints=cons)\n",
      "    #res = minimize(min_sq,[ .1,  .3,  0, -.1], args = (I_exp,g,brakets),method = 'SLSQP',bounds =bnds,constraints=cons)\n",
      "    #res = minimize(min_sq,[ .1,  .1,  .1 , -.1], args = (I_exp,g,brakets),method = 'Nelder-Mead')        \n",
      "    #res = minimize(min_sq,[ 0.9,  .5,  .5, .5], args = (I_exp,g),method = 'COBYLA',bounds =bnds, options={ 'disp': True})\n",
      "    res = fmin_l_bfgs_b(min_sq,[ .1,  .3,  0, .1],fprime=None,approx_grad=1, args = (I_exp,g,brakets),pgtol=1e-05,bounds =bnds)\n",
      "    x,y,z,w = res[0]\n",
      "    M[g] = matrix([[ x - y*1j, z-w*1j],\\\n",
      "                   [-z - w*1j, x+y*1j]])\n",
      "    \n",
      "    "
     ],
     "language": "python",
     "metadata": {},
     "outputs": [],
     "prompt_number": 46
    },
    {
     "cell_type": "markdown",
     "metadata": {},
     "source": [
      "Figura que compara las intensidades normalizadas experimentales en verde con las intensidades  \n",
      "normalizadas producidas por los vectores de Jones definidos antes entrando y saliendo de la matriz  \n",
      "que resulta de la caracterizaci\u00f3n."
     ]
    },
    {
     "cell_type": "code",
     "collapsed": false,
     "input": [
      "#%pylab inline \n",
      "\n",
      "fig = figure()\n",
      "gs1 = gridspec.GridSpec(8, 6)\n",
      "axes = []\n",
      "for i in range(8):\n",
      "    for j in range(6):\n",
      "        #if i+j!=6:\n",
      "        axes.append(fig.add_subplot(gs1[i,j]))\n",
      "        \n",
      "for i in range(1,41,2):\n",
      "    In1, Out1 = brakets[i]\n",
      "    In2, Out2 = brakets[i+1]\n",
      "    \n",
      "    I_test1 = zeros(52)\n",
      "    I_test2 = zeros(52)\n",
      "    \n",
      "    for g in range(52):\n",
      "        I_test1[g] = (In1.H*M[g].H*Out1 * Out1.H*M[g]*In1)[0,0].real/\\\n",
      "        ((In2.H*M[g].H*Out2 * Out2.H*M[g]*In2)[0,0].real+(In1.H*M[g].H*Out1 * Out1.H*M[g]*In1)[0,0].real)\n",
      "        I_test2[g] = (In2.H*M[g].H*Out2 * Out2.H*M[g]*In2)[0,0].real/\\\n",
      "        ((In2.H*M[g].H*Out2 * Out2.H*M[g]*In2)[0,0].real+(In1.H*M[g].H*Out1 * Out1.H*M[g]*In1)[0,0].real)\n",
      "        \n",
      "    n = '8'+str(g)\n",
      "    axes[i-1].plot(I_test1, label = 'It')\n",
      "    axes[i-1].plot(I_exp[i], label = 'Ie')\n",
      "    axes[i-1].set_title('$I_{'+str(i)+'}$')\n",
      "    axes[i-1].set_ylim(0, 1)\n",
      "    axes[i].set_ylim(0, 1)\n",
      "    axes[i].plot(I_test2, label = 'It')\n",
      "    axes[i].plot(I_exp[i+1], label = 'Ie')\n",
      "    axes[i].set_title('$I_{'+str(i+1)+'}$')\n",
      "show()"
     ],
     "language": "python",
     "metadata": {},
     "outputs": [],
     "prompt_number": 47
    },
    {
     "cell_type": "markdown",
     "metadata": {},
     "source": [
      "Extracci\u00f3n de los par\u00e1metros X, Y, Z, y W extra\u00eddos por la minimizaci\u00f3n:"
     ]
    },
    {
     "cell_type": "code",
     "collapsed": false,
     "input": [
      "for g in range(52):\n",
      "     X[g] = M[g][0,0].real\n",
      "     Y[g] = -M[g][0,0].imag\n",
      "     Z[g] = M[g][0,1].real\n",
      "     W[g] = -M[g][0,1].imag\n",
      "        "
     ],
     "language": "python",
     "metadata": {},
     "outputs": [],
     "prompt_number": 69
    },
    {
     "cell_type": "markdown",
     "metadata": {},
     "source": [
      "Gr\u00e1fica de X, Y, Z, y W"
     ]
    },
    {
     "cell_type": "code",
     "collapsed": false,
     "input": [
      "f = figure()\n",
      "ax = f.gca()\n",
      "plot(X,label='X,76,34')\n",
      "plot(Y,label='Y,34,76')\n",
      "plot(Z,label='Z, 34,57')\n",
      "plot(W,label='W, 57,34')\n",
      "grid()\n",
      "# Shink current axis by 20%\n",
      "box = ax.get_position()\n",
      "ax.set_position([box.x0, box.y0, box.width * 0.8, box.height])\n",
      "legend(bbox_to_anchor=(1.01, 1), loc=2)"
     ],
     "language": "python",
     "metadata": {},
     "outputs": [
      {
       "metadata": {},
       "output_type": "pyout",
       "prompt_number": 70,
       "text": [
        "<matplotlib.legend.Legend at 0x118822d90>"
       ]
      }
     ],
     "prompt_number": 70
    },
    {
     "cell_type": "markdown",
     "metadata": {},
     "source": [
      "Figura que compara las intensidades experimentales en verde con las intensidades  \n",
      "producidas por los vectores de Jones definidos antes entrando y saliendo de la matriz  \n",
      "que resulta de la caracterizaci\u00f3n."
     ]
    },
    {
     "cell_type": "raw",
     "metadata": {},
     "source": [
      "fig = figure()\n",
      "gs1 = gridspec.GridSpec(8, 6)\n",
      "axes = []\n",
      "for i in range(8):\n",
      "    for j in range(6):\n",
      "        #if i+j!=6:\n",
      "        axes.append(fig.add_subplot(gs1[i,j]))\n",
      "        \n",
      "for i in range(1,46,2):\n",
      "    In1, Out1 = brakets[i]\n",
      "    In2, Out2 = brakets[i+1]\n",
      "    \n",
      "    I_test1 = zeros(52)\n",
      "    I_test2 = zeros(52)\n",
      "    \n",
      "    for g in range(52):\n",
      "        I_test1[g] = (In1.H*M[g].H*Out1 * Out1.H*M[g]*In1)[0,0].real\n",
      "        I_test2[g] = (In2.H*M[g].H*Out2 * Out2.H*M[g]*In2)[0,0].real\n",
      "        \n",
      "    n = '8'+str(g)\n",
      "    axes[i-1].plot(I_test1, label = 'It')\n",
      "    axes[i-1].plot(I_exp_2[i][:,1], label = 'Ie')\n",
      "    axes[i-1].set_title('$I_{'+str(i)+'}$')\n",
      "    axes[i-1].set_ylim(0, 1)\n",
      "    axes[i].plot(I_test2, label = 'It')\n",
      "    axes[i].plot(I_exp_2[i+1][:,1], label = 'Ie')\n",
      "    axes[i].set_title('$I_{'+str(i+1)+'}$')\n",
      "    axes[i].set_ylim(0, 1)"
     ]
    },
    {
     "cell_type": "heading",
     "level": 2,
     "metadata": {},
     "source": [
      "B\u00fasqueda de una combinaci\u00f3n de estados de polarizaci\u00f3n que generen modulaci\u00f3n s\u00f3lo de fase"
     ]
    },
    {
     "cell_type": "markdown",
     "metadata": {},
     "source": [
      "Script para encontrar la fase vs nivel de gris introducida por la matriz de Jones del modulador. Estoy probando una forma alternativa en la cual no hago uso de la funci\u00f3n \"arctan\" para obtener la fase introducida por la matriz de Jones antes de encontrar el par\u00e1metro beta.  \n",
      "En vez de eso estoy extrayendo el \u00e1ngulo del valor que se produce cuando el ket es multiplicado por la matriz M."
     ]
    },
    {
     "cell_type": "code",
     "collapsed": false,
     "input": [
      "from numpy import arctan,arctan2, info\n",
      "\n",
      "phi = zeros(52)\n",
      "\n",
      "## Secci\u00f3n que sigue lo usado por I. Moreno, d\u00f3nde a partir de una formula \n",
      "## y las variables X,Y,Z,w del modulador se extrae la fase.\n",
      "\n",
      "#chi1 = 0#pi/4#0.3490658503988659#-0.43307956358421984#0.2181361052344816\n",
      "#chi2 = 0#pi/4#0.3490658503988659#0.59291218452902072#0.63376524318875027\n",
      "#for i in range(0,52):\n",
      "#    phi[i] = arctan((Y[i]*cos(chi1+chi2)+W[i]*sin(chi1+chi2))/  \\\n",
      "#\t\t            (X[i]*cos(chi1-chi2)+Z[i]*sin(chi1+chi2)))\n",
      "\n",
      "chi2,phi2,chi1,phi1 =[0,0,0,0]\n",
      "In, Out =intensity([ chi2, phi2],     [chi1,phi1])\n",
      "\n",
      "for g in range(52):\n",
      "    ket2 = Out.H*M[g]*In\n",
      "    phi[g] = angle(ket2)\n",
      "    if g>0 and phi[g]-phi[g-1]>pi:\n",
      "           phi[g] =phi[g]-2*pi\n",
      "    elif g>0 and phi[g]-phi[g-1] <- pi:\n",
      "           phi[g] =phi[g]+2*pi\n",
      "            \n",
      "plot(phi[::-1])\n",
      "phi = phi[::-1] - phi[::-1][0]\n",
      "\n",
      "i = 1\n",
      "image = loadtxt(\"Im{0}_fase\".format(i))\n",
      "#image = loadtxt('If1-52_fase')#\"Im{0}_fase\".format(i))\n",
      "figure()\n",
      "beta = image[::-1,1]-unwrap(phi[::-1])\n",
      "plot(phi)\n",
      "plot(image[::-1,1])\n",
      "plot(image[::-1,1]-phi)\n",
      "max(-phi+image[:,1])-min(-phi+image[:,1])"
     ],
     "language": "python",
     "metadata": {},
     "outputs": [
      {
       "metadata": {},
       "output_type": "pyout",
       "prompt_number": 89,
       "text": [
        "0.561304925338316"
       ]
      }
     ],
     "prompt_number": 89
    },
    {
     "cell_type": "code",
     "collapsed": false,
     "input": [
      "def measure_best_modulation(x0, Jones_matrix, beta, a, b):\n",
      "    \"\"\" Function for finding a configuration where phase modulation \n",
      "    is maximum and intensity variation is a minimum\n",
      "    \n",
      "    x0: Are the variables that we will vary s a list that includes \n",
      "        the parameters for input and output of the braket.\n",
      "        \n",
      "    Jones_matrix: Is the matrix that we obtained by doing the \n",
      "                characterization of the SLM.\n",
      "    \n",
      "    beta: Is the global phase by gray level that the SLM introduces.\n",
      "    \n",
      "    a, b: Are weights used to give more or less priority to a state where \n",
      "          flatness of the intensity curve is prioritized or range of phase\n",
      "          modulation is.\n",
      "    \"\"\"\n",
      "\n",
      "    chi2,phi2,chi1,phi1 = x0\n",
      "    from numpy import arctan2\n",
      "    def intensity(bra,ket):\n",
      "        In  = matrix([[cos(ket[0])],[sin(ket[0])*exp(ket[1]*1j)]])\n",
      "        Out = matrix([[cos(bra[0])],[sin(bra[0])*exp(bra[1]*1j)]])\n",
      "        return In, Out\n",
      "    \n",
      "    In, Out =intensity([ chi2,   -phi2],     [chi1,phi1])\n",
      "    \n",
      "    phi_t = zeros(52)\n",
      "    I = zeros(52)\n",
      "    cambio = 0\n",
      "    for g in range(52):\n",
      "        ket2 = Out.H*exp(1j*beta[g])*M[g]*In # Beta was negative.\n",
      "        I[g] = (ket2.H*ket2)[0,0].real\n",
      "        phi_t[g] = arctan2(ket2.imag,ket2.real)\n",
      "    #plot(phi_t)\n",
      "    for g in range(52):\n",
      "        if g>0 and  phi_t[g] - phi_t[g-1] > pi-0.1:\n",
      "            phi_t[g:] = phi_t[g:]-2*pi\n",
      "        if g>0 and  phi_t[g] - phi_t[g-1] < -pi+0.1:\n",
      "            phi_t[g:] = phi_t[g:]+2*pi\n",
      "    \n",
      "    phi_t = phi_t - phi_t[0]\n",
      "    \n",
      "    p = (max(I)-min(I))/average(I)\n",
      "    q = max(phi_t)-min(phi_t)\n",
      "    plot(phi_t)\n",
      "    return p**a/q**b \n",
      "\n",
      "bnds = ((-pi/1, pi/1), (-pi, pi),(-pi/1, pi/1), (-pi/1, pi/1))\n",
      "#bnds = ((-pi, pi),(-pi, pi), (-pi/2, pi/2))\n",
      "\n",
      "from scipy.optimize import fmin_l_bfgs_b\n",
      "res = fmin_l_bfgs_b(measure_best_modulation,[ pi/8,0,pi/8,0],\\\n",
      "                    fprime=None,approx_grad=1,  args = (M,beta,0,2), pgtol=1e-05,bounds =bnds)\n",
      "\n",
      "#res = minimize(measure_modulation,[ .5,  0.5,  0.5, 0.5], args = (M,),method = 'SLSQP',bounds =bnds)\n",
      "#res = minimize(measure_flatness,[ 0,  0,  0, 0], args = (M,),)   \n",
      "chi2,phi2,chi1,phi1 = res[0]\n",
      "\n",
      "res\n",
      "    \n",
      "    "
     ],
     "language": "python",
     "metadata": {},
     "outputs": [
      {
       "metadata": {},
       "output_type": "pyout",
       "prompt_number": 90,
       "text": [
        "(array([-2.82493795,  3.14159265,  2.17774496, -2.88032017]),\n",
        " 0.090480285370471314,\n",
        " {'funcalls': 60,\n",
        "  'grad': array([-0.03789505, -0.03798735, -0.00296797, -0.06435052]),\n",
        "  'nit': 4,\n",
        "  'task': b'ABNORMAL_TERMINATION_IN_LNSRCH',\n",
        "  'warnflag': 2})"
       ]
      }
     ],
     "prompt_number": 90
    },
    {
     "cell_type": "code",
     "collapsed": false,
     "input": [
      "chi2,phi2,chi1,phi1 = res[0]\n",
      "#chi2,phi2,chi1,phi1 = [pi/4,pi/2,0,0]\n",
      "In, Out =intensity([ chi2, phi2],     [chi1,phi1])\n",
      "print(In, Out)\n",
      "phi1 = zeros(52)\n",
      "phi2 = zeros(52)\n",
      "phi_t = zeros(52)\n",
      "I = zeros(52)\n",
      "for g in range(52):\n",
      "    #*exp(1j*-beta[g])\n",
      "    ket2 = Out.H*exp(1j*beta[g])*M[g]*In\n",
      "    #print(ket2)\n",
      "    I[g] = (ket2.H*ket2)[0,0].real\n",
      "    phi_t[g] = arctan2(ket2.imag,ket2.real)\n",
      "#for g in range(52):\n",
      "    #print('g',g,'phi_t[g] - phi_t[g-1]',phi_t[g] - phi_t[g-1])\n",
      "    #print('phi_t[g]',phi_t[g],'phi_t[g-1]', phi_t[g-1])\n",
      "    \n",
      "    #if g>1 and  phi_t[g] - phi_t[g-1] > pi:\n",
      "    #    phi_t[g:] = phi_t[g:]-2*pi\n",
      "    #if g>1 and  phi_t[g] - phi_t[g-1] < -pi:\n",
      "    #    phi_t[g:] = phi_t[g:]+2*pi\n",
      "figure()\n",
      "phi_t = phi_t - phi_t[0]\n",
      "plot(phi_t)\n",
      "figure()\n",
      "plot(I)\n",
      "abs(max(phi_t)-min(phi_t))"
     ],
     "language": "python",
     "metadata": {},
     "outputs": [
      {
       "output_type": "stream",
       "stream": "stdout",
       "text": [
        "[[-0.57036375+0.j        ]\n",
        " [-0.79351587-0.21217388j]] [[-0.95028242 +0.00000000e+00j]\n",
        " [ 0.31138933 -3.81341949e-17j]]\n"
       ]
      },
      {
       "metadata": {},
       "output_type": "pyout",
       "prompt_number": 91,
       "text": [
        "3.3252869183520239"
       ]
      }
     ],
     "prompt_number": 91
    },
    {
     "cell_type": "code",
     "collapsed": false,
     "input": [
      "phi_t\n"
     ],
     "language": "python",
     "metadata": {},
     "outputs": [
      {
       "metadata": {},
       "output_type": "pyout",
       "prompt_number": 26,
       "text": [
        "array([ 0.        ,  0.04324057,  0.08463201,  0.12060503,  0.1566196 ,\n",
        "        0.18944437,  0.22873851,  0.271628  ,  0.28570923,  0.30281948,\n",
        "        0.32792625,  0.35536503,  0.38618967,  0.39280172,  0.40270654,\n",
        "        0.42722308,  0.43919657,  0.46023249,  0.47109162,  0.49812555,\n",
        "        0.50768576,  0.52414416,  0.53517405,  0.55488994,  0.58205382,\n",
        "        0.57167781,  0.58535173,  0.60395944,  0.6221765 ,  0.62069479,\n",
        "        0.63481602,  0.64909466,  0.65422136,  0.66015277,  0.68637248,\n",
        "        0.70701302,  0.72401167,  0.74119166,  0.76135795,  0.77541204,\n",
        "        0.77322067,  0.7756516 ,  0.7539531 ,  0.70921613,  0.64738454,\n",
        "        0.55754242,  0.43691248,  0.31930507,  0.20177913,  0.11347277,\n",
        "        0.02232605, -0.05728904])"
       ]
      }
     ],
     "prompt_number": 26
    },
    {
     "cell_type": "code",
     "collapsed": false,
     "input": [
      "plot(phi_t)"
     ],
     "language": "python",
     "metadata": {},
     "outputs": [
      {
       "output_type": "pyout",
       "prompt_number": 19,
       "text": [
        "[<matplotlib.lines.Line2D at 0x10783dc90>]"
       ]
      },
      {
       "output_type": "display_data",
       "png": "[encoded data removed]",
       "text": [
        "<matplotlib.figure.Figure at 0x109144790>"
       ]
      }
     ],
     "prompt_number": 19
    },
    {
     "cell_type": "code",
     "collapsed": false,
     "input": [
      "phi_t[-5]-phi_t[-6]"
     ],
     "language": "python",
     "metadata": {},
     "outputs": [
      {
       "output_type": "pyout",
       "prompt_number": 20,
       "text": [
        "0.16341382589113795"
       ]
      }
     ],
     "prompt_number": 20
    },
    {
     "cell_type": "code",
     "collapsed": false,
     "input": [
      "deg2rad(20)"
     ],
     "language": "python",
     "metadata": {},
     "outputs": [
      {
       "output_type": "pyout",
       "prompt_number": 21,
       "text": [
        "0.3490658503988659"
       ]
      }
     ],
     "prompt_number": 21
    },
    {
     "cell_type": "code",
     "collapsed": false,
     "input": [
      "plot(phi_t[::-1])"
     ],
     "language": "python",
     "metadata": {},
     "outputs": [
      {
       "output_type": "pyout",
       "prompt_number": 22,
       "text": [
        "[<matplotlib.lines.Line2D at 0x1076fee90>]"
       ]
      },
      {
       "output_type": "display_data",
       "png": "[encoded data removed]",
       "text": [
        "<matplotlib.figure.Figure at 0x106b2d690>"
       ]
      }
     ],
     "prompt_number": 22
    },
    {
     "cell_type": "raw",
     "metadata": {},
     "source": [
      "La funci\u00f3n que esta comentntado debajo hace un barrido dobre muchos estados de entrada y salida hasta llegar a una combinaci\u00f3n que sea relativamente buena. Lo coment\u00e9 porque no es muy bueno."
     ]
    },
    {
     "cell_type": "raw",
     "metadata": {},
     "source": [
      "def get_optimal_state(Jones_matrix):\n",
      "    \"\"\" Function for finding a configuration where the amplitude\n",
      "    is not modulated\"\"\"\n",
      "    def intensity(bra,ket):\n",
      "        In  = matrix([[cos(ket[0])],[sin(ket[0])*exp(ket[1]*1j)]])\n",
      "        Out = matrix([[cos(bra[0])],[sin(bra[0])*exp(bra[1]*1j)]])\n",
      "        return In, Out\n",
      "    \n",
      "    optimal = {'chi1':0,'chi2':0,'theta1':0,'theta2':0,'value':0 }\n",
      "    for chi1 in linspace(0,pi,20):\n",
      "        for chi2 in linspace(0,pi,20):\n",
      "            for theta1 in linspace(0,pi,10):\n",
      "                for theta2 in linspace(0,pi,10):\n",
      "                    I_sim = zeros(52)\n",
      "                    for g in range(52):\n",
      "                        In,Out = intensity([chi2,theta2],[chi1,theta1])\n",
      "                        I_sim[g] = (In.H*M[g].H*Out * Out.H*M[g]*In)[0,0].real\n",
      "                    p = (max(I_sim)-min(I_sim))/average(I_sim)\n",
      "                    if 1/p >  optimal['value']:\n",
      "                        optimal = {'chi1':chi1,'chi2':chi2,'theta1':theta1,'theta2':theta2,'value':p }\n",
      "    return optimal\n",
      "optimal = get_optimal_state(M)\n"
     ]
    },
    {
     "cell_type": "markdown",
     "metadata": {},
     "source": [
      "Funci\u00f3n que s\u00f3lo optimiza para que la intensidad "
     ]
    },
    {
     "cell_type": "code",
     "collapsed": false,
     "input": [
      "def measure_flatness(x0,Jones_matrix):\n",
      "    \"\"\" Function for finding a configuration where the amplitude\n",
      "    is not modulated\"\"\"\n",
      "    chi2,phi2,chi1,phi1 = x0\n",
      "    def intensity(bra,ket):\n",
      "        In  = matrix([[cos(ket[0])],[sin(ket[0])*exp(ket[1]*1j)]])\n",
      "        Out = matrix([[cos(bra[0])],[sin(bra[0])*exp(bra[1]*1j)]])\n",
      "        return In, Out\n",
      "    I_sim = zeros(52)\n",
      "    for g in range(52):\n",
      "        In,Out = intensity([chi2,phi2],[chi1,phi1])\n",
      "        I_sim[g] = (In.H*M[g].H*Out * Out.H*M[g]*In)[0,0].real\n",
      "    return  (max(I_sim)-min(I_sim))/average(I_sim)\n",
      "\n",
      "bnds = ((-pi/1, pi/1), (-pi/2, pi/2),(-pi/1, pi/1), (-pi/1, pi/1))\n",
      "res = minimize(measure_flatness,[ 0,  0,  0, 0], args = (M,),method = 'SLSQP',bounds =bnds)\n",
      "#res = minimize(measure_flatness,[ 0,  0,  0, 0], args = (M,),)   \n",
      "chi2,phi2,chi1,phi1 = res.x\n",
      "res"
     ],
     "language": "python",
     "metadata": {},
     "outputs": [
      {
       "output_type": "pyout",
       "prompt_number": 23,
       "text": [
        "     jac: array([ 0.21282526, -0.24520946,  0.1115561 ,  0.05653543,  0.        ])\n",
        "       x: array([ 0.59277122,  1.57079633,  0.44275569,  1.50855449])\n",
        "     fun: 0.010233450765350975\n",
        "    nfev: 530\n",
        "    njev: 76\n",
        " success: True\n",
        "     nit: 76\n",
        " message: 'Optimization terminated successfully.'\n",
        "  status: 0"
       ]
      }
     ],
     "prompt_number": 23
    },
    {
     "cell_type": "code",
     "collapsed": false,
     "input": [
      "I_sim = zeros(52)\n",
      "for g in range(52):\n",
      "    In,Out = intensity([chi2,theta2],[chi1,theta1])\n",
      "    I_sim[g] = (In.H*M[g].H*Out * Out.H*M[g]*In)[0,0].real\n",
      "figure()\n",
      "plot(I_sim)\n",
      "ylim((0,1))"
     ],
     "language": "python",
     "metadata": {},
     "outputs": [
      {
       "ename": "NameError",
       "evalue": "name 'theta2' is not defined",
       "output_type": "pyerr",
       "traceback": [
        "\u001b[0;31m---------------------------------------------------------------------------\u001b[0m\n\u001b[0;31mNameError\u001b[0m                                 Traceback (most recent call last)",
        "\u001b[0;32m<ipython-input-24-768aaca604fe>\u001b[0m in \u001b[0;36m<module>\u001b[0;34m()\u001b[0m\n\u001b[1;32m      1\u001b[0m \u001b[0mI_sim\u001b[0m \u001b[0;34m=\u001b[0m \u001b[0mzeros\u001b[0m\u001b[0;34m(\u001b[0m\u001b[0;36m52\u001b[0m\u001b[0;34m)\u001b[0m\u001b[0;34m\u001b[0m\u001b[0m\n\u001b[1;32m      2\u001b[0m \u001b[0;32mfor\u001b[0m \u001b[0mg\u001b[0m \u001b[0;32min\u001b[0m \u001b[0mrange\u001b[0m\u001b[0;34m(\u001b[0m\u001b[0;36m52\u001b[0m\u001b[0;34m)\u001b[0m\u001b[0;34m:\u001b[0m\u001b[0;34m\u001b[0m\u001b[0m\n\u001b[0;32m----> 3\u001b[0;31m     \u001b[0mIn\u001b[0m\u001b[0;34m,\u001b[0m\u001b[0mOut\u001b[0m \u001b[0;34m=\u001b[0m \u001b[0mintensity\u001b[0m\u001b[0;34m(\u001b[0m\u001b[0;34m[\u001b[0m\u001b[0mchi2\u001b[0m\u001b[0;34m,\u001b[0m\u001b[0mtheta2\u001b[0m\u001b[0;34m]\u001b[0m\u001b[0;34m,\u001b[0m\u001b[0;34m[\u001b[0m\u001b[0mchi1\u001b[0m\u001b[0;34m,\u001b[0m\u001b[0mtheta1\u001b[0m\u001b[0;34m]\u001b[0m\u001b[0;34m)\u001b[0m\u001b[0;34m\u001b[0m\u001b[0m\n\u001b[0m\u001b[1;32m      4\u001b[0m     \u001b[0mI_sim\u001b[0m\u001b[0;34m[\u001b[0m\u001b[0mg\u001b[0m\u001b[0;34m]\u001b[0m \u001b[0;34m=\u001b[0m \u001b[0;34m(\u001b[0m\u001b[0mIn\u001b[0m\u001b[0;34m.\u001b[0m\u001b[0mH\u001b[0m\u001b[0;34m*\u001b[0m\u001b[0mM\u001b[0m\u001b[0;34m[\u001b[0m\u001b[0mg\u001b[0m\u001b[0;34m]\u001b[0m\u001b[0;34m.\u001b[0m\u001b[0mH\u001b[0m\u001b[0;34m*\u001b[0m\u001b[0mOut\u001b[0m \u001b[0;34m*\u001b[0m \u001b[0mOut\u001b[0m\u001b[0;34m.\u001b[0m\u001b[0mH\u001b[0m\u001b[0;34m*\u001b[0m\u001b[0mM\u001b[0m\u001b[0;34m[\u001b[0m\u001b[0mg\u001b[0m\u001b[0;34m]\u001b[0m\u001b[0;34m*\u001b[0m\u001b[0mIn\u001b[0m\u001b[0;34m)\u001b[0m\u001b[0;34m[\u001b[0m\u001b[0;36m0\u001b[0m\u001b[0;34m,\u001b[0m\u001b[0;36m0\u001b[0m\u001b[0;34m]\u001b[0m\u001b[0;34m.\u001b[0m\u001b[0mreal\u001b[0m\u001b[0;34m\u001b[0m\u001b[0m\n\u001b[1;32m      5\u001b[0m \u001b[0mfigure\u001b[0m\u001b[0;34m(\u001b[0m\u001b[0;34m)\u001b[0m\u001b[0;34m\u001b[0m\u001b[0m\n",
        "\u001b[0;31mNameError\u001b[0m: name 'theta2' is not defined"
       ]
      }
     ],
     "prompt_number": 24
    },
    {
     "cell_type": "code",
     "collapsed": false,
     "input": [
      "from numpy import arctan, info\n",
      "phi = zeros(52)\n",
      "#chi1 = -0.43307956358421984#0.2181361052344816\n",
      "#chi2 = 0.59291218452902072#0.63376524318875027\n",
      "for i in range(0,52):\n",
      "    phi[i] = arctan((Y[i]*cos(chi1+chi2)+W[i]*sin(chi1+chi2))/\\\n",
      "\t\t            X[i]*cos(chi1-chi2)+Z[i]*sin(chi1+chi2))\n",
      "figure()\n",
      "plot(phi)\n",
      "max(phi)-min(phi)"
     ],
     "language": "python",
     "metadata": {},
     "outputs": []
    },
    {
     "cell_type": "code",
     "collapsed": false,
     "input": [
      "def measure_modulation(x0,Jones_matrix):\n",
      "    \"\"\" Function for finding a configuration where phase modulation \n",
      "    is maximum\"\"\"\n",
      "    chi2,phi2,chi1,phi1 = x0\n",
      "    \n",
      "    def intensity(bra,ket):\n",
      "        In  = matrix([[cos(ket[0])],[sin(ket[0])*exp(ket[1]*1j)]])\n",
      "        Out = matrix([[cos(bra[0])],[sin(bra[0])*exp(bra[1]*1j)]])\n",
      "        return In, Out\n",
      "    \n",
      "    In, Out =intensity([ chi2,   phi2],     [chi1,phi1])\n",
      "    \n",
      "    phi_t = zeros(52)\n",
      "    I = zeros(52)\n",
      "    for g in range(52):\n",
      "        ket2 = Out.H*exp(1j*-beta[g])*M[g]*In\n",
      "        I[g] = (ket2.H*ket2)[0,0].real\n",
      "        phi_t[g] = (angle(ket2))\n",
      "        if g>0 and phi_t[g]-phi_t[g-1]>pi:\n",
      "           phi_t[g] =phi_t[g]-2*pi\n",
      "        elif g>0 and phi_t[g]-phi_t[g-1] <- pi:\n",
      "           phi_t[g] =phi_t[g]+2*pi\n",
      "    print(max(phi_t)-min(phi_t))\n",
      "    print(1/(max(phi_t)-min(phi_t)))\n",
      "    return  1/(max(phi_t)-min(phi_t))\n",
      "\n",
      "bnds = ((-pi/1, pi/1), (-pi, pi),(-pi/1, pi/1), (-pi/1, pi/1))\n",
      "#bnds = ((-pi, pi),(-pi, pi), (-pi/2, pi/2))\n",
      "\n",
      "from scipy.optimize import fmin_l_bfgs_b\n",
      "res = fmin_l_bfgs_b(measure_modulation,[ .5,  0.5,  0.5, 0.5],fprime=None,approx_grad=1,  args = (M,), pgtol=1e-05,bounds =bnds)\n",
      "\n",
      "#res = minimize(measure_modulation,[ .5,  0.5,  0.5, 0.5], args = (M,),method = 'SLSQP',bounds =bnds)\n",
      "#res = minimize(measure_flatness,[ 0,  0,  0, 0], args = (M,),)   \n",
      "chi2,phi2,chi1,phi1 = res[0]\n",
      "\n",
      "res"
     ],
     "language": "python",
     "metadata": {},
     "outputs": []
    },
    {
     "cell_type": "code",
     "collapsed": false,
     "input": [
      "sign(-3)"
     ],
     "language": "python",
     "metadata": {},
     "outputs": [
      {
       "metadata": {},
       "output_type": "pyout",
       "prompt_number": 1,
       "text": [
        "-1"
       ]
      }
     ],
     "prompt_number": 1
    },
    {
     "cell_type": "code",
     "collapsed": false,
     "input": [],
     "language": "python",
     "metadata": {},
     "outputs": []
    }
   ],
   "metadata": {}
  }
 ]
}