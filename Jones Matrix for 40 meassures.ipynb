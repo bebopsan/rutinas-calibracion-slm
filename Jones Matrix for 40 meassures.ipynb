{
 "metadata": {
  "name": ""
 },
 "nbformat": 3,
 "nbformat_minor": 0,
 "worksheets": [
  {
   "cells": [
    {
     "cell_type": "heading",
     "level": 1,
     "metadata": {},
     "source": [
      "Scripts para la construcci\u00f3n de la matriz de Jones usando las medidas experimentales"
     ]
    },
    {
     "cell_type": "markdown",
     "metadata": {},
     "source": [
      "Importaci\u00f3n de librerias y carga de archivos. "
     ]
    },
    {
     "cell_type": "code",
     "collapsed": false,
     "input": [
      "from sympy import symbols, Matrix\n",
      "from numpy import loadtxt, zeros, matrix, exp, pi, sqrt, sign\n",
      "from scipy.optimize import minimize\n",
      "import matplotlib.gridspec as gridspec\n",
      "I_exp = {}\n",
      "I = {}\n",
      "for i in range(1,41):\n",
      "   # image = \"In{0}_amp\".format(i)\n",
      "    image = \"Im{0}_amp\".format(i)\n",
      "    I_exp[i] = loadtxt(image)    \n",
      "    I[i] = zeros(52)\n",
      "for i in range(21,31):\n",
      "    image = \"In{0}_amp\".format(i)\n",
      "    I_exp[i+20] = loadtxt(image)    \n",
      "    I[i+20] = zeros(52)\n",
      "    \n",
      "#I_exp[41] =  loadtxt(\"In21_amp\")\n",
      "#I[41] = zeros(52)\n",
      "#I_exp[42] =  loadtxt(\"In22_amp\")\n",
      "#I[42] = zeros(52)\n",
      "I_exp_2 = I_exp"
     ],
     "language": "python",
     "metadata": {},
     "outputs": [],
     "prompt_number": 223
    },
    {
     "cell_type": "heading",
     "level": 2,
     "metadata": {},
     "source": [
      "Normalizaci\u00f3n"
     ]
    },
    {
     "cell_type": "markdown",
     "metadata": {},
     "source": [
      "En este punto suceden dos cosas, primero realizo una normalizaci\u00f3n por pares.  \n",
      "Asumiendo que cada medida esta antecedida por su estado ortogonal, lo que hago es:\n",
      "$$I_i = \\frac{I_i^{exp}}{I_i^{exp}+I_{i+1}^{exp}}$$"
     ]
    },
    {
     "cell_type": "code",
     "collapsed": false,
     "input": [
      "# Averaging of intensities\n",
      "for i in range(1,46,2):\n",
      "    for g in range(I_exp[i].shape[0]):\n",
      "        I[i][g] = I_exp[i][g,1]/(I_exp[i][g,1]+I_exp[i+1][g,1])\n",
      "        I[i+1][g] = I_exp[i+1][g,1]/(I_exp[i][g,1]+I_exp[i+1][g,1])"
     ],
     "language": "python",
     "metadata": {},
     "outputs": [],
     "prompt_number": 224
    },
    {
     "cell_type": "markdown",
     "metadata": {},
     "source": [
      "Graficaci\u00f3n de las curvas de indensidad normalizadas"
     ]
    },
    {
     "cell_type": "code",
     "collapsed": false,
     "input": [
      "fig = figure()\n",
      "for i in range(1,46):\n",
      "    plot(I[i],label='I{0}'.format(i))\n",
      "#plot(I[5]+I[6],label='I{0}'.format(i))\n",
      "#for i in range(1,43,2):\n",
      "#    delta = I[i][0]-I[i+1][0]\n",
      "#    I[i] = I[i]- delta/2\n",
      "#    I[i+1] = I[i+1] + delta/2"
     ],
     "language": "python",
     "metadata": {},
     "outputs": [],
     "prompt_number": 55
    },
    {
     "cell_type": "code",
     "collapsed": false,
     "input": [
      "#fig = figure()\n",
      "#plot(I[1],label='I1')\n",
      "#plot(I[2],label='I2')\n",
      "#plot(I[4],label='I3')\n",
      "#plot(I[42],label='I4')\n",
      "#plot(I[21],label='I5')\n",
      "#plot(I[22],label='I6')\n",
      "#plot(I[5],label='I7')\n",
      "#plot(I[6],label='I7p')\n",
      "#legend()\n"
     ],
     "language": "python",
     "metadata": {},
     "outputs": [],
     "prompt_number": 225
    },
    {
     "cell_type": "heading",
     "level": 2,
     "metadata": {},
     "source": [
      "Definici\u00f3n de X, Y, Z y W"
     ]
    },
    {
     "cell_type": "markdown",
     "metadata": {},
     "source": [
      "Siguiendo las f\u00f3rmulas que se exponen en el art\u00edculo de Moreno y Velazques  \n",
      "encuentro los valores de X, Y, Z, y W, y sus signos."
     ]
    },
    {
     "cell_type": "code",
     "collapsed": false,
     "input": [
      "X = zeros(52)\n",
      "Y = zeros(52)\n",
      "Z = zeros(52)\n",
      "W = zeros(52)\n",
      "#for i in range(3,43,2):\n",
      "#    delta = I[i][0]-I[i+1][0]\n",
      "#   I[i] = I[i]- delta/2\n",
      "#    I[i+1] = I[i+1] + delta/2\n",
      "for g in range(I[1].shape[0]):\n",
      "    X[g] = sqrt( I[1][g]/(1+( (I[5][g]-I[22][g])/(I[4][g]-I[42][g]) )**2) )\n",
      "    Y[g] = sqrt( I[1][g]/(1+( (I[4][g]-I[42][g])/(I[5][g]-I[22][g]) )**2) )\n",
      "    Z[g] = sqrt( I[2][g]/(1+( (I[4][g]-I[42][g])/(I[21][g]-I[5][g]) )**2) )\n",
      "    W[g] = sqrt( I[2][g]/(1+( (I[21][g]-I[5][g])/(I[4][g]-I[42][g]) )**2) )\n",
      "    \n",
      "    sign_Z = sign(I[21][g]-I[5][g])/sign(X[g])\n",
      "    if sign(Z[g]) != sign_Z:\n",
      "        Z[g] = Z[g]*-1\n",
      "    sign_W = sign(I[4][g]-I[42][g])/sign(X[g])\n",
      "    if sign(W[g]) != sign_W:\n",
      "       W[g] = W[g]*-1\n",
      "    sign_Y = sign(I[5][g]-I[22][g])/sign(X[g])\n",
      "    if sign(Z[g]) != sign_Y:\n",
      "        Y[g] = Y[g]*-1\n",
      "    "
     ],
     "language": "python",
     "metadata": {},
     "outputs": [],
     "prompt_number": 226
    },
    {
     "cell_type": "markdown",
     "metadata": {},
     "source": [
      "Graficas de X, Y, Z y W:"
     ]
    },
    {
     "cell_type": "code",
     "collapsed": false,
     "input": [
      "## figure()\n",
      "## plot(X,label='X,76,34')\n",
      "## plot(Y,label='Y,34,76')\n",
      "## plot(Z,label='Z, 34,57')\n",
      "## plot(W,label='W, 57,34')\n",
      "## grid()\n",
      "## legend()"
     ],
     "language": "python",
     "metadata": {},
     "outputs": [],
     "prompt_number": 227
    },
    {
     "cell_type": "heading",
     "level": 2,
     "metadata": {},
     "source": [
      "Matriz de Jones del modulador"
     ]
    },
    {
     "cell_type": "markdown",
     "metadata": {},
     "source": [
      "Definici\u00f3n de Brakets siguiendo la formulaci\u00f3n de vectores de Jones.\n"
     ]
    },
    {
     "cell_type": "code",
     "collapsed": false,
     "input": [
      "I_exp = I\n",
      "def intensity(bra,ket):\n",
      "    In  = matrix([[cos(ket[0])],[sin(ket[0])*exp(ket[1]*1j)]])\n",
      "    Out = matrix([[cos(bra[0])],[sin(bra[0])*exp(bra[1]*1j)]])\n",
      "    return In, Out\n",
      "brakets = {1:intensity([ 0,   0],     [0,0]),\\\n",
      "               2:intensity([ pi/2,0],     [0,0]),\\\n",
      "               3:intensity([ pi/4,-pi/2],  [0,0]),\\\n",
      "               4:intensity([ pi/4,pi/2],  [0,0]),\\\n",
      "               5:intensity([ pi/4, 0],    [0,0]),\\\n",
      "               6:intensity([-pi/4, 0],    [0,0]),\\\n",
      "               7:intensity([ pi/8, -pi/2],  [0,0]),\\\n",
      "               8:intensity([5*pi/8, -pi/2],[0,0]),\\\n",
      "               9:intensity([ pi/8, -pi/4],   [0,0]),\\\n",
      "               10:intensity([5*pi/8, -pi/4],[0,0]),\\\n",
      "               11:intensity([ 0,   0],     [pi/2,0]),\\\n",
      "               12:intensity([ pi/2,0],     [pi/2,0]),\\\n",
      "               13:intensity([ pi/4,-pi/2],  [pi/2,0]),\\\n",
      "               14:intensity([ pi/4,pi/2],  [pi/2,0]),\\\n",
      "               15:intensity([ pi/4, 0],    [pi/2,0]),\\\n",
      "               16:intensity([-pi/4, 0],    [pi/2,0]),\\\n",
      "               17:intensity([ pi/8, -pi/2],  [pi/2,0]),\\\n",
      "               18:intensity([ 5*pi/8, -pi/2],[pi/2,0]),\\\n",
      "               19:intensity([ pi/8, -pi/4],   [pi/2,0]),\\\n",
      "               20:intensity([5*pi/8, -pi/4],   [pi/2,0]),\\\n",
      "               21:intensity([ 0,   0],     [pi/4,0]),\\\n",
      "               22:intensity([ pi/2,0],     [pi/4,0]),\\\n",
      "               23:intensity([ pi/4,-pi/2],  [pi/4,0]),\\\n",
      "               24:intensity([ pi/4,pi/2],  [pi/4,0]),\\\n",
      "               25:intensity([ pi/4, 0],    [pi/4,0]),\\\n",
      "                26:intensity([-pi/4, 0],    [pi/4,0]),\\\n",
      "               27:intensity([pi/8, -pi/2],  [pi/4,0]),\\\n",
      "               28:intensity([5*pi/8, -pi/2],[pi/4,0]),\\\n",
      "               29:intensity([pi/8, -pi/4],   [pi/4,0]),\\\n",
      "               30:intensity([5*pi/8, -pi/4],[pi/4,0]),\\\n",
      "               31:intensity([ 0,   0],     [-pi/4,0]),\\\n",
      "               32:intensity([ pi/2,0],     [-pi/4,0]),\\\n",
      "               33:intensity([ pi/4,-pi/2],  [-pi/4,0]),\\\n",
      "               34:intensity([ pi/4,pi/2],  [-pi/4,0]),\\\n",
      "               35:intensity([ pi/4, 0],    [-pi/4,0]),\\\n",
      "               36:intensity([-pi/4, 0],    [-pi/4,0]),\\\n",
      "               37:intensity([pi/8, -pi/2],  [-pi/4,0]),\\\n",
      "               38:intensity([5*pi/8, -pi/2],[-pi/4,0]),\\\n",
      "               39:intensity([pi/8, -pi/4],   [-pi/4,0]),\\\n",
      "               40:intensity([5*pi/8, -pi/4],[-pi/4,0]),\\\n",
      "\t       42:intensity([ 0,   0],     [pi/4,pi/2]),\\\n",
      "\t       41:intensity([ pi/2,   0],     [pi/4,pi/2]),\\\n",
      "\t       43:intensity([ pi/4, pi/2],     [pi/4,pi/2]),\\\n",
      "\t       44:intensity([ pi/4, -pi/2],     [pi/4,pi/2]),\\\n",
      "\t       45:intensity([ -pi/4, 0],     [pi/4,pi/2]),\\\n",
      "\t       46:intensity([ pi/4, 0],     [pi/4,pi/2])}"
     ],
     "language": "python",
     "metadata": {},
     "outputs": [],
     "prompt_number": 228
    },
    {
     "cell_type": "markdown",
     "metadata": {},
     "source": [
      "Definici\u00f3n de una funci\u00f3n a minimizar. Esta funci\u00f3n calcula las diferencias cuadradas  \n",
      "entre las medidas experimentales y las intensidades reultantes de operar con los  \n",
      "vectores de Jones:"
     ]
    },
    {
     "cell_type": "code",
     "collapsed": false,
     "input": [
      "def min_sq(x0,I_exp,g,brakets):\n",
      "    \"\"\" Calculates squared differences for a minimization procedure.\n",
      "\n",
      "    Given the experimental meassures of intensity and arbitrary values for \n",
      "    the parameters of an SLM Jones Matrix, this function gives a value to\n",
      "    minimize. That value tells how close is the estimation of x, y, z, w \n",
      "    to the value that correctly models the SLM.\n",
      "\n",
      "    :param x,y,z,w: Are a guess of real scalars that conform the Joung Matrix for the SLM.\n",
      "    :param I_exp: Is a dictionary contanining intensities for every polarization state.\n",
      "    :param g: Is the gray level of the SLM for which we are solving.\n",
      "    \"\"\"\n",
      "    [x,y,z,w] = x0\n",
      "    \n",
      "    \n",
      "    \n",
      "    M = matrix([[ x - y*1j, z-w*1j],\\\n",
      "                [-z - w*1j, x+y*1j]])\n",
      "    min_sum = 0\n",
      "    I_sim = {}\n",
      "    for i in range(1,46):\n",
      "        #if i%2 !=0:\n",
      "\t#if i in [1,2,5,6,11,12,15,16,21,22,25,26,31,32,36,35]:\n",
      "        #if i in [1,2,3,4,5,6,11,12,13,14,15,16,21,22,23,24,25,26,31,32,33,34,35,36]:\n",
      "        #if i not in [9,10,19,20,39,40]:\n",
      "            In, Out = brakets[i]\n",
      "            I_sim[i] = (In.H*M.H*Out * Out.H*M*In)\n",
      "            min_sum += ((I_sim[i]-I_exp[i][g])**2)[0,0].real\n",
      "            #min_sum += (sqrt(abs(I_sim[i]**2-I_exp[i][g]**2)))[0,0].real\n",
      "    return min_sum\n",
      "    "
     ],
     "language": "python",
     "metadata": {},
     "outputs": [],
     "prompt_number": 229
    },
    {
     "cell_type": "markdown",
     "metadata": {},
     "source": [
      "Si probamos con unos valores iniciales cualquiera debe devolver un n\u00famero escalar:"
     ]
    },
    {
     "cell_type": "code",
     "collapsed": false,
     "input": [
      "min_sq([ .9,  .2,  0 , 0],I_exp,0, brakets)"
     ],
     "language": "python",
     "metadata": {},
     "outputs": [
      {
       "metadata": {},
       "output_type": "pyout",
       "prompt_number": 230,
       "text": [
        "1.2937548659489544"
       ]
      }
     ],
     "prompt_number": 230
    },
    {
     "cell_type": "markdown",
     "metadata": {},
     "source": [
      "Minimizaci\u00f3n con restricci\u00f3nes de caja. El m\u00e9todo que mejor hace la minimizaci\u00f3n es el SLSQP:"
     ]
    },
    {
     "cell_type": "code",
     "collapsed": false,
     "input": [
      "M = {}\n",
      "bnds = ((0, 1), (-1, 1),(-1, 1), (-1, 1))\n",
      "cons = ({'type': 'eq', 'fun': lambda x:  x[0]**2+x[1]**2+x[2]**2+x[3]**2 - 1})\n",
      "for g in range(52):\n",
      "    #res = minimize(min_sq,[ X[g],  Y[g],  Z[g], W[g]], args = (I_exp,g),method = 'SLSQP',bounds =bnds,constraints=cons)\n",
      "    res = minimize(min_sq,[ .1,  0,  0, 0], args = (I_exp,g,brakets),method = 'SLSQP',bounds =bnds,constraints=cons)\n",
      "    #res = minimize(min_sq,[ .1,  .1,  .1 , .1], args = (I_exp,g,brakets))        \n",
      "    #res = minimize(min_sq,[ 0.9,  .5,  .5, .5], args = (I_exp,g),method = 'COBYLA',bounds =bnds, options={ 'disp': True})\n",
      "    x,y,z,w = res.x\n",
      "    M[g] = matrix([[ x - y*1j, z-w*1j],\\\n",
      "                   [-z - w*1j, x+y*1j]])\n",
      "    \n",
      "    "
     ],
     "language": "python",
     "metadata": {},
     "outputs": [],
     "prompt_number": 231
    },
    {
     "cell_type": "markdown",
     "metadata": {},
     "source": [
      "Figura que compara las intensidades normalizadas experimentales en verde con las intensidades  \n",
      "normalizadas producidas por los vectores de Jones definidos antes entrando y saliendo de la matriz  \n",
      "que resulta de la caracterizaci\u00f3n."
     ]
    },
    {
     "cell_type": "code",
     "collapsed": false,
     "input": [
      "fig = figure()\n",
      "gs1 = gridspec.GridSpec(8, 6)\n",
      "axes = []\n",
      "for i in range(8):\n",
      "    for j in range(6):\n",
      "        #if i+j!=6:\n",
      "        axes.append(fig.add_subplot(gs1[i,j]))\n",
      "        \n",
      "for i in range(1,46,2):\n",
      "    In1, Out1 = brakets[i]\n",
      "    In2, Out2 = brakets[i+1]\n",
      "    \n",
      "    I_test1 = zeros(52)\n",
      "    I_test2 = zeros(52)\n",
      "    \n",
      "    for g in range(52):\n",
      "        I_test1[g] = (In1.H*M[g].H*Out1 * Out1.H*M[g]*In1)[0,0].real/\\\n",
      "        ((In2.H*M[g].H*Out2 * Out2.H*M[g]*In2)[0,0].real+(In1.H*M[g].H*Out1 * Out1.H*M[g]*In1)[0,0].real)\n",
      "        I_test2[g] = (In2.H*M[g].H*Out2 * Out2.H*M[g]*In2)[0,0].real/\\\n",
      "        ((In2.H*M[g].H*Out2 * Out2.H*M[g]*In2)[0,0].real+(In1.H*M[g].H*Out1 * Out1.H*M[g]*In1)[0,0].real)\n",
      "        \n",
      "    n = '8'+str(g)\n",
      "    axes[i-1].plot(I_test1, label = 'It')\n",
      "    axes[i-1].plot(I_exp[i], label = 'Ie')\n",
      "    axes[i-1].set_title('$I_{'+str(i)+'}$')\n",
      "    axes[i-1].set_ylim(0, 1)\n",
      "    axes[i].set_ylim(0, 1)\n",
      "    axes[i].plot(I_test2, label = 'It')\n",
      "    axes[i].plot(I_exp[i+1], label = 'Ie')\n",
      "    axes[i].set_title('$I_{'+str(i+1)+'}$')"
     ],
     "language": "python",
     "metadata": {},
     "outputs": [],
     "prompt_number": 191
    },
    {
     "cell_type": "markdown",
     "metadata": {},
     "source": [
      "Extracci\u00f3n de los par\u00e1metros X, Y, Z, y W extra\u00eddos por la minimizaci\u00f3n:"
     ]
    },
    {
     "cell_type": "code",
     "collapsed": false,
     "input": [
      "for g in range(52):\n",
      "     X[g] = M[g][0,0].real\n",
      "     Y[g] = -M[g][0,0].imag\n",
      "     Z[g] = M[g][0,1].real\n",
      "     W[g] = -M[g][0,1].imag\n",
      "        "
     ],
     "language": "python",
     "metadata": {},
     "outputs": [],
     "prompt_number": 232
    },
    {
     "cell_type": "markdown",
     "metadata": {},
     "source": [
      "Gr\u00e1fica de X, Y, Z, y W"
     ]
    },
    {
     "cell_type": "code",
     "collapsed": false,
     "input": [
      "figure()\n",
      "plot(X,label='X,76,34')\n",
      "plot(Y,label='Y,34,76')\n",
      "plot(Z,label='Z, 34,57')\n",
      "plot(W,label='W, 57,34')\n",
      "grid()\n",
      "legend()"
     ],
     "language": "python",
     "metadata": {},
     "outputs": [
      {
       "metadata": {},
       "output_type": "pyout",
       "prompt_number": 233,
       "text": [
        "<matplotlib.legend.Legend at 0x1946ad30>"
       ]
      }
     ],
     "prompt_number": 233
    },
    {
     "cell_type": "markdown",
     "metadata": {},
     "source": [
      "Figura que compara las intensidades experimentales en verde con las intensidades  \n",
      "producidas por los vectores de Jones definidos antes entrando y saliendo de la matriz  \n",
      "que resulta de la caracterizaci\u00f3n."
     ]
    },
    {
     "cell_type": "code",
     "collapsed": false,
     "input": [
      "fig = figure()\n",
      "gs1 = gridspec.GridSpec(8, 6)\n",
      "axes = []\n",
      "for i in range(8):\n",
      "    for j in range(6):\n",
      "        #if i+j!=6:\n",
      "        axes.append(fig.add_subplot(gs1[i,j]))\n",
      "        \n",
      "for i in range(1,46,2):\n",
      "    In1, Out1 = brakets[i]\n",
      "    In2, Out2 = brakets[i+1]\n",
      "    \n",
      "    I_test1 = zeros(52)\n",
      "    I_test2 = zeros(52)\n",
      "    \n",
      "    for g in range(52):\n",
      "        I_test1[g] = (In1.H*M[g].H*Out1 * Out1.H*M[g]*In1)[0,0].real\n",
      "        I_test2[g] = (In2.H*M[g].H*Out2 * Out2.H*M[g]*In2)[0,0].real\n",
      "        \n",
      "    n = '8'+str(g)\n",
      "    axes[i-1].plot(I_test1, label = 'It')\n",
      "    axes[i-1].plot(I_exp_2[i][:,1], label = 'Ie')\n",
      "    axes[i-1].set_title('$I_{'+str(i)+'}$')\n",
      "    axes[i-1].set_ylim(0, 1)\n",
      "    axes[i].plot(I_test2, label = 'It')\n",
      "    axes[i].plot(I_exp_2[i+1][:,1], label = 'Ie')\n",
      "    axes[i].set_title('$I_{'+str(i+1)+'}$')\n",
      "    axes[i].set_ylim(0, 1)"
     ],
     "language": "python",
     "metadata": {},
     "outputs": []
    },
    {
     "cell_type": "heading",
     "level": 2,
     "metadata": {},
     "source": [
      "B\u00fasqueda de una combinaci\u00f3n de estados de polarizaci\u00f3n que generen modulaci\u00f3n s\u00f3lo de fase"
     ]
    },
    {
     "cell_type": "markdown",
     "metadata": {},
     "source": [
      "Script para encontrar la fase vs nivel de gris introducida por la matriz de Jones del modulador"
     ]
    },
    {
     "cell_type": "raw",
     "metadata": {},
     "source": [
      "def get_optimal_state(Jones_matrix):\n",
      "    \"\"\" Function for finding a configuration where the amplitude\n",
      "    is not modulated\"\"\"\n",
      "    def intensity(bra,ket):\n",
      "        In  = matrix([[cos(ket[0])],[sin(ket[0])*exp(ket[1]*1j)]])\n",
      "        Out = matrix([[cos(bra[0])],[sin(bra[0])*exp(bra[1]*1j)]])\n",
      "        return In, Out\n",
      "    \n",
      "    optimal = {'chi1':0,'chi2':0,'theta1':0,'theta2':0,'value':0 }\n",
      "    for chi1 in linspace(0,pi,20):\n",
      "        for chi2 in linspace(0,pi,20):\n",
      "            for theta1 in linspace(0,pi,10):\n",
      "                for theta2 in linspace(0,pi,10):\n",
      "                    I_sim = zeros(52)\n",
      "                    for g in range(52):\n",
      "                        In,Out = intensity([chi2,theta2],[chi1,theta1])\n",
      "                        I_sim[g] = (In.H*M[g].H*Out * Out.H*M[g]*In)[0,0].real\n",
      "                    p = (max(I_sim)-min(I_sim))/average(I_sim)\n",
      "                    if 1/p >  optimal['value']:\n",
      "                        optimal = {'chi1':chi1,'chi2':chi2,'theta1':theta1,'theta2':theta2,'value':p }\n",
      "    return optimal\n",
      "optimal = get_optimal_state(M)\n"
     ]
    },
    {
     "cell_type": "code",
     "collapsed": false,
     "input": [
      "from numpy import arctan, info\n",
      "phi = zeros(52)\n",
      "chi1 = 0#pi/4#-0.43307956358421984#0.2181361052344816\n",
      "chi2 = 0   #0.59291218452902072#0.63376524318875027\n",
      "for i in range(0,52):\n",
      "    phi[i] = arctan((Y[i]*cos(chi1+chi2)+W[i]*sin(chi1+chi2))/\\\n",
      "\t\t            X[i]*cos(chi1-chi2)+Z[i]*sin(chi1+chi2))\n",
      "figure()\n",
      "i = 1\n",
      "image = loadtxt(\"Im{0}_fase\".format(i))\n",
      "beta = image[:,1]-phi\n",
      "plot(phi)\n",
      "plot(image[:,1])\n",
      "plot(image[:,1]-phi)\n",
      "max(-phi+image[:,1])-min(-phi+image[:,1])"
     ],
     "language": "python",
     "metadata": {},
     "outputs": [
      {
       "metadata": {},
       "output_type": "pyout",
       "prompt_number": 239,
       "text": [
        "1.4244685942747783"
       ]
      }
     ],
     "prompt_number": 239
    },
    {
     "cell_type": "code",
     "collapsed": false,
     "input": [
      "chi1 = 0#-0.43307956358421984#0.2181361052344816\n",
      "chi2 = 0#0.59291218452902072#0.63376524318875027\n",
      "phi2 = zeros(52)\n",
      "for i in range(0,52):\n",
      "    phi2[i] = arctan((exp(1j*beta[i])*Y[i]*cos(chi1+chi2)+exp(1j*beta[i])*W[i]*sin(chi1+chi2))/\\\n",
      "\t\t            exp(1j*beta[i])*X[i]*cos(chi1-chi2)+exp(1j*beta[i])*Z[i]*sin(chi1+chi2))\n",
      "figure()\n",
      "plot(phi2)\n",
      "\n",
      "In, Out =intensity([ 0,   0],     [pi/4,0])\n",
      "print(In, Out)\n",
      "phi1 = zeros(52)\n",
      "phi2 = zeros(52)\n",
      "phi_t = zeros(52)\n",
      "I = zeros(52)\n",
      "for g in range(52):\n",
      "    ket2 = Out*Out.H*exp(1j*-beta[g])*M[g]*In\n",
      "    #print(ket2)\n",
      "    I[g] = (ket2.H*ket2)[0,0].real\n",
      "    phi1[g] = angle(ket2[0])\n",
      "    phi2[g] = angle(ket2[1])\n",
      "    print('phi1,phi2',phi1[g],phi2[g])\n",
      "    phi_t[g] = phi2[g]-phi1[g]\n",
      "figure()\n",
      "plot(phi_t)\n",
      "figure()\n",
      "plot(I)"
     ],
     "language": "python",
     "metadata": {},
     "outputs": [
      {
       "output_type": "stream",
       "stream": "stdout",
       "text": [
        "[[ 0.70710678+0.j]\n",
        " [ 0.70710678+0.j]] [[ 1.+0.j]\n",
        " [ 0.+0.j]]\n",
        "phi1,phi2 -0.674053754132 0.0\n",
        "phi1,phi2 -0.677678935114 0.0\n",
        "phi1,phi2 -0.684244381782 0.0\n",
        "phi1,phi2 -0.685517376555 0.0\n",
        "phi1,phi2 -0.686403497406 0.0\n",
        "phi1,phi2 -0.683962434658 0.0\n",
        "phi1,phi2 -0.679186986351 0.0\n",
        "phi1,phi2 -0.677096621943 0.0\n",
        "phi1,phi2 -0.676358249759 0.0\n",
        "phi1,phi2 -0.67933753785 0.0\n",
        "phi1,phi2 -0.699485386145 0.0\n",
        "phi1,phi2 -0.701964638834 0.0\n",
        "phi1,phi2 -0.696367100508 0.0\n",
        "phi1,phi2 -0.695117328388 0.0\n",
        "phi1,phi2 -0.696036195477 0.0\n",
        "phi1,phi2 -0.694381662777 0.0\n",
        "phi1,phi2 -0.694097970998 0.0\n",
        "phi1,phi2 -0.695026632462 0.0\n",
        "phi1,phi2 -0.688501289137 0.0\n",
        "phi1,phi2 -0.677752278997 0.0\n",
        "phi1,phi2 -0.65775949785 0.0\n",
        "phi1,phi2 -0.647429029024 0.0\n",
        "phi1,phi2 -0.645094746826 0.0\n",
        "phi1,phi2 -0.633206655106 0.0\n",
        "phi1,phi2 -0.626613950617 0.0\n",
        "phi1,phi2 -0.621542143403 0.0\n",
        "phi1,phi2 -0.616347784137 0.0\n",
        "phi1,phi2 -0.609972985526 0.0\n",
        "phi1,phi2 -0.601668528584 0.0\n",
        "phi1,phi2 -0.595839621504 0.0\n",
        "phi1,phi2 -0.58309988281 0.0\n",
        "phi1,phi2 -0.563382054055 0.0\n",
        "phi1,phi2 -0.549150263599 0.0\n",
        "phi1,phi2 -0.5355497661 0.0\n",
        "phi1,phi2 -0.519611307463 0.0\n",
        "phi1,phi2 -0.504360072365 0.0\n",
        "phi1,phi2 -0.484109813239 0.0\n",
        "phi1,phi2 -0.46829152638 0.0\n",
        "phi1,phi2 -0.44982859198 0.0\n",
        "phi1,phi2 -0.435844107362 0.0\n",
        "phi1,phi2 -0.41716956545 0.0\n",
        "phi1,phi2 -0.400955541662 0.0\n",
        "phi1,phi2 -0.415389764265 0.0\n",
        "phi1,phi2 -0.447103063288 0.0\n",
        "phi1,phi2 -0.53108085687 0.0\n",
        "phi1,phi2 -0.674339481386 0.0\n",
        "phi1,phi2 -0.905705784098 0.0\n",
        "phi1,phi2 -1.10978828196 0.0\n",
        "phi1,phi2 -1.30537844445 0.0\n",
        "phi1,phi2 -1.45730507055 0.0\n",
        "phi1,phi2 -1.60478237352 0.0\n",
        "phi1,phi2 -1.7324757384 0.0\n"
       ]
      },
      {
       "metadata": {},
       "output_type": "pyout",
       "prompt_number": 222,
       "text": [
        "[<matplotlib.lines.Line2D at 0x1241e588>]"
       ]
      }
     ],
     "prompt_number": 222
    },
    {
     "cell_type": "code",
     "collapsed": false,
     "input": [
      "def measure_flatness(x0,Jones_matrix):\n",
      "    \"\"\" Function for finding a configuration where the amplitude\n",
      "    is not modulated\"\"\"\n",
      "    chi2,theta2,chi1,theta1 = x0\n",
      "    def intensity(bra,ket):\n",
      "        In  = matrix([[cos(ket[0])],[sin(ket[0])*exp(ket[1]*1j)]])\n",
      "        Out = matrix([[cos(bra[0])],[sin(bra[0])*exp(bra[1]*1j)]])\n",
      "        return In, Out\n",
      "    I_sim = zeros(52)\n",
      "    for g in range(52):\n",
      "        In,Out = intensity([chi2,theta2],[chi1,theta1])\n",
      "        I_sim[g] = (In.H*M[g].H*Out * Out.H*M[g]*In)[0,0].real\n",
      "    return  (max(I_sim)-min(I_sim))/average(I_sim)\n",
      "\n",
      "bnds = ((-pi/1, pi/1), (-pi/2, pi/2),(-pi/1, pi/1), (-pi/1, pi/1))\n",
      "#res = minimize(measure_flatness,[ 0,  0,  0, 0], args = (M,),method = 'SLSQP',bounds =bnds)\n",
      "res = minimize(measure_flatness,[ 0,  0,  0, 0], args = (M,))   \n",
      "chi2,theta2,chi1,theta1 = res.x"
     ],
     "language": "python",
     "metadata": {},
     "outputs": [],
     "prompt_number": 196
    },
    {
     "cell_type": "code",
     "collapsed": false,
     "input": [
      "chi2,theta2,chi1,theta1"
     ],
     "language": "python",
     "metadata": {},
     "outputs": [
      {
       "metadata": {},
       "output_type": "pyout",
       "prompt_number": 136,
       "text": [
        "(0.26538348636049885,\n",
        " 0.0052252383388909683,\n",
        " -0.23404404231888243,\n",
        " -0.0073492291316602015)"
       ]
      }
     ],
     "prompt_number": 136
    },
    {
     "cell_type": "markdown",
     "metadata": {},
     "source": [
      "$\\chi_1$ = -0.43307956358421984-1.6137844363714395  \n",
      "$\\theta_1$ = -0.43307956358421984\n"
     ]
    },
    {
     "cell_type": "code",
     "collapsed": false,
     "input": [
      "I_sim = zeros(52)\n",
      "for g in range(52):\n",
      "    In,Out = intensity([chi2,theta2],[chi1,theta1])\n",
      "    I_sim[g] = (In.H*M[g].H*Out * Out.H*M[g]*In)[0,0].real\n",
      "figure()\n",
      "plot(I_sim)\n",
      "ylim((0,1))"
     ],
     "language": "python",
     "metadata": {},
     "outputs": [
      {
       "metadata": {},
       "output_type": "pyout",
       "prompt_number": 137,
       "text": [
        "(0, 1)"
       ]
      }
     ],
     "prompt_number": 137
    },
    {
     "cell_type": "code",
     "collapsed": false,
     "input": [
      "from numpy import arctan, info\n",
      "phi = zeros(52)\n",
      "#chi1 = -0.43307956358421984#0.2181361052344816\n",
      "#chi2 = 0.59291218452902072#0.63376524318875027\n",
      "for i in range(0,52):\n",
      "    phi[i] = arctan((Y[i]*cos(chi1+chi2)+W[i]*sin(chi1+chi2))/\\\n",
      "\t\t            X[i]*cos(chi1-chi2)+Z[i]*sin(chi1+chi2))\n",
      "figure()\n",
      "plot(phi)\n",
      "max(phi)-min(phi)"
     ],
     "language": "python",
     "metadata": {},
     "outputs": [
      {
       "metadata": {},
       "output_type": "pyout",
       "prompt_number": 131,
       "text": [
        "0.34736776540110398"
       ]
      }
     ],
     "prompt_number": 131
    },
    {
     "cell_type": "code",
     "collapsed": false,
     "input": [
      "optimal\n",
      "I_sim = zeros(52)\n",
      "for g in range(52):\n",
      "    In,Out = intensity([optimal['chi2'],optimal['theta2']],[optimal['chi1'],optimal['theta1']])\n",
      "    I_sim[g] = (In.H*M[g].H*Out * Out.H*M[g]*In)[0,0].real\n",
      "plot(I_sim)\n",
      "ylim((0,1))"
     ],
     "language": "python",
     "metadata": {},
     "outputs": [
      {
       "metadata": {},
       "output_type": "pyout",
       "prompt_number": 132,
       "text": [
        "(0, 1)"
       ]
      }
     ],
     "prompt_number": 132
    },
    {
     "cell_type": "code",
     "collapsed": false,
     "input": [
      "optimal"
     ],
     "language": "python",
     "metadata": {},
     "outputs": [
      {
       "metadata": {},
       "output_type": "pyout",
       "prompt_number": 90,
       "text": [
        "{'chi1': 3.1415926535897931,\n",
        " 'chi2': 3.1415926535897931,\n",
        " 'theta1': 3.1415926535897931,\n",
        " 'theta2': 3.1415926535897931,\n",
        " 'value': 0.81435615940944961}"
       ]
      }
     ],
     "prompt_number": 90
    },
    {
     "cell_type": "code",
     "collapsed": false,
     "input": [
      "x,y,z,"
     ],
     "language": "python",
     "metadata": {},
     "outputs": [
      {
       "metadata": {},
       "output_type": "pyout",
       "prompt_number": 91,
       "text": [
        "(0.36557123496410276, 0.33894748810866593, -0.86542124079580318)"
       ]
      }
     ],
     "prompt_number": 91
    },
    {
     "cell_type": "markdown",
     "metadata": {},
     "source": [
      "$\\chi_2$ 37.1134739767  \n",
      "$\\chi_1$ 8.59250979669"
     ]
    }
   ],
   "metadata": {}
  }
 ]
}