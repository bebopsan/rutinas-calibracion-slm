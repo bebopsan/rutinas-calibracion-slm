{
 "metadata": {
  "name": ""
 },
 "nbformat": 3,
 "nbformat_minor": 0,
 "worksheets": [
  {
   "cells": [
    {
     "cell_type": "heading",
     "level": 1,
     "source": [
      "Scripts para la construcci\u00f3n de la matriz de Jones usando las medidas experimentales"
     ]
    },
    {
     "cell_type": "markdown",
     "source": [
      "Importaci\u00f3n de librerias y carga de archivos $e^{\\phi}$"
     ]
    },
    {
     "cell_type": "code",
     "collapsed": false,
     "input": [
      "from sympy import symbols, Matrix\n",
      "from numpy import loadtxt, zeros, matrix, exp, pi, sqrt, sign\n",
      "from scipy.optimize import minimize\n",
      "import matplotlib.gridspec as gridspec\n",
      "I_exp = {}\n",
      "I = {}\n",
      "for i in range(1,41):\n",
      "   # image = \"In{0}_amp\".format(i)\n",
      "    image = \"Im{0}_amp\".format(i)\n",
      "    I_exp[i] = loadtxt(image)    \n",
      "    I[i] = zeros(52)\n",
      "    \n",
      "I_exp[41] =  loadtxt(\"In21_amp\")\n",
      "I[41] = zeros(52)\n",
      "I_exp[42] =  loadtxt(\"In22_amp\")\n",
      "I[42] = zeros(52)"
     ],
     "language": "python",
     "outputs": [],
     "prompt_number": 412
    },
    {
     "cell_type": "heading",
     "level": 2,
     "source": [
      "Definici\u00f3n de X, Y, Z y W"
     ]
    },
    {
     "cell_type": "code",
     "collapsed": false,
     "input": [
      "I_exp[1].shape"
     ],
     "language": "python",
     "outputs": [
      {
       "output_type": "pyout",
       "prompt_number": 413,
       "text": [
        "(52, 2)"
       ]
      }
     ],
     "prompt_number": 413
    },
    {
     "cell_type": "code",
     "collapsed": false,
     "input": [
      "# Averaging of intensities\n",
      "for i in range(1,43,2):\n",
      "    for g in range(I_exp[i].shape[0]):\n",
      "        I[i][g] = I_exp[i][g,1]/(I_exp[i][g,1]+I_exp[i+1][g,1])\n",
      "        I[i+1][g] = I_exp[i+1][g,1]/(I_exp[i][g,1]+I_exp[i+1][g,1])\n",
      "        \n",
      "X = zeros(52)\n",
      "Y = zeros(52)\n",
      "Z = zeros(52)\n",
      "W = zeros(52)\n",
      "#for i in range(3,43,2):\n",
      "#    delta = I[i][0]-I[i+1][0]\n",
      "#   I[i] = I[i]- delta/2\n",
      "#    I[i+1] = I[i+1] + delta/2\n",
      "for g in range(I[1].shape[0]):\n",
      "    X[g] = sqrt( I[1][g]/(1+( (I[5][g]-I[22][g])/(I[4][g]-I[42][g]) )**2) )\n",
      "    Y[g] = sqrt( I[1][g]/(1+( (I[4][g]-I[42][g])/(I[5][g]-I[22][g]) )**2) )\n",
      "    Z[g] = sqrt( I[2][g]/(1+( (I[4][g]-I[42][g])/(I[21][g]-I[5][g]) )**2) )\n",
      "    W[g] = sqrt( I[2][g]/(1+( (I[21][g]-I[5][g])/(I[4][g]-I[42][g]) )**2) )\n",
      "    \n",
      "    sign_Z = sign(I[21][g]-I[5][g])/sign(X[g])\n",
      "    if sign(Z[g]) != sign_Z:\n",
      "        Z[g] = Z[g]*-1\n",
      "    sign_W = sign(I[4][g]-I[42][g])/sign(X[g])\n",
      "    if sign(W[g]) != sign_W:\n",
      "       W[g] = W[g]*-1\n",
      "    sign_Y = sign(I[5][g]-I[22][g])/sign(X[g])\n",
      "    if sign(Z[g]) != sign_Y:\n",
      "        Y[g] = Y[g]*-1\n",
      "    "
     ],
     "language": "python",
     "outputs": [],
     "prompt_number": 414
    },
    {
     "cell_type": "code",
     "collapsed": false,
     "input": [
      "## figure()\n",
      "## plot(X,label='X,76,34')\n",
      "## plot(Y,label='Y,34,76')\n",
      "## plot(Z,label='Z, 34,57')\n",
      "## plot(W,label='W, 57,34')\n",
      "## grid()\n",
      "## legend()"
     ],
     "language": "python",
     "outputs": [],
     "prompt_number": 415
    },
    {
     "cell_type": "code",
     "collapsed": false,
     "input": [
      "fig = figure()\n",
      "for i in range(1,43):\n",
      "    plot(I[i],label='I{0}'.format(i))\n",
      "#plot(I[5]+I[6],label='I{0}'.format(i))\n",
      "#for i in range(1,43,2):\n",
      "#    delta = I[i][0]-I[i+1][0]\n",
      "#    I[i] = I[i]- delta/2\n",
      "#    I[i+1] = I[i+1] + delta/2"
     ],
     "language": "python",
     "outputs": [],
     "prompt_number": 416
    },
    {
     "cell_type": "markdown",
     "source": [
      "#fig = figure()\n",
      "plot(I[1],label='I1')\n",
      "plot(I[2],label='I2')\n",
      "plot(I[4],label='I3')\n",
      "plot(I[42],label='I4')\n",
      "plot(I[21],label='I5')\n",
      "plot(I[22],label='I6')\n",
      "plot(I[5],label='I7')\n",
      "plot(I[6],label='I7p')\n",
      "legend()\n"
     ]
    },
    {
     "cell_type": "code",
     "collapsed": false,
     "input": [
      "#figure()\n",
      "#plot(I7-I6/(I3-I4))\n",
      "#plot(I3-I4/(I7-I6))\n"
     ],
     "language": "python",
     "outputs": [],
     "prompt_number": 417
    },
    {
     "cell_type": "code",
     "collapsed": false,
     "input": [
      "I_exp = I\n",
      "def intensity(bra,ket):\n",
      "    In  = matrix([[cos(ket[0])],[sin(ket[0])*exp(ket[1]*1j)]])\n",
      "    Out = matrix([[cos(bra[0])],[sin(bra[0])*exp(bra[1]*1j)]])\n",
      "    return In, Out\n",
      "brakets = {1:intensity([ 0,   0],     [0,0]),\\\n",
      "               2:intensity([ pi/2,0],     [0,0]),\\\n",
      "               3:intensity([ pi/4,-pi/2],  [0,0]),\\\n",
      "               4:intensity([ pi/4,pi/2],  [0,0]),\\\n",
      "               5:intensity([ pi/4, 0],    [0,0]),\\\n",
      "               6:intensity([-pi/4, 0],    [0,0]),\\\n",
      "               7:intensity([ pi/8, -pi/2],  [0,0]),\\\n",
      "               8:intensity([5*pi/8, -pi/2],[0,0]),\\\n",
      "               9:intensity([ pi/4, -pi/4],   [0,0]),\\\n",
      "               10:intensity([3*pi/4, -pi/4],[0,0]),\\\n",
      "               11:intensity([ 0,   0],     [pi/2,0]),\\\n",
      "               12:intensity([ pi/2,0],     [pi/2,0]),\\\n",
      "               13:intensity([ pi/4,-pi/2],  [pi/2,0]),\\\n",
      "               14:intensity([ pi/4,pi/2],  [pi/2,0]),\\\n",
      "               15:intensity([ pi/4, 0],    [pi/2,0]),\\\n",
      "               16:intensity([-pi/4, 0],    [pi/2,0]),\\\n",
      "               17:intensity([ pi/8, -pi/2],  [pi/2,0]),\\\n",
      "               18:intensity([ 5*pi/8, -pi/2],[pi/2,0]),\\\n",
      "               19:intensity([ pi/4, -pi/4],   [pi/2,0]),\\\n",
      "               20:intensity([3*pi/4, -pi/4],   [pi/2,0]),\\\n",
      "               21:intensity([ 0,   0],     [pi/4,0]),\\\n",
      "               22:intensity([ pi/2,0],     [pi/4,0]),\\\n",
      "               23:intensity([ pi/4,-pi/2],  [pi/4,0]),\\\n",
      "               24:intensity([ pi/4,pi/2],  [pi/4,0]),\\\n",
      "               25:intensity([ pi/4, 0],    [pi/4,0]),\\\n",
      "                26:intensity([-pi/4, 0],    [pi/4,0]),\\\n",
      "               27:intensity([pi/8, -pi/2],  [pi/4,0]),\\\n",
      "               28:intensity([5*pi/8, -pi/2],[pi/4,0]),\\\n",
      "               29:intensity([pi/4, -pi/4],   [pi/4,0]),\\\n",
      "               30:intensity([3*pi/4, -pi/4],[pi/4,0]),\\\n",
      "               31:intensity([ 0,   0],     [-pi/4,0]),\\\n",
      "               32:intensity([ pi/2,0],     [-pi/4,0]),\\\n",
      "               33:intensity([ pi/4,-pi/2],  [-pi/4,0]),\\\n",
      "               34:intensity([ pi/4,pi/2],  [-pi/4,0]),\\\n",
      "               35:intensity([ pi/4, 0],    [-pi/4,0]),\\\n",
      "               36:intensity([-pi/4, 0],    [-pi/4,0]),\\\n",
      "               37:intensity([pi/8, -pi/2],  [-pi/4,0]),\\\n",
      "               38:intensity([5*pi/8, -pi/2],[-pi/4,0]),\\\n",
      "               39:intensity([pi/4, -pi/4],   [-pi/4,0]),\\\n",
      "               40:intensity([3*pi/4, -pi/4],[-pi/4,0]),\\\n",
      "\t       41:intensity([ 0,   0],     [pi/4,pi/2]),\\\n",
      "\t       42:intensity([ pi/2,   0],     [pi/4,pi/2])}"
     ],
     "language": "python",
     "outputs": [],
     "prompt_number": 418
    },
    {
     "cell_type": "code",
     "collapsed": false,
     "input": [
      "def min_sq(x0,I_exp,g,brakets):\n",
      "    \"\"\" Calculates squared differences for a minimization procedure.\n",
      "\n",
      "    Given the experimental meassures of intensity and arbitrary values for \n",
      "    the parameters of an SLM Jones Matrix, this function gives a value to\n",
      "    minimize. That value tells how close is the estimation of x, y, z, w \n",
      "    to the value that correctly models the SLM.\n",
      "\n",
      "    :param x,y,z,w: Are a guess of real scalars that conform the Joung Matrix for the SLM.\n",
      "    :param I_exp: Is a dictionary contanining intensities for every polarization state.\n",
      "    :param g: Is the gray level of the SLM for which we are solving.\n",
      "    \"\"\"\n",
      "    [x,y,z,w] = x0\n",
      "    \n",
      "    \n",
      "    \n",
      "    M = matrix([[ x - y*1j, z-w*1j],\\\n",
      "                [-z - w*1j, x+y*1j]])\n",
      "    min_sum = 0\n",
      "    I_sim = {}\n",
      "    for i in range(1,41):\n",
      "        #if i%2 !=0:\n",
      "\t#if i in [1,2,5,6,11,12,15,16,21,22,25,26,31,32,36,35]:\n",
      "        #if i in [1,2,3,4,5,6,11,12,13,14,15,16,21,22,23,24,25,26,31,32,33,34,35,36]:\n",
      "        if i not in [9,10,19,20,39,40]:\n",
      "            In, Out = brakets[i]\n",
      "            I_sim[i] = (In.H*M.H*Out * Out.H*M*In)\n",
      "            min_sum += ((I_sim[i]-I_exp[i][g])**2)[0,0].real\n",
      "            #min_sum += (sqrt(abs(I_sim[i]**2-I_exp[i][g]**2)))[0,0].real\n",
      "    return min_sum\n",
      "    "
     ],
     "language": "python",
     "outputs": [],
     "prompt_number": 419
    },
    {
     "cell_type": "code",
     "collapsed": false,
     "input": [
      "min_sq([ .9,  .2,  0 , 0],I_exp,0, brakets)"
     ],
     "language": "python",
     "outputs": [
      {
       "output_type": "pyout",
       "prompt_number": 420,
       "text": [
        "1.0520478353249001"
       ]
      }
     ],
     "prompt_number": 420
    },
    {
     "cell_type": "code",
     "collapsed": false,
     "input": [
      "M = {}\n",
      "bnds = ((0, 1), (-1, 1),(-1, 1), (-1, 1))\n",
      "cons = ({'type': 'eq', 'fun': lambda x:  x[0]**2+x[1]**2+x[2]**2+x[3]**2 - 1})\n",
      "for g in range(52):\n",
      "    #res = minimize(min_sq,[ X[g],  Y[g],  Z[g], W[g]], args = (I_exp,g),method = 'SLSQP',bounds =bnds,constraints=cons)\n",
      "    res = minimize(min_sq,[ .1,  0,  0, 0], args = (I_exp,g,brakets),method = 'SLSQP',bounds =bnds,constraints=cons)\n",
      "    #res = minimize(min_sq,[ .9,  .9,  .9 , .9], args = (I_exp,g))        \n",
      "    #res = minimize(min_sq,[ 0.9,  .5,  .5, .5], args = (I_exp,g),method = 'COBYLA',bounds =bnds, options={ 'disp': True})\n",
      "    x,y,z,w = res.x\n",
      "    M[g] = matrix([[ x - y*1j, z-w*1j],\\\n",
      "                   [-z - w*1j, x+y*1j]])\n",
      "    \n",
      "    "
     ],
     "language": "python",
     "outputs": [],
     "prompt_number": 421
    },
    {
     "cell_type": "code",
     "collapsed": false,
     "input": [],
     "language": "python",
     "outputs": [],
     "prompt_number": 421
    },
    {
     "cell_type": "code",
     "collapsed": false,
     "input": [
      "fig = figure()\n",
      "gs1 = gridspec.GridSpec(6, 6)\n",
      "axes = []\n",
      "for i in range(6):\n",
      "    for j in range(6):\n",
      "        #if i+j!=6:\n",
      "        axes.append(fig.add_subplot(gs1[i,j]))\n",
      "        \n",
      "for i in range(1,36,2):\n",
      "    In1, Out1 = brakets[i]\n",
      "    In2, Out2 = brakets[i+1]\n",
      "    \n",
      "    I_test1 = zeros(52)\n",
      "    I_test2 = zeros(52)\n",
      "    \n",
      "    for g in range(52):\n",
      "        I_test1[g] = (In1.H*M[g].H*Out1 * Out1.H*M[g]*In1)[0,0].real/\\\n",
      "        ((In2.H*M[g].H*Out2 * Out2.H*M[g]*In2)[0,0].real+(In1.H*M[g].H*Out1 * Out1.H*M[g]*In1)[0,0].real)\n",
      "        I_test2[g] = (In2.H*M[g].H*Out2 * Out2.H*M[g]*In2)[0,0].real/\\\n",
      "        ((In2.H*M[g].H*Out2 * Out2.H*M[g]*In2)[0,0].real+(In1.H*M[g].H*Out1 * Out1.H*M[g]*In1)[0,0].real)\n",
      "        \n",
      "    n = '8'+str(g)\n",
      "    axes[i-1].plot(I_test1, label = 'It')\n",
      "    axes[i-1].plot(I_exp[i], label = 'Ie')\n",
      "    axes[i-1].set_title('$I_{'+str(i)+'}$')\n",
      "    axes[i].plot(I_test2, label = 'It')\n",
      "    axes[i].plot(I_exp[i+1], label = 'Ie')\n",
      "    axes[i].set_title('$I_{'+str(i+1)+'}$')"
     ],
     "language": "python",
     "outputs": [],
     "prompt_number": 422
    },
    {
     "cell_type": "code",
     "collapsed": false,
     "input": [
      "for g in range(52):\n",
      "     X[g] = M[g][0,0].real\n",
      "     Y[g] = -M[g][0,0].imag\n",
      "     Z[g] = M[g][0,1].real\n",
      "     W[g] = -M[g][0,1].imag\n",
      "        "
     ],
     "language": "python",
     "outputs": [],
     "prompt_number": 423
    },
    {
     "cell_type": "code",
     "collapsed": false,
     "input": [
      "figure()\n",
      "plot(X,label='X,76,34')\n",
      "plot(Y,label='Y,34,76')\n",
      "plot(Z,label='Z, 34,57')\n",
      "plot(W,label='W, 57,34')\n",
      "grid()\n",
      "legend()"
     ],
     "language": "python",
     "outputs": [
      {
       "output_type": "pyout",
       "prompt_number": 424,
       "text": [
        "<matplotlib.legend.Legend at 0x123aaaa50>"
       ]
      }
     ],
     "prompt_number": 424
    },
    {
     "cell_type": "code",
     "collapsed": false,
     "input": [],
     "language": "python",
     "outputs": [],
     "prompt_number": 405
    },
    {
     "cell_type": "code",
     "collapsed": false,
     "input": [],
     "language": "python",
     "outputs": [],
     "prompt_number": 366
    },
    {
     "cell_type": "code",
     "collapsed": false,
     "input": [],
     "language": "python",
     "outputs": [],
     "prompt_number": 366
    }
   ]
  }
 ]
}