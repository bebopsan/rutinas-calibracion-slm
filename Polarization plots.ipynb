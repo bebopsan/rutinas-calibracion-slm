{
 "metadata": {
  "name": ""
 },
 "nbformat": 3,
 "nbformat_minor": 0,
 "worksheets": [
  {
   "cells": [
    {
     "cell_type": "code",
     "collapsed": false,
     "input": [
      "\n",
      "from polarization_routines import plot_ellipse\n",
      "import matplotlib as mpl\n",
      "from mpl_toolkits.mplot3d import Axes3D\n",
      "import numpy as np\n",
      "import matplotlib.pyplot as plt\n",
      "%load_ext autoreload\n",
      "%autoreload 2\n",
      "#%matplotlib inline\n",
      "\n",
      "mpl.rcParams['legend.fontsize'] = 10\n",
      "\n",
      "fig = plt.figure()\n",
      "ax = fig.gca(projection='3d')\n",
      "theta = np.linspace(-4 * np.pi, 4 * np.pi, 100)\n",
      "phi = np.pi/4\n",
      "x = np.linspace(-2, 2, 100)\n",
      "r = 1\n",
      "z = r *0.923879532511287* np.cos(theta)\n",
      "y = r *0.38268343236509 *np.cos(theta + phi)\n",
      "ax.plot(x, y, z, label='parametric curve', zdir ='z')\n",
      "ax.view_init(elev=0, azim=0)\n",
      "ax.set_aspect('equal')\n",
      "ax.set_autoscale_on(False)\n",
      "ax.legend()\n",
      "\n",
      "#plt.show()"
     ],
     "language": "python",
     "metadata": {},
     "outputs": [
      {
       "output_type": "stream",
       "stream": "stdout",
       "text": [
        "The autoreload extension is already loaded. To reload it, use:\n",
        "  %reload_ext autoreload\n"
       ]
      },
      {
       "metadata": {},
       "output_type": "pyout",
       "prompt_number": 54,
       "text": [
        "<matplotlib.legend.Legend at 0x115a89a90>"
       ]
      }
     ],
     "prompt_number": 54
    },
    {
     "cell_type": "code",
     "collapsed": false,
     "input": [
      "%config InlineBackend\n",
      "%config InlineBackend.close_figures=True"
     ],
     "language": "python",
     "metadata": {},
     "outputs": [
      {
       "output_type": "stream",
       "stream": "stdout",
       "text": [
        "InlineBackend options\n",
        "-------------------\n",
        "InlineBackend.close_figures=<Bool>\n",
        "    Current: False\n",
        "    Close all figures at the end of each cell.\n",
        "    When True, ensures that each cell starts with no active figures, but it also\n",
        "    means that one must keep track of references in order to edit or redraw\n",
        "    figures in subsequent cells. This mode is ideal for the notebook, where\n",
        "    residual plots from other cells might be surprising.\n",
        "    When False, one must call figure() to create new figures. This means that\n",
        "    gcf() and getfigs() can reference figures created in other cells, and the\n",
        "    active figure can continue to be edited with pylab/pyplot methods that\n",
        "    reference the current active figure. This mode facilitates iterative editing\n",
        "    of figures, and behaves most consistently with other matplotlib backends,\n",
        "    but figure barriers between cells must be explicit.\n",
        "InlineBackend.figure_format=<CaselessStrEnum>\n",
        "    Current: 'png'\n",
        "    Choices: ['svg', 'png', 'retina']\n",
        "    The image format for figures with the inline backend.\n",
        "InlineBackend.rc=<Dict>\n",
        "    Current: {'figure.figsize': (6.0, 4.0), 'font.size': 10, 'figure.facecolor': 'white', 'figure.subplot.bottom': 0.125, 'figure.edgecolor': 'white', 'savefig.dpi': 72}\n",
        "    Subset of matplotlib rcParams that should be different for the inline\n",
        "    backend.\n"
       ]
      }
     ],
     "prompt_number": 64
    },
    {
     "cell_type": "code",
     "collapsed": false,
     "input": [
      "fig2 = plt.figure()\n",
      "ax2d = fig2.gca(projection='3d')\n",
      "ax2d.plot(x, y, z, label='parametric curve', zdir ='x')\n",
      "ax2d.set_top_view()\n",
      "plt.show()\n",
      "#plt.close()"
     ],
     "language": "python",
     "metadata": {},
     "outputs": [],
     "prompt_number": 43
    },
    {
     "cell_type": "code",
     "collapsed": false,
     "input": [
      "fig2\n",
      "fig3 = plt.figure()\n",
      "ax3 = fig3.gca()\n",
      "\n",
      "ax3.plot(y, z)\n",
      "ax3.set_xlabel('X Label')\n",
      "ax3.set_ylabel('Y Label')\n",
      "ax3.set_aspect('equal')\n",
      "plt.show()"
     ],
     "language": "python",
     "metadata": {},
     "outputs": [],
     "prompt_number": 44
    },
    {
     "cell_type": "code",
     "collapsed": false,
     "input": [
      "z =exp(1j*pi/2)"
     ],
     "language": "python",
     "metadata": {},
     "outputs": [],
     "prompt_number": 45
    },
    {
     "cell_type": "code",
     "collapsed": false,
     "input": [
      "angle(z)"
     ],
     "language": "python",
     "metadata": {},
     "outputs": [
      {
       "metadata": {},
       "output_type": "pyout",
       "prompt_number": 46,
       "text": [
        "1.5707963267948966"
       ]
      }
     ],
     "prompt_number": 46
    },
    {
     "cell_type": "code",
     "collapsed": false,
     "input": [
      "pi/2"
     ],
     "language": "python",
     "metadata": {},
     "outputs": [
      {
       "metadata": {},
       "output_type": "pyout",
       "prompt_number": 47,
       "text": [
        "1.5707963267948966"
       ]
      }
     ],
     "prompt_number": 47
    },
    {
     "cell_type": "code",
     "collapsed": false,
     "input": [
      "theta = pi/2\n",
      "a = sqrt((1+sqrt(1- sin(2*theta)**2*sin(phi)**2))/2)\n",
      "b = sqrt((1-sqrt(1- sin(2*theta)**2*sin(phi)**2))/2)\n",
      "Matrix([[cos(pi/8)],[sin(pi/8)*exp(pi*1j/2)]])"
     ],
     "language": "python",
     "metadata": {},
     "outputs": [
      {
       "metadata": {},
       "output_type": "pyout",
       "prompt_number": 48,
       "text": [
        "Matrix([\n",
        "[                        0.923879532511287],\n",
        "[2.34326020266315e-17 + 0.38268343236509*I]])"
       ]
      }
     ],
     "prompt_number": 48
    },
    {
     "cell_type": "code",
     "collapsed": false,
     "input": [
      "from sympy import Matrix\n",
      "plot_ellipse(Matrix([[cos(5*pi/8)],[sin(5*pi/8)*exp(1j*pi)]]))\n",
      "\n",
      "J =Matrix( [[1], [0]] )\n",
      "plt.show()"
     ],
     "language": "python",
     "metadata": {},
     "outputs": [],
     "prompt_number": 73
    },
    {
     "cell_type": "code",
     "collapsed": false,
     "input": [
      "linspace(0,pi/2,num = 5)"
     ],
     "language": "python",
     "metadata": {},
     "outputs": [
      {
       "metadata": {},
       "output_type": "pyout",
       "prompt_number": 50,
       "text": [
        "array([ 0.        ,  0.39269908,  0.78539816,  1.17809725,  1.57079633])"
       ]
      }
     ],
     "prompt_number": 50
    },
    {
     "cell_type": "code",
     "collapsed": false,
     "input": [
      "5*180/8"
     ],
     "language": "python",
     "metadata": {},
     "outputs": [
      {
       "metadata": {},
       "output_type": "pyout",
       "prompt_number": 65,
       "text": [
        "112.5"
       ]
      }
     ],
     "prompt_number": 65
    },
    {
     "cell_type": "code",
     "collapsed": false,
     "input": [
      "linspace(0,pi,num = 9)"
     ],
     "language": "python",
     "metadata": {},
     "outputs": [
      {
       "metadata": {},
       "output_type": "pyout",
       "prompt_number": 51,
       "text": [
        "array([ 0.        ,  0.39269908,  0.78539816,  1.17809725,  1.57079633,\n",
        "        1.96349541,  2.35619449,  2.74889357,  3.14159265])"
       ]
      }
     ],
     "prompt_number": 51
    },
    {
     "cell_type": "code",
     "collapsed": false,
     "input": [
      "from sympy import Matrix\n",
      "angles = linspace(-pi,0,num = 9)\n",
      "angles2 = linspace(0,pi,num = 9)\n",
      "i = 0\n",
      "j = 0\n",
      "for theta in angles:\n",
      "    for phi in angles2:\n",
      "        \n",
      "        J = Matrix([[cos(theta)],[sin(theta)*exp(1j*phi)]])\n",
      "        plot_ellipse(J,name = '_clean_mtheta-{0}-phi-{1}.pdf'.format(i,j), show = False)\n",
      "        \n",
      "        j += 1\n",
      "    j =0\n",
      "    i += 1\n",
      "        \n",
      "    "
     ],
     "language": "python",
     "metadata": {},
     "outputs": [],
     "prompt_number": 62
    },
    {
     "cell_type": "code",
     "collapsed": false,
     "input": [],
     "language": "python",
     "metadata": {},
     "outputs": []
    },
    {
     "cell_type": "code",
     "collapsed": false,
     "input": [
      "a = 2\n",
      "b = 3\n",
      "s = 'theta-{0}-phi-{1}.pdf'.format(a,b)\n",
      "s"
     ],
     "language": "python",
     "metadata": {},
     "outputs": [
      {
       "metadata": {},
       "output_type": "pyout",
       "prompt_number": 174,
       "text": [
        "'theta-2-phi3.pdf'"
       ]
      }
     ],
     "prompt_number": 174
    },
    {
     "cell_type": "code",
     "collapsed": false,
     "input": [
      "tan(tan(2*theta)*cos(phi))"
     ],
     "language": "python",
     "metadata": {},
     "outputs": [
      {
       "output_type": "pyout",
       "prompt_number": 10,
       "text": [
        "array([  6.92764845e-16,   4.15062699e-01,   2.17380564e+00,\n",
        "        -1.17091398e+00,  -6.89317122e+00,  -5.29294231e-01,\n",
        "        -6.76233075e-02,   3.19734337e-01,   1.33843538e+00,\n",
        "        -4.79396556e+00,   3.47692224e+00,  -6.74393717e-01,\n",
        "        -1.37133720e-01,   2.36503463e-01,   9.61076608e-01,\n",
        "        -2.30832379e-01,   6.60858115e-01,  -8.74269544e-01,\n",
        "        -2.10661097e-01,   1.61078956e-01,   7.33151088e-01,\n",
        "        -1.95769256e+00,  -1.18198545e+00,  -1.18623153e+00,\n",
        "        -2.90895064e-01,   9.04861360e-02,   5.73400912e-01,\n",
        "         4.45390173e+01,   5.86391676e-01,  -1.79627221e+00,\n",
        "        -3.81593702e-01,   2.24501082e-02,   4.50593141e-01,\n",
        "         2.77346165e+00,   6.54626380e-01,  -3.89935790e+00,\n",
        "        -4.88530444e-01,  -4.49682323e-02,   3.49898395e-01,\n",
        "         1.53366227e+00,   5.71993156e-02,   8.48314388e+00,\n",
        "        -6.21495034e-01,  -1.13630392e-01,   2.63202917e-01,\n",
        "         1.06325137e+00,   2.42363963e-01,   1.17938322e+00,\n",
        "        -7.99154128e-01,  -1.85555531e-01,   1.85555531e-01,\n",
        "         7.99154128e-01,  -1.17938322e+00,  -2.42363963e-01,\n",
        "        -1.06325137e+00,  -2.63202917e-01,   1.13630392e-01,\n",
        "         6.21495034e-01,  -8.48314388e+00,  -5.71993156e-02,\n",
        "        -1.53366227e+00,  -3.49898395e-01,   4.49682323e-02,\n",
        "         4.88530444e-01,   3.89935790e+00,  -6.54626380e-01,\n",
        "        -2.77346165e+00,  -4.50593141e-01,  -2.24501082e-02,\n",
        "         3.81593702e-01,   1.79627221e+00,  -5.86391676e-01,\n",
        "        -4.45390173e+01,  -5.73400912e-01,  -9.04861360e-02,\n",
        "         2.90895064e-01,   1.18623153e+00,   1.18198545e+00,\n",
        "         1.95769256e+00,  -7.33151088e-01,  -1.61078956e-01,\n",
        "         2.10661097e-01,   8.74269544e-01,  -6.60858115e-01,\n",
        "         2.30832379e-01,  -9.61076608e-01,  -2.36503463e-01,\n",
        "         1.37133720e-01,   6.74393717e-01,  -3.47692224e+00,\n",
        "         4.79396556e+00,  -1.33843538e+00,  -3.19734337e-01,\n",
        "         6.76233075e-02,   5.29294231e-01,   6.89317122e+00,\n",
        "         1.17091398e+00,  -2.17380564e+00,  -4.15062699e-01,\n",
        "        -6.92764845e-16])"
       ]
      }
     ],
     "prompt_number": 10
    },
    {
     "cell_type": "code",
     "collapsed": false,
     "input": [
      "J =Matrix( [[1], [0]] )"
     ],
     "language": "python",
     "metadata": {},
     "outputs": [],
     "prompt_number": 27
    },
    {
     "cell_type": "code",
     "collapsed": false,
     "input": [
      "J.evalf()"
     ],
     "language": "python",
     "metadata": {},
     "outputs": [
      {
       "ename": "AttributeError",
       "evalue": "MutableDenseMatrix has no attribute dtype.",
       "output_type": "pyerr",
       "traceback": [
        "\u001b[0;31m---------------------------------------------------------------------------\u001b[0m\n\u001b[0;31mAttributeError\u001b[0m                            Traceback (most recent call last)",
        "\u001b[0;32m<ipython-input-28-2806b22379e5>\u001b[0m in \u001b[0;36m<module>\u001b[0;34m()\u001b[0m\n\u001b[0;32m----> 1\u001b[0;31m \u001b[0mJ\u001b[0m\u001b[0;34m.\u001b[0m\u001b[0mdtype\u001b[0m\u001b[0;34m\u001b[0m\u001b[0m\n\u001b[0m",
        "\u001b[0;32m/opt/local/Library/Frameworks/Python.framework/Versions/3.3/lib/python3.3/site-packages/sympy/matrices/matrices.py\u001b[0m in \u001b[0;36m__getattr__\u001b[0;34m(self, attr)\u001b[0m\n\u001b[1;32m   3074\u001b[0m         \u001b[0;32melse\u001b[0m\u001b[0;34m:\u001b[0m\u001b[0;34m\u001b[0m\u001b[0m\n\u001b[1;32m   3075\u001b[0m             raise AttributeError(\n\u001b[0;32m-> 3076\u001b[0;31m                 \"%s has no attribute %s.\" % (self.__class__.__name__, attr))\n\u001b[0m\u001b[1;32m   3077\u001b[0m \u001b[0;34m\u001b[0m\u001b[0m\n\u001b[1;32m   3078\u001b[0m     \u001b[0;32mdef\u001b[0m \u001b[0mintegrate\u001b[0m\u001b[0;34m(\u001b[0m\u001b[0mself\u001b[0m\u001b[0;34m,\u001b[0m \u001b[0;34m*\u001b[0m\u001b[0margs\u001b[0m\u001b[0;34m)\u001b[0m\u001b[0;34m:\u001b[0m\u001b[0;34m\u001b[0m\u001b[0m\n",
        "\u001b[0;31mAttributeError\u001b[0m: MutableDenseMatrix has no attribute dtype."
       ]
      }
     ],
     "prompt_number": 28
    },
    {
     "cell_type": "code",
     "collapsed": false,
     "input": [],
     "language": "python",
     "metadata": {},
     "outputs": [],
     "prompt_number": 10
    },
    {
     "cell_type": "code",
     "collapsed": false,
     "input": [],
     "language": "python",
     "metadata": {},
     "outputs": []
    }
   ],
   "metadata": {}
  }
 ]
}