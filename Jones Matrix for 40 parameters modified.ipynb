{
 "metadata": {
  "name": ""
 },
 "nbformat": 3,
 "nbformat_minor": 0,
 "worksheets": [
  {
   "cells": [
    {
     "cell_type": "heading",
     "level": 1,
     "metadata": {},
     "source": [
      "Scripts para la construcci\u00f3n de la matriz de Jones usando las medidas experimentales"
     ]
    },
    {
     "cell_type": "markdown",
     "metadata": {},
     "source": [
      "Importaci\u00f3n de librerias y carga de archivos. "
     ]
    },
    {
     "cell_type": "code",
     "collapsed": false,
     "input": [
      "from sympy import symbols, Matrix\n",
      "from numpy import loadtxt, zeros, matrix, exp, pi, sqrt, sign, cos, sin\n",
      "from scipy.optimize import minimize\n",
      "import matplotlib.gridspec as gridspec\n",
      "from pylab import *\n",
      "#%pylab inline\n",
      "\n",
      "I_exp = {}\n",
      "I = {}\n",
      "for i in range(100):\n",
      "   # image = \"Imagen{0}_amp\".format(i)\n",
      "    image = \"In_fourier{0}_amp\".format(i)\n",
      "    I_exp[i+1] = loadtxt(image)    \n",
      "    I[i+1] = zeros(52)\n",
      "    \n",
      "#I_exp[41] =  loadtxt(\"In21_amp\")\n",
      "#I[41] = zeros(52)\n",
      "#I_exp[42] =  loadtxt(\"In22_amp\")\n",
      "#I[42] = zeros(52)\n",
      "I_exp_2 = I_exp"
     ],
     "language": "python",
     "metadata": {},
     "outputs": [],
     "prompt_number": 2
    },
    {
     "cell_type": "heading",
     "level": 2,
     "metadata": {},
     "source": [
      "Normalizaci\u00f3n"
     ]
    },
    {
     "cell_type": "markdown",
     "metadata": {},
     "source": [
      "En este punto suceden dos cosas, primero realizo una normalizaci\u00f3n por pares.  \n",
      "Asumiendo que cada medida esta antecedida por su estado ortogonal, lo que hago es:\n",
      "$$I_i = \\frac{I_i^{exp}}{I_i^{exp}+I_{i+1}^{exp}}$$"
     ]
    },
    {
     "cell_type": "code",
     "collapsed": false,
     "input": [
      "# Averaging of intensities\n",
      "for i in range(1,100,2):\n",
      "    for g in range(I_exp[i].shape[0]):\n",
      "        I[i][g] = I_exp[i][g,1]/(I_exp[i][g,1]+I_exp[i+1][g,1])\n",
      "        I[i+1][g] = I_exp[i+1][g,1]/(I_exp[i][g,1]+I_exp[i+1][g,1])"
     ],
     "language": "python",
     "metadata": {},
     "outputs": [],
     "prompt_number": 3
    },
    {
     "cell_type": "markdown",
     "metadata": {},
     "source": [
      "Graficaci\u00f3n de las curvas de indensidad normalizadas"
     ]
    },
    {
     "cell_type": "code",
     "collapsed": false,
     "input": [
      "fig = figure()\n",
      "for i in range(1,100):\n",
      "    plot(I[i],label='I{0}'.format(i))\n",
      "#plot(I[5]+I[6],label='I{0}'.format(i))\n",
      "\n",
      "show()"
     ],
     "language": "python",
     "metadata": {},
     "outputs": [],
     "prompt_number": 4
    },
    {
     "cell_type": "code",
     "collapsed": false,
     "input": [
      "for i in range(1,100,2):\n",
      "    plot(I[i]+I[i+1],label='I{0}'.format(i))\n",
      "    \n",
      "show()"
     ],
     "language": "python",
     "metadata": {},
     "outputs": [],
     "prompt_number": 5
    },
    {
     "cell_type": "markdown",
     "metadata": {},
     "source": [
      "Estas son las curvas equivalentes a las curvas de intensidad que se usan para caracterizar el modulador en el art\u00edculo de Moreno."
     ]
    },
    {
     "cell_type": "code",
     "collapsed": false,
     "input": [
      "#fig = figure()\n",
      "#plot(I[1],label='I1')\n",
      "#plot(I[2],label='I2')\n",
      "#plot(I[4],label='I3')\n",
      "#plot(I[42],label='I4')\n",
      "#plot(I[21],label='I5')\n",
      "#plot(I[22],label='I6')\n",
      "#plot(I[5],label='I7')\n",
      "#plot(I[6],label='I7p')\n",
      "#legend(bbox_to_anchor=(1.05, 1), loc=2, borderaxespad=0.)\n",
      "#display(fig)"
     ],
     "language": "python",
     "metadata": {},
     "outputs": [],
     "prompt_number": 6
    },
    {
     "cell_type": "heading",
     "level": 2,
     "metadata": {},
     "source": [
      "Definici\u00f3n de X, Y, Z y W"
     ]
    },
    {
     "cell_type": "markdown",
     "metadata": {},
     "source": [
      "Siguiendo las f\u00f3rmulas que se exponen en el art\u00edculo de Moreno y Velazques  \n",
      "encuentro los valores de X, Y, Z, y W, y sus signos."
     ]
    },
    {
     "cell_type": "code",
     "collapsed": false,
     "input": [
      "X = zeros(52)\n",
      "Y = zeros(52)\n",
      "Z = zeros(52)\n",
      "W = zeros(52)\n",
      "#for i in range(3,43,2):\n",
      "#    delta = I[i][0]-I[i+1][0]\n",
      "#   I[i] = I[i]- delta/2\n",
      "#    I[i+1] = I[i+1] + delta/2\n",
      "#for g in range(I[1].shape[0]):\n",
      "#    X[g] = sqrt( I[1][g]/(1+( (I[5][g]-I[22][g])/(I[4][g]-I[42][g]) )**2) )\n",
      "#    Y[g] = sqrt( I[1][g]/(1+( (I[4][g]-I[42][g])/(I[5][g]-I[22][g]) )**2) )\n",
      "#    Z[g] = sqrt( I[2][g]/(1+( (I[4][g]-I[42][g])/(I[21][g]-I[5][g]) )**2) )\n",
      "#    W[g] = sqrt( I[2][g]/(1+( (I[21][g]-I[5][g])/(I[4][g]-I[42][g]) )**2) )\n",
      "    \n",
      "#    sign_Z = sign(I[21][g]-I[5][g])/sign(X[g])\n",
      "#    if sign(Z[g]) != sign_Z:\n",
      "#        Z[g] = Z[g]*-1\n",
      "#    sign_W = sign(I[4][g]-I[42][g])/sign(X[g])\n",
      "#    if sign(W[g]) != sign_W:\n",
      "#       W[g] = W[g]*-1\n",
      "#    sign_Y = sign(I[5][g]-I[22][g])/sign(X[g])\n",
      "#    if sign(Z[g]) != sign_Y:\n",
      "#        Y[g] = Y[g]*-1"
     ],
     "language": "python",
     "metadata": {},
     "outputs": [],
     "prompt_number": 7
    },
    {
     "cell_type": "markdown",
     "metadata": {},
     "source": [
      "Graficas de X, Y, Z y W:"
     ]
    },
    {
     "cell_type": "code",
     "collapsed": false,
     "input": [
      "## figure()\n",
      "## plot(X,label='X,76,34')\n",
      "## plot(Y,label='Y,34,76')\n",
      "## plot(Z,label='Z, 34,57')\n",
      "## plot(W,label='W, 57,34')\n",
      "## grid()\n",
      "## legend()"
     ],
     "language": "python",
     "metadata": {},
     "outputs": [],
     "prompt_number": 8
    },
    {
     "cell_type": "heading",
     "level": 2,
     "metadata": {},
     "source": [
      "Matriz de Jones del modulador"
     ]
    },
    {
     "cell_type": "markdown",
     "metadata": {},
     "source": [
      "Definici\u00f3n de Brakets siguiendo la formulaci\u00f3n de vectores de Jones.\n"
     ]
    },
    {
     "cell_type": "code",
     "collapsed": false,
     "input": [
      "I_exp = I\n",
      "def intensity(bra,ket):\n",
      "    In  = matrix([[cos(ket[0])],[sin(ket[0])*exp(ket[1]*1j)]])\n",
      "    Out = matrix([[cos(bra[0])],[sin(bra[0])*exp(bra[1]*1j)]])\n",
      "    return In, Out\n",
      "brakets = {1:intensity([ 0,   0],      [0,0]),\\\n",
      "           2:intensity([ pi/2,0],      [0,0]),\\\n",
      "           3:intensity([ pi/4,pi/2],   [0,0]),\\\n",
      "           4:intensity([ pi/4,-pi/2],  [0,0]),\\\n",
      "           5:intensity([ pi/4, 0],     [0,0]),\\\n",
      "           6:intensity([-pi/4, 0],     [0,0]),\\\n",
      "           7:intensity([ 3*pi/8, pi/2],[0,0]),\\\n",
      "           8:intensity([pi/8,-pi/2],   [0,0]),\\\n",
      "           9:intensity([ pi/8, pi/4],  [0,0]),\\\n",
      "           10:intensity([-pi/8, 3*pi/4],[0,0]),\\\n",
      "           11:intensity([ 0,   0],      [pi/2,0]),\\\n",
      "           12:intensity([ pi/2,0],      [pi/2,0]),\\\n",
      "           13:intensity([ pi/4,pi/2],   [pi/2,0]),\\\n",
      "           14:intensity([ pi/4,-pi/2],  [pi/2,0]),\\\n",
      "           15:intensity([ pi/4, 0],     [pi/2,0]),\\\n",
      "           16:intensity([-pi/4, 0],     [pi/2,0]),\\\n",
      "           17:intensity([ 3*pi/8, pi/2],[pi/2,0]),\\\n",
      "           18:intensity([ pi/8, -pi/2], [pi/2,0]),\\\n",
      "           19:intensity([ pi/8, pi/4],  [pi/2,0]),\\\n",
      "           20:intensity([-pi/8, 3*pi/4],[pi/2,0]),\\\n",
      "           21:intensity([ 0,   0],     [pi/4,0]),\\\n",
      "           22:intensity([ pi/2,0],     [pi/4,0]),\\\n",
      "           23:intensity([ pi/4,pi/2],  [pi/4,0]),\\\n",
      "           24:intensity([ pi/4,-pi/2],  [pi/4,0]),\\\n",
      "           25:intensity([ pi/4, 0],    [pi/4,0]),\\\n",
      "           26:intensity([-pi/4, 0],    [pi/4,0]),\\\n",
      "           27:intensity([3*pi/8, pi/2],  [pi/4,0]),\\\n",
      "           28:intensity([pi/8, -pi/2],[pi/4,0]),\\\n",
      "           29:intensity([pi/8, pi/4],   [pi/4,0]),\\\n",
      "           30:intensity([-pi/8, 3*pi/4],[pi/4,0]),\\\n",
      "           31:intensity([ 0,   0],     [-pi/4,0]),\\\n",
      "           32:intensity([ pi/2,0],     [-pi/4,0]),\\\n",
      "           33:intensity([ pi/4,pi/2],  [-pi/4,0]),\\\n",
      "           34:intensity([ pi/4,-pi/2],  [-pi/4,0]),\\\n",
      "           35:intensity([ pi/4, 0],    [-pi/4,0]),\\\n",
      "           36:intensity([-pi/4, 0],    [-pi/4,0]),\\\n",
      "           37:intensity([3*pi/8, pi/2],  [-pi/4,0]),\\\n",
      "           38:intensity([pi/8, -pi/2],[-pi/4,0]),\\\n",
      "           39:intensity([pi/8, pi/4],   [-pi/4,0]),\\\n",
      "           40:intensity([-pi/8, 3*pi/4],[-pi/4,0]),\\\n",
      "\t       41:intensity([ 0,   0],      [pi/4,pi/2]),\\\n",
      "           42:intensity([ pi/2,0],      [pi/4,pi/2]),\\\n",
      "           43:intensity([ pi/4,pi/2],   [pi/4,pi/2]),\\\n",
      "           44:intensity([ pi/4,-pi/2],  [pi/4,pi/2]),\\\n",
      "           45:intensity([ pi/4, 0],     [pi/4,pi/2]),\\\n",
      "           46:intensity([-pi/4, 0],     [pi/4,pi/2]),\\\n",
      "           47:intensity([3*pi/8, pi/2], [pi/4,pi/2]),\\\n",
      "           48:intensity([pi/8, -pi/2],  [pi/4,pi/2]),\\\n",
      "           49:intensity([pi/8, pi/4],   [pi/4,pi/2]),\\\n",
      "           50:intensity([-pi/8, 3*pi/4],[pi/4,pi/2]),\\\n",
      "\t       51:intensity([ 0,   0],      [3*pi/8,pi/2]),\\\n",
      "           52:intensity([ pi/2,0],      [3*pi/8,pi/2]),\\\n",
      "           53:intensity([ pi/4,pi/2],   [3*pi/8,pi/2]),\\\n",
      "           54:intensity([ pi/4,-pi/2],  [3*pi/8,pi/2]),\\\n",
      "           55:intensity([ pi/4, 0],     [3*pi/8,pi/2]),\\\n",
      "           56:intensity([-pi/4, 0],     [3*pi/8,pi/2]),\\\n",
      "           57:intensity([3*pi/8, pi/2], [3*pi/8,pi/2]),\\\n",
      "           58:intensity([pi/8, -pi/2],  [3*pi/8,pi/2]),\\\n",
      "           59:intensity([pi/8, pi/4],   [3*pi/8,pi/2]),\\\n",
      "           60:intensity([-pi/8, 3*pi/4],[3*pi/8,pi/2]),\\\n",
      "           61:intensity([ 0,   0],      [pi/8,pi/4]),\\\n",
      "           62:intensity([ pi/2,0],      [pi/8,pi/4]),\\\n",
      "           63:intensity([ pi/4,pi/2],   [pi/8,pi/4]),\\\n",
      "           64:intensity([ pi/4,-pi/2],  [pi/8,pi/4]),\\\n",
      "           65:intensity([ pi/4, 0],     [pi/8,pi/4]),\\\n",
      "           66:intensity([-pi/4, 0],     [pi/8,pi/4]),\\\n",
      "           67:intensity([3*pi/8, pi/2], [pi/8,pi/4]),\\\n",
      "           68:intensity([pi/8, -pi/2],  [pi/8,pi/4]),\\\n",
      "           69:intensity([pi/8, pi/4],   [pi/8,pi/4]),\\\n",
      "           70:intensity([-pi/8, 3*pi/4],[pi/8,pi/4]),\\\n",
      "           71:intensity([ 0,   0],      [pi/4, -pi/2]),\\\n",
      "           72:intensity([ pi/2,0],      [pi/4, -pi/2]),\\\n",
      "           73:intensity([ pi/4,pi/2],   [pi/4, -pi/2]),\\\n",
      "           74:intensity([ pi/4,-pi/2],  [pi/4, -pi/2]),\\\n",
      "           75:intensity([ pi/4, 0],     [pi/4, -pi/2]),\\\n",
      "           76:intensity([-pi/4, 0],     [pi/4, -pi/2]),\\\n",
      "           77:intensity([3*pi/8, pi/2], [pi/4, -pi/2]),\\\n",
      "           78:intensity([pi/8, -pi/2],  [pi/4, -pi/2]),\\\n",
      "           79:intensity([pi/8, pi/4],   [pi/4, -pi/2]),\\\n",
      "           80:intensity([-pi/8, 3*pi/4],[pi/4, -pi/2]),\\\n",
      "           81:intensity([ 0,   0],      [7*pi/8,-pi/2]),\\\n",
      "           82:intensity([ pi/2,0],      [7*pi/8,-pi/2]),\\\n",
      "           83:intensity([ pi/4,pi/2],   [7*pi/8,-pi/2]),\\\n",
      "           84:intensity([ pi/4,-pi/2],  [7*pi/8,-pi/2]),\\\n",
      "           85:intensity([ pi/4, 0],     [7*pi/8,-pi/2]),\\\n",
      "           86:intensity([-pi/4, 0],     [7*pi/8,-pi/2]),\\\n",
      "           87:intensity([3*pi/8, pi/2], [7*pi/8,-pi/2]),\\\n",
      "           88:intensity([pi/8, -pi/2],  [7*pi/8,-pi/2]),\\\n",
      "           89:intensity([pi/8, pi/4],   [7*pi/8,-pi/2]),\\\n",
      "           90:intensity([-pi/8, 3*pi/4],[7*pi/8,-pi/2]),\\\n",
      "           91:intensity([ 0,   0],      [-pi/8, 3*pi/4]),\\\n",
      "           92:intensity([ pi/2,0],      [-pi/8, 3*pi/4]),\\\n",
      "           93:intensity([ pi/4,pi/2],   [-pi/8, 3*pi/4]),\\\n",
      "           94:intensity([ pi/4,-pi/2],  [-pi/8, 3*pi/4]),\\\n",
      "           95:intensity([ pi/4, 0],     [-pi/8, 3*pi/4]),\\\n",
      "           96:intensity([-pi/4, 0],     [-pi/8, 3*pi/4]),\\\n",
      "           97:intensity([3*pi/8, pi/2], [-pi/8, 3*pi/4]),\\\n",
      "           98:intensity([pi/8, -pi/2],  [-pi/8, 3*pi/4]),\\\n",
      "           99:intensity([pi/8, pi/4],   [-pi/8, 3*pi/4]),\\\n",
      "           100:intensity([-pi/8, 3*pi/4],[-pi/8, 3*pi/4])\n",
      "           }"
     ],
     "language": "python",
     "metadata": {},
     "outputs": [],
     "prompt_number": 9
    },
    {
     "cell_type": "markdown",
     "metadata": {},
     "source": [
      "Definici\u00f3n de una funci\u00f3n a minimizar. Esta funci\u00f3n calcula las diferencias cuadradas  \n",
      "entre las medidas experimentales y las intensidades resultantes de operar con los  \n",
      "vectores de Jones:"
     ]
    },
    {
     "cell_type": "code",
     "collapsed": false,
     "input": [
      "def min_sq(x0,I_exp,g,psi,brakets):\n",
      "    \"\"\" Calculates squared differences for a minimization procedure.\n",
      "\n",
      "    Given the experimental meassures of intensity and arbitrary values for \n",
      "    the parameters of an SLM Jones Matrix, this function gives a value to\n",
      "    minimize. That value tells how close is the estimation of alpha, beta, psi, delta \n",
      "    to the value that correctly models the SLM.\n",
      "\n",
      "    :param alpha,beta,psi,delta: Are a guess of real scalars that conform physical parameters the SLM.\n",
      "    :param I_exp: Is a dictionary contanining intensities for every polarization state.\n",
      "    :param g: Is the gray level of the SLM for which we are solving.\n",
      "    \"\"\"\n",
      "    [alpha,beta,delta] = x0\n",
      "    \n",
      "    R = matrix([[ cos(alpha), sin(alpha)],\\\n",
      "                [-sin(alpha), cos(alpha)]])\n",
      "    R_global = matrix([[ cos(psi), sin(psi)],\\\n",
      "                       [-sin(psi), cos(psi)]])\n",
      "    \n",
      "    gamma = sqrt(alpha**2 + beta**2)\n",
      "    x = cos(gamma)\n",
      "    y = beta*sin(gamma)/gamma\n",
      "    z = alpha*sin(gamma)/gamma\n",
      "    \n",
      "    M_xyz = matrix([[ x - y*1j, z     ],\\\n",
      "                    [-z       , x+y*1j]])\n",
      "    \n",
      "    M_LCD = exp(-1j*beta)*R.transpose()*M_xyz\n",
      "    \n",
      "    W_2delta = matrix([[ exp(-1j*delta),        0      ],\\\n",
      "                       [      0        , exp(1j*delta)]])\n",
      "    M_LCDp = R.transpose()*W_2delta*R*M_LCD*W_2delta\n",
      "    \n",
      "    M = R_global.transpose()*M_LCDp*R_global\n",
      "    \n",
      "    min_sum = 0\n",
      "    I_sim = {}\n",
      "    for i in range(1,101):\n",
      "        #if i%2 !=0:\n",
      "\t#if i in [1,2,5,6,11,12,15,16,21,22,25,26,31,32,36,35]:\n",
      "        #if i in [1,2,3,4,5,6,11,12,15,16,21,22,25,26,31,33,35,36]:\n",
      "        #if i in [1,2,5,6,11,12,15,16,21,22,25,26,31,31,35,36]:\n",
      "        if i not in []:\n",
      "            In, Out = brakets[i]\n",
      "            I_sim[i] = (In.H*M.H*Out * Out.H*M*In)\n",
      "            min_sum += ((I_sim[i]-I_exp[i][g])**2)[0,0].real\n",
      "            #min_sum += (sqrt(abs(I_sim[i]**2-I_exp[i][g]**2)))[0,0].realqq\n",
      "    \n",
      "    return min_sum\n",
      "    "
     ],
     "language": "python",
     "metadata": {},
     "outputs": [],
     "prompt_number": 14
    },
    {
     "cell_type": "markdown",
     "metadata": {},
     "source": [
      "Si probamos con unos valores iniciales cualquiera debe devolver un n\u00famero escalar:"
     ]
    },
    {
     "cell_type": "code",
     "collapsed": false,
     "input": [
      "min_sq([ -pi/2, 2.3,0],I_exp,0,pi/4, brakets)"
     ],
     "language": "python",
     "metadata": {},
     "outputs": [
      {
       "metadata": {},
       "output_type": "pyout",
       "prompt_number": 15,
       "text": [
        "18.665353990631711"
       ]
      }
     ],
     "prompt_number": 15
    },
    {
     "cell_type": "markdown",
     "metadata": {},
     "source": [
      "Minimizaci\u00f3n con restricci\u00f3nes de caja. El m\u00e9todo que mejor hace la minimizaci\u00f3n es el SLSQP:"
     ]
    },
    {
     "cell_type": "code",
     "collapsed": false,
     "input": [
      "M = {}\n",
      "bnds = ((-pi, pi), (0, 2*pi),(0, pi/4))\n",
      "cons = ({'type': 'eq', 'fun': lambda x:  x[0]**2+x[1]**2+x[2]**2+x[3]**2 - 1})\n",
      "from scipy.optimize import fmin_l_bfgs_b\n",
      "\n",
      "alpha,beta,psi,delta = [pi/2, 2.69,pi/4,0]\n",
      "\n",
      "for g in range(51,-1,-1):\n",
      "    #res = minimize(min_sq,[ X[g],  Y[g],  Z[g], W[g]], args = (I_exp,g),method = 'SLSQP',bounds =bnds,constraints=cons)\n",
      "    res = minimize(min_sq,[alpha, beta, delta], args = (I_exp,g,psi,brakets),method = 'SLSQP')\n",
      "    #res = minimize(min_sq,[0.1,0.1,0.1,0.1], args = (I_exp,g,brakets),method = 'SLSQP')\n",
      "    #res = minimize(min_sq,[alpha, beta, delta], args = (I_exp,g,psi,brakets),method = 'Nelder-Mead')        \n",
      "    #res = minimize(min_sq,[ 0.9,  .5,  .5, .5], args = (I_exp,g),method = 'COBYLA',bounds =bnds, options={ 'disp': True})\n",
      "    #res = fmin_l_bfgs_b(min_sq,[ 0,  0,  0 , 0],fprime=None,approx_grad=1, args = (I_exp,g,brakets),pgtol=1e-05)\n",
      "    \n",
      "    #alpha,beta,psi,delta = res[0]\n",
      "    alpha,beta,delta = res.x\n",
      "   \n",
      "    R = matrix([[ cos(alpha), sin(alpha)],\\\n",
      "                [-sin(alpha), cos(alpha)]])\n",
      "    R_global = matrix([[ cos(psi), sin(psi)],\\\n",
      "                       [-sin(psi), cos(psi)]])\n",
      "    \n",
      "    gamma = sqrt(alpha**2 + beta**2)\n",
      "    x = cos(gamma)\n",
      "    y = beta*sin(gamma)/gamma\n",
      "    z = alpha*sin(gamma)/gamma\n",
      "    \n",
      "    M_xyz = matrix([[ x - y*1j, z     ],\\\n",
      "                    [-z       , x+y*1j]])\n",
      "    \n",
      "    M_LCD = exp(-1j*beta)*R.transpose()*M_xyz\n",
      "    \n",
      "    W_2delta = matrix([[ exp(-1j*delta),        0      ],\\\n",
      "                       [      0        , exp(1j*delta)]])\n",
      "    M_LCDp = R.transpose()*W_2delta*R*M_LCD*W_2delta\n",
      "    \n",
      "    M[g] = R_global.transpose()*M_LCDp*R_global\n",
      "    print(res.x)\n",
      "    "
     ],
     "language": "python",
     "metadata": {},
     "outputs": [
      {
       "output_type": "stream",
       "stream": "stdout",
       "text": [
        "[ 1.59917534  4.19869453 -0.41313186]\n",
        "[ 1.49692472  4.23601235 -0.38840221]"
       ]
      },
      {
       "output_type": "stream",
       "stream": "stdout",
       "text": [
        "\n",
        "[ 1.4012211   4.26921312 -0.36688084]"
       ]
      },
      {
       "output_type": "stream",
       "stream": "stdout",
       "text": [
        "\n",
        "[ 1.3136751   4.29706084 -0.34997315]"
       ]
      },
      {
       "output_type": "stream",
       "stream": "stdout",
       "text": [
        "\n",
        "[ 1.22192515  4.32399799 -0.33658438]"
       ]
      },
      {
       "output_type": "stream",
       "stream": "stdout",
       "text": [
        "\n",
        "[ 1.11872332  4.35150352 -0.34742837]"
       ]
      },
      {
       "output_type": "stream",
       "stream": "stdout",
       "text": [
        "\n",
        "[ 0.91353707  4.39945189 -0.41424792]"
       ]
      },
      {
       "output_type": "stream",
       "stream": "stdout",
       "text": [
        "\n",
        "[ 0.71009922  4.43663176 -0.48037681]"
       ]
      },
      {
       "output_type": "stream",
       "stream": "stdout",
       "text": [
        "\n",
        "[ 0.54068149  4.46105374 -0.52818505]"
       ]
      },
      {
       "output_type": "stream",
       "stream": "stdout",
       "text": [
        "\n",
        "[ 0.40631181  4.47520233 -0.55753814]"
       ]
      },
      {
       "output_type": "stream",
       "stream": "stdout",
       "text": [
        "\n",
        "[ 0.26989243  4.46781304 -0.5733043 ]"
       ]
      },
      {
       "output_type": "stream",
       "stream": "stdout",
       "text": [
        "\n",
        "[ 0.18501552  4.46415601 -0.58207866]"
       ]
      },
      {
       "output_type": "stream",
       "stream": "stdout",
       "text": [
        "\n",
        "[ 0.11147553  4.4608825  -0.58957038]"
       ]
      },
      {
       "output_type": "stream",
       "stream": "stdout",
       "text": [
        "\n",
        "[ 0.05237746  4.45869826 -0.59442429]"
       ]
      },
      {
       "output_type": "stream",
       "stream": "stdout",
       "text": [
        "\n",
        "[ 0.01564728  4.45711102 -0.59772865]"
       ]
      },
      {
       "output_type": "stream",
       "stream": "stdout",
       "text": [
        "\n",
        "[-0.02172696  4.4561889  -0.59958988]"
       ]
      },
      {
       "output_type": "stream",
       "stream": "stdout",
       "text": [
        "\n",
        "[-0.04812279  4.45517394 -0.60159884]"
       ]
      },
      {
       "output_type": "stream",
       "stream": "stdout",
       "text": [
        "\n",
        "[-0.07213964  4.45468834 -0.60253015]"
       ]
      },
      {
       "output_type": "stream",
       "stream": "stdout",
       "text": [
        "\n",
        "[-0.08722871  4.45443467 -0.60299779]"
       ]
      },
      {
       "output_type": "stream",
       "stream": "stdout",
       "text": [
        "\n",
        "[-0.10458266  4.4540266  -0.60376748]"
       ]
      },
      {
       "output_type": "stream",
       "stream": "stdout",
       "text": [
        "\n",
        "[-0.11498222  4.45397567 -0.6037286 ]"
       ]
      },
      {
       "output_type": "stream",
       "stream": "stdout",
       "text": [
        "\n",
        "[-0.12643956  4.45386404 -0.60391729]"
       ]
      },
      {
       "output_type": "stream",
       "stream": "stdout",
       "text": [
        "\n",
        "[-0.135679    4.45372489 -0.60416791]"
       ]
      },
      {
       "output_type": "stream",
       "stream": "stdout",
       "text": [
        "\n",
        "[-0.14193679  4.45381385 -0.60399052]"
       ]
      },
      {
       "output_type": "stream",
       "stream": "stdout",
       "text": [
        "\n",
        "[-0.14888558  4.45381077 -0.60398263]"
       ]
      },
      {
       "output_type": "stream",
       "stream": "stdout",
       "text": [
        "\n",
        "[-0.15417897  4.45372709 -0.60414472]"
       ]
      },
      {
       "output_type": "stream",
       "stream": "stdout",
       "text": [
        "\n",
        "[-0.15886525  4.45374897 -0.60410135]"
       ]
      },
      {
       "output_type": "stream",
       "stream": "stdout",
       "text": [
        "\n",
        "[-0.1631077   4.45388259 -0.60402266]"
       ]
      },
      {
       "output_type": "stream",
       "stream": "stdout",
       "text": [
        "\n",
        "[-0.16605301  4.45389531 -0.60401003]"
       ]
      },
      {
       "output_type": "stream",
       "stream": "stdout",
       "text": [
        "\n",
        "[-0.16919106  4.45391564 -0.60398446]"
       ]
      },
      {
       "output_type": "stream",
       "stream": "stdout",
       "text": [
        "\n",
        "[-0.17213289  4.4540896  -0.60394586]"
       ]
      },
      {
       "output_type": "stream",
       "stream": "stdout",
       "text": [
        "\n",
        "[-0.17448723  4.45410169 -0.60394536]"
       ]
      },
      {
       "output_type": "stream",
       "stream": "stdout",
       "text": [
        "\n",
        "[-0.17675135  4.45409746 -0.60398058]"
       ]
      },
      {
       "output_type": "stream",
       "stream": "stdout",
       "text": [
        "\n",
        "[-0.1777711   4.45412514 -0.60395831]"
       ]
      },
      {
       "output_type": "stream",
       "stream": "stdout",
       "text": [
        "\n",
        "[-0.17983195  4.45439483 -0.60383668]"
       ]
      },
      {
       "output_type": "stream",
       "stream": "stdout",
       "text": [
        "\n",
        "[-0.18152801  4.45436641 -0.60393294]"
       ]
      },
      {
       "output_type": "stream",
       "stream": "stdout",
       "text": [
        "\n",
        "[-0.18229373  4.45438441 -0.60393654]"
       ]
      },
      {
       "output_type": "stream",
       "stream": "stdout",
       "text": [
        "\n",
        "[-0.18320808  4.45439518 -0.60395505]"
       ]
      },
      {
       "output_type": "stream",
       "stream": "stdout",
       "text": [
        "\n",
        "[-0.1832059   4.45441388 -0.60392204]"
       ]
      },
      {
       "output_type": "stream",
       "stream": "stdout",
       "text": [
        "\n",
        "[-0.1832328   4.45437448 -0.60400514]"
       ]
      },
      {
       "output_type": "stream",
       "stream": "stdout",
       "text": [
        "\n",
        "[-0.18341199  4.45447814 -0.60384561]"
       ]
      },
      {
       "output_type": "stream",
       "stream": "stdout",
       "text": [
        "\n",
        "[-0.18353587  4.45441026 -0.60403051]"
       ]
      },
      {
       "output_type": "stream",
       "stream": "stdout",
       "text": [
        "\n",
        "[-0.18329756  4.45454581 -0.60380879]"
       ]
      },
      {
       "output_type": "stream",
       "stream": "stdout",
       "text": [
        "\n",
        "[-0.18346838  4.45441501 -0.60412134]"
       ]
      },
      {
       "output_type": "stream",
       "stream": "stdout",
       "text": [
        "\n",
        "[-0.18305654  4.45451146 -0.60398019]"
       ]
      },
      {
       "output_type": "stream",
       "stream": "stdout",
       "text": [
        "\n",
        "[-0.18306203  4.45452029 -0.60396689]"
       ]
      },
      {
       "output_type": "stream",
       "stream": "stdout",
       "text": [
        "\n",
        "[-0.1831025   4.45449769 -0.60401758]"
       ]
      },
      {
       "output_type": "stream",
       "stream": "stdout",
       "text": [
        "\n",
        "[-0.18311755  4.4545288  -0.60395967]"
       ]
      },
      {
       "output_type": "stream",
       "stream": "stdout",
       "text": [
        "\n",
        "[-0.18311375  4.45453609 -0.60394948]"
       ]
      },
      {
       "output_type": "stream",
       "stream": "stdout",
       "text": [
        "\n",
        "[-0.18313356  4.45455079 -0.60392473]"
       ]
      },
      {
       "output_type": "stream",
       "stream": "stdout",
       "text": [
        "\n",
        "[-0.18311167  4.45450742 -0.60401595]"
       ]
      },
      {
       "output_type": "stream",
       "stream": "stdout",
       "text": [
        "\n",
        "[-0.18313927  4.45456866 -0.60389774]"
       ]
      },
      {
       "output_type": "stream",
       "stream": "stdout",
       "text": [
        "\n"
       ]
      }
     ],
     "prompt_number": 16
    },
    {
     "cell_type": "markdown",
     "metadata": {},
     "source": [
      "Figura que compara las intensidades normalizadas experimentales en verde con las intensidades  \n",
      "normalizadas producidas por los vectores de Jones definidos antes entrando y saliendo de la matriz  \n",
      "que resulta de la caracterizaci\u00f3n."
     ]
    },
    {
     "cell_type": "code",
     "collapsed": false,
     "input": [
      "#%pylab inline \n",
      "\n",
      "fig = figure()\n",
      "gs1 = gridspec.GridSpec(8, 6)\n",
      "axes = []\n",
      "for i in range(8):\n",
      "    for j in range(6):\n",
      "        #if i+j!=6:\n",
      "        axes.append(fig.add_subplot(gs1[i,j]))\n",
      "        \n",
      "for i in range(1,40,2):\n",
      "    In1, Out1 = brakets[i]\n",
      "    In2, Out2 = brakets[i+1]\n",
      "    \n",
      "    I_test1 = zeros(52)\n",
      "    I_test2 = zeros(52)\n",
      "    \n",
      "    for g in range(52):\n",
      "        I_test1[g] = (In1.H*M[g].H*Out1 * Out1.H*M[g]*In1)[0,0].real/\\\n",
      "        ((In2.H*M[g].H*Out2 * Out2.H*M[g]*In2)[0,0].real+(In1.H*M[g].H*Out1 * Out1.H*M[g]*In1)[0,0].real)\n",
      "        I_test2[g] = (In2.H*M[g].H*Out2 * Out2.H*M[g]*In2)[0,0].real/\\\n",
      "        ((In2.H*M[g].H*Out2 * Out2.H*M[g]*In2)[0,0].real+(In1.H*M[g].H*Out1 * Out1.H*M[g]*In1)[0,0].real)\n",
      "        \n",
      "    n = '8'+str(g)\n",
      "    axes[i-1].plot(I_test1, label = 'It')\n",
      "    axes[i-1].plot(I_exp[i], label = 'Ie')\n",
      "    axes[i-1].set_title('$I_{'+str(i)+'}$')\n",
      "    axes[i-1].set_ylim(0, 1)\n",
      "    axes[i].set_ylim(0, 1)\n",
      "    axes[i].plot(I_test2, label = 'It')\n",
      "    axes[i].plot(I_exp[i+1], label = 'Ie')\n",
      "    axes[i].set_title('$I_{'+str(i+1)+'}$')\n",
      "show()"
     ],
     "language": "python",
     "metadata": {},
     "outputs": [],
     "prompt_number": 17
    },
    {
     "cell_type": "markdown",
     "metadata": {},
     "source": [
      "Extracci\u00f3n de los par\u00e1metros X, Y, Z, y W extra\u00eddos por la minimizaci\u00f3n:"
     ]
    },
    {
     "cell_type": "code",
     "collapsed": false,
     "input": [
      "for g in range(52):\n",
      "     X[g] = M[g][0,0].real\n",
      "     Y[g] = -M[g][0,0].imag\n",
      "     Z[g] = M[g][0,1].real\n",
      "     W[g] = -M[g][0,1].imag\n",
      "        "
     ],
     "language": "python",
     "metadata": {},
     "outputs": [],
     "prompt_number": 18
    },
    {
     "cell_type": "markdown",
     "metadata": {},
     "source": [
      "Gr\u00e1fica de X, Y, Z, y W"
     ]
    },
    {
     "cell_type": "code",
     "collapsed": false,
     "input": [
      "f = figure()\n",
      "ax = f.gca()\n",
      "plot(X,label='X')\n",
      "plot(Y,label='Y')\n",
      "plot(Z,label='Z')\n",
      "plot(W,label='W')\n",
      "grid()\n",
      "# Shink current axis by 20%\n",
      "box = ax.get_position()\n",
      "ax.set_position([box.x0, box.y0, box.width * 0.8, box.height])\n",
      "legend(bbox_to_anchor=(1.01, 1), loc=2)\n",
      "show()"
     ],
     "language": "python",
     "metadata": {},
     "outputs": [],
     "prompt_number": 19
    },
    {
     "cell_type": "markdown",
     "metadata": {},
     "source": [
      "Figura que compara las intensidades experimentales en verde con las intensidades  \n",
      "producidas por los vectores de Jones definidos antes entrando y saliendo de la matriz  \n",
      "que resulta de la caracterizaci\u00f3n."
     ]
    },
    {
     "cell_type": "raw",
     "metadata": {},
     "source": [
      "fig = figure()\n",
      "gs1 = gridspec.GridSpec(8, 6)\n",
      "axes = []\n",
      "for i in range(8):\n",
      "    for j in range(6):\n",
      "        #if i+j!=6:\n",
      "        axes.append(fig.add_subplot(gs1[i,j]))\n",
      "        \n",
      "for i in range(1,46,2):\n",
      "    In1, Out1 = brakets[i]\n",
      "    In2, Out2 = brakets[i+1]\n",
      "    \n",
      "    I_test1 = zeros(52)\n",
      "    I_test2 = zeros(52)\n",
      "    \n",
      "    for g in range(52):\n",
      "        I_test1[g] = (In1.H*M[g].H*Out1 * Out1.H*M[g]*In1)[0,0].real\n",
      "        I_test2[g] = (In2.H*M[g].H*Out2 * Out2.H*M[g]*In2)[0,0].real\n",
      "        \n",
      "    n = '8'+str(g)\n",
      "    axes[i-1].plot(I_test1, label = 'It')\n",
      "    axes[i-1].plot(I_exp_2[i][:,1], label = 'Ie')\n",
      "    axes[i-1].set_title('$I_{'+str(i)+'}$')\n",
      "    axes[i-1].set_ylim(0, 1)\n",
      "    axes[i].plot(I_test2, label = 'It')\n",
      "    axes[i].plot(I_exp_2[i+1][:,1], label = 'Ie')\n",
      "    axes[i].set_title('$I_{'+str(i+1)+'}$')\n",
      "    axes[i].set_ylim(0, 1)"
     ]
    },
    {
     "cell_type": "heading",
     "level": 2,
     "metadata": {},
     "source": [
      "B\u00fasqueda de una combinaci\u00f3n de estados de polarizaci\u00f3n que generen modulaci\u00f3n s\u00f3lo de fase"
     ]
    },
    {
     "cell_type": "markdown",
     "metadata": {},
     "source": [
      "Script para encontrar la fase vs nivel de gris introducida por la matriz de Jones del modulador. Estoy probando una forma alternativa en la cual no hago uso de la funci\u00f3n \"arctan\" para obtener la fase introducida por la matriz de Jones antes de encontrar el par\u00e1metro beta.  \n",
      "En vez de eso estoy extrayendo el \u00e1ngulo del valor que se produce cuando el ket es multiplicado por la matriz M."
     ]
    },
    {
     "cell_type": "code",
     "collapsed": false,
     "input": [
      "from numpy import arctan,arctan2, info\n",
      "\n",
      "phi = zeros(52)\n",
      "\n",
      "## Secci\u00f3n que sigue lo usado por I. Moreno, d\u00f3nde a partir de una formula \n",
      "## y las variables X,Y,Z,w del modulador se extrae la fase.\n",
      "\n",
      "#chi1 = 0#pi/4#0.3490658503988659#-0.43307956358421984#0.2181361052344816\n",
      "#chi2 = 0#pi/4#0.3490658503988659#0.59291218452902072#0.63376524318875027\n",
      "#for i in range(0,52):\n",
      "#    phi[i] = arctan((Y[i]*cos(chi1+chi2)+W[i]*sin(chi1+chi2))/  \\\n",
      "#\t\t            (X[i]*cos(chi1-chi2)+Z[i]*sin(chi1+chi2)))\n",
      "fig1 = figure()   \n",
      "for i in [1,7,13,17]:\n",
      "    \n",
      "    In, Out =brakets[i]\n",
      "    \n",
      "    for g in range(52):\n",
      "        ket2 = Out.H*M[g]*In\n",
      "        phi[g] = angle(ket2)\n",
      "        if g>0 and phi[g]-phi[g-1]>pi:\n",
      "               phi[g] =phi[g]-2*pi\n",
      "        elif g>0 and phi[g]-phi[g-1] <- pi:\n",
      "               phi[g] =phi[g]+2*pi\n",
      "    \n",
      "             \n",
      "    #phi = phi - phi[0]\n",
      "    plot(phi,color = 'r')\n",
      "    image = loadtxt(\"Imagen{0}_fase\".format(i))\n",
      "    #image = loadtxt('If1-52_fase')#\"Im{0}_fase\".format(i))\n",
      "    plot(image[::,1],color = 'b')\n",
      "    beta = image[::,1]-phi\n",
      "    plot(beta,color = 'g')\n",
      "show()"
     ],
     "language": "python",
     "metadata": {},
     "outputs": [
      {
       "metadata": {},
       "output_type": "display_data",
       "png": "[encoded data removed]",
       "text": [
        "<matplotlib.figure.Figure at 0x10b0e58d0>"
       ]
      }
     ],
     "prompt_number": 44
    },
    {
     "cell_type": "code",
     "collapsed": false,
     "input": [
      "def measure_best_modulation(x0, Jones_matrix, beta, a, b):\n",
      "    \"\"\" Function for finding a configuration where phase modulation \n",
      "    is maximum and intensity variation is a minimum\n",
      "    \n",
      "    x0: Are the variables that we will vary is a list that includes \n",
      "        the parameters for input and output of the braket.\n",
      "        \n",
      "    Jones_matrix: Is the matrix that we obtained by doing the \n",
      "                characterization of the SLM.\n",
      "    \n",
      "    beta: Is the global phase by gray level that the SLM introduces.\n",
      "    \n",
      "    a, b: Are weights used to give more or less priority to a state where \n",
      "          flatness of the intensity curve is prioritized or range of phase\n",
      "          modulation is.\n",
      "    \"\"\"\n",
      "\n",
      "    chi2,phi2,chi1,phi1 = x0\n",
      "    from numpy import arctan2\n",
      "    def intensity(bra,ket):\n",
      "        In  = matrix([[cos(ket[0])],[sin(ket[0])*exp(ket[1]*1j)]])\n",
      "        Out = matrix([[cos(bra[0])],[sin(bra[0])*exp(bra[1]*1j)]])\n",
      "        return In, Out\n",
      "    \n",
      "    In, Out =intensity([ chi2,   phi2],     [chi1,phi1])\n",
      "    \n",
      "    phi_t = zeros(52)\n",
      "    I = zeros(52)\n",
      "    cambio = 0\n",
      "    for g in range(52):\n",
      "        ket2 = Out.H*exp(1j*beta[g])*M[g]*In # Beta was negative.\n",
      "        I[g] = (ket2.H*ket2)[0,0].real\n",
      "        phi_t[g] = arctan2(ket2.imag,ket2.real)\n",
      "    #plot(phi_t)\n",
      "    for g in range(52):\n",
      "        if g>0 and  phi_t[g] - phi_t[g-1] > pi-0.1:\n",
      "            phi_t[g:] = phi_t[g:]-2*pi\n",
      "        if g>0 and  phi_t[g] - phi_t[g-1] < -pi+0.1:\n",
      "            phi_t[g:] = phi_t[g:]+2*pi\n",
      "    \n",
      "    phi_t = phi_t - phi_t[0]\n",
      "    \n",
      "    p = (max(I)-min(I))/average(I)\n",
      "    q = max(phi_t)-min(phi_t)\n",
      "    plot(phi_t)\n",
      "    return p**a/q**b \n",
      "\n",
      "bnds = ((-pi/1, pi/1), (-pi, pi),(-pi/1, pi/1), (-pi/1, pi/1))\n",
      "#bnds = ((-pi, pi),(-pi, pi), (-pi/2, pi/2))\n",
      "\n",
      "from scipy.optimize import fmin_l_bfgs_b\n",
      "res = fmin_l_bfgs_b(measure_best_modulation,[ pi/8,0,pi/8,0],\\\n",
      "                    fprime=None,approx_grad=1,  args = (M,beta,0,2), pgtol=1e-05,bounds =bnds)\n",
      "\n",
      "#res = minimize(measure_modulation,[ .5,  0.5,  0.5, 0.5], args = (M,),method = 'SLSQP',bounds =bnds)\n",
      "#res = minimize(measure_flatness,[ 0,  0,  0, 0], args = (M,),)   \n",
      "chi2,phi2,chi1,phi1 = res[0]\n",
      "\n",
      "res\n",
      "    \n",
      "    "
     ],
     "language": "python",
     "metadata": {},
     "outputs": [
      {
       "metadata": {},
       "output_type": "pyout",
       "prompt_number": 46,
       "text": [
        "(array([ 0.01133427, -0.0204728 ,  0.77648378,  0.17069972]),\n",
        " 0.036388659935457493,\n",
        " {'funcalls': 180,\n",
        "  'grad': array([  3.05859435e-03,  -3.49340695e-04,   7.17047121e+06,\n",
        "         7.17044725e+06]),\n",
        "  'nit': 8,\n",
        "  'task': b'ABNORMAL_TERMINATION_IN_LNSRCH',\n",
        "  'warnflag': 2})"
       ]
      },
      {
       "metadata": {},
       "output_type": "display_data",
       "png": "[encoded data removed]",
       "text": [
        "<matplotlib.figure.Figure at 0x10a1bf5d0>"
       ]
      }
     ],
     "prompt_number": 46
    },
    {
     "cell_type": "code",
     "collapsed": false,
     "input": [
      "chi2,phi2,chi1,phi1 = res[0]\n",
      "#chi2,phi2,chi1,phi1 = [pi/4,pi/2,0,0]\n",
      "In, Out =intensity([ chi2, phi2],     [chi1,phi1])\n",
      "print(In, Out)\n",
      "phi1 = zeros(52)\n",
      "phi2 = zeros(52)\n",
      "phi_t = zeros(52)\n",
      "I = zeros(52)\n",
      "for g in range(52):\n",
      "    #*exp(1j*-beta[g])\n",
      "    ket2 = Out.H*exp(1j*beta[g])*M[g]*In\n",
      "    #print(ket2)\n",
      "    I[g] = (ket2.H*ket2)[0,0].real\n",
      "    phi_t[g] = arctan2(ket2.imag,ket2.real)\n",
      "#for g in range(52):\n",
      "    #print('g',g,'phi_t[g] - phi_t[g-1]',phi_t[g] - phi_t[g-1])\n",
      "    #print('phi_t[g]',phi_t[g],'phi_t[g-1]', phi_t[g-1])\n",
      "    \n",
      "    #if g>1 and  phi_t[g] - phi_t[g-1] > pi:\n",
      "    #    phi_t[g:] = phi_t[g:]-2*pi\n",
      "    #if g>1 and  phi_t[g] - phi_t[g-1] < -pi:\n",
      "    #    phi_t[g:] = phi_t[g:]+2*pi\n",
      "figure()\n",
      "phi_t = phi_t - phi_t[0]\n",
      "plot(phi_t)\n",
      "figure()\n",
      "plot(I)\n",
      "abs(max(phi_t)-min(phi_t))"
     ],
     "language": "python",
     "metadata": {},
     "outputs": [
      {
       "output_type": "stream",
       "stream": "stdout",
       "text": [
        "[[-0.57036375+0.j        ]\n",
        " [-0.79351587-0.21217388j]] [[-0.95028242 +0.00000000e+00j]\n",
        " [ 0.31138933 -3.81341949e-17j]]\n"
       ]
      },
      {
       "metadata": {},
       "output_type": "pyout",
       "prompt_number": 91,
       "text": [
        "3.3252869183520239"
       ]
      }
     ],
     "prompt_number": 91
    },
    {
     "cell_type": "code",
     "collapsed": false,
     "input": [
      "phi_t\n"
     ],
     "language": "python",
     "metadata": {},
     "outputs": [
      {
       "metadata": {},
       "output_type": "pyout",
       "prompt_number": 26,
       "text": [
        "array([ 0.        ,  0.04324057,  0.08463201,  0.12060503,  0.1566196 ,\n",
        "        0.18944437,  0.22873851,  0.271628  ,  0.28570923,  0.30281948,\n",
        "        0.32792625,  0.35536503,  0.38618967,  0.39280172,  0.40270654,\n",
        "        0.42722308,  0.43919657,  0.46023249,  0.47109162,  0.49812555,\n",
        "        0.50768576,  0.52414416,  0.53517405,  0.55488994,  0.58205382,\n",
        "        0.57167781,  0.58535173,  0.60395944,  0.6221765 ,  0.62069479,\n",
        "        0.63481602,  0.64909466,  0.65422136,  0.66015277,  0.68637248,\n",
        "        0.70701302,  0.72401167,  0.74119166,  0.76135795,  0.77541204,\n",
        "        0.77322067,  0.7756516 ,  0.7539531 ,  0.70921613,  0.64738454,\n",
        "        0.55754242,  0.43691248,  0.31930507,  0.20177913,  0.11347277,\n",
        "        0.02232605, -0.05728904])"
       ]
      }
     ],
     "prompt_number": 26
    },
    {
     "cell_type": "code",
     "collapsed": false,
     "input": [
      "plot(phi_t)"
     ],
     "language": "python",
     "metadata": {},
     "outputs": [
      {
       "output_type": "pyout",
       "prompt_number": 19,
       "text": [
        "[<matplotlib.lines.Line2D at 0x10783dc90>]"
       ]
      },
      {
       "output_type": "display_data",
       "png": "[encoded data removed]",
       "text": [
        "<matplotlib.figure.Figure at 0x109144790>"
       ]
      }
     ],
     "prompt_number": 19
    },
    {
     "cell_type": "code",
     "collapsed": false,
     "input": [
      "phi_t[-5]-phi_t[-6]"
     ],
     "language": "python",
     "metadata": {},
     "outputs": [
      {
       "output_type": "pyout",
       "prompt_number": 20,
       "text": [
        "0.16341382589113795"
       ]
      }
     ],
     "prompt_number": 20
    },
    {
     "cell_type": "code",
     "collapsed": false,
     "input": [
      "deg2rad(20)"
     ],
     "language": "python",
     "metadata": {},
     "outputs": [
      {
       "output_type": "pyout",
       "prompt_number": 21,
       "text": [
        "0.3490658503988659"
       ]
      }
     ],
     "prompt_number": 21
    },
    {
     "cell_type": "code",
     "collapsed": false,
     "input": [
      "plot(phi_t[::-1])"
     ],
     "language": "python",
     "metadata": {},
     "outputs": [
      {
       "output_type": "pyout",
       "prompt_number": 22,
       "text": [
        "[<matplotlib.lines.Line2D at 0x1076fee90>]"
       ]
      },
      {
       "output_type": "display_data",
       "png": "[encoded data removed]",
       "text": [
        "<matplotlib.figure.Figure at 0x106b2d690>"
       ]
      }
     ],
     "prompt_number": 22
    },
    {
     "cell_type": "raw",
     "metadata": {},
     "source": [
      "La funci\u00f3n que esta comentntado debajo hace un barrido dobre muchos estados de entrada y salida hasta llegar a una combinaci\u00f3n que sea relativamente buena. Lo coment\u00e9 porque no es muy bueno."
     ]
    },
    {
     "cell_type": "raw",
     "metadata": {},
     "source": [
      "def get_optimal_state(Jones_matrix):\n",
      "    \"\"\" Function for finding a configuration where the amplitude\n",
      "    is not modulated\"\"\"\n",
      "    def intensity(bra,ket):\n",
      "        In  = matrix([[cos(ket[0])],[sin(ket[0])*exp(ket[1]*1j)]])\n",
      "        Out = matrix([[cos(bra[0])],[sin(bra[0])*exp(bra[1]*1j)]])\n",
      "        return In, Out\n",
      "    \n",
      "    optimal = {'chi1':0,'chi2':0,'theta1':0,'theta2':0,'value':0 }\n",
      "    for chi1 in linspace(0,pi,20):\n",
      "        for chi2 in linspace(0,pi,20):\n",
      "            for theta1 in linspace(0,pi,10):\n",
      "                for theta2 in linspace(0,pi,10):\n",
      "                    I_sim = zeros(52)\n",
      "                    for g in range(52):\n",
      "                        In,Out = intensity([chi2,theta2],[chi1,theta1])\n",
      "                        I_sim[g] = (In.H*M[g].H*Out * Out.H*M[g]*In)[0,0].real\n",
      "                    p = (max(I_sim)-min(I_sim))/average(I_sim)\n",
      "                    if 1/p >  optimal['value']:\n",
      "                        optimal = {'chi1':chi1,'chi2':chi2,'theta1':theta1,'theta2':theta2,'value':p }\n",
      "    return optimal\n",
      "optimal = get_optimal_state(M)\n"
     ]
    },
    {
     "cell_type": "markdown",
     "metadata": {},
     "source": [
      "Funci\u00f3n que s\u00f3lo optimiza para que la intensidad "
     ]
    },
    {
     "cell_type": "code",
     "collapsed": false,
     "input": [
      "def measure_flatness(x0,Jones_matrix):\n",
      "    \"\"\" Function for finding a configuration where the amplitude\n",
      "    is not modulated\"\"\"\n",
      "    chi2,phi2,chi1,phi1 = x0\n",
      "    def intensity(bra,ket):\n",
      "        In  = matrix([[cos(ket[0])],[sin(ket[0])*exp(ket[1]*1j)]])\n",
      "        Out = matrix([[cos(bra[0])],[sin(bra[0])*exp(bra[1]*1j)]])\n",
      "        return In, Out\n",
      "    I_sim = zeros(52)\n",
      "    for g in range(52):\n",
      "        In,Out = intensity([chi2,phi2],[chi1,phi1])\n",
      "        I_sim[g] = (In.H*M[g].H*Out * Out.H*M[g]*In)[0,0].real\n",
      "    return  (max(I_sim)-min(I_sim))/average(I_sim)\n",
      "\n",
      "bnds = ((-pi/1, pi/1), (-pi/2, pi/2),(-pi/1, pi/1), (-pi/1, pi/1))\n",
      "res = minimize(measure_flatness,[ 0,  0,  0, 0], args = (M,),method = 'SLSQP',bounds =bnds)\n",
      "#res = minimize(measure_flatness,[ 0,  0,  0, 0], args = (M,),)   \n",
      "chi2,phi2,chi1,phi1 = res.x\n",
      "res"
     ],
     "language": "python",
     "metadata": {},
     "outputs": [
      {
       "output_type": "pyout",
       "prompt_number": 23,
       "text": [
        "     jac: array([ 0.21282526, -0.24520946,  0.1115561 ,  0.05653543,  0.        ])\n",
        "       x: array([ 0.59277122,  1.57079633,  0.44275569,  1.50855449])\n",
        "     fun: 0.010233450765350975\n",
        "    nfev: 530\n",
        "    njev: 76\n",
        " success: True\n",
        "     nit: 76\n",
        " message: 'Optimization terminated successfully.'\n",
        "  status: 0"
       ]
      }
     ],
     "prompt_number": 23
    },
    {
     "cell_type": "code",
     "collapsed": false,
     "input": [
      "I_sim = zeros(52)\n",
      "for g in range(52):\n",
      "    In,Out = intensity([chi2,theta2],[chi1,theta1])\n",
      "    I_sim[g] = (In.H*M[g].H*Out * Out.H*M[g]*In)[0,0].real\n",
      "figure()\n",
      "plot(I_sim)\n",
      "ylim((0,1))"
     ],
     "language": "python",
     "metadata": {},
     "outputs": [
      {
       "ename": "NameError",
       "evalue": "name 'theta2' is not defined",
       "output_type": "pyerr",
       "traceback": [
        "\u001b[0;31m---------------------------------------------------------------------------\u001b[0m\n\u001b[0;31mNameError\u001b[0m                                 Traceback (most recent call last)",
        "\u001b[0;32m<ipython-input-24-768aaca604fe>\u001b[0m in \u001b[0;36m<module>\u001b[0;34m()\u001b[0m\n\u001b[1;32m      1\u001b[0m \u001b[0mI_sim\u001b[0m \u001b[0;34m=\u001b[0m \u001b[0mzeros\u001b[0m\u001b[0;34m(\u001b[0m\u001b[0;36m52\u001b[0m\u001b[0;34m)\u001b[0m\u001b[0;34m\u001b[0m\u001b[0m\n\u001b[1;32m      2\u001b[0m \u001b[0;32mfor\u001b[0m \u001b[0mg\u001b[0m \u001b[0;32min\u001b[0m \u001b[0mrange\u001b[0m\u001b[0;34m(\u001b[0m\u001b[0;36m52\u001b[0m\u001b[0;34m)\u001b[0m\u001b[0;34m:\u001b[0m\u001b[0;34m\u001b[0m\u001b[0m\n\u001b[0;32m----> 3\u001b[0;31m     \u001b[0mIn\u001b[0m\u001b[0;34m,\u001b[0m\u001b[0mOut\u001b[0m \u001b[0;34m=\u001b[0m \u001b[0mintensity\u001b[0m\u001b[0;34m(\u001b[0m\u001b[0;34m[\u001b[0m\u001b[0mchi2\u001b[0m\u001b[0;34m,\u001b[0m\u001b[0mtheta2\u001b[0m\u001b[0;34m]\u001b[0m\u001b[0;34m,\u001b[0m\u001b[0;34m[\u001b[0m\u001b[0mchi1\u001b[0m\u001b[0;34m,\u001b[0m\u001b[0mtheta1\u001b[0m\u001b[0;34m]\u001b[0m\u001b[0;34m)\u001b[0m\u001b[0;34m\u001b[0m\u001b[0m\n\u001b[0m\u001b[1;32m      4\u001b[0m     \u001b[0mI_sim\u001b[0m\u001b[0;34m[\u001b[0m\u001b[0mg\u001b[0m\u001b[0;34m]\u001b[0m \u001b[0;34m=\u001b[0m \u001b[0;34m(\u001b[0m\u001b[0mIn\u001b[0m\u001b[0;34m.\u001b[0m\u001b[0mH\u001b[0m\u001b[0;34m*\u001b[0m\u001b[0mM\u001b[0m\u001b[0;34m[\u001b[0m\u001b[0mg\u001b[0m\u001b[0;34m]\u001b[0m\u001b[0;34m.\u001b[0m\u001b[0mH\u001b[0m\u001b[0;34m*\u001b[0m\u001b[0mOut\u001b[0m \u001b[0;34m*\u001b[0m \u001b[0mOut\u001b[0m\u001b[0;34m.\u001b[0m\u001b[0mH\u001b[0m\u001b[0;34m*\u001b[0m\u001b[0mM\u001b[0m\u001b[0;34m[\u001b[0m\u001b[0mg\u001b[0m\u001b[0;34m]\u001b[0m\u001b[0;34m*\u001b[0m\u001b[0mIn\u001b[0m\u001b[0;34m)\u001b[0m\u001b[0;34m[\u001b[0m\u001b[0;36m0\u001b[0m\u001b[0;34m,\u001b[0m\u001b[0;36m0\u001b[0m\u001b[0;34m]\u001b[0m\u001b[0;34m.\u001b[0m\u001b[0mreal\u001b[0m\u001b[0;34m\u001b[0m\u001b[0m\n\u001b[1;32m      5\u001b[0m \u001b[0mfigure\u001b[0m\u001b[0;34m(\u001b[0m\u001b[0;34m)\u001b[0m\u001b[0;34m\u001b[0m\u001b[0m\n",
        "\u001b[0;31mNameError\u001b[0m: name 'theta2' is not defined"
       ]
      }
     ],
     "prompt_number": 24
    },
    {
     "cell_type": "code",
     "collapsed": false,
     "input": [
      "from numpy import arctan, info\n",
      "phi = zeros(52)\n",
      "#chi1 = -0.43307956358421984#0.2181361052344816\n",
      "#chi2 = 0.59291218452902072#0.63376524318875027\n",
      "for i in range(0,52):\n",
      "    phi[i] = arctan((Y[i]*cos(chi1+chi2)+W[i]*sin(chi1+chi2))/\\\n",
      "\t\t            X[i]*cos(chi1-chi2)+Z[i]*sin(chi1+chi2))\n",
      "figure()\n",
      "plot(phi)\n",
      "max(phi)-min(phi)"
     ],
     "language": "python",
     "metadata": {},
     "outputs": []
    },
    {
     "cell_type": "code",
     "collapsed": false,
     "input": [
      "def measure_modulation(x0,Jones_matrix):\n",
      "    \"\"\" Function for finding a configuration where phase modulation \n",
      "    is maximum\"\"\"\n",
      "    chi2,phi2,chi1,phi1 = x0\n",
      "    \n",
      "    def intensity(bra,ket):\n",
      "        In  = matrix([[cos(ket[0])],[sin(ket[0])*exp(ket[1]*1j)]])\n",
      "        Out = matrix([[cos(bra[0])],[sin(bra[0])*exp(bra[1]*1j)]])\n",
      "        return In, Out\n",
      "    \n",
      "    In, Out =intensity([ chi2,   phi2],     [chi1,phi1])\n",
      "    \n",
      "    phi_t = zeros(52)\n",
      "    I = zeros(52)\n",
      "    for g in range(52):\n",
      "        ket2 = Out.H*exp(1j*-beta[g])*M[g]*In\n",
      "        I[g] = (ket2.H*ket2)[0,0].real\n",
      "        phi_t[g] = (angle(ket2))\n",
      "        if g>0 and phi_t[g]-phi_t[g-1]>pi:\n",
      "           phi_t[g] =phi_t[g]-2*pi\n",
      "        elif g>0 and phi_t[g]-phi_t[g-1] <- pi:\n",
      "           phi_t[g] =phi_t[g]+2*pi\n",
      "    print(max(phi_t)-min(phi_t))\n",
      "    print(1/(max(phi_t)-min(phi_t)))\n",
      "    return  1/(max(phi_t)-min(phi_t))\n",
      "\n",
      "bnds = ((-pi/1, pi/1), (-pi, pi),(-pi/1, pi/1), (-pi/1, pi/1))\n",
      "#bnds = ((-pi, pi),(-pi, pi), (-pi/2, pi/2))\n",
      "\n",
      "from scipy.optimize import fmin_l_bfgs_b\n",
      "res = fmin_l_bfgs_b(measure_modulation,[ .5,  0.5,  0.5, 0.5],fprime=None,approx_grad=1,  args = (M,), pgtol=1e-05,bounds =bnds)\n",
      "\n",
      "#res = minimize(measure_modulation,[ .5,  0.5,  0.5, 0.5], args = (M,),method = 'SLSQP',bounds =bnds)\n",
      "#res = minimize(measure_flatness,[ 0,  0,  0, 0], args = (M,),)   \n",
      "chi2,phi2,chi1,phi1 = res[0]\n",
      "\n",
      "res"
     ],
     "language": "python",
     "metadata": {},
     "outputs": []
    },
    {
     "cell_type": "code",
     "collapsed": false,
     "input": [
      "sign(-3)"
     ],
     "language": "python",
     "metadata": {},
     "outputs": [
      {
       "metadata": {},
       "output_type": "pyout",
       "prompt_number": 1,
       "text": [
        "-1"
       ]
      }
     ],
     "prompt_number": 1
    },
    {
     "cell_type": "code",
     "collapsed": false,
     "input": [],
     "language": "python",
     "metadata": {},
     "outputs": []
    }
   ],
   "metadata": {}
  }
 ]
}